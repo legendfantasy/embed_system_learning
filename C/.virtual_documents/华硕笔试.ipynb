


#include <stdio.h>
struct date
{
    int year;
    int month;
};
typedef struct 
{
    struct date birth;
    char name[20];
}s;
int main()
{
    s x[] = 
    {
        {1977, 8, "Hangzhou"},
        {1975, 9, "Beijing"},
        {1983, 12, "Taiwan"}
    };
    printf("%c,%d", x[1].name[1], x[2].birth.year);
    return 0;
}























typedef struct LNode
{
    int data;
    struct LNode *next;
};
//参数 head 是一线性链表的头指针，若链表有结尾，结尾指针为NULL
bool a(LNode *head)
{
    LNode *slow = head, *fast = head;
    while (fast && slow)
    {
        slow = slow->next;
        if (fast->next == NULL)
            fast = fast->next;
        else
            fast = fast->next->next;
        if (slow == fast)
            break;
    }
    return !(fast == NULL);
}
bool b(LNode *head)
{
    LNode *t_head = head;
    if(head == NULL)
        return false;
    LNode *p1 = head;
    LNode *p2 = head->next;
    LNode *p3 = NULL;
    t_head->next = NULL;
    while(p2 != NULL)
    {
        if(p2 == t_head)
            return true;
        p3 = p2->next;
        p2->next = p1;
        p1 = p2;
        p2 = p3;
    }
    return false;
}











#define _CR(Record, TYPE, Field) \ ((TYPE *)((char *)(Record)-(char *)&(((TYPE *)0)->Field)))
typedef struct
{
    unsigned long ID;
    char Name[20];
    short Score;
}STUDENT_INFO;
STUDENT_INFO ClassInfo[5] = 
{
    {14050049, "Jack", 97},
    {14050031, "Lily", 85},
    {14050068, "Emily", 78},
    {14050025, "Steve", 72},
    {14050076, "Jay", 61}
};














#include <stdio.h>
typedef union
{
    int a;
    char b[2];
}uniA;
void main()
{
    uniA A;
    A.a = 10;
    A.b[0] = 0;
    A.b[1] = 1;

    uniA B;
    A.b[0] = 0;
    A.b[1] = 1;
    B.a = 10;
    printf("%d,%d\n", A.a|B.a, (A.b[1]^B.b[1])|(A.b[0]^B.b[0]));
}





struct Matirx
{
    union
    {
        struct
        {
            float _f11,_f12,_f13,_f21,_f22,_f23,_f31,_f32,_f33;
            float f[3][3];
        }_matrix;
    }
};
struct Matirx m;

















#include<stdio.h>
#include<string.h>
#include<stdlib.h>
void GetMemory(char *p)
{
    p = (char *)malloc(100*sizeof(char));
    strcpy(p,"HI World");
}
int main(int argc, const char *argv[])
{
    char *str = "Hello";
    GetMemory(str);
    printf("%s\n", str);
    return 0;
}














unsigned int x(unsigned int n)
{
    if(n <= 3)
    {
        return 1;
    }
    else
        return x(n-2) + x(n-4) + 1;
}








#include <stdio.h>
int inc(int a)
{
    return (++a);
}
int multi(int *a, int *b, int *c)
{
    return (*c = *a++**b+++*a);
}
typedef int(*FUNC1)(int in);  
typedef int(*FUNC2)(int*, int*, int*);  
void show(FUNC2 fun, int arg1, int *arg2)
{
    FUNC1 p = &inc;  
    int temp = p(arg1);
    fun(&temp, &arg1, arg2);
    printf("%d\n", *arg2);
}
int main()
{
    int a;
    show(multi, 9, &a);
    return 0;
}








static int test_bit(int nr, const volatile unsigned long *addr)
{
    return (1UL<<(nr & 31)) & (addr[______]) != 0;
}








int main()
{
    char string[100], *p, *q, *r, c;
    gets(string);
    for (p = string; *p; p++)
    {
        for(q = r = p; *q; q++)
        {
            if( [1] )
                r = q;
            if( [2] )
            {
                c = *r;
                *r = *p;
                *p = c;
            }
        }
    }
    for (p = string; *p;)
    {
        q = [ 3 ];
        if(*p == *q)
            strcpy(p, q);
        else
            p++;
    }
    printf("result; %s\n", string);
}







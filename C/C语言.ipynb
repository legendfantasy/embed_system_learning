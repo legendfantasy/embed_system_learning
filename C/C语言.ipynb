{
 "cells": [
  {
   "cell_type": "markdown",
   "metadata": {},
   "source": [
    "# 数据"
   ]
  },
  {
   "cell_type": "markdown",
   "metadata": {},
   "source": [
    "## C 语言数据类型"
   ]
  },
  {
   "cell_type": "markdown",
   "metadata": {},
   "source": [
    "1. 基本类型\n",
    "   1. 整型 int\n",
    "   2. 浮点型 float double\n",
    "   3. 字符型 char\n",
    "   4. 枚举型 enum\n",
    "   5. 指针型 \n",
    "2. 空类型 void\n",
    "3. 构造类型\n",
    "   1. 数组\n",
    "   2. 结构体 struct\n",
    "   3. 共用体 union\n",
    "\n",
    "> 数据类型只是描述了数据在内存空间上的特性，只是区分占不同大小的空间"
   ]
  },
  {
   "cell_type": "markdown",
   "metadata": {},
   "source": [
    "## 变量"
   ]
  },
  {
   "cell_type": "markdown",
   "metadata": {},
   "source": [
    "变量是指在程序运行过程中可以变化的数据\n",
    "\n",
    "> 定义变量\n",
    "\n",
    "定义变量就是给变量起一个名字，用以标志，以便在程序中随时使用。\n",
    "\n",
    "变量就好像一个盒子，里面可以放我们想要放入的数据，或者替换其中的数据。\n",
    "\n",
    "这个盒子的大小也可以指定，这就分出了不同的数据类型\n",
    "\n",
    "比如我们想在用4个字节的大小(32个bit位，32个01数据位)来存储数据，就可以定义`整型数据`——int。\n",
    "\n",
    "除了4个字节大小的数据类型，整型还可以定义多种不同大小：\n",
    "short——短整型  \n",
    "long——长整型  \n",
    "\n",
    "注意在不同的机器中，各种数据类型所占的字节大小会有不同：  \n",
    "16位系统：long是4字节，int是2字节  \n",
    "32位系统：long是4字节，int是4字节 , long long是8字节  \n",
    "64位系统：long是8字节，int是4字节 , long long是8字节  \n",
    "\n",
    "若要查看适合当前计算机的各数据类型的取值范围，可查看文件“limit.h”,通常在编译器相关目录下  \n",
    "\n",
    "作为用来存储整数的数据类型，在存储整数时还需要考虑到负数，所以这几种不同大小的数据类型还规定了有符号(signed)和无符号(unsigned)两种，这两种类型并没有改变数据存储的大小，只是能表示整数大小范围不同。  \n",
    "\n",
    "实际使用之中，除了需要存储整数，还要存储小数，所以就有了实型。C标准提供了单精度(float)、双精度(double)和长双精度(long double)几种类型  \n",
    "\n",
    "32位系统： float:4字节；double:8字节；long double:8字节；  \n",
    "64位系统： float:4字节；double:8字节；long double:16字节；  "
   ]
  },
  {
   "cell_type": "markdown",
   "metadata": {},
   "source": [
    "# C语言的标识符、关键字、注释、表达式、语句"
   ]
  },
  {
   "cell_type": "markdown",
   "metadata": {},
   "source": [
    "## 标识符"
   ]
  },
  {
   "cell_type": "markdown",
   "metadata": {},
   "source": [
    "变量名、函数名、宏名、结构体名、枚举名、类型名、文件名、标签名、宏参数、位域等"
   ]
  },
  {
   "cell_type": "markdown",
   "metadata": {},
   "source": [
    "## 关键字"
   ]
  },
  {
   "cell_type": "markdown",
   "metadata": {},
   "source": [
    "|关键字|说明|\n",
    "|:---:|:---:|\n",
    "| 变量内存长度相关|\n",
    "auto\t|声明自动变量\n",
    "short\t|声明短整型变量或函数\n",
    "int\t|声明整型变量或函数\n",
    "long\t|声明长整型变量或函数\n",
    "float\t|声明浮点型变量或函数\n",
    "double\t|声明双精度变量或函数\n",
    "char\t|声明字符型变量或函数\n",
    "void\t|声明函数无返回值或无参数，声明无类型指针\n",
    "| 自定数据类型 |\n",
    "struct\t|声明结构体变量或函数\n",
    "union\t|声明共用数据类型\n",
    "enum\t|声明枚举类型\n",
    "| 修饰符 |\n",
    "typedef\t|用以给数据类型取别名\n",
    "const\t|声明只读变量\n",
    "unsigned\t|声明无符号类型变量或函数\n",
    "signed\t|声明有符号类型变量或函数\n",
    "|存储相关|\n",
    "extern\t|声明变量是在其他文件正声明\n",
    "register\t|声明寄存器变量\n",
    "static\t|声明静态变量\n",
    "volatile\t|说明变量在程序执行中可被隐含地改变\n",
    "|控制语句|\n",
    "if\t|条件语句\n",
    "else\t|条件语句否定分支（与 if 连用）\n",
    "switch\t|用于开关语句\n",
    "case\t|开关语句分支\n",
    "for\t|一种循环语句\n",
    "do\t|循环语句的循环体\n",
    "while\t|循环语句的循环条件\n",
    "goto\t|无条件跳转语句\n",
    "continue\t|结束当前循环，开始下一轮循环\n",
    "break\t|跳出当前循环\n",
    "default\t|开关语句中的“其他”分支\n",
    "return\t|子程序返回语句（可以带参数，也可不带参数）循环条件\n",
    "| 运算符 |\n",
    "sizeof\t|计算数据类型长度"
   ]
  }
 ],
 "metadata": {
  "language_info": {
   "name": "python"
  }
 },
 "nbformat": 4,
 "nbformat_minor": 2
}

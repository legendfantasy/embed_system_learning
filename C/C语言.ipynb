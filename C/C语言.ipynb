{
 "cells": [
  {
   "cell_type": "markdown",
   "metadata": {},
   "source": [
    "# C 语言数据类型"
   ]
  },
  {
   "cell_type": "markdown",
   "metadata": {},
   "source": [
    "1. 基本类型\n",
    "   1. 整型 int\n",
    "   2. 浮点型 float double\n",
    "   3. 字符型 char\n",
    "   4. 枚举型 enum\n",
    "   5. 指针型 \n",
    "2. 空类型 void\n",
    "3. 构造类型\n",
    "   1. 数组\n",
    "   2. 结构体 struct\n",
    "   3. 共用体 union\n",
    "\n",
    "> 数据类型只是描述了数据在内存空间上的特性，只是区分占不同大小的空间"
   ]
  },
  {
   "cell_type": "markdown",
   "metadata": {},
   "source": [
    "# 变量"
   ]
  },
  {
   "cell_type": "markdown",
   "metadata": {},
   "source": [
    "变量是指在程序运行过程中可以变化的数据\n",
    "\n",
    "> 定义变量\n",
    "\n",
    "定义变量就是给变量起一个名字，用以标志，以便在程序中随时使用。\n",
    "\n",
    "变量就好像一个盒子，里面可以放我们想要放入的数据，或者替换其中的数据。\n",
    "\n",
    "这个盒子的大小也可以指定，这就分出了不同的数据类型\n",
    "\n",
    "比如我们想在用4个字节的大小(32个bit位，32个01数据位)来存储数据，就可以定义`整型数据`——int。\n",
    "\n",
    "除了4个字节大小的数据类型，整型还可以定义多种不同大小：\n",
    "short——短整型\n",
    "long——长整型\n",
    "\n",
    "注意在不同的机器中，各种数据类型所占的字节大小会有不同：\n",
    "16位系统：long是4字节，int是2字节\n",
    "32位系统：long是4字节，int是4字节 , long long是8字节\n",
    "64位系统：long是8字节，int是4字节 , long long是8字节\n",
    "\n",
    "若要查看适合当前计算机的各数据类型的取值范围，可查看文件“limit.h”,通常在编译器相关目录下\n",
    "\n",
    "作为用来存储整数的数据类型，在存储整数时还需要考虑到负数，所以这几种不同大小的数据类型还规定了有符号(signed)和无符号(unsigned)两种，这两种类型并没有改变数据存储的大小，只是能表示整数大小范围不同。\n",
    "\n",
    "实际使用之中，除了需要存储整数，还要存储小数，所以就有了实型。C标准提供了单精度(float)、双精度(double)和长双精度(long double)几种类型\n",
    "\n",
    "32位系统： float:4字节；double:8字节；long double:8字节；\n",
    "64位系统： float:4字节；double:8字节；long double:16字节；"
   ]
  }
 ],
 "metadata": {
  "language_info": {
   "name": "python"
  }
 },
 "nbformat": 4,
 "nbformat_minor": 2
}

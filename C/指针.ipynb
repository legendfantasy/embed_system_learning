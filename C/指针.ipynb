{
 "cells": [
  {
   "cell_type": "markdown",
   "id": "1301be78-778a-40df-81a0-ab98914fdae8",
   "metadata": {},
   "source": [
    "# 指针运算"
   ]
  },
  {
   "cell_type": "markdown",
   "id": "d5c10c20-3705-4dce-b89a-b9a5c8da888e",
   "metadata": {},
   "source": [
    "指针+n代表地址增加  sizeof(指针)*n 个地址量\n",
    "!! 指针运算不是增加地址,而是增加元素"
   ]
  },
  {
   "cell_type": "code",
   "execution_count": 11,
   "id": "451b097c",
   "metadata": {},
   "outputs": [
    {
     "name": "stdout",
     "output_type": "stream",
     "text": [
      "0x7fff00e46a2c 0x7fff00e46a34\n",
      "0x7fff00e46a30 0x7fff00e46a40\n"
     ]
    }
   ],
   "source": [
    "#include <stdio.h>\n",
    "\n",
    "int main(int argc, char *argv[])\n",
    "{\n",
    "        int a = 10, * p;\n",
    "        double b = 3, * q;\n",
    "\n",
    "        p = &a;\n",
    "        q = &b;\n",
    "\n",
    "        printf(\"%p %p\\n\", p, p+2); // 2 * 4\n",
    "        printf(\"%p %p\\n\", q, q+2); // 2 * 8\n",
    "\n",
    "        return 0;\n",
    "}"
   ]
  },
  {
   "cell_type": "markdown",
   "id": "df7d262b-da56-4032-864f-d3cb1b22e6d3",
   "metadata": {},
   "source": [
    "## 指针指向一维数组"
   ]
  },
  {
   "cell_type": "markdown",
   "id": "1aed3388-8009-47d6-a7df-9658664b287a",
   "metadata": {},
   "source": [
    "1. 数组名代表数组第一个元素的地址\n",
    "2. 两个数组相减运算计算的是元素个数"
   ]
  },
  {
   "cell_type": "code",
   "execution_count": 13,
   "id": "45a74b9f",
   "metadata": {},
   "outputs": [
    {
     "name": "stdout",
     "output_type": "stream",
     "text": [
      "0x7ffcd84485c0 0x7ffcd84485cc\n",
      "4 2\n",
      "3\n"
     ]
    }
   ],
   "source": [
    "#include <stdio.h>\n",
    "\n",
    "int main(int argc, char *argv[])\n",
    "{\n",
    "        int a[5] = {4, 8, 1, 2, 7};\n",
    "        int *p, *q;\n",
    "\n",
    "        p = a; //&a[0];\n",
    "        q = &a[3];\n",
    "        \n",
    "        printf(\"%p %p\\n\", p, q);\n",
    "        printf(\"%d %d\\n\", *p, *q);\n",
    "        printf(\"%ld\\n\", q-p);\n",
    "\n",
    "        return 0;\n",
    "}"
   ]
  },
  {
   "cell_type": "code",
   "execution_count": 5,
   "id": "262e59c0",
   "metadata": {},
   "outputs": [
    {
     "name": "stderr",
     "output_type": "stream",
     "text": [
      "/tmp/tmpo8rczbx5.c: In function ‘main’:\n",
      "/tmp/tmpo8rczbx5.c:8:18: warning: format ‘%d’ expects argument of type ‘int’, but argument 2 has type ‘int *’ [-Wformat=]\n",
      "    8 |         printf(\"%d %p\\n\", p, p);\n",
      "      |                 ~^        ~\n",
      "      |                  |        |\n",
      "      |                  int      int *\n",
      "      |                 %ls\n"
     ]
    },
    {
     "name": "stdout",
     "output_type": "stream",
     "text": [
      "0 (nil)\n",
      "0x7ffdf5fbaa40 4\n",
      "0x7ffdf5fbaa44 8\n",
      "0x7ffdf5fbaa40 4\n"
     ]
    }
   ],
   "source": [
    "#include <stdio.h>\n",
    "\n",
    "int main(int argc, char *argv[])\n",
    "{\n",
    "        int a[5] = {4, 8, 1, 2, 7};\n",
    "        int *p = NULL, *q;\n",
    "\n",
    "        printf(\"%d %p\\n\", p, p);\n",
    "        p = a; //&a[0];\n",
    "        \n",
    "        printf(\"%p %d\\n\", p, *p);\n",
    "\n",
    "        q = p++;\n",
    "\n",
    "        printf(\"%p %d\\n\",p, *p);\n",
    "        printf(\"%p %d\\n\",q, *q);\n",
    "\n",
    "\n",
    "        return 0;\n",
    "}"
   ]
  },
  {
   "cell_type": "code",
   "execution_count": null,
   "id": "5470c853-42cd-453c-87ab-d70752c146af",
   "metadata": {},
   "outputs": [],
   "source": []
  },
  {
   "cell_type": "markdown",
   "id": "2d1005cc-2962-43ed-89f6-bf83242257bf",
   "metadata": {},
   "source": [
    "这段代码展示如何使用指针遍历一维数组的元素"
   ]
  },
  {
   "cell_type": "code",
   "execution_count": 6,
   "id": "16f6c3d0",
   "metadata": {},
   "outputs": [
    {
     "name": "stdout",
     "output_type": "stream",
     "text": [
      "0 0 -1431320832 -717776183 -1664215504 \n"
     ]
    }
   ],
   "source": [
    "#include <stdio.h>\n",
    "\n",
    "#define N 5\n",
    "int main(int argc, char *argv[])\n",
    "{\n",
    "        int a[N];\n",
    "        int *p, i;\n",
    "        \n",
    "        p = a;//int *p = a;\n",
    "\n",
    "        for (i = 0; i < N; i++) \n",
    "                scanf(\"%d\", p++);//&a[i]\n",
    "\n",
    "        p = a;\n",
    "        for (i = 0; i < N; i++)  \n",
    "        {\n",
    "                printf(\"%d \", *p);\n",
    "                p++;\n",
    "        }\n",
    "        puts(\"\");\n",
    "\n",
    "\n",
    "        return 0;\n",
    "}"
   ]
  },
  {
   "cell_type": "markdown",
   "id": "1b830b12-4b6c-4d1d-8314-e7815e91f625",
   "metadata": {},
   "source": [
    "这段代码展示了a[i], *(p+i), *(a+i), p[i] 这几种形式的一致性"
   ]
  },
  {
   "cell_type": "code",
   "execution_count": 7,
   "id": "03ca631d",
   "metadata": {},
   "outputs": [
    {
     "name": "stdout",
     "output_type": "stream",
     "text": [
      "0x7fff94d3eff0 0x7fff94d3eff4 0x7fff94d3eff8\n",
      "1 1 1 1\n",
      "6 6 6 6\n",
      "9 9 9 9\n",
      "12 12 12 12\n",
      "61 61 61 61\n",
      "12 12 12 12\n",
      "21 21 21 21\n",
      "\n",
      "9\n"
     ]
    }
   ],
   "source": [
    "#include <stdio.h>\n",
    "\n",
    "int main(int argc, char *argv[])\n",
    "{\n",
    "        int a[] = {1, 6, 9, 12, 61, 12, 21};\n",
    "        int *p, i, n;\n",
    "        \n",
    "        p = a;\n",
    "        n = sizeof(a) / sizeof(int);\n",
    "\n",
    "        printf(\"%p %p %p\\n\", a, a+1, a+2);\n",
    "\n",
    "        for (i = 0; i < n; i++)\n",
    "                printf(\"%d %d %d %d\\n\", a[i], *(p+i), *(a+i), p[i]);\n",
    "        puts(\"\");\n",
    "\n",
    "        p++;\n",
    "\n",
    "        printf(\"%d\\n\", p[1]);//*(p+1)\n",
    "\n",
    "        return 0;\n",
    "}"
   ]
  },
  {
   "cell_type": "markdown",
   "id": "d4bf37cb-8973-48ea-b95d-ed1bea627ab7",
   "metadata": {},
   "source": [
    "这段代码旨在展示如何利用指针和数组来实现对调数组内的元素"
   ]
  },
  {
   "cell_type": "code",
   "execution_count": 8,
   "id": "0eabedec",
   "metadata": {},
   "outputs": [
    {
     "name": "stdout",
     "output_type": "stream",
     "text": [
      "21 12 61 12 9 6 1 \n"
     ]
    }
   ],
   "source": [
    "#include <stdio.h>\n",
    "\n",
    "int main(int argc, char *argv[])\n",
    "{\n",
    "        int a[] = {1, 6, 9, 12, 61, 12, 21};\n",
    "        int *p, *q, n, t;\n",
    "\n",
    "        n = sizeof(a) / sizeof(int);\n",
    "\n",
    "        p = a;\n",
    "        q = &a[n-1];\n",
    "\n",
    "        while (p < q) {\n",
    "                t = *p;\n",
    "                *p = *q;\n",
    "                *q = t;\n",
    "                p++;\n",
    "                q--;\n",
    "        }\n",
    "        \n",
    "        for (t = 0; t < n; t++)\n",
    "                printf(\"%d \", a[t]);\n",
    "        puts(\"\");\n",
    "\n",
    "\n",
    "        return 0;\n",
    "}"
   ]
  },
  {
   "cell_type": "markdown",
   "id": "c9df5fb8-8ab3-42e1-890c-bfeed450cb15",
   "metadata": {},
   "source": [
    "## 指针指向二维数组"
   ]
  },
  {
   "cell_type": "markdown",
   "id": "4538308f-588a-408e-9f1c-d51c5c4f3723",
   "metadata": {},
   "source": [
    "可以直接让p指针指向数组开头,通过p指针的自增完成遍历"
   ]
  },
  {
   "cell_type": "code",
   "execution_count": 9,
   "id": "0196f27a",
   "metadata": {},
   "outputs": [
    {
     "name": "stdout",
     "output_type": "stream",
     "text": [
      "0x7ffe6fc97290 0x7ffe6fc97294\n",
      "0x7ffe6fc97290 0x7ffe6fc97298\n",
      "1 6 9 12 61 12 \n"
     ]
    }
   ],
   "source": [
    "#include <stdio.h>\n",
    "\n",
    "int main(int argc, char *argv[])\n",
    "{\n",
    "        int a[3][2] = {{1, 6}, {9, 12}, {61, 12}};\n",
    "        int * p, i, n;\n",
    "\n",
    "        n = sizeof(a) / sizeof(int);\n",
    "\n",
    "        p = a[0]; //&a[0][0];\n",
    "        printf(\"%p %p\\n\", p, p+1);\n",
    "        printf(\"%p %p\\n\", a, a+1);\n",
    "\n",
    "        for (i = 0; i < n; i++)\n",
    "                printf(\"%d \", *(p+i));\n",
    "        puts(\"\");\n",
    "\n",
    "\n",
    "        return 0;\n",
    "}"
   ]
  },
  {
   "cell_type": "code",
   "execution_count": 10,
   "id": "23d0dc47",
   "metadata": {},
   "outputs": [
    {
     "name": "stdout",
     "output_type": "stream",
     "text": [
      "0x7ffe9d9dc040 0x7ffe9d9dc044\n",
      "0x7ffe9d9dc040 0x7ffe9d9dc048\n",
      "1 6 9 12 61 12 \n"
     ]
    }
   ],
   "source": [
    "#include <stdio.h>\n",
    "\n",
    "int main(int argc, char *argv[])\n",
    "{\n",
    "        int a[3][2] = {{1, 6}, {9, 12}, {61, 12}};\n",
    "        int * p, i, n;\n",
    "\n",
    "        n = sizeof(a) / sizeof(int);\n",
    "\n",
    "        //a[1]++;\n",
    "        //printf(\"%d\\n\", sizeof(a[1]));\n",
    "\n",
    "        p = a[0]; //&a[0][0];\n",
    "        printf(\"%p %p\\n\", p, p+1);\n",
    "        printf(\"%p %p\\n\", a, a+1);\n",
    "\n",
    "        for (i = 0; i < n; i++)\n",
    "                printf(\"%d \", *(p+i));\n",
    "        puts(\"\");\n",
    "\n",
    "\n",
    "        return 0;\n",
    "}"
   ]
  },
  {
   "cell_type": "code",
   "execution_count": 12,
   "id": "af0e440a",
   "metadata": {},
   "outputs": [
    {
     "name": "stdout",
     "output_type": "stream",
     "text": [
      "0x7ffe2dea6560 0x7ffe2dea6568\n",
      "0x7ffe2dea6560 0x7ffe2dea6564\n"
     ]
    }
   ],
   "source": [
    "#include <stdio.h>\n",
    "\n",
    "int main(int argc, char *argv[])\n",
    "{\n",
    "        int a[3][2] = {{1, 6}, {9, 12}, {61, 12}};\n",
    "        int * p, i, n;\n",
    "\n",
    "        n = sizeof(a) / sizeof(int);\n",
    "\n",
    "        printf(\"%p %p\\n\", a, a+1);\n",
    "        //printf(\"%p %p\\n\", a[0], a[0]+1);\n",
    "        printf(\"%p %p\\n\", *a, *a+1);\n",
    "\n",
    "\n",
    "        return 0;\n",
    "}"
   ]
  },
  {
   "cell_type": "code",
   "execution_count": 13,
   "id": "c2789d22",
   "metadata": {},
   "outputs": [
    {
     "name": "stdout",
     "output_type": "stream",
     "text": [
      "0x7ffda5233380 0x7ffda5233388\n",
      "0x7ffda5233380 0x7ffda5233388\n",
      "1, 1, 1, 1 6, 6, 6, 6 \n",
      "9, 9, 9, 9 12, 12, 12, 12 \n",
      "61, 61, 61, 61 12, 12, 12, 12 \n"
     ]
    }
   ],
   "source": [
    "#include <stdio.h>\n",
    "\n",
    "int main(int argc, char *argv[])\n",
    "{\n",
    "        int a[3][2] = {{1, 6}, {9, 12}, {61, 12}};\n",
    "        int (*p)[2], i, j;\n",
    "\n",
    "        p = a;\n",
    "\n",
    "        printf(\"%p %p\\n\", a, a+1);\n",
    "        printf(\"%p %p\\n\", p, p+1);\n",
    "\n",
    "        //printf(\"%d, %d, %d, %d\\n\", a[1][1], p[1][1], *(*(a + 1)+1), *(*(p + 1) + 1));\n",
    "        for (i = 0; i < 3; i++) {\n",
    "                for (j = 0; j < 2; j++)\n",
    "                        printf(\"%d, %d, %d, %d \", a[i][j], p[i][j], *(*(a + i)+j), *(*(p + i) + j));\n",
    "                puts(\"\");\n",
    "        }\n",
    "\n",
    "\n",
    "        return 0;\n",
    "}"
   ]
  },
  {
   "cell_type": "code",
   "execution_count": null,
   "id": "e368dfc9-5c29-47be-83bc-461864d599d8",
   "metadata": {},
   "outputs": [],
   "source": []
  }
 ],
 "metadata": {
  "kernelspec": {
   "display_name": "C",
   "language": "c",
   "name": "c"
  },
  "language_info": {
   "file_extension": ".c",
   "mimetype": "text/plain",
   "name": "c"
  }
 },
 "nbformat": 4,
 "nbformat_minor": 5
}

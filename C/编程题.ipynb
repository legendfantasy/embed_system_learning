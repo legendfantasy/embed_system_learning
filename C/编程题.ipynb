{
 "cells": [
  {
   "cell_type": "markdown",
   "metadata": {},
   "source": [
    "计算并输出1到100之间所有偶数之和"
   ]
  },
  {
   "cell_type": "code",
   "execution_count": 2,
   "metadata": {},
   "outputs": [
    {
     "name": "stdout",
     "output_type": "stream",
     "text": [
      "the sum is 2550\n"
     ]
    }
   ],
   "source": [
    "#include<stdio.h>\n",
    "#include<stdlib.h>\n",
    "\n",
    "int main()\n",
    "{\n",
    "    int sum = 0;\n",
    "    for(int i = 1; i <= 100; i++)\n",
    "    {\n",
    "        if(i % 2 == 0)\n",
    "        {\n",
    "            sum = sum + i;\n",
    "        }   \n",
    "    }\n",
    "    printf(\"the sum is %d\\n\", sum);\n",
    "    return 0;\n",
    "}"
   ]
  },
  {
   "cell_type": "code",
   "execution_count": 6,
   "metadata": {},
   "outputs": [
    {
     "name": "stdout",
     "output_type": "stream",
     "text": [
      "sum = :2550\n"
     ]
    }
   ],
   "source": [
    "\n",
    "#include <stdio.h>\n",
    " \n",
    "int main(){\n",
    "    int sum = 0;\n",
    "    for(int i = 2; i <= 100; i+=2) {\n",
    "        sum+= i;\n",
    "    }\n",
    "    printf(\"sum = :%d\\n\", sum);\n",
    " \n",
    "    return 0;\n",
    "}"
   ]
  },
  {
   "cell_type": "markdown",
   "metadata": {},
   "source": [
    "找数数组中的最大值和最小值；"
   ]
  },
  {
   "cell_type": "code",
   "execution_count": 9,
   "metadata": {},
   "outputs": [
    {
     "name": "stderr",
     "output_type": "stream",
     "text": [
      "[C kernel] Executable exited with code -11"
     ]
    }
   ],
   "source": [
    "#include<stdio.h>\n",
    "\n",
    "int main()\n",
    "{\n",
    "    int array[10] = {1, 5, 6, 43, 53, 12, 32, 34, 56, 78};\n",
    "    for(int i = 1; i < 10; i++)\n",
    "    {\n",
    "        for(int j = i - 1; j >= 0; j++)\n",
    "        {\n",
    "            if(array[j] > array[i])\n",
    "            {\n",
    "                int temp = array[j];\n",
    "                array[j] = array[i];\n",
    "                array[i] = temp;\n",
    "            }\n",
    "        }\n",
    "    }\n",
    "    printf(\"the smallest number is %d\\n\", array[9]);\n",
    "    printf(\"the biggest number is %d\\n\", array[0]);\n",
    "    return 0;\n",
    "\n",
    "}"
   ]
  }
 ],
 "metadata": {
  "kernelspec": {
   "display_name": "C",
   "language": "c",
   "name": "c"
  },
  "language_info": {
   "file_extension": ".c",
   "mimetype": "text/plain",
   "name": "c"
  }
 },
 "nbformat": 4,
 "nbformat_minor": 2
}

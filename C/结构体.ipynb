{
 "cells": [
  {
   "cell_type": "markdown",
   "id": "c041e062-5c76-43fe-8245-fae81b27e8cc",
   "metadata": {},
   "source": [
    "# 结构体"
   ]
  },
  {
   "cell_type": "markdown",
   "id": "d5a30036-0790-4046-9c47-d934d878d33d",
   "metadata": {
    "tags": []
   },
   "source": [
    "## 结构体的定义：\n",
    "```  \n",
    "struct 结构体名  \n",
    "{  \n",
    "    结构体成员列表  \n",
    "};\n",
    "```  \n",
    "结构体就是自己定义的数据类型,可以开辟更加灵活的地址空间供使用  \n",
    "注意花括号后有分号作结尾  "
   ]
  },
  {
   "cell_type": "markdown",
   "id": "6a171f1d-0500-463e-b34d-9c1280ddbbfe",
   "metadata": {
    "tags": []
   },
   "source": [
    "## 结构体的使用\n",
    "分为两步:\n",
    "1. 创建自定义的结构体(指定用多少空间)\n",
    "2. 根据结构体新建变量(用新整的数据类型创建一个变量以随时待命)\n",
    "   \n",
    "创建结构体变量的方法:\n",
    "```\n",
    "struct 结构体名 变量名\n",
    "```  \n",
    "只定义名字不进行初始化,随机应变\n",
    "```\n",
    "struct 结构体名 变量名 = { 成员 1 值，成员 2值 ..}  \n",
    "```\n",
    "在创建变量的时候就决定好里面的具体值是多少"
   ]
  },
  {
   "cell_type": "markdown",
   "id": "e59a40d5-7244-4470-a9df-10a97b5b2352",
   "metadata": {},
   "source": [
    "1. 首先“实例化”结构体，再用点记法引用结构体内每个变量，分别对其进行赋值"
   ]
  },
  {
   "cell_type": "code",
   "execution_count": 1,
   "id": "1233f485-56c0-4c63-bcbf-d9655043fb38",
   "metadata": {},
   "outputs": [
    {
     "name": "stdout",
     "output_type": "stream",
     "text": [
      "num = 1000, name = zhangsan, score = 98.000000\n"
     ]
    }
   ],
   "source": [
    "#include <stdio.h>\n",
    "#include <string.h>\n",
    " \n",
    "//结构体的定义\n",
    "struct student\n",
    "{\n",
    "    int num; //学号\n",
    "    char name[16];  //姓名\n",
    "    float score;  //成绩\n",
    "}; \n",
    " \n",
    "int main(int argc, const char *argv[])\n",
    "{\n",
    " \n",
    "    //1.定义完结构体变量再进行赋值\n",
    "    struct student stu1;\n",
    " \n",
    "    stu1.num = 1000;\n",
    "    strcpy(stu1.name,\"zhangsan\");\n",
    "    //stu1.name = \"zhangsan\";    //错误行为\n",
    "    stu1.score = 98;\n",
    " \n",
    "    printf(\"num = %d, name = %s, score = %f\\n\", stu1.num, stu1.name, stu1.score);\n",
    "\n",
    "    return 0;\n",
    "}"
   ]
  },
  {
   "cell_type": "markdown",
   "id": "836f4bbd-d7dd-4c0b-9e83-0afcd8a9758f",
   "metadata": {},
   "source": [
    "2. 在实例化的过程中对每个元素进行赋值"
   ]
  },
  {
   "cell_type": "code",
   "execution_count": 2,
   "id": "593f8c83-25f6-48b4-852d-456378113565",
   "metadata": {},
   "outputs": [
    {
     "name": "stdout",
     "output_type": "stream",
     "text": [
      "num = 1001, name = lisi, score = 99.000000\n"
     ]
    }
   ],
   "source": [
    "#include <stdio.h>\n",
    "#include <string.h>\n",
    " \n",
    "//结构体的定义\n",
    "struct student\n",
    "{\n",
    "    int num;\n",
    "    char name[16]; \n",
    "    float score;  \n",
    "};  \n",
    " \n",
    "int main(int argc, const char *argv[])\n",
    "{\n",
    "  \n",
    "    //2.定义结构体变量时进行赋值\n",
    "    struct student stu2 = {1001, \"lisi\", 99};\n",
    "     \n",
    "    printf(\"num = %d, name = %s, score = %f\\n\", stu2.num, stu2.name, stu2.score);\n",
    "    return 0;\n",
    "}"
   ]
  },
  {
   "cell_type": "markdown",
   "id": "f6087c8d-ac21-43ea-9917-fe97dcce27e9",
   "metadata": {},
   "source": [
    "3.如果不对结构体内的每个变量都进行赋值，未被赋值的变量将会被随机赋值"
   ]
  },
  {
   "cell_type": "code",
   "execution_count": 3,
   "id": "30d5b620-5884-4d22-940c-e9033ce08f34",
   "metadata": {},
   "outputs": [
    {
     "name": "stdout",
     "output_type": "stream",
     "text": [
      "num = 1001, name = lisi, score = 0.000000\n"
     ]
    }
   ],
   "source": [
    "#include <stdio.h>\n",
    "#include <string.h>\n",
    " \n",
    "//结构体的定义\n",
    "struct student\n",
    "{\n",
    "    int num; \n",
    "    char name[16]; \n",
    "    float score;  \n",
    "};  \n",
    " \n",
    "int main(int argc, const char *argv[])\n",
    "{\n",
    " \n",
    "    struct student stu3 = {1001, \"lisi\"};\n",
    "    printf(\"num = %d, name = %s, score = %f\\n\", stu3.num, stu3.name, stu3.score);\n",
    "    return 0;\n",
    "}"
   ]
  },
  {
   "cell_type": "markdown",
   "id": "8ce3dbce-def4-4208-9b3d-192531a09e52",
   "metadata": {},
   "source": [
    "4.在实例化的过程中用花括号和点记法对变量进行赋值"
   ]
  },
  {
   "cell_type": "code",
   "execution_count": 7,
   "id": "5ae4e126-1827-4475-b6ae-e21e17308da1",
   "metadata": {},
   "outputs": [
    {
     "name": "stdout",
     "output_type": "stream",
     "text": [
      "num = 1001, name = , score = 99.000000\n"
     ]
    }
   ],
   "source": [
    "#include <stdio.h>\n",
    "#include <string.h>\n",
    " \n",
    "//结构体的定义\n",
    "struct student\n",
    "{\n",
    "    int num; //学号\n",
    "    char name[16];  //姓名\n",
    "    float score;  //成绩\n",
    "};\n",
    " \n",
    "int main(int argc, const char *argv[])\n",
    "{\n",
    "    struct student stu4 = {\n",
    "        .num = 1001, \n",
    "        .score = 99,\n",
    "    };\n",
    "    printf(\"num = %d, name = %s, score = %f\\n\", stu4.num, stu4.name, stu4.score);\n",
    "    return 0;\n",
    "}"
   ]
  },
  {
   "cell_type": "markdown",
   "id": "708281c5-f9f7-4400-b84c-92c4eb58e879",
   "metadata": {},
   "source": [
    "5.在定义结构体的时候顺便变量"
   ]
  },
  {
   "cell_type": "code",
   "execution_count": 8,
   "id": "9a89865d-50cb-4ba9-ab15-ced0f423d078",
   "metadata": {},
   "outputs": [
    {
     "name": "stdout",
     "output_type": "stream",
     "text": [
      "num = 1002, name = lihua, score = 89.000000\n",
      "num = 1004, name = zhangsan2, score = 70.000000\n"
     ]
    }
   ],
   "source": [
    "#include <stdio.h>\n",
    "#include <string.h>\n",
    " \n",
    "//结构体的定义\n",
    "struct student\n",
    "{\n",
    "    int num; //学号\n",
    "    char name[16];  //姓名\n",
    "    float score;  //成绩\n",
    "}stu5 = {1002,\"lihua\",89},stu6;  //3.定义结构体时顺便定义变量\n",
    " \n",
    "int main(int argc, const char *argv[])\n",
    "{ \n",
    "    printf(\"num = %d, name = %s, score = %f\\n\", stu5.num, stu5.name, stu5.score);\n",
    " \n",
    "    stu6.num = 1004;\n",
    "    strcpy(stu6.name,\"zhangsan2\");\n",
    "    stu6.score = 70;\n",
    "    printf(\"num = %d, name = %s, score = %f\\n\", stu6.num, stu6.name, stu6.score);\n",
    "    return 0;\n",
    "}"
   ]
  },
  {
   "cell_type": "markdown",
   "id": "550f0689-c66c-492a-96e5-4801773bb79c",
   "metadata": {},
   "source": [
    "## 结构体数组"
   ]
  },
  {
   "cell_type": "markdown",
   "id": "0b00b246-c5a3-45df-8a25-9ec7514e8d51",
   "metadata": {},
   "source": [
    "作用  \n",
    "将自定义的结构体放入到数组中方便维护 \n",
    "同时创建出多个相同构成的结构体   \n",
    "语法\n",
    "```  \n",
    "struct 结构体名 数组名 [ 元素个数 ] = {{第一个结构体各成员具体值},{第二个结构体各成员具体值},...,{}}\n",
    "```  "
   ]
  },
  {
   "cell_type": "code",
   "execution_count": 10,
   "id": "d13cd70a-a29b-4211-b35b-563ed9b5372d",
   "metadata": {},
   "outputs": [
    {
     "name": "stdout",
     "output_type": "stream",
     "text": [
      "num = 2000, name = lihua, score = 100.000000\n",
      "num = 1000, name = zhangsan, score = 99.000000\n",
      "num = 1001, name = lisi, score = 89.000000\n",
      "num = 1003, name = zhouwu, score = 79.000000\n"
     ]
    }
   ],
   "source": [
    "#include <stdio.h>\n",
    "#include <string.h>\n",
    " \n",
    "//定义结构体\n",
    "struct student\n",
    "{\n",
    "    int num;\n",
    "    char name[16];\n",
    "    float score;\n",
    "};\n",
    " \n",
    "int main(int argc, const char *argv[])\n",
    "{\n",
    "    struct student stu[3] = {{1000, \"zhangsan\", 99}, {1001, \"lisi\", 89}, {1003, \"zhouwu\", 79}};\n",
    "    struct student stu1[3];\n",
    "    int i;\n",
    " \n",
    "    stu1[0].num = 2000;\n",
    "    strcpy(stu1[0].name, \"lihua\");\n",
    "    stu1[0].score = 100;\n",
    " \n",
    "    printf(\"num = %d, name = %s, score = %f\\n\", stu1[0].num, stu1[0].name, stu1[0].score);\n",
    " \n",
    "    for (i = 0; i < 3; i++)\n",
    "    {\n",
    "        printf(\"num = %d, name = %s, score = %f\\n\", stu[i].num, stu[i].name, stu[i].score);\n",
    "    }\n",
    " \n",
    "    return 0;\n",
    "}"
   ]
  },
  {
   "cell_type": "markdown",
   "id": "6f0861d5-c7c4-4595-974b-4607c562f93f",
   "metadata": {},
   "source": [
    "##  结构体指针"
   ]
  },
  {
   "cell_type": "markdown",
   "id": "de38954d-e224-4558-89bb-a7f97e1bf73c",
   "metadata": {},
   "source": [
    "作用  \n",
    "通过指针访问结构体中的成员  \n",
    "指针指向的是结构体变量的起始地址  \n",
    "语法\n",
    "```  \n",
    "struct 结构体名 * 指针名；  \n",
    "```\n",
    "利用操作符 -> 可以通过结构体指针访问结构体属性  "
   ]
  },
  {
   "cell_type": "code",
   "execution_count": 1,
   "id": "4f0787c6-b81a-416e-b8e0-10f86e9cbfae",
   "metadata": {},
   "outputs": [
    {
     "name": "stdout",
     "output_type": "stream",
     "text": [
      "num = 1000, name = lisi, score = 90.000000\n"
     ]
    }
   ],
   "source": [
    "#include <stdio.h>\n",
    "#include <string.h>\n",
    " \n",
    "//定义结构体\n",
    "struct student\n",
    "{\n",
    "    int num;\n",
    "    char name[16];\n",
    "    float score;\n",
    "};\n",
    " \n",
    "int main(int argc, const char *argv[])\n",
    "{\n",
    "    struct student stu;\n",
    "    struct student *p = &stu; //指向的方法是将实例化的结构体名的地址赋给结构体指针\n",
    "                              //指向结构体变量的起始地址\n",
    "    //通过结构体指针去赋值\n",
    "    p->num = 1000;  //访问结构体的num属性，并赋值\n",
    "    strcpy(p->name, \"lisi\");\n",
    "    p->score = 90;\n",
    " \n",
    "    printf(\"num = %d, name = %s, score = %f\\n\", stu.num, p->name, p->score);\n",
    " \n",
    "    return 0;\n",
    "}"
   ]
  },
  {
   "cell_type": "markdown",
   "id": "ee7a2f7c-de46-4a85-8b00-772cebcde735",
   "metadata": {},
   "source": [
    "## 结构体嵌套结构体"
   ]
  },
  {
   "cell_type": "markdown",
   "id": "9bbff789-c41a-4f82-8fa1-f917ea13bfe4",
   "metadata": {},
   "source": [
    "含义  \n",
    "结构体中的成员可以是另一个结构体  \n",
    "语法 \n",
    "``` \n",
    "struct 结构体名  \n",
    "{  \n",
    "    struct 结构体名 成员名；  \n",
    "};\n",
    "```  "
   ]
  },
  {
   "cell_type": "markdown",
   "id": "27ba540f-07a0-440f-937a-5fb9e0c53b14",
   "metadata": {},
   "source": [
    "结构体嵌套结构体的概念有点类似类的继承"
   ]
  },
  {
   "cell_type": "code",
   "execution_count": 2,
   "id": "998d2422-0d69-40b9-892d-87bc2babed7a",
   "metadata": {},
   "outputs": [
    {
     "name": "stdout",
     "output_type": "stream",
     "text": [
      "name = zhangsan,age = 12, sex = m, score = 98.000000\n",
      "name = lisi,age = 54, sex = w, score = 13112341234\n"
     ]
    }
   ],
   "source": [
    "#include <stdio.h>\n",
    "#include <string.h>\n",
    " \n",
    "struct person\n",
    "{\n",
    "    char name[16];\n",
    "    int age;\n",
    "    char sex;\n",
    "};\n",
    " \n",
    "struct  student\n",
    "{\n",
    "    struct person stu;  //类似于继承person类\n",
    "    float score;        //student除了要person那样的空间外还要另添加一个float空间\n",
    "};\n",
    " \n",
    "struct teacher\n",
    "{\n",
    "    struct person tea;\n",
    "    char phone[12];\n",
    "};\n",
    " \n",
    "int main(int argc, const char *argv[])\n",
    "{\n",
    "    struct student s;\n",
    " \n",
    "    strcpy(s.stu.name,\"zhangsan\");  //嵌套的使用也要用多个点来逐层引用\n",
    "    s.stu.age = 12;\n",
    "    s.stu.sex = 'm';\n",
    "    s.score = 98;\n",
    "    printf(\"name = %s,age = %d, sex = %c, score = %f\\n\", s.stu.name, s.stu.age, s.stu.sex, s.score);\n",
    " \n",
    "    struct teacher t;\n",
    "    struct teacher *p = &t;\n",
    " \n",
    "    strcpy (p->tea.name, \"lisi\");\n",
    "    p->tea.age = 54;\n",
    "    p->tea.sex = 'w';\n",
    "    strcpy (p->phone, \"13112341234\");\n",
    " \n",
    "    printf(\"name = %s,age = %d, sex = %c, score = %s\\n\", t.tea.name, t.tea.age, t.tea.sex, t.phone);\n",
    "     \n",
    "    return 0;\n",
    "}"
   ]
  },
  {
   "cell_type": "markdown",
   "id": "a2493976",
   "metadata": {},
   "source": [
    "## 结构体的大小\n",
    "结构体的大小会按照最大成员变量的大小进行对齐，以确保结构体在内存中的地址是对齐的。\n",
    "此外，编译器可能会在结构体的末尾添加填充字节，以确保结构体的大小是特定对齐方式的倍数  \n",
    "对齐的目的是为了让结构体成员的地址能够被整除，从而提高内存访问的速度。\n",
    "\n",
    "结构体的大小不是简单的每个成员大小逐个累加.其次，结构体的大小似乎和结构体成员的顺序也有关系。  \n",
    "首先的影响因素就是结构体成员的类型，不同的结构体成员占用的内存大小不同。\n",
    "结构体的对齐规则：\n",
    "1、第一个成员在于结构体变量偏移量为0的地址处。\n",
    "2、其他成员变量要对齐到某个数字（对齐数）的整数倍的地址处。\n",
    "          对齐数 = 编译器默认的一个对齐数（vs中默认为8）与 该成员大小的较小值。\n",
    "3、结构体总大小为最大对齐数（每个成员变量都有自己的对齐数）的整数倍。\n",
    "4、针对嵌套结构体，嵌套的结构体要对齐到自己最大对齐数的整数倍处，结构体总大小是所有对齐数的最大值（包含嵌套结构体的对齐数）的整数倍。\n",
    "\n",
    "到底占用多少字节的计算:\n",
    "1. 占用的总字节数是结构体中占用最大字节数的整数倍  \n",
    "2. 第一个成员在于结构体变量偏移量为0的地址处\n",
    "3. 每一个成员占用的字节数应当和它下一个成员所应当占用的字节数保持对齐"
   ]
  },
  {
   "cell_type": "code",
   "execution_count": 8,
   "id": "ac7884ae-f173-40c0-9263-06da904ea348",
   "metadata": {},
   "outputs": [
    {
     "name": "stdout",
     "output_type": "stream",
     "text": [
      "int = 4,  12\n",
      "short = 2,  6\n",
      "double = 8,  24\n",
      "double = 8,  24\n",
      "char a = 0x7ffd6d9a58b0, char b = 0x7ffd6d9a58b1, double c = 0x7ffd6d9a58b8, char d = 0x7ffd6d9a58c0\n"
     ]
    }
   ],
   "source": [
    "#include <stdio.h>\n",
    " \n",
    "struct A\n",
    "{\n",
    "    char a;  //1byte  占4个字节 浪费3个\n",
    "    int b;   //4      占4个字节  目前占了8个\n",
    "    char c;  //1      分配8个不够用,就分配12个 这里用掉2个,最终浪费1个\n",
    "    char d;  //1      这里用掉2个,最终1个\n",
    "    //最终大小是4的整数倍   最终应占 4*3=12个\n",
    "};\n",
    " \n",
    "struct B\n",
    "{\n",
    "    char a;   //1     2\n",
    "    short b;  //2     2\n",
    "    char c;   //1     1\n",
    "    char d;   //1     1\n",
    "    //最终应当分配2的整数倍个 \n",
    "};\n",
    " \n",
    "struct C\n",
    "{\n",
    "    char a;    //1   8\n",
    "    double b;  //8   8\n",
    "    char c;    //1   4\n",
    "    char d;    //1   4\n",
    "    //最终应当分配8的整数倍个\n",
    "};\n",
    "struct D\n",
    "{\n",
    "    char a;      //1   \n",
    "    char b;      //8   \n",
    "    double c;    //8   \n",
    "    char d;      //7   \n",
    "    //最终应当分配8的整数倍个\n",
    "};\n",
    "\n",
    " \n",
    "int main(int argc, const char *argv[])\n",
    "{\n",
    "    struct D tt = {'a','b',100,'c'};\n",
    "    printf(\"int = %ld,  %ld\\n\",sizeof(int), sizeof(struct A));    \n",
    "    printf(\"short = %ld,  %ld\\n\",sizeof(short), sizeof(struct B));    \n",
    "    printf(\"double = %ld,  %ld\\n\",sizeof(double), sizeof(struct C));  \n",
    "    printf(\"double = %ld,  %ld\\n\",sizeof(double), sizeof(struct D));\n",
    "    printf(\"char a = %p, char b = %p, double c = %p, char d = %p\\n\",&(tt.a),&(tt.b),&(tt.c),&(tt.d));\n",
    "    return 0;\n",
    "}"
   ]
  },
  {
   "cell_type": "markdown",
   "id": "cf8c6648-2fff-4398-b9fa-c76420ce6866",
   "metadata": {},
   "source": [
    "# 位域"
   ]
  },
  {
   "cell_type": "markdown",
   "id": "fc39e47f-5624-4539-8a95-acd7f0d93ae2",
   "metadata": {},
   "source": [
    "实际开发中，有些信息只需要使用个别二进制位，如男女可以只用1和0表示  \n",
    "“位域”把一个字节中的二进制位分为几个不同的区域，并说明每个区域的位数  \n",
    "每个域有一个域名，允许在程序中按域名进行操作  \n",
    "这样就可以把几个不同的对象用一个字节的二进制位域来表示  "
   ]
  },
  {
   "cell_type": "markdown",
   "id": "b58a5cec-1d29-4299-854e-ca1b4e4cb500",
   "metadata": {},
   "source": [
    "位域的一般形式：  \n",
    "```\n",
    "struct 位域结构体名  \n",
    "{  \n",
    "    位域列表；  \n",
    "} ；\n",
    "```\n",
    "其中位域列表的形式为：  \n",
    "类型说明符 位域名：位域长度  "
   ]
  },
  {
   "cell_type": "markdown",
   "id": "399a4098-1caf-4ba1-8651-f4611d583333",
   "metadata": {},
   "source": [
    "## 位域的使用"
   ]
  },
  {
   "cell_type": "code",
   "execution_count": 2,
   "id": "5542d0fb-1454-49f7-a1f2-5f67dade6332",
   "metadata": {},
   "outputs": [
    {
     "name": "stdout",
     "output_type": "stream",
     "text": [
      "1\n",
      "1 2 3\n",
      "2 1 3\n",
      "3 1 2\n"
     ]
    }
   ],
   "source": [
    "#include <stdio.h>\n",
    " \n",
    "struct A\n",
    "{\n",
    "    unsigned char a:2;\n",
    "    unsigned char b:3;\n",
    "    unsigned char c:3;\n",
    "}t2 = {2, 3, 1};  //3.定义位域时定义变量\n",
    " \n",
    "int main(int argc, const char *argv[])\n",
    "{\n",
    "    printf(\"%ld\\n\",sizeof(struct A));\n",
    "    //1.先定义变量再赋值\n",
    "    struct A t;\n",
    "    t.a = 1;\n",
    "    t.b = 2;\n",
    "    t.c = 3;\n",
    " \n",
    "    printf(\"%d %d %d\\n\",t.a, t.b, t.c);\n",
    " \n",
    "    //2.定义变量时进行赋值\n",
    "    struct A t1 = {2, 1, 3};\n",
    "    printf(\"%d %d %d\\n\",t1.a, t1.b, t1.c);\n",
    " \n",
    "    t2.a = 3;\n",
    "    t2.b = 1;\n",
    "    t2.c = 2;\n",
    "    printf(\"%d %d %d\\n\",t2.a, t2.b, t2.c);\n",
    "    return 0;\n",
    "}"
   ]
  },
  {
   "cell_type": "markdown",
   "id": "b764f28e",
   "metadata": {},
   "source": [
    "位域的内存地址分配:  \n",
    "位域只使用1个字节的内存,把1个字节分成8个bit位  \n",
    "各成员具体值要考虑到能有多少空间可供使用,如果只分配2个bit,给成员赋值4就会报错"
   ]
  },
  {
   "cell_type": "code",
   "execution_count": 6,
   "id": "d52f7d83",
   "metadata": {},
   "outputs": [
    {
     "name": "stdout",
     "output_type": "stream",
     "text": [
      "unsigned char = 1, struct A = 1\n"
     ]
    }
   ],
   "source": [
    "#include <stdio.h>\n",
    " \n",
    "struct A\n",
    "{\n",
    "    unsigned char a:2;   //最后2个bit给a\n",
    "    unsigned char b:3;   //中间3个bit\n",
    "    unsigned char c:3;   //最前面的3个bit\n",
    "}t2 = {2, 3, 1};  //3.定义位域时定义变量 ,注意第一个成员写4就会出现定义错误\n",
    " \n",
    "int main(int argc, const char *argv[])\n",
    "{\n",
    "    //printf(\"char a = %p, char b = %p, char c = %p\\n\",&(t2.a),&(t2.b),&(t2.c));// 一个位域内不能对元素取地址\n",
    "    printf(\"unsigned char = %ld, struct A = %ld\\n\",sizeof(unsigned char),sizeof(struct A));\n",
    "    return 0;\n",
    "}\n"
   ]
  },
  {
   "cell_type": "markdown",
   "id": "bd9d2980-06a6-46c2-83a4-f3e49b932df7",
   "metadata": {},
   "source": [
    "# 共用体"
   ]
  },
  {
   "cell_type": "markdown",
   "id": "ba193388-bc82-4e06-ae07-26a9a7325cc3",
   "metadata": {},
   "source": [
    "## 共用体的应用场景"
   ]
  },
  {
   "cell_type": "markdown",
   "id": "47c4cc0c-93b3-423e-88e5-4fedef25b1c1",
   "metadata": {},
   "source": [
    "+ 通信时 :  \n",
    "如果不确定发送的包的格式，可以定义几种格式的包，收到包之后就可以直接根据包的格式取出数据。  \n",
    "```\n",
    "union Data\n",
    "{  \n",
    "    int i;  \n",
    "    float f;  \n",
    "    char str[9];  \n",
    "    double d;  \n",
    "}data;\n",
    "```  \n",
    "+ 数据比较大时：  \n",
    "不会同时使用，比如一个表示老师，一个表示学生，如果要统计教师和学生的情况用结构体的话就有点浪费了！\n",
    "用共用体的话，只占用最长的那个数据结构所占用的空间，就足够了！ -- 节省空间"
   ]
  },
  {
   "cell_type": "markdown",
   "id": "f07ed793-bfe9-4823-b0f2-55db341819e1",
   "metadata": {},
   "source": [
    "C 语言中，不同数据类型的数据可以使用共同的存储区域，这种数据构造类型称为共用体，简称共用，又称联合体  \n",
    "共用体在定义、说明和使用形式上与结构体相似。两者在本质上的不同仅在于使用内存的方式上  "
   ]
  },
  {
   "cell_type": "markdown",
   "id": "a964aae3-0509-4c0c-8c14-c7bca8011e3a",
   "metadata": {},
   "source": [
    "## 结构体的定义\n",
    "语法 :\n",
    "```\n",
    "union 共用体名  \n",
    "{  \n",
    "    共用体成员列表  \n",
    "};  \n",
    "```"
   ]
  },
  {
   "cell_type": "code",
   "execution_count": 3,
   "id": "1d3c6254-9e8c-4c2f-9987-590fe9b2d79a",
   "metadata": {},
   "outputs": [
    {
     "name": "stdout",
     "output_type": "stream",
     "text": [
      "num = 67 ,ch = C\n",
      "num = 1851877498 ,ch = z\n",
      "name = zhangsan, age = 18\n",
      "num = 69 ,ch = E\n"
     ]
    }
   ],
   "source": [
    "#include <stdio.h>\n",
    "struct person\n",
    "{\n",
    "    char name[16];\n",
    "    int age;\n",
    "    char sex;\n",
    "    char phone[12];\n",
    "};\n",
    " \n",
    "union un\n",
    "{\n",
    "    int num;\n",
    "    char ch;\n",
    "    struct person student;\n",
    "    struct person teacher;\n",
    "    //定义共用体时定义变量并赋值\n",
    "}u2 = {69};\n",
    " \n",
    "int main(int argc, const char *argv[])\n",
    "{\n",
    "    //1、定义完共用体变量再赋值\n",
    "    union un u;\n",
    "    u.num = 67;\n",
    "    printf(\"num = %d ,ch = %c\\n\",u.num, u.ch);\n",
    " \n",
    "    //2、定义共用体变量时赋值\n",
    "    union un u1 = {\n",
    "        .student.name = \"zhangsan\",\n",
    "        .student.age = 18,\n",
    "    };\n",
    "    printf(\"num = %d ,ch = %c\\n\",u1.num, u1.ch);\n",
    "    printf(\"name = %s, age = %d\\n\", u1.student.name, u1.student.age);\n",
    " \n",
    " \n",
    "    printf(\"num = %d ,ch = %c\\n\",u2.num, u2.ch);\n",
    " \n",
    "    return 0;\n",
    "}"
   ]
  },
  {
   "cell_type": "markdown",
   "id": "72f750bc-e9ce-4a07-b7b1-714b310e205c",
   "metadata": {},
   "source": [
    "## 共用体的大小"
   ]
  },
  {
   "cell_type": "code",
   "execution_count": 5,
   "id": "41caa8af-29ff-4a0d-ab9d-8eb47cc02ef8",
   "metadata": {},
   "outputs": [
    {
     "name": "stdout",
     "output_type": "stream",
     "text": [
      "8\n",
      "8\n",
      "7\n"
     ]
    }
   ],
   "source": [
    "#include <stdio.h>\n",
    " \n",
    "union un\n",
    "{\n",
    "    char a;     //1     \n",
    "    int b;      //4     \n",
    "    double c;   //8\n",
    "};\n",
    " \n",
    "union un1\n",
    "{\n",
    "    int a;          //4\n",
    "    char s[7];      //\n",
    "}; \n",
    " \n",
    "union un2\n",
    "{\n",
    "    char a;         //1\n",
    "    char s[7];      \n",
    "};\n",
    " \n",
    "int main(int argc, const char *argv[])\n",
    "{\n",
    "    printf(\"%ld\\n\",sizeof(union un));    \n",
    "    printf(\"%ld\\n\",sizeof(union un1));   \n",
    "    printf(\"%ld\\n\",sizeof(union un2));   \n",
    "    return 0;\n",
    "}"
   ]
  },
  {
   "cell_type": "markdown",
   "id": "6bba54e3-1391-409e-b536-6c8a00440f04",
   "metadata": {},
   "source": [
    "# 枚举"
   ]
  },
  {
   "cell_type": "markdown",
   "id": "4b5bd4f8-f22f-43af-b750-59e026d308e9",
   "metadata": {},
   "source": [
    "C 语言中构造类型之一  \n",
    "在开发中，有些变量只有几种可能的取值，比如：一周有七天、一年有四季、在枚举的定义中，会将变量一一列出来。  "
   ]
  },
  {
   "cell_type": "markdown",
   "id": "a27d0268-648a-4bba-b9fa-105dd72b059c",
   "metadata": {},
   "source": [
    "枚举的定义\n",
    "语法 : \n",
    "``` \n",
    "enum 枚举名  \n",
    "{  \n",
    "    枚举成员列表  \n",
    "};  \n",
    "```"
   ]
  },
  {
   "cell_type": "code",
   "execution_count": 7,
   "id": "3e768a82-48d2-4afd-9b14-080904fff0e9",
   "metadata": {},
   "outputs": [
    {
     "name": "stdout",
     "output_type": "stream",
     "text": [
      "2\n"
     ]
    }
   ],
   "source": [
    "#include <stdio.h>\n",
    "enum e\n",
    "{\n",
    "    one = 1,\n",
    "    two,\n",
    "    three = 1,\n",
    "    four,\n",
    "    five\n",
    "};\n",
    " \n",
    "enum en\n",
    "{\n",
    "    one1,\n",
    "    two1,\n",
    "    three1,\n",
    "};\n",
    " \n",
    "int main(int argc, const char *argv[])\n",
    "{\n",
    "    enum e t;\n",
    "    t = two;\n",
    "    printf(\"%d\\n\",t);\n",
    "    return 0;\n",
    "}"
   ]
  },
  {
   "cell_type": "markdown",
   "id": "7e663ca5-66c5-4e00-8e0b-a4c9cf3d255b",
   "metadata": {},
   "source": [
    "# typedef 关键字"
   ]
  },
  {
   "cell_type": "markdown",
   "id": "487bc14b-86dc-4815-b8d8-6d80168a7612",
   "metadata": {},
   "source": [
    "## typedef 关键字的作用\n",
    "typedef 是在计算机编程语言中用来为复杂的声明定义简单的别名  \n",
    "可以是内部数据类型也可以是自定义数据类型  \n",
    "给变量起一个易记且意义明确的新名字  \n",
    "简化一些比较复杂的类型声明  "
   ]
  },
  {
   "cell_type": "markdown",
   "id": "7fc499bd-2695-4eac-9d64-bb1431e766a8",
   "metadata": {},
   "source": [
    "基本语法：\n",
    "``` \n",
    "typedef < 已有数据类型 > < 新数据类型 >;  \n",
    "```\n",
    "如：  \n",
    "typedef int INTEGER;  \n",
    "这里新定义了数据类型 INTEGER, 其等价于 int  \n",
    "INTEGER i; <==> int i;  "
   ]
  },
  {
   "cell_type": "code",
   "execution_count": 9,
   "id": "b195f050-b829-4d9a-a6ba-c6042174fe99",
   "metadata": {},
   "outputs": [
    {
     "name": "stdout",
     "output_type": "stream",
     "text": [
      "num = 67 ,ch = C\n",
      "num = 1851877498 ,ch = z\n",
      "name = zhangsan, age = 18\n"
     ]
    }
   ],
   "source": [
    "#include <stdio.h>\n",
    "struct person\n",
    "{\n",
    "    char name[16];\n",
    "    int age;\n",
    "    char sex;\n",
    "    char phone[12];\n",
    "};\n",
    " \n",
    "typedef struct person p;\n",
    "typedef union un\n",
    "{\n",
    "    int num;\n",
    "    char ch;\n",
    "    p student;\n",
    "    p teacher;\n",
    "    //定义共用体时定义变量并赋值\n",
    "    //}u2 = {69};\n",
    "}a,* a_p;  //定义了一个结构体指针\n",
    "\n",
    "int main(int argc, const char *argv[])\n",
    "{\n",
    "    //1、定义完共用体变量再赋值\n",
    "    a u;\n",
    "    a_p p;  //等价于union un *p；\n",
    "    p = &u;\n",
    "    u.num = 67;\n",
    "    printf(\"num = %d ,ch = %c\\n\",p->num, p->ch);\n",
    " \n",
    "    //2、定义共用体变量时赋值\n",
    "    union un u1 = {\n",
    "        .student.name = \"zhangsan\",\n",
    "        .student.age = 18,\n",
    "    };\n",
    "    printf(\"num = %d ,ch = %c\\n\",u1.num, u1.ch);\n",
    "    printf(\"name = %s, age = %d\\n\", u1.student.name, u1.student.age);\n",
    " \n",
    " \n",
    "    //printf(\"num = %d ,ch = %c\\n\",u2.num, u2.ch);\n",
    " \n",
    "    return 0;\n",
    "}"
   ]
  }
 ],
 "metadata": {
  "kernelspec": {
   "display_name": "C",
   "language": "c",
   "name": "c"
  },
  "language_info": {
   "file_extension": ".c",
   "mimetype": "text/plain",
   "name": "c"
  }
 },
 "nbformat": 4,
 "nbformat_minor": 5
}

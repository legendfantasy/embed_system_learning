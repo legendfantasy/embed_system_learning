{
 "cells": [
  {
   "cell_type": "code",
   "execution_count": null,
   "metadata": {
    "vscode": {
     "languageId": "c"
    }
   },
   "outputs": [],
   "source": []
  },
  {
   "cell_type": "code",
   "execution_count": null,
   "metadata": {
    "vscode": {
     "languageId": "c"
    }
   },
   "outputs": [],
   "source": []
  },
  {
   "cell_type": "markdown",
   "metadata": {},
   "source": [
    "# 函数指针"
   ]
  },
  {
   "cell_type": "markdown",
   "metadata": {},
   "source": [
    "> 函数指针是什么？\n",
    "\n",
    "函数指针是一个`指针变量`，其指向的内存单元存放的是函数的地址。\n",
    "\n",
    "函数的地址就是函数的首地址\n",
    "\n",
    "> 如何在代码中表示一个函数指针？\n",
    "\n",
    "函数指针的声明格式：\n",
    "\n",
    "返回值类型 (*函数指针变量名)(形参列表);\n",
    "\n",
    "+ 函数指针变量名：指针变量名，用于存放函数的地址。\n",
    "+ 返回值类型：函数返回值的类型。\n",
    "+ 形参列表：函数参数列表，包括参数类型和参数个数。\n",
    "\n",
    "> 函数指针的赋值方法？\n",
    "\n",
    "函数指针的赋值方法有两种：\n",
    "1. 直接赋值：函数指针变量名 = 函数名;\n",
    "2. 间接赋值：函数指针变量名 = &函数名;\n",
    "\n",
    "> 函数指针的调用方法？\n",
    "\n",
    "函数指针的调用方法有两种：\n",
    "1. 直接调用：函数指针变量名(实参列表);\n",
    "2. 间接调用：(*函数指针变量名)(实参列表);\n",
    "\n",
    "> 函数指针的定义方法\n",
    "\n",
    "```c\n",
    "typedef 返回值类型 (*函数指针名)(形参列表);\n",
    "```\n",
    "这是给函数指针变量 [返回值类型 * （形参列表）] 起别名 ： 函数指针名"
   ]
  },
  {
   "cell_type": "code",
   "execution_count": null,
   "metadata": {
    "vscode": {
     "languageId": "c"
    }
   },
   "outputs": [],
   "source": [
    "#include <stdio.h>\n",
    "int inc(int a)\n",
    "{\n",
    "    return (++a);\n",
    "}\n",
    "int multi(int *a, int *b, int *c)  //操作的三个变量都是指针变量\n",
    "{\n",
    "    return (*c = *a++**b+++*a);  // *a++ * *b++ + *a  10*9+10=100,交给c所指内存单元，c=100\n",
    "}\n",
    "typedef int(*FUNC1)(int in); //int *(int) ---> FUNC1 \n",
    "typedef int(*FUNC2)(int*, int*, int*);  //int (*)(int*, int*, int*) ---> FUNC2\n",
    "void show(FUNC2 fun, int arg1, int *arg2)\n",
    "{\n",
    "    FUNC1 p = &inc;  //类型为int *(int)的函数指针变量，名称是p。放入的是inc函数的地址\n",
    "    int temp = p(arg1);  //函数指针变量名的调用，temp用于接收返回值，此例中temp为10\n",
    "    fun(&temp, &arg1, arg2);  //函数指针变量名调用，fun的参数是temp, arg1, arg2\n",
    "    //整型变量，整型变量，整型指针变量  ---- 10 9 &a\n",
    "    printf(\"%d\\n\", *arg2);\n",
    "}\n",
    "int main()\n",
    "{\n",
    "    int a;\n",
    "    show(multi, 9, &a);  //最终分析下来，show的功能是打印a的值\n",
    "    return 0;\n",
    "}\n"
   ]
  },
  {
   "cell_type": "code",
   "execution_count": null,
   "metadata": {
    "vscode": {
     "languageId": "c"
    }
   },
   "outputs": [
    {
     "name": "stdout",
     "output_type": "stream",
     "text": [
      "110\n"
     ]
    }
   ],
   "source": [
    "#include <stdio.h>\n",
    "int inc(int a)\n",
    "{ return(++a);}\n",
    "int multi(int*a,int*b,int*c)\n",
    "{  return(*c=*a**b);}\n",
    "typedef int(*FUNC1)(int in);\n",
    "typedef int(*FUNC2) (int*,int*,int*);\n",
    "void show(FUNC2 fun,int arg1, int*arg2)\n",
    "{\n",
    "    FUNC1 p = &inc;\n",
    "    int temp =p(arg1);\n",
    "    fun(&temp,&arg1, arg2);\n",
    "    printf(\"%d\\n\", *arg2);\n",
    "}\n",
    "int main()\n",
    "{\n",
    "    int a;\n",
    "    show(multi,10,&a);\n",
    "    return 0;\n",
    "}"
   ]
  },
  {
   "cell_type": "code",
   "execution_count": null,
   "metadata": {
    "vscode": {
     "languageId": "c"
    }
   },
   "outputs": [],
   "source": [
    "#include <stdio.h>\n",
    "struct date\n",
    "{\n",
    "    int year;\n",
    "    int month;\n",
    "};\n",
    "typedef struct \n",
    "{\n",
    "    struct date birth;  // 嵌套结构体\n",
    "    char name[20];\n",
    "}s;\n",
    "int main()\n",
    "{\n",
    "    s x[] =   //结构体数组\n",
    "    {\n",
    "        {1977, 8, \"Hangzhou\"},\n",
    "        {1975, 9, \"Beijing\"},\n",
    "        {1983, 12, \"Taiwan\"}\n",
    "    };\n",
    "    printf(\"%c,%d\", x[1].name[1], x[2].birth.year);\n",
    "    return 0;\n",
    "}"
   ]
  },
  {
   "cell_type": "markdown",
   "metadata": {},
   "source": [
    "操作系统中逻辑地址与物理地址的转换在分页存储管理系统中，逻辑地址长度为16位，页面大小为4096，现有一逻辑地址为3296H，且第0、1、2、3、4页依次存放在物理块0、3、7、8、9中，请问该逻辑地址对应的物理地址是多少？\n",
    "A. 8296H  \n",
    "B. 7296H\n",
    "C. 8392H\n",
    "D. 3296H"
   ]
  },
  {
   "cell_type": "markdown",
   "metadata": {},
   "source": [
    "设内存缓冲区中有4个页面（frame初始状态都为empty），按下列顺序从磁盘主取数据页（frame）放入内存缓冲区。若调试算法为LRU（Least Recently Used最近最少使用页面转换算法）进行调度，出现8次page miss的时候，4个页面的值分别为？\n",
    "frames invoking order: 1,2,3,4,2,1,5,6,2,1,2,3,7,6,3,2,1,2,3,,6(数字代表磁盘数据页编号)\n",
    "\n",
    "A. 2,1,5,6\n",
    "B. 1,2,3,6\n",
    "C. 1,2,3,7\n",
    "D. 2,1,2,3"
   ]
  },
  {
   "cell_type": "code",
   "execution_count": null,
   "metadata": {
    "vscode": {
     "languageId": "c"
    }
   },
   "outputs": [],
   "source": [
    "#include <stdio.h>\n",
    "int main()\n",
    "{\n",
    "    int a = 3;\n",
    "    int b = 4;\n",
    "    int c = 5;\n",
    "    \n",
    "    // if('a' && 'b')\n",
    "    // {\n",
    "    //     printf(\"A\\n\");\n",
    "    // }\n",
    "    // if(a++ <= b--)\n",
    "    // {\n",
    "    //     printf(\"B\\n\");\n",
    "    // }\n",
    "    // if(a||b+c && b-c)\n",
    "    // {\n",
    "    //     printf(\"C\\n\");\n",
    "    // }\n",
    "    if(!((a < b) && !!c))\n",
    "    {\n",
    "        printf(\"D\\n\");\n",
    "    }\n",
    "}"
   ]
  },
  {
   "cell_type": "code",
   "execution_count": null,
   "metadata": {
    "vscode": {
     "languageId": "c"
    }
   },
   "outputs": [],
   "source": [
    "typedef struct LNode\n",
    "{\n",
    "    int data;\n",
    "    struct LNode *next;\n",
    "};\n",
    "//参数 head 是一线性链表的头指针，若链表有结尾，结尾指针为NULL\n",
    "bool a(LNode *head)  //判断链表是否有环\n",
    "{\n",
    "    LNode *slow = head, *fast = head;\n",
    "    while (fast && slow)  //slow和fast都一直向链表尾部移动，fast移动两步，slow移动一步，直到fast和slow有一个为NULL\n",
    "    {\n",
    "        slow = slow->next;\n",
    "        if (fast->next == NULL)\n",
    "            fast = fast->next;\n",
    "        else\n",
    "            fast = fast->next->next;\n",
    "        if (slow == fast)  //fast和slow相遇时，说明链表有环\n",
    "            break;\n",
    "    }\n",
    "    return !(fast == NULL);  //函数退出时，fast为NULL，说明链表无环，返回false 如果fast不为NULL，说明链表有环，返回true\n",
    "}\n",
    "bool b(LNode *head)  //判断链表是否有环,但是检测完循环后并没有恢复链表\n",
    "{\n",
    "    // 使用Floyd的循环检测算法\n",
    "    LNode *t_head = head;\n",
    "    if(head == NULL)  //链表为空，无环\n",
    "        return false;\n",
    "    LNode *p1 = head;  //p1指向头结点，p2指向头结点的下一个节点\n",
    "    LNode *p2 = head->next;\n",
    "    LNode *p3 = NULL;  \n",
    "    t_head->next = NULL;    \n",
    "    while(p2 != NULL)  \n",
    "    {\n",
    "        if(p2 == t_head)\n",
    "            return true;\n",
    "        p3 = p2->next;\n",
    "        p2->next = p1;\n",
    "        p1 = p2;\n",
    "        p2 = p3;\n",
    "    }\n",
    "    return false;\n",
    "}"
   ]
  },
  {
   "cell_type": "code",
   "execution_count": null,
   "metadata": {
    "vscode": {
     "languageId": "c"
    }
   },
   "outputs": [],
   "source": [
    "#include <stdio.h>\n",
    "#define _CR(Record, TYPE, Field) \\ ( (TYPE *) ( (char *)(Record) - (char *) &( ((TYPE *)0)->Field) ) )  \n",
    "//先看懂宏定义是在干什么\n",
    "//  &（((TYPE *)0)->Field） 目的是得到Field在TYPE中的偏移地址，因为TYPE *0 得到的是0，所以偏移地址就是Field在TYPE中的偏移量\n",
    "//  (char *)(Record) - (char *) &( ((TYPE *)0)->Field) 目的是得到Record的成员在TYPE结构体中的偏移地址，也即求record所在的结构体的首地址\n",
    "typedef struct\n",
    "{\n",
    "    unsigned long ID;\n",
    "    char Name[20];\n",
    "    short Score;   // p记录了这个字段的地址，想要求得其所在结构体的首地址，则减去这个字段的偏移量即可，这个偏移由ID和Name两个字段的长度决定，这里为20+4=24个字节\n",
    "                   // 24个字节对应的地址为0x00000018，而p的地址为0x20001032，所以结构体首地址为0x20001032-0x00000018=0x2000101a\n",
    "}STUDENT_INFO;\n",
    "    \n",
    "STUDENT_INFO ClassInfo[5] = {\n",
    "    {14050049, \"Jack\", 97},\n",
    "    {14050031, \"Lily\", 85},\n",
    "    {14050068, \"Emily\", 78},\n",
    "    {14050025, \"Steve\", 72},\n",
    "    {14050076, \"Jay\", 61}\n",
    "};\n"
   ]
  },
  {
   "cell_type": "markdown",
   "metadata": {},
   "source": [
    "着重考查 对数据类型在内容中如何存储，以及数据类型在内存中的大小 等概念的理解\n",
    "32位操作系统中  \n",
    "char 1字节  \n",
    "short 2字节  \n",
    "int 4字节  \n",
    "float 4字节  \n",
    "double 8字节  \n",
    "long 4字节  \n",
    "long long 8字节  \n",
    "bool 1字节  \n",
    "pointer 4字节  \n",
    "结构体类型在内存中的存储方式是按照结构体中各个成员的顺序依次存储，如果成员之间存在空隙，则按照空隙的大小补齐，即按4字节对齐  "
   ]
  },
  {
   "cell_type": "code",
   "execution_count": null,
   "metadata": {
    "vscode": {
     "languageId": "c"
    }
   },
   "outputs": [],
   "source": [
    "void get_memory(char **p, int num)\n",
    "{\n",
    "    *p=(char *)malloc(num);\n",
    "}\n",
    "void test(void)\n",
    "{\n",
    "    char *str = NULL;\n",
    "    get_memory(6str,100)\n",
    "}"
   ]
  },
  {
   "cell_type": "code",
   "execution_count": 4,
   "metadata": {
    "vscode": {
     "languageId": "c"
    }
   },
   "outputs": [
    {
     "name": "stdout",
     "output_type": "stream",
     "text": [
      "HI world\n",
      "HI world\n"
     ]
    },
    {
     "name": "stderr",
     "output_type": "stream",
     "text": [
      "[C kernel] Executable exited with code 9"
     ]
    }
   ],
   "source": [
    "#include<stdio.h>\n",
    "#include<sys/types.h>\n",
    "#include<unistd.h>\n",
    "void main()\n",
    "{\n",
    "    pid_t pid;\n",
    "    pid = fork();\n",
    "    if(pid==0)\n",
    "    {\n",
    "        printf(\"HI world\\n\");\n",
    "    }\n",
    "    else if(pid>0)\n",
    "    {\n",
    "            printf(\"HI world\\n\");\n",
    "    }\n",
    "        else{\n",
    "            printf(\"MI world\\n\");\n",
    "    \n",
    "    }\n",
    "}"
   ]
  },
  {
   "cell_type": "code",
   "execution_count": null,
   "metadata": {
    "vscode": {
     "languageId": "c"
    }
   },
   "outputs": [],
   "source": [
    "void get_memory(char **p, int num)\n",
    "{\n",
    "    *p = (char *)malloc(num);\n",
    "}\n",
    "void test(void)\n",
    "{\n",
    "    char *str = NULL;\n",
    "    get_memory(6str, 100);\n",
    "    strcpy(str, \"hello world\");\n",
    "    printf(str);\n",
    "}"
   ]
  }
 ],
 "metadata": {
  "language_info": {
   "name": "python"
  }
 },
 "nbformat": 4,
 "nbformat_minor": 2
}

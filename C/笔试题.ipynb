{
 "cells": [
  {
   "cell_type": "markdown",
   "metadata": {},
   "source": [
    "1、若有8个待排序元素，采用冒泡排序和插入排序最大时间复杂度分别是（）。\n",
    "A. 24\n",
    "B. 64\n",
    "C. 64\n",
    "D. 16"
   ]
  },
  {
   "cell_type": "markdown",
   "metadata": {},
   "source": [
    "时间复杂度指的是"
   ]
  },
  {
   "cell_type": "markdown",
   "metadata": {},
   "source": [
    "2、下面程序中b的值是（）。\n"
   ]
  },
  {
   "cell_type": "code",
   "execution_count": null,
   "metadata": {
    "vscode": {
     "languageId": "c"
    }
   },
   "outputs": [],
   "source": [
    "int a[15] = { 1,2,3,4,5,6,7,8,9,10,11,12,13,14,15 };\n",
    "int *p = &a[5];\n",
    "int b = p[7];"
   ]
  },
  {
   "cell_type": "markdown",
   "metadata": {},
   "source": [
    "A. 14  \n",
    "B. 13  \n",
    "C. 11  \n",
    "D. 12  "
   ]
  },
  {
   "cell_type": "markdown",
   "metadata": {},
   "source": [
    "3、下列代码中数组data最终的数据是哪个（）"
   ]
  },
  {
   "cell_type": "code",
   "execution_count": null,
   "metadata": {
    "vscode": {
     "languageId": "c"
    }
   },
   "outputs": [],
   "source": [
    "#define MAX_DATA_SIZE (10)\n",
    "    \n",
    "int main()\n",
    "{\n",
    "    unsigned int i = 0;\n",
    "    unsigned char data[MAX_DATA_SIZE] = { 1,2,3,4,5,6,7,8,9,0 };\n",
    "    \n",
    "    memcpy(&data[2], data, MAX_DATA_SIZE / 2);\n",
    "    \n",
    "    return 0;\n",
    "}"
   ]
  },
  {
   "cell_type": "markdown",
   "metadata": {},
   "source": [
    "1234567890\n",
    "\n",
    "1212121890\n",
    "\n",
    "1212345890\n",
    "\n",
    "其他结果都不对\n"
   ]
  },
  {
   "cell_type": "markdown",
   "metadata": {},
   "source": [
    "4、下面哪个命令用来卸载一个内核模块？\n",
    "\n",
    "modprobe\n",
    "\n",
    "delmod\n",
    "\n",
    "unmod\n",
    "\n",
    "rmmod\n"
   ]
  },
  {
   "cell_type": "markdown",
   "metadata": {},
   "source": [
    "5、使用快速排序对n个数进行排序，其在最佳情况、平均情况、最差情况下的时间复杂度分别是（）。\n",
    "\n",
    "n、nlogn、nlogn\n",
    "\n",
    "nlogn、nlogn、n^2\n",
    "\n",
    "nlogn、nlogn、nlogn\n",
    "\n",
    "n、nlogn、n^2\n"
   ]
  },
  {
   "cell_type": "markdown",
   "metadata": {},
   "source": [
    "6、关于互斥锁的如下表述错误的是（）。\n",
    "\n",
    "互斥锁的加锁和解锁必须由同一线程分别对应使用\n",
    "\n",
    "互斥锁只能为0/1\n",
    "\n",
    "互斥锁的解锁过程不需要关心顺序，只需要成对使用即可\n",
    "\n",
    "互斥锁用于线程的互斥\n"
   ]
  },
  {
   "cell_type": "markdown",
   "metadata": {},
   "source": [
    "7、Linux在某目录下查找某字符串通常如下哪个指令？\n",
    "\n",
    "find\n",
    "\n",
    "grep\n",
    "\n",
    "cat\n",
    "\n",
    "其他都不对\n"
   ]
  },
  {
   "cell_type": "markdown",
   "metadata": {},
   "source": [
    "8、多个进程按照顺序逐一来访问某个资源，这种制约关系称之为（）。\n",
    "\n",
    "调度\n",
    "\n",
    "协同\n",
    "\n",
    "互斥\n",
    "\n",
    "同步\n"
   ]
  },
  {
   "cell_type": "markdown",
   "metadata": {},
   "source": [
    "9、支持多道程序的操作系统在运行过程中，不断地选择新进程运行来实现CPU的共享，但其中（）不是引起操作系统选择新进程的直接原因。\n",
    "\n",
    "运行进程要等待某一事件发生\n",
    "\n",
    "运行进程的时间片用完\n",
    "\n",
    "有新进程进入就绪状态\n",
    "\n",
    "运行进程出错\n"
   ]
  },
  {
   "cell_type": "markdown",
   "metadata": {},
   "source": [
    "10、（）是操作系统分配资源的基本单位。\n",
    "\n",
    "进程\n",
    "\n",
    "程序\n",
    "\n",
    "线程\n",
    "\n",
    "指令\n"
   ]
  },
  {
   "cell_type": "markdown",
   "metadata": {},
   "source": [
    "11、执行下述的main函数后，输出结果是多少？\n"
   ]
  },
  {
   "cell_type": "code",
   "execution_count": null,
   "metadata": {
    "vscode": {
     "languageId": "c"
    }
   },
   "outputs": [],
   "source": [
    "int main()\n",
    "{\n",
    "\tint i = 10;\n",
    "\t\n",
    "\tswitch(i) {\n",
    "\t\tcase 9:i++;\n",
    "\t\tcase 10:i++;\n",
    "\t\tcase 11:i++;\n",
    "\t\tdefault:i++;\n",
    "\t}\n",
    "\tprintf(\"result= %d\\n\", i);\n",
    "\t\n",
    "\treturn 0;\n",
    "}"
   ]
  },
  {
   "cell_type": "markdown",
   "metadata": {},
   "source": [
    "\n",
    "12\n",
    "\n",
    "13\n",
    "\n",
    "11\n",
    "\n",
    "14\n"
   ]
  },
  {
   "cell_type": "markdown",
   "metadata": {},
   "source": [
    "12、以下能对二维数组a进行完整初始化的语句是（）。\n",
    "\n",
    "int a[2][3]=((0,1,2),(3,4,5));\n",
    "\n",
    "int a[2][3]={{0,1,2},{3,4,5}};\n",
    "\n",
    "int a[2][3]={{0,1},{2,3},{4,5}};\n",
    "\n",
    "int a[2][3]={0,1,2,3,4};\n",
    "\n",
    "KEY：B\n"
   ]
  },
  {
   "cell_type": "markdown",
   "metadata": {},
   "source": [
    "13、下面程序的输出值，正确的是（）。\n"
   ]
  },
  {
   "cell_type": "code",
   "execution_count": null,
   "metadata": {
    "vscode": {
     "languageId": "c"
    }
   },
   "outputs": [],
   "source": [
    "#define CALC(x,y) x*y+x\n",
    "    \n",
    "int main()\n",
    "{\n",
    "    int a = CALC(2 * 3, 3 + 2);\n",
    "    printf(\"result= %d\\n\", a);\n",
    "    \n",
    "    return 0;\n",
    "}"
   ]
  },
  {
   "cell_type": "markdown",
   "metadata": {},
   "source": [
    "\n",
    "26\n",
    "\n",
    "30\n",
    "\n",
    "24\n",
    "\n",
    "36\n",
    "\n",
    "KEY：A\n"
   ]
  },
  {
   "cell_type": "markdown",
   "metadata": {},
   "source": [
    "14、下面程序的输出值，正确的是（）。\n"
   ]
  },
  {
   "cell_type": "code",
   "execution_count": null,
   "metadata": {
    "vscode": {
     "languageId": "c"
    }
   },
   "outputs": [],
   "source": [
    "\n",
    "void swap(int *a, int *b) {\n",
    "\tint *t;\n",
    "\tt = a;\n",
    "\ta = b;\n",
    "\tb = t;\n",
    "}\n",
    "\t\n",
    "int main()\n",
    "{\n",
    "\tint x = 1, y = 2;\n",
    "\tint *p = &x, *q = &y;\n",
    "\tswap(p, q);\n",
    "\tprintf(\"%d %d\\n\", *p, *q);\n",
    "\t\n",
    "\treturn 0;\n",
    "}\n"
   ]
  },
  {
   "cell_type": "markdown",
   "metadata": {},
   "source": [
    "\n",
    "1 1\n",
    "\n",
    "2 2\n",
    "\n",
    "1 2\n",
    "\n",
    "2 1\n",
    "\n",
    "KEY：C\n"
   ]
  },
  {
   "cell_type": "markdown",
   "metadata": {},
   "source": [
    "15、假如test指针的值为0x12345678，则表达式test_p[1]的指针地址值是多少？\n"
   ]
  },
  {
   "cell_type": "code",
   "execution_count": null,
   "metadata": {
    "vscode": {
     "languageId": "c"
    }
   },
   "outputs": [],
   "source": [
    "char test[8] = { 0x01,0x02, 0x03, 0x04, 0x05, 0x06, 0x07, 0x08 };\n",
    "int *test_p = (int*)test;"
   ]
  },
  {
   "cell_type": "markdown",
   "metadata": {},
   "source": [
    "\n",
    "0x12345678\n",
    "\n",
    "0x1234567C\n",
    "\n",
    "0x12345679\n",
    "\n",
    "0x1234567A\n",
    "\n",
    "KEY：B\n"
   ]
  },
  {
   "cell_type": "markdown",
   "metadata": {},
   "source": [
    "16、在C语言程序中，下面程序运行后，n的值是多少？\n"
   ]
  },
  {
   "cell_type": "code",
   "execution_count": null,
   "metadata": {
    "vscode": {
     "languageId": "c"
    }
   },
   "outputs": [],
   "source": [
    "\n",
    "int n = 0;\n",
    "int f = 17;\n",
    "n = 4 * f % 3 + 1;\n"
   ]
  },
  {
   "cell_type": "markdown",
   "metadata": {},
   "source": [
    "\n",
    "3\n",
    "\n",
    "9\n",
    "\n",
    "2\n",
    "\n",
    "0\n",
    "\n",
    "KEY：A\n"
   ]
  },
  {
   "cell_type": "markdown",
   "metadata": {},
   "source": [
    "17、下面那个操作可以将flag的bit[2]（假定bit[31...0]对应flag的32位）置0？\n",
    "\n",
    "flag|=4\n",
    "\n",
    "flag^=4\n",
    "\n",
    "flag&=~4\n",
    "\n",
    "flag|=~4\n",
    "\n",
    "KEY：C\n"
   ]
  },
  {
   "cell_type": "markdown",
   "metadata": {},
   "source": [
    "18、下面程序的运行结果为？\n"
   ]
  },
  {
   "cell_type": "code",
   "execution_count": null,
   "metadata": {
    "vscode": {
     "languageId": "c"
    }
   },
   "outputs": [],
   "source": [
    "\n",
    "#define TEST(a,b) a*b\n",
    "    \n",
    "int main()\n",
    "{\n",
    "    int a = TEST(1 + 2, 3);\n",
    "    printf(\"result= %d\\n\", a);\n",
    "    \n",
    "    return 0;\n",
    "}\n"
   ]
  },
  {
   "cell_type": "markdown",
   "metadata": {},
   "source": [
    "\n",
    "2\n",
    "\n",
    "3\n",
    "\n",
    "7\n",
    "\n",
    "9\n",
    "\n",
    "KEY：C\n"
   ]
  },
  {
   "cell_type": "code",
   "execution_count": null,
   "metadata": {
    "vscode": {
     "languageId": "c"
    }
   },
   "outputs": [],
   "source": []
  },
  {
   "cell_type": "code",
   "execution_count": null,
   "metadata": {},
   "outputs": [],
   "source": [
    "1. 设float a = 2, b = 4, c = 3, 以下c语言表达式与代数式(a+b)+c计算结果不一致的是：\n",
    "A. (a+b)*c/2"
   ]
  }
 ],
 "metadata": {
  "language_info": {
   "name": "python"
  }
 },
 "nbformat": 4,
 "nbformat_minor": 2
}

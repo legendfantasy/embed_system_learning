


































































































  MOV R1, #1
  MOV R2, R1
  MVN R0, #0xFF  @R0= ~0XFF





   MOV R2, #5
   MOV R3, #3
   ADD R1, R2, R3  @ R1=R2+R3
   ADD R1, R2, #5  @ R1=R2+5





   SUB R1, R2, R3  @ R1=R2-R3
   SUB R1, R2, #3  @ R1=R2-3





   RSB R1, R2, #3  @ R1=3-R2





   MUL R1, R2, R3  @ R1=R2*R3








   AND R1, R2, R3  @ R1=R2 & R3





    ORR R1, R2, R3  @ R1 = R2 | R3





    EOR R1, R2, R3  @ R1 = R2 ^ R3





    LSL R1, R2, R3  @ R1 = (R2 << R3)





    LSR R1, R2, R3 @ R1 = (R2 >> R3)





    MOV R2, #0xFF
    BIC R1, R2, #0x0F








MOV R2, #3
MOV R1, R2, LSL #1  @ R1 = (R2 << 1)  





@ 第一个数
0x00000001 FFFFFFFF
@ 第二个数
0x00000002 00000005

MOV R1, #0xFFFFFFFF
MOV R2, #0x00000001
MOV R3, #0x00000005
MOV R4, #0x00000002

ADDS R5, R1, R3  @ 使条件位中的进位为1
ADC  R6, R2, R4  @ 带进位的加法
@本质：R6 = R2 + R4 + 'C'





@ 第一个数
0x00000002 00000001
@ 第二个数
0x00000001 00000005

MOV R1, #0x00000001
MOV R2, #0x00000002
MOV R3, #0x00000005
MOV R4, #0x00000001

SUBS R5, R1, R3  @ 对进位产生影响
SBC  R6, R2, R4  @ 带借位的减法指令
@ 本质：R6 = R2 - R4 - '!C'








MAIN:    @ 主函数入口
		MOV R1, #1     @0x00
		MOV R2, #2     @0x04
		MOV R3, #3     @0x08
		MOV PC, #0x18  @0x0C
		MOV R4, #4     @0x10
		MOV R5, #5	   @0x14
FUNC:   @ 子函数入口
		MOV R6, #6     @0x18
		MOV R7, #7
		MOV R8, #8





MAIN:
		MOV R1, #1
		MOV R2, 基于深度学习的多模态语义分割算法研究#2
		MOV R3, #3
		B   FUNC        @ 用标号来跳转
		MOV R4, #4
		MOV R5, #5	
FUNC:
		MOV R6, #6
		MOV R7, #7
		MOV R8, 基于深度学习的多模态语义分割算法研究#8





MAIN:
		MOV R1, #1
		MOV R2, #2
		MOV R3, #3
		BL  FUNC      @ 影响（NZCV）来更改LR
		MOV R4, #4
		MOV R5, #5	
FUNC:
		MOV R6, #6
		MOV R7, #7
		MOV R8, #8
		MOV PC, LR
		@ 程序返回





    MOV R1, #1
	MOV R2, #2
	CMP R1, R2
	BEQ FUNC	
	@ 执行逻辑：if(EQ){B FUNC}	
	@ 本质：if(Z==1){B FUNC}
	BNE FUNC	
	@ 执行逻辑：if(NQ){B FUNC}	
	@ 本质：if(Z==0){B FUNC}
	MOV R3, #3
	MOV R4, #4
	MOV R5, #5
FUNC:
	MOV R6, #6
	MOV R7, #7

	@ ARM指令集中大多数指令都可以带条件码后缀
	MOV R1, #1
	MOV R2, #2
	CMP R1, R2
	MOVGT R3, #3





		MOV R1, #9
		MOV R2, #15
START:
		CMP R1,R2
		BEQ STOP
		SUBGT R1, R1, R2
		SUBLT R2, R2, R1
		B START
STOP:				
		B STOP











	MOV R1, #0xFF000000
	MOV R2, #0x40000000
	STR R1, [R2]         @ 地址需要放到[]里
	@ 将R1寄存器中的数据写入到R2指向的内存空间





	LDR R3, [R2]
	@ 将R2指向的内存空间中的数据读取到R3寄存器





	MOV R1, #0xFFFFFFFF
	MOV R2, #0x40000000
	STRB R1, [R2]    @ 只写一个字节
	@ 将R1寄存器中的数据的Bit[7:0]写入到R2指向的内存空间

	STRH R1, [R2] 	@ 写入半字
	@ 将R1寄存器中的数据的Bit[15:0]写入到R2指向的内存空间
	
	STR  R1, [R2] 	@ 写入一个字
	@ 将R1寄存器中的数据的Bit[31:0]写入到R2指向的内存空间
	
    @ LDR指令同样支持以上后缀








	@ 使用立即数
	MOV R1, #1
	ADD R1, R2, #1





	ADD R1, R2, R3





	MOV R1, R2, LSL #1  
	@ 先把R2和1 放入LSL硬件实现电路中





	STR R1, [R2] 		
	@ 将R2寄存器中的数据写入到R1指向的内存空间





	MOV R1, #0xFFFFFFFF
	MOV R2, #0x40000000
	MOV R3, #4
	STR R1, [R2,R3]
	@ 将R1寄存器中的数据写入到R2+R3指向的内存空间
	STR R1, [R2,R3,LSL #1]
	@ 将R1寄存器中的数据写入到R2+(R3<<1)指向的内存空间








	MOV R1, #0xFFFFFFFF
	MOV R2, #0x40000000
	STR R1, [R2,#8]
	@ 将R1寄存器中的数据写入到R2+8指向的内存空间





	MOV R1, #0xFFFFFFFF
	MOV R2, #0x40000000
	STR R1, [R2],#8
	@ 将R1寄存器中的数据写入到R2指向的内存空间,然后R2自增8





	MOV R1, #0xFFFFFFFF
	MOV R2, #0x40000000
	STR R1, [R2,#8]!
	@ 将R1寄存器中的数据写入到R2+8指向的内存空间,然后R2自增8








	MOV R1, #1
	MOV R2, #2
	MOV R3, #3
	MOV R4, #4
	MOV R11,#0x40000020

@ 多寄存器用花括号括起
	STM R11,{R1-R4}  
	@ 将R1-R4寄存器中的数据写入到以R11为起始地址的后4个地址的内存空间中
	LDM R11,{R6-R9}
	@ 将以R11为起始地址后4个地址的内存空间中的数据读取到R6-R9寄存器中
		
@ 当寄存器编号不连续时，使用逗号分隔
	STM R11,{R1,R2,R4}
@ 不管寄存器列表中的顺序如何，存取时永远是低地址对应小编号的寄存器
	STM R11,{R3,R1,R4,R2}
@ 自动索引照样适用于多寄存器内存访问指令
	STM R11!,{R1-R4}  @ R11自动更新成R4后一个地址





	MOV R1, #1
	MOV R2, #2
	MOV R3, #3
	MOV R4, #4
	MOV R11,#0x40000020

	STMIA R11!,{R1-R4}  @ increase after
	@ 先存储数据，后增长地址
	STMIB R11!,{R1-R4}  @ increase before
	@ 先增长地址，后存储数据
	STMDA R11!,{R1-R4}  @ decrease after
	@ 先存储数据，后递减地址
	STMDB R11!,{R1-R4}  @ decrease before
	@ 先递减地址，后存储数据















































	MOV R1, #1
	MOV R2, #2
	BL  func_c
	MOV R3, #3































{
 "cells": [
  {
   "cell_type": "markdown",
   "metadata": {},
   "source": [
    "# 什么是ARM？\n"
   ]
  },
  {
   "cell_type": "markdown",
   "metadata": {
    "vscode": {
     "languageId": "c"
    }
   },
   "source": [
    "一般语境中ARM有三种含义： \n",
    "一个公司的名称、一类处理器的通称、一种技术\n",
    "\n",
    "ARM的全称是Advanced RISC Machine \n",
    "高级精简指令集计算机，前身为Acorn RISC Machine \n",
    "\n",
    "> RISC 是指什么？\n",
    "1. RISC处理器\n",
    "RISC（Reduced Instruction Set Computer）是一种精简指令集计算机体系结构  \n",
    "只保留常用的的简单指令，硬件结构简单，复杂操作一般通过简单指令的组合实现，一般指令长度固定，且多为单周期指令  \n",
    "RISC处理器在功耗、体积、价格等方面有很大优势，所以在嵌入式移动终端领域应用极为广泛  \n",
    "\n",
    "\n",
    "2. CISC处理器\n",
    "CISC（Complex Instruction Set Computer）是一种复杂指令集计算机体系结构  \n",
    "不仅包含了常用指令，还包含了很多不常用的特殊指令，硬件结构复杂，指令条数较多，一般指令长度和周期都不固定    \n",
    "CISC处理器在性能上有很大优势，多用于PC及服务器等领域    \n",
    "\n",
    "\n",
    "> 什么是指令集？\n",
    "1. 指令  \n",
    "    能够指示处理器执行某种运算的命令称为指令（如加、减、乘 ...）\n",
    "    每一条指令都对应一条汇编\n",
    "    程序是指令的有序集合\n",
    "2. 指令集  \n",
    "    处理器能识别的指令的集合称为指令集\n",
    "    不同架构的处理器指令集不同\n",
    "    指令集是处理器对开发者提供的接口\n",
    "    \n",
    "    >> 大多数ARM处理器都支持两种指令集：  \n",
    "    1. ARM指令集  \n",
    "        所有指令（机器码）都占用32bit存储空间  \n",
    "        代码灵活度高、简化了解码复杂度  \n",
    "        执行ARM指令集时PC值每次自增4  \n",
    "    2. Thumb指令集  \n",
    "        所有指令（机器码）都占用16bit存储空间  \n",
    "        代码密度高、节省存储空间  \n",
    "        执行Thumb指令集时PC值每次自增2  \n",
    "        \n",
    "        >>> Thumb 这个名称的含义？\n",
    "\n",
    "        在ARM架构中，Thumb模式的设计目标是通过将指令长度从32位缩减为16位来提高代码密度。这种缩短的指令长度类似于大拇指较小的长度，因此Thumb即为对这种模式的称呼\n",
    "\n",
    "> 什么是SOC(System on Chip)？    \n",
    "\n",
    "即片上系统，将一个系统中所需要的全部部件集成在一个芯片中在体积、功耗、价格上有很大优势。"
   ]
  },
  {
   "cell_type": "markdown",
   "metadata": {},
   "source": [
    "# ARM 产品系列"
   ]
  },
  {
   "cell_type": "markdown",
   "metadata": {},
   "source": [
    "> ARM公司 \n",
    "   \n",
    "成立于1990年11月，前身为Acorn计算机公司    \n",
    "主要设计ARM系列RISC处理器内核    \n",
    "授权ARM内核给生产和销售半导体的合作伙伴，ARM公司并不生产芯片      \n",
    "提供基于ARM架构的开发设计技术软件工具、评估板、调试工具、应用软件、总线架构、外围设备单元等\n",
    "> ARM 处理器\n",
    "\n",
    "早先经典处理器  \n",
    "      包括ARM7、ARM9、ARM11家族  \n",
    "   Cortex-A系列  \n",
    "      针对开放式操作系统的高性能处理器  \n",
    "      应用于智能手机、数字电视、智能本等高端运用   \n",
    "   Cortex-R系列  \n",
    "      针对实时系统、满足实时性的控制需求  \n",
    "      应于汽车制动系统、动力系统等  \n",
    "   Cortex-M系列  \n",
    "      为单片机驱动的系统提供了低成本优化方案  \n",
    "      应用于传统的微控制器市场、智能传感器、汽车周边等    "
   ]
  },
  {
   "cell_type": "markdown",
   "metadata": {},
   "source": [
    "# ARM 存储模型"
   ]
  },
  {
   "cell_type": "markdown",
   "metadata": {},
   "source": [
    "## ARM数据类型\n"
   ]
  },
  {
   "cell_type": "markdown",
   "metadata": {},
   "source": [
    "ARM采用32位架构，基本数据类型有以下三种：     \n",
    "1. Byte-8bits    \n",
    "\n",
    "2. Halfword-16bits    \n",
    "\n",
    "3. Word-32bits  \n",
    "   \n",
    "![alt text](image-22.png)\n",
    "\n",
    "数据存储    \n",
    "\n",
    "Word型数据在内存的起始地址必须是4的整数倍    \n",
    "\n",
    "Halfword型数据在内存的起始地址必须是2的整数倍    \n",
    "\n",
    "注：即数据本身是多少位在内存存储时就应该多少位对齐"
   ]
  },
  {
   "cell_type": "markdown",
   "metadata": {},
   "source": [
    "\n",
    "## ARM字节序\n"
   ]
  },
  {
   "cell_type": "markdown",
   "metadata": {},
   "source": [
    "大端对齐    \n",
    "\n",
    "低地址存放高位，高地址存放低位     a = 0x12345678;  \n",
    "\n",
    "![alt text](image-23.png)\n",
    "\n",
    "小端对齐    \n",
    "\n",
    "低地址存放低位，高地址存放高位     a = 0x12345678;\n",
    "\n",
    "![alt text](image-24.png)\n",
    "\n",
    "注：ARM一般使用小端对齐\n",
    "\n"
   ]
  },
  {
   "cell_type": "markdown",
   "metadata": {},
   "source": [
    "\n",
    "## ARM指令存储"
   ]
  },
  {
   "cell_type": "markdown",
   "metadata": {},
   "source": [
    "处理器处于ARM状态时    \n",
    "\n",
    "所有指令在内存的起始地址必须是4的整数倍    \n",
    "\n",
    "PC值由其[31:2]决定，[1:0]位未定义  \n",
    "\n",
    "![alt text](image-25.png)\n",
    "\n",
    "处理器处于Thumb状态时    \n",
    "\n",
    "所有指令在内存的起始地址必须是2的整数倍    \n",
    "\n",
    "PC值由其[31:1]决定，[0]位未定义\n",
    "\n",
    "注：即指令本身是多少位在内存存储时就应该多少位对齐"
   ]
  },
  {
   "cell_type": "markdown",
   "metadata": {
    "vscode": {
     "languageId": "plaintext"
    }
   },
   "source": [
    "# ARM工作模式"
   ]
  },
  {
   "cell_type": "markdown",
   "metadata": {},
   "source": [
    "ARM有8个工作模式：   \n",
    "1. User(用户模式)\n",
    "   非特权模式，一般在执行上层的应用程序时ARM处于该模式\n",
    "2. FIQ(快速中断)\n",
    "   当一个高优先级中断产生后ARM将进入这种模式\n",
    "3. IRQ\n",
    "   当一个低优先级中断产生后ARM将进入这种模式\n",
    "4. SVC\t\n",
    "   当复位或执行软中断指令后ARM将进入这种模式\n",
    "5. Abort \t\n",
    "   当产生存取异常时ARM将进入这种模式\n",
    "6. Undef\t\n",
    "   当执行未定义的指令时ARM将进入这种模式\n",
    "7. System\t\n",
    "   使用和User模式相同寄存器集的特权模式\n",
    "8. Monitor\t\n",
    "   为了安全而扩展出的用于执行安全监控代码的模式"
   ]
  },
  {
   "cell_type": "markdown",
   "metadata": {},
   "source": [
    "# ARM 寄存器"
   ]
  },
  {
   "cell_type": "markdown",
   "metadata": {},
   "source": [
    "> 概念    \n",
    "\n",
    "寄存器是处理器内部的存储器，没有地址  \n",
    "\n",
    "> 作用    \n",
    "\n",
    "一般用于暂时存放参与运算的数据和运算结果  \n",
    "\n",
    "> 分类    \n",
    "\n",
    "通用寄存器、专用寄存器、控制寄存器"
   ]
  },
  {
   "cell_type": "markdown",
   "metadata": {},
   "source": [
    "## 通用寄存器\n"
   ]
  },
  {
   "cell_type": "markdown",
   "metadata": {},
   "source": [
    "\n",
    "![alt text](image-26.png)\n",
    "\n",
    "带三角：某模式下特有的，不带可通用。共40个寄存器。\n",
    "\n",
    "注：在某个特定模式下只能使用当前模式下的寄存器，一个模式下特有的寄存器其他模式下不可使用"
   ]
  },
  {
   "cell_type": "markdown",
   "metadata": {},
   "source": [
    "## 专用寄存器"
   ]
  },
  {
   "cell_type": "markdown",
   "metadata": {},
   "source": [
    "> R15(PC,Program Counter)    \n",
    "\n",
    "程序计数器，用于存储当前取址指令的地址  \n",
    "\n",
    "> R14(LR,Link Register)    \n",
    "\n",
    "链接寄存器，一般有以下两种用途：    \n",
    "\n",
    "执行跳转指令(BL/BLX)时，LR会自动保存跳转指令下一条指令的地址程序需要返回时将LR的值复制到PC即可实现    \n",
    "\n",
    "产生异常时，对应异常模式下的LR会自动保存被异常打断的指令的下一条指令的地址，异常处理结束后将LR的值复制到PC可实现程序返回  \n",
    "\n",
    "> R13(SP,Stack Pointer)    \n",
    "\n",
    "栈指针，用于存储当前模式下的栈顶地址"
   ]
  },
  {
   "cell_type": "markdown",
   "metadata": {},
   "source": [
    "## 控制寄存器"
   ]
  },
  {
   "cell_type": "markdown",
   "metadata": {},
   "source": [
    "> CPSR寄存器CPSR(Current Program Status Register)\n",
    "> \n",
    "当前程序状态寄存器，控制CPU的状态和模式，显示CPU内部运算的状态，有无进位等。\n",
    "\n",
    "![alt text](image-27.png)\n",
    "\n",
    "\n",
    "CPSR寄存器分为四个域\n",
    "\n",
    "[31:24]为条件域用F表示、[23:16]为状态域用S表示、[15:8]为预留域用X表示、[8:0]为控制域用C表示。\n",
    "\n",
    "> Bit[4:0]    \n",
    "\n",
    "[10000]User    \n",
    "[10001]FIQ     \n",
    "[10010]IRQ    \n",
    "[10011]SVC     \n",
    "[10111]Abort   \n",
    "[11011]Undef   \n",
    "[11111]System  \n",
    "[10110]Monitor  \n",
    "\n",
    "> Bit[5]\n",
    "     \n",
    "[0]ARM状态     \n",
    "\n",
    "[1]Thumb状态  \n",
    "\n",
    "> Bit[6]     \n",
    "\n",
    "[0]开启FIQ       \n",
    "\n",
    "[1]禁止FIQ  \n",
    "\n",
    "> Bit[7]    \n",
    "\n",
    "[0]开启IRQ       \n",
    "\n",
    "[1]禁止IRQ\n",
    "\n",
    "> Bit[28] V\n",
    "\n",
    "当运算器中进行加法运算且产生符号位进位时该位自动置1，否则为0    \n",
    "\n",
    "当运算器中进行减法运算且产生符号位借位时该位自动置0，否则为1  \n",
    "\n",
    "> Bit[29] C   \n",
    "\n",
    "当运算器中进行加法运算且产生进位时该位自动置1，否则为0    \n",
    "\n",
    "当运算器中进行减法运算且产生借位时该位自动置0，否则为1  \n",
    "\n",
    "> Bit[30] Z   \n",
    "\n",
    "当运算器中产生了0的结果该位自动置1，否则为0  \n",
    "\n",
    "> Bit[31] N   \n",
    "\n",
    "当运算器中产生了负数的结果该位自动置1，否则为0"
   ]
  },
  {
   "cell_type": "markdown",
   "metadata": {},
   "source": [
    "# ARM 异常处理"
   ]
  },
  {
   "cell_type": "markdown",
   "metadata": {},
   "source": [
    "> 异常概念\n",
    "\n",
    "处理器在正常执行程序的过程中可能会遇到一些不正常的事件发生，这时处理器就要将当前的程序暂停下来转而去处理这个异常的事件，异常事件处理完成之后再返回到被异常打断的点继续执行程序。\n",
    "\n",
    "> 异常处理机制    \n",
    "\n",
    "不同的处理器对异常的处理的流程大体相似，但是不同的处理器在具体实现的机制上有所不同；比如处理器遇到哪些事件认为是异常事件遇到异常事件之后处理器有哪些动作、处理器如何跳转到异常处理程序如何处理异常、处理完异常之后又如何返回到被打断的程序继续执行等我们将这些细节的实现称为处理器的异常处理机制。\n",
    "\n",
    "> ARM异常源\n",
    "\n",
    "导致异常产生的事件称为异常源\n",
    "\n",
    "FIQ         快速中断请求引脚有效     //一般由外部硬件产生        \n",
    "\n",
    "IRQ         外部中断请求引脚有效     //一般由外部硬件产生 \n",
    "\n",
    "Reset             复位电平有效    \n",
    "\n",
    "Software Interrupt          执行swi指令    //软中断，一般由软件产生 \n",
    "\n",
    "Data Abort                      数据终止    \n",
    "\n",
    "Prefetch Abort                指令预取终止    \n",
    "\n",
    "Undefined Instruction    遇到不能处理的指令\n",
    "\n",
    "注：模式是模式，异常源是异常源\n",
    "\n",
    "> ARM异常模式\n",
    "\n",
    "在ARM的基本工作模式中有5个属于异常模式，即ARM遇到异常后会切换成对应的异常模式。\n",
    "\n",
    "![alt text](image-35.png)\n",
    "\n",
    "> ARM产生异常后的动作（自动完成）\n",
    "\n",
    "1.拷贝CPSR中的内容到对应异常模式下的SPSR_<mode>          //保存模式，返回时恢复状态\n",
    "\n",
    "2.修改CPSR的值     \n",
    "\n",
    "    2.1.修改中断禁止位禁止相应的中断     \n",
    "\n",
    "    2.2.修改模式位进入相应的异常模式        \n",
    "\n",
    "    2.3.修改状态位进入ARM状态    \n",
    "\n",
    "3.保存返回地址到对应异常模式下的LR_<mode>    \n",
    "\n",
    "4.设置PC为相应的异常向量（异常向量表对应的地址）\n",
    "\n",
    "> 异常向量表    \n",
    "\n",
    "异常向量表的本质是内存中的一段代码    \n",
    "\n",
    "表中为每个异常源分配了四个字节的存储空间    \n",
    "\n",
    "遇到异常后处理器自动将PC修改为对应的地址    \n",
    "\n",
    "因为异常向量表空间有限一般我们不会再这里，写异常处理程序，而是在对应的位置写一条跳       转指令使其跳转到指定的异常处理程序的入口    \n",
    "\n",
    "注：ARM的异常向量表的基地址默认在0x00地址，但可以通过配置协处理器来修改其地址\n",
    "\n",
    "![alt text](image-36.png)\n",
    "\n",
    "> ARM异常返回的动作（自己编写）    \n",
    "\n",
    "1.将SPSR_<mode>的值复制给CPSR      \n",
    "\n",
    "使处理器恢复之前的状态                        \n",
    "\n",
    "2.将LR_<mode>的值复制给PC      \n",
    "\n",
    "使程序跳转回被打断的地址继续执行\n",
    "\n",
    ">IRQ异常举例\n",
    "\n",
    "![alt text](image-37.png)\n",
    "\n",
    "整个过程CPSR保存的永远是当前程序运行状态，SPSR只是异常时对原来的CPSR进行备份\n",
    "\n",
    "> 异常优先级\n",
    "\n",
    "多个异常同时产生时的服务顺序(优先级由高到低)    \n",
    "\n",
    "Reset    \n",
    "\n",
    "Data Abort    \n",
    "\n",
    "FIQ    \n",
    "\n",
    "IRQ    \n",
    "\n",
    "Prefetch Abort    \n",
    "\n",
    "Software Interrupt    \n",
    "\n",
    "Undefined instruction\n",
    "\n",
    ">> FIQ的响应速度比IRQ快    \n",
    "\n",
    "1. FIQ在异常向量表位于最末        \n",
    "\n",
    "    可直接把异常处理写在异常向量表之后，省去跳转    \n",
    "\n",
    "2. FIQ模式有5个私有寄存器(R8-R12)     \n",
    "\n",
    "    执行中断处理程序前无需压栈保存寄存器，可直接处理中断    \n",
    "\n",
    "3. FIQ的优先级高于IRQ     \n",
    "\n",
    "    3.1 两个中断同时发生时先响应FIQ     \n",
    "\n",
    "    3.2 FIQ可以打断RIQ，但RIQ不能打断FIQ"
   ]
  },
  {
   "cell_type": "markdown",
   "metadata": {},
   "source": [
    "# 汇编语言"
   ]
  },
  {
   "cell_type": "markdown",
   "metadata": {},
   "source": [
    "## 汇编中的符号\n"
   ]
  },
  {
   "cell_type": "markdown",
   "metadata": {},
   "source": [
    "\n",
    "1. 指令  \n",
    "   能够编译成一条32位的机器码，且能够被CPU识别和执行A\n",
    "   程序每执行一步，PC的值就增加4，32位4个字节\n",
    "2. 伪指令  \n",
    "   本身还是指令，编译器可以将其替换成若干条等效指令\n",
    "3. 伪操作  \n",
    "   不会生成代码，只是在编译之前告诉编译器怎么编译"
   ]
  },
  {
   "cell_type": "markdown",
   "metadata": {},
   "source": [
    "汇编中使用@符号来写注释  \n",
    "`.text`  表示当前段为代码段    \n",
    "`.global _start` 声明_start为全局符号  \n",
    "`_start:` 汇编程序的入口   "
   ]
  },
  {
   "cell_type": "markdown",
   "metadata": {},
   "source": [
    "## ARM指令"
   ]
  },
  {
   "cell_type": "markdown",
   "metadata": {},
   "source": [
    "### ARM指令的种类\n"
   ]
  },
  {
   "cell_type": "markdown",
   "metadata": {},
   "source": [
    "\n",
    "1. 数据处理指令  \n",
    "   数学运算、逻辑运算\n",
    "2. 跳转指令  \n",
    "   实现程序的跳转，本质是修改了PC寄存器的\n",
    "3. Load/Store 指令  \n",
    "   访问/读写内存  \n",
    "4. 状态寄存器传送指令  \n",
    "   访问/读写CPSR寄存器\n",
    "5. 软中断指令  \n",
    "   触发软中断异常  \n",
    "6. 协处理指令  \n",
    "   操控协处理器的指令"
   ]
  },
  {
   "cell_type": "markdown",
   "metadata": {},
   "source": [
    "### 数据处理指令：数学运算、逻辑运算"
   ]
  },
  {
   "cell_type": "markdown",
   "metadata": {},
   "source": [
    "> 立即数\n",
    "\n",
    "什么是“立即数”?  \n",
    "\n",
    "立即数的本质就是包含在指令中的数，属于指令的一部分  \n",
    "\n",
    "立即数的优点：取指的时候就可以将其读取到CPU，是指令的一部分，不用单独去内存读取，速度快  \n",
    "\n",
    "立即数的缺点：不能是任意的32位数字，有局限性。指令和寄存器都要占用32位的一部分   \n",
    "\n",
    "使用`MOV R1 0xFFFFFFFF` 按道理不能生成一个32位的机器码，却可以编译，这是因为编译器会将这个指令等效为 `MVN R1 0x00000000` 这个指令就可以编译成32位的机器码 \n"
   ]
  },
  {
   "cell_type": "markdown",
   "metadata": {},
   "source": [
    "> 数据搬移指令\n",
    " \n",
    "   `MOV` ： 将数据搬到指定的寄存器\n",
    "   \n",
    "   `MVN` ： 将数据按位取反再搬到指定寄存器\n",
    "Note：\n",
    "   1. PC寄存器的后俩位没有定义为0，PC的值必须是4的整数倍4（100），8（1000），12（1100），16（11000）\n",
    "   2. 虽然使用相同的指令，但编译成的机器码是不同的"
   ]
  },
  {
   "cell_type": "code",
   "execution_count": null,
   "metadata": {
    "vscode": {
     "languageId": "plaintext"
    }
   },
   "outputs": [],
   "source": [
    "  MOV R1, #1\n",
    "  MOV R2, R1\n",
    "  MVN R0, #0xFF  @R0= ~0XFF"
   ]
  },
  {
   "cell_type": "markdown",
   "metadata": {},
   "source": [
    "> 数据运算指令\n",
    "\n",
    "数据运算指令的基本格式：  \n",
    "    「操作码」 「目标寄存器」 「第一操作寄存器」 「第二操作数」  \n",
    "    「操作码」 ： 指示执行哪种运算  \n",
    "    「目标寄存器」 ： 存储运算结果  \n",
    "    「第一操作寄存器」 ： 第一个参与运算的数据（只能是寄存器）  \n",
    "    「第二操作寄存器」 ： 第二个参与运算的数据（可以是寄存器或立即数  \n",
    "\n",
    ">> 1. 加法指令"
   ]
  },
  {
   "cell_type": "code",
   "execution_count": null,
   "metadata": {
    "vscode": {
     "languageId": "plaintext"
    }
   },
   "outputs": [],
   "source": [
    "   MOV R2, #5\n",
    "   MOV R3, #3\n",
    "   ADD R1, R2, R3  @ R1=R2+R3\n",
    "   ADD R1, R2, #5  @ R1=R2+5"
   ]
  },
  {
   "cell_type": "markdown",
   "metadata": {},
   "source": [
    ">> 2. 减法指令"
   ]
  },
  {
   "cell_type": "code",
   "execution_count": null,
   "metadata": {
    "vscode": {
     "languageId": "plaintext"
    }
   },
   "outputs": [],
   "source": [
    "   SUB R1, R2, R3  @ R1=R2-R3\n",
    "   SUB R1, R2, #3  @ R1=R2-3"
   ]
  },
  {
   "cell_type": "markdown",
   "metadata": {},
   "source": [
    ">> 3. 逆向减法指令"
   ]
  },
  {
   "cell_type": "code",
   "execution_count": null,
   "metadata": {
    "vscode": {
     "languageId": "plaintext"
    }
   },
   "outputs": [],
   "source": [
    "   RSB R1, R2, #3  @ R1=3-R2"
   ]
  },
  {
   "cell_type": "markdown",
   "metadata": {},
   "source": [
    ">> 4. 乘法指令"
   ]
  },
  {
   "cell_type": "code",
   "execution_count": null,
   "metadata": {
    "vscode": {
     "languageId": "plaintext"
    }
   },
   "outputs": [],
   "source": [
    "   MUL R1, R2, R3  @ R1=R2*R3"
   ]
  },
  {
   "cell_type": "markdown",
   "metadata": {},
   "source": [
    " 乘法指令只能是两个寄存器相乘"
   ]
  },
  {
   "cell_type": "markdown",
   "metadata": {},
   "source": [
    ">> 5. 按位与指令"
   ]
  },
  {
   "cell_type": "code",
   "execution_count": null,
   "metadata": {
    "vscode": {
     "languageId": "plaintext"
    }
   },
   "outputs": [],
   "source": [
    "   AND R1, R2, R3  @ R1=R2 & R3"
   ]
  },
  {
   "cell_type": "markdown",
   "metadata": {},
   "source": [
    ">> 6. 按位或指令"
   ]
  },
  {
   "cell_type": "code",
   "execution_count": null,
   "metadata": {
    "vscode": {
     "languageId": "plaintext"
    }
   },
   "outputs": [],
   "source": [
    "    ORR R1, R2, R3  @ R1 = R2 | R3"
   ]
  },
  {
   "cell_type": "markdown",
   "metadata": {},
   "source": [
    ">> 7. 按位异或指令"
   ]
  },
  {
   "cell_type": "code",
   "execution_count": null,
   "metadata": {
    "vscode": {
     "languageId": "plaintext"
    }
   },
   "outputs": [],
   "source": [
    "    EOR R1, R2, R3  @ R1 = R2 ^ R3"
   ]
  },
  {
   "cell_type": "markdown",
   "metadata": {},
   "source": [
    ">> 8. 左移指令"
   ]
  },
  {
   "cell_type": "code",
   "execution_count": null,
   "metadata": {
    "vscode": {
     "languageId": "plaintext"
    }
   },
   "outputs": [],
   "source": [
    "    LSL R1, R2, R3  @ R1 = (R2 << R3)"
   ]
  },
  {
   "cell_type": "markdown",
   "metadata": {},
   "source": [
    ">> 9. 右移指令"
   ]
  },
  {
   "cell_type": "code",
   "execution_count": null,
   "metadata": {
    "vscode": {
     "languageId": "plaintext"
    }
   },
   "outputs": [],
   "source": [
    "    LSR R1, R2, R3 @ R1 = (R2 >> R3)"
   ]
  },
  {
   "cell_type": "markdown",
   "metadata": {},
   "source": [
    ">> 10. 位清零指令\n"
   ]
  },
  {
   "cell_type": "code",
   "execution_count": null,
   "metadata": {
    "vscode": {
     "languageId": "plaintext"
    }
   },
   "outputs": [],
   "source": [
    "    MOV R2, #0xFF\n",
    "    BIC R1, R2, #0x0F"
   ]
  },
  {
   "cell_type": "markdown",
   "metadata": {},
   "source": [
    "第二操作数中的哪一位为1，就将第一操作寄存器的中哪一位清零，然后将结果写入目标寄存器\t\t"
   ]
  },
  {
   "cell_type": "markdown",
   "metadata": {},
   "source": [
    ">>11.  格式扩展"
   ]
  },
  {
   "cell_type": "code",
   "execution_count": null,
   "metadata": {
    "vscode": {
     "languageId": "plaintext"
    }
   },
   "outputs": [],
   "source": [
    "MOV R2, #3\n",
    "MOV R1, R2, LSL #1  @ R1 = (R2 << 1)  "
   ]
  },
  {
   "cell_type": "markdown",
   "metadata": {},
   "source": [
    "> CSPR寄存器\n",
    "\n",
    ">> 1. 数据运算指令对条件位（N、Z、C、V）的影响\n",
    "   \n",
    "   默认情况下数据运算不会对条件位产生影响，在指令后加后缀”S“才可以影响  \n",
    "\n",
    ">> 2. 实现对两个64位数据作加法运算\n",
    "   \n",
    "   带进位的加法指令  \n",
    "   两个64位的数据做加法运算  \n",
    "   第一个数的低32位放在R1  \n",
    "   第一个数的高32位放在R2  \n",
    "   第二个数的低32位放在R3  \n",
    "   第二个数的高32位放在R4  \n",
    "   运算结果的低32位放在R5  \n",
    "   运算结果的高32位放在R6  "
   ]
  },
  {
   "cell_type": "code",
   "execution_count": null,
   "metadata": {
    "vscode": {
     "languageId": "plaintext"
    }
   },
   "outputs": [],
   "source": [
    "@ 第一个数\n",
    "0x00000001 FFFFFFFF\n",
    "@ 第二个数\n",
    "0x00000002 00000005\n",
    "\n",
    "MOV R1, #0xFFFFFFFF\n",
    "MOV R2, #0x00000001\n",
    "MOV R3, #0x00000005\n",
    "MOV R4, #0x00000002\n",
    "\n",
    "ADDS R5, R1, R3  @ 使条件位中的进位为1\n",
    "ADC  R6, R2, R4  @ 带进位的加法\n",
    "@本质：R6 = R2 + R4 + 'C'"
   ]
  },
  {
   "cell_type": "markdown",
   "metadata": {},
   "source": [
    ">> 3. 带借位的减法指令\n"
   ]
  },
  {
   "cell_type": "code",
   "execution_count": null,
   "metadata": {
    "vscode": {
     "languageId": "plaintext"
    }
   },
   "outputs": [],
   "source": [
    "@ 第一个数\n",
    "0x00000002 00000001\n",
    "@ 第二个数\n",
    "0x00000001 00000005\n",
    "\n",
    "MOV R1, #0x00000001\n",
    "MOV R2, #0x00000002\n",
    "MOV R3, #0x00000005\n",
    "MOV R4, #0x00000001\n",
    "\n",
    "SUBS R5, R1, R3  @ 对进位产生影响\n",
    "SBC  R6, R2, R4  @ 带借位的减法指令\n",
    "@ 本质：R6 = R2 - R4 - '!C'"
   ]
  },
  {
   "cell_type": "markdown",
   "metadata": {},
   "source": [
    "### 跳转指令 : 实现程序的跳转，本质就是修改了PC寄存器"
   ]
  },
  {
   "cell_type": "markdown",
   "metadata": {},
   "source": [
    "> 方式一 ： 直接修改PC寄存器的值（不建议使用，需要自己计算目标指令的绝对地址）"
   ]
  },
  {
   "cell_type": "code",
   "execution_count": null,
   "metadata": {
    "vscode": {
     "languageId": "plaintext"
    }
   },
   "outputs": [],
   "source": [
    "MAIN:    @ 主函数入口\n",
    "\t\tMOV R1, #1     @0x00\n",
    "\t\tMOV R2, #2     @0x04\n",
    "\t\tMOV R3, #3     @0x08\n",
    "\t\tMOV PC, #0x18  @0x0C\n",
    "\t\tMOV R4, #4     @0x10\n",
    "\t\tMOV R5, #5\t   @0x14\n",
    "FUNC:   @ 子函数入口\n",
    "\t\tMOV R6, #6     @0x18\n",
    "\t\tMOV R7, #7\n",
    "\t\tMOV R8, #8"
   ]
  },
  {
   "cell_type": "markdown",
   "metadata": {},
   "source": [
    "> 方式二 ：不带返回的跳转指令，本质就是将PC寄存器的值修改成跳转标号下指令的地址"
   ]
  },
  {
   "cell_type": "code",
   "execution_count": null,
   "metadata": {
    "vscode": {
     "languageId": "plaintext"
    }
   },
   "outputs": [],
   "source": [
    "MAIN:\n",
    "\t\tMOV R1, #1\n",
    "\t\tMOV R2, 基于深度学习的多模态语义分割算法研究#2\n",
    "\t\tMOV R3, #3\n",
    "\t\tB   FUNC        @ 用标号来跳转\n",
    "\t\tMOV R4, #4\n",
    "\t\tMOV R5, #5\t\n",
    "FUNC:\n",
    "\t\tMOV R6, #6\n",
    "\t\tMOV R7, #7\n",
    "\t\tMOV R8, 基于深度学习的多模态语义分割算法研究#8"
   ]
  },
  {
   "cell_type": "markdown",
   "metadata": {},
   "source": [
    "> 方式三 ： 带反回的跳转指令 ： 本质就是将PC寄存器的值修改成跳转标号下指令的地址，同时将跳转指令下一条指令的地址存储到LR寄存器"
   ]
  },
  {
   "cell_type": "code",
   "execution_count": null,
   "metadata": {
    "vscode": {
     "languageId": "plaintext"
    }
   },
   "outputs": [],
   "source": [
    "MAIN:\n",
    "\t\tMOV R1, #1\n",
    "\t\tMOV R2, #2\n",
    "\t\tMOV R3, #3\n",
    "\t\tBL  FUNC      @ 影响（NZCV）来更改LR\n",
    "\t\tMOV R4, #4\n",
    "\t\tMOV R5, #5\t\n",
    "FUNC:\n",
    "\t\tMOV R6, #6\n",
    "\t\tMOV R7, #7\n",
    "\t\tMOV R8, #8\n",
    "\t\tMOV PC, LR\n",
    "\t\t@ 程序返回"
   ]
  },
  {
   "cell_type": "markdown",
   "metadata": {},
   "source": [
    "> ARM指令的条件码\n",
    "\n",
    ">> 1. 比较指令  CMP\n",
    "\n",
    "CMP指令的本质就是一条减法指令（SUBS），只是没有将运算结果存入目标寄存器\n",
    "\n",
    "计算 R1 - R2 检查 N Z C V\n",
    "``` \n",
    "\t==     \tZ = 1  \n",
    "\t!=     \tZ = 0  \n",
    "\t\\<     \tC = 0  \n",
    "\t\\<=    \tC = 0 或 Z = 1  \n",
    "\t\\>      C = 1 且 Z = 0  \n",
    "\t\\>=     C = 1\n",
    "```\n",
    ">> 2. 条件码 ： 指令的后缀\n",
    "   \n",
    "   ![alt text](image-7.png)\n"
   ]
  },
  {
   "cell_type": "code",
   "execution_count": null,
   "metadata": {
    "vscode": {
     "languageId": "plaintext"
    }
   },
   "outputs": [],
   "source": [
    "    MOV R1, #1\n",
    "\tMOV R2, #2\n",
    "\tCMP R1, R2\n",
    "\tBEQ FUNC\t\n",
    "\t@ 执行逻辑：if(EQ){B FUNC}\t\n",
    "\t@ 本质：if(Z==1){B FUNC}\n",
    "\tBNE FUNC\t\n",
    "\t@ 执行逻辑：if(NQ){B FUNC}\t\n",
    "\t@ 本质：if(Z==0){B FUNC}\n",
    "\tMOV R3, #3\n",
    "\tMOV R4, #4\n",
    "\tMOV R5, #5\n",
    "FUNC:\n",
    "\tMOV R6, #6\n",
    "\tMOV R7, #7\n",
    "\n",
    "\t@ ARM指令集中大多数指令都可以带条件码后缀\n",
    "\tMOV R1, #1\n",
    "\tMOV R2, #2\n",
    "\tCMP R1, R2\n",
    "\tMOVGT R3, #3"
   ]
  },
  {
   "cell_type": "markdown",
   "metadata": {},
   "source": [
    ">> 3. 练习：用汇编语言实现以下逻辑\n",
    "\n",
    "```c\n",
    "\tint R1 = 9;\n",
    "\tint R2 = 15;\n",
    "\tSTART:\n",
    "\t\tif(R1 == R2)\n",
    "\t\t{\n",
    "\t\t\tSTOP();\n",
    "\t\t}\n",
    "\t\telse if(R1 > R2)\n",
    "\t\t{\t\t\t\n",
    "\t\t\tR1 = R1 - R2;\n",
    "\t\t\tgoto START;\n",
    "\t\t}\n",
    "\t\telse\n",
    "\t\t{\n",
    "\t\t\tR2 = R2 - R1;\n",
    "\t\t\tgoto START;\n",
    "\t\t}\n",
    "```\n",
    "\t\t\n",
    "练习答案 :\n"
   ]
  },
  {
   "cell_type": "code",
   "execution_count": null,
   "metadata": {
    "vscode": {
     "languageId": "plaintext"
    }
   },
   "outputs": [],
   "source": [
    "\t\tMOV R1, #9\n",
    "\t\tMOV R2, #15\n",
    "START:\n",
    "\t\tCMP R1,R2\n",
    "\t\tBEQ STOP\n",
    "\t\tSUBGT R1, R1, R2\n",
    "\t\tSUBLT R2, R2, R1\n",
    "\t\tB START\n",
    "STOP:\t\t\t\t\n",
    "\t\tB STOP"
   ]
  },
  {
   "cell_type": "markdown",
   "metadata": {},
   "source": [
    "### 内存访问指令 Load/Srore指令:访问（读写）内存 访问CPU外的数据"
   ]
  },
  {
   "cell_type": "markdown",
   "metadata": {},
   "source": [
    "> 读写内存指令\n",
    "\n",
    "LD* 读内存  \n",
    "ST* 写内存  \n"
   ]
  },
  {
   "cell_type": "markdown",
   "metadata": {},
   "source": [
    "> 写内存 "
   ]
  },
  {
   "cell_type": "code",
   "execution_count": null,
   "metadata": {
    "vscode": {
     "languageId": "plaintext"
    }
   },
   "outputs": [],
   "source": [
    "\tMOV R1, #0xFF000000\n",
    "\tMOV R2, #0x40000000\n",
    "\tSTR R1, [R2]         @ 地址需要放到[]里\n",
    "\t@ 将R1寄存器中的数据写入到R2指向的内存空间"
   ]
  },
  {
   "cell_type": "markdown",
   "metadata": {},
   "source": [
    "> 读内存\n"
   ]
  },
  {
   "cell_type": "code",
   "execution_count": null,
   "metadata": {
    "vscode": {
     "languageId": "plaintext"
    }
   },
   "outputs": [],
   "source": [
    "\tLDR R3, [R2]\n",
    "\t@ 将R2指向的内存空间中的数据读取到R3寄存器"
   ]
  },
  {
   "cell_type": "markdown",
   "metadata": {},
   "source": [
    "> 读/写指定的数据类型"
   ]
  },
  {
   "cell_type": "code",
   "execution_count": null,
   "metadata": {
    "vscode": {
     "languageId": "plaintext"
    }
   },
   "outputs": [],
   "source": [
    "\tMOV R1, #0xFFFFFFFF\n",
    "\tMOV R2, #0x40000000\n",
    "\tSTRB R1, [R2]    @ 只写一个字节\n",
    "\t@ 将R1寄存器中的数据的Bit[7:0]写入到R2指向的内存空间\n",
    "\n",
    "\tSTRH R1, [R2] \t@ 写入半字\n",
    "\t@ 将R1寄存器中的数据的Bit[15:0]写入到R2指向的内存空间\n",
    "\t\n",
    "\tSTR  R1, [R2] \t@ 写入一个字\n",
    "\t@ 将R1寄存器中的数据的Bit[31:0]写入到R2指向的内存空间\n",
    "\t\n",
    "    @ LDR指令同样支持以上后缀"
   ]
  },
  {
   "cell_type": "markdown",
   "metadata": {},
   "source": [
    "> CPU寻址方法\n",
    "> \n",
    "寻址方式就是CPU去寻找操作数的方式\n"
   ]
  },
  {
   "cell_type": "markdown",
   "metadata": {},
   "source": [
    ">> 立即寻址"
   ]
  },
  {
   "cell_type": "code",
   "execution_count": null,
   "metadata": {
    "vscode": {
     "languageId": "plaintext"
    }
   },
   "outputs": [],
   "source": [
    "\t@ 使用立即数\n",
    "\tMOV R1, #1\n",
    "\tADD R1, R2, #1"
   ]
  },
  {
   "cell_type": "markdown",
   "metadata": {},
   "source": [
    ">> 寄存器寻址\n"
   ]
  },
  {
   "cell_type": "code",
   "execution_count": null,
   "metadata": {
    "vscode": {
     "languageId": "plaintext"
    }
   },
   "outputs": [],
   "source": [
    "\tADD R1, R2, R3"
   ]
  },
  {
   "cell_type": "markdown",
   "metadata": {},
   "source": [
    ">> 寄存器移位寻址"
   ]
  },
  {
   "cell_type": "code",
   "execution_count": null,
   "metadata": {
    "vscode": {
     "languageId": "plaintext"
    }
   },
   "outputs": [],
   "source": [
    "\tMOV R1, R2, LSL #1  \n",
    "\t@ 先把R2和1 放入LSL硬件实现电路中"
   ]
  },
  {
   "cell_type": "markdown",
   "metadata": {},
   "source": [
    ">> 寄存器间接寻址"
   ]
  },
  {
   "cell_type": "code",
   "execution_count": null,
   "metadata": {
    "vscode": {
     "languageId": "plaintext"
    }
   },
   "outputs": [],
   "source": [
    "\tSTR R1, [R2] \t\t\n",
    "\t@ 将R2寄存器中的数据写入到R1指向的内存空间"
   ]
  },
  {
   "cell_type": "markdown",
   "metadata": {},
   "source": [
    ">> 基址加变址寻址"
   ]
  },
  {
   "cell_type": "code",
   "execution_count": null,
   "metadata": {
    "vscode": {
     "languageId": "plaintext"
    }
   },
   "outputs": [],
   "source": [
    "\tMOV R1, #0xFFFFFFFF\n",
    "\tMOV R2, #0x40000000\n",
    "\tMOV R3, #4\n",
    "\tSTR R1, [R2,R3]\n",
    "\t@ 将R1寄存器中的数据写入到R2+R3指向的内存空间\n",
    "\tSTR R1, [R2,R3,LSL #1]\n",
    "\t@ 将R1寄存器中的数据写入到R2+(R3<<1)指向的内存空间"
   ]
  },
  {
   "cell_type": "markdown",
   "metadata": {},
   "source": [
    ">> 基址加变址寻址的索引方式\n",
    "\n",
    "就是基址变址寻址的不同方式"
   ]
  },
  {
   "cell_type": "markdown",
   "metadata": {},
   "source": [
    ">>> 前索引\n"
   ]
  },
  {
   "cell_type": "code",
   "execution_count": null,
   "metadata": {
    "vscode": {
     "languageId": "plaintext"
    }
   },
   "outputs": [],
   "source": [
    "\tMOV R1, #0xFFFFFFFF\n",
    "\tMOV R2, #0x40000000\n",
    "\tSTR R1, [R2,#8]\n",
    "\t@ 将R1寄存器中的数据写入到R2+8指向的内存空间"
   ]
  },
  {
   "cell_type": "markdown",
   "metadata": {},
   "source": [
    ">>> 后索引"
   ]
  },
  {
   "cell_type": "code",
   "execution_count": null,
   "metadata": {
    "vscode": {
     "languageId": "plaintext"
    }
   },
   "outputs": [],
   "source": [
    "\tMOV R1, #0xFFFFFFFF\n",
    "\tMOV R2, #0x40000000\n",
    "\tSTR R1, [R2],#8\n",
    "\t@ 将R1寄存器中的数据写入到R2指向的内存空间,然后R2自增8"
   ]
  },
  {
   "cell_type": "markdown",
   "metadata": {},
   "source": [
    ">>> 自动索引"
   ]
  },
  {
   "cell_type": "code",
   "execution_count": null,
   "metadata": {
    "vscode": {
     "languageId": "plaintext"
    }
   },
   "outputs": [],
   "source": [
    "\tMOV R1, #0xFFFFFFFF\n",
    "\tMOV R2, #0x40000000\n",
    "\tSTR R1, [R2,#8]!\n",
    "\t@ 将R1寄存器中的数据写入到R2+8指向的内存空间,然后R2自增8"
   ]
  },
  {
   "cell_type": "markdown",
   "metadata": {},
   "source": [
    "以上寻址方式和索引方式同样适用于LDR"
   ]
  },
  {
   "cell_type": "markdown",
   "metadata": {},
   "source": [
    "> 多寄存器内存访问指令\n"
   ]
  },
  {
   "cell_type": "code",
   "execution_count": null,
   "metadata": {
    "vscode": {
     "languageId": "plaintext"
    }
   },
   "outputs": [],
   "source": [
    "\tMOV R1, #1\n",
    "\tMOV R2, #2\n",
    "\tMOV R3, #3\n",
    "\tMOV R4, #4\n",
    "\tMOV R11,#0x40000020\n",
    "\n",
    "@ 多寄存器用花括号括起\n",
    "\tSTM R11,{R1-R4}  \n",
    "\t@ 将R1-R4寄存器中的数据写入到以R11为起始地址的后4个地址的内存空间中\n",
    "\tLDM R11,{R6-R9}\n",
    "\t@ 将以R11为起始地址后4个地址的内存空间中的数据读取到R6-R9寄存器中\n",
    "\t\t\n",
    "@ 当寄存器编号不连续时，使用逗号分隔\n",
    "\tSTM R11,{R1,R2,R4}\n",
    "@ 不管寄存器列表中的顺序如何，存取时永远是低地址对应小编号的寄存器\n",
    "\tSTM R11,{R3,R1,R4,R2}\n",
    "@ 自动索引照样适用于多寄存器内存访问指令\n",
    "\tSTM R11!,{R1-R4}  @ R11自动更新成R4后一个地址"
   ]
  },
  {
   "cell_type": "markdown",
   "metadata": {},
   "source": [
    "> 多寄存器内存访问指令的寻址方式\n"
   ]
  },
  {
   "cell_type": "code",
   "execution_count": null,
   "metadata": {
    "vscode": {
     "languageId": "plaintext"
    }
   },
   "outputs": [],
   "source": [
    "\tMOV R1, #1\n",
    "\tMOV R2, #2\n",
    "\tMOV R3, #3\n",
    "\tMOV R4, #4\n",
    "\tMOV R11,#0x40000020\n",
    "\n",
    "\tSTMIA R11!,{R1-R4}  @ increase after\n",
    "\t@ 先存储数据，后增长地址\n",
    "\tSTMIB R11!,{R1-R4}  @ increase before\n",
    "\t@ 先增长地址，后存储数据\n",
    "\tSTMDA R11!,{R1-R4}  @ decrease after\n",
    "\t@ 先存储数据，后递减地址\n",
    "\tSTMDB R11!,{R1-R4}  @ decrease before\n",
    "\t@ 先递减地址，后存储数据"
   ]
  },
  {
   "cell_type": "markdown",
   "metadata": {},
   "source": [
    "![alt text](image-28.png)\n",
    "\n",
    " 先存储数据，后增长地址\n",
    "\n",
    "![alt text](image-29.png)\n",
    "\n",
    "先增长地址，后存储数据\n",
    "\n",
    "![alt text](image-30.png)\n",
    "\n",
    "先存储数据，后递减地址\n",
    "\n",
    "![alt text](image-31.png)\n",
    "\n",
    "先递减地址，后存储数据\n",
    "\n",
    "![alt text](image-32.png)"
   ]
  },
  {
   "cell_type": "markdown",
   "metadata": {},
   "source": [
    "> 栈\n",
    "1. 栈的概念  \n",
    "   \n",
    "   栈的本质就是一段内存，程序运行时用于保存一些临时数据，如局部变量、函数的参数、返回值、以及体育场跳转时需要的保护的寄存器等\n",
    "\n",
    ">> 栈的种类与使用\n",
    "\n",
    "![alt text](image-33.png)![alt text](image-34.png)\n",
    "\n",
    "增栈：压栈时栈指针越来越大，出栈时栈指针越来越小。     \n",
    "\n",
    "减栈：压栈时栈指针越来越大，出栈时栈指针越来越小。    \n",
    "\n",
    "满栈：栈指针指向最后一次压入到栈中的数据，压栈时需要先移动栈指针到相邻位置然后再压栈 \n",
    "\n",
    "空栈：栈指针指向最后一次压入到栈中的数据的相邻位置，压栈时可直接压栈，之后需要将栈指针移动到相邻位置。\n",
    "\n",
    "栈分为空增（EA）、空减（ED）、满增（FA）、满减（FD）四种    \n",
    "\n",
    "ARM处理器一般使用满减栈---STMDB"
   ]
  },
  {
   "cell_type": "markdown",
   "metadata": {},
   "source": [
    "\tMOV R1, #1\n",
    "\tMOV R2, #2\n",
    "\tMOV R3, #3\n",
    "\tMOV R4, #4\n",
    "\tMOV R11,#0x40000020\n",
    "\tSTMFD R11!,{R1-R4}  @ 满减栈\n",
    "\tLDMFD R11!,{R6-R9}"
   ]
  },
  {
   "cell_type": "markdown",
   "metadata": {},
   "source": [
    "\n",
    "#### 栈的应用举例\n",
    "\t\t\n",
    "1.叶子函数的调用过程举例\n",
    "\n",
    "叶子函数是指在整个程序中没有调用其他函数的这样一个函数，就像在树主干上长出的最末端的叶子\n",
    "\n",
    "目的是在只使用R1，R2寄存器的前提下，实现函数调用后保存调用前R1，R2寄存器中的值\n",
    "```\n",
    "\t\t@ 初始化栈指针\n",
    "\t\tMOV SP, #0x40000020\n",
    "MIAN:\n",
    "\t\tMOV R1, #3\n",
    "\t\tMOV R2, #5\n",
    "\t\tBL  FUNC\n",
    "\t\tADD R3, R1, R2\n",
    "\t\tB STOP\n",
    "\t\t\n",
    "FUNC:\n",
    "\t\t@ 压栈保护现场\n",
    "\t\tSTMFD SP!, {R1,R2}\n",
    "\t\tMOV R1, #10\n",
    "\t\tMOV R2, #20\n",
    "\t\tSUB R3, R2, R1\n",
    "\t\t@ 出栈恢复现场\n",
    "\t\tLDMFD SP!, {R1,R2}\n",
    "\t\tMOV PC, LR\n",
    "```\n",
    "\n",
    "2.非叶子函数的调用过程举例\n",
    "```\n",
    "\t\t@ MOV SP, #0x40000020\n",
    "@ MIAN:\n",
    "\t\t@ MOV R1, #3\n",
    "\t\t@ MOV R2, #5\n",
    "\t\t@ BL  FUNC1\n",
    "\t\t@ ADD R3, R1, R2\n",
    "\t\t@ B STOP\t\t\n",
    "@ FUNC1:\n",
    "\t\t@ STMFD SP!, {R1,R2,LR}\n",
    "\t\t@ MOV R1, #10\n",
    "\t\t@ MOV R2, #20\n",
    "\t\t@ BL  FUNC2\n",
    "\t\t@ SUB R3, R2, R1\n",
    "\t\t@ LDMFD SP!, {R1,R2,LR}\n",
    "\t\t@ MOV PC, LR\n",
    "@ FUNC2:\n",
    "\t\t@ STMFD SP!, {R1,R2}\n",
    "\t\t@ MOV R1, #7\n",
    "\t\t@ MOV R2, #8\n",
    "\t\t@ MUL R3, R1, R2\n",
    "\t\t@ LDMFD SP!, {R1,R2}\n",
    "\t\t@ MOV PC, LR\n",
    "\t\t\n",
    "\t\t@ 执行叶子函数时不需要对LR压栈保护，执行非叶子函数时需要对LR压栈保护\t\t\n",
    "\t\t@ MOV R1, #1\n",
    "\t\t@ MOV R2, #2\n",
    "\t\t@ MOV R3, #3\n",
    "\t\t@ MOV R4, #4\n",
    "\t\t@ MOV R11,#0x40000020\n",
    "\t\t@ STMFD R11!,{R1-R4}\n",
    "\t\t@ LDMFD R11!,{R6-R9}\n",
    "```"
   ]
  },
  {
   "cell_type": "markdown",
   "metadata": {},
   "source": [
    "### 状态寄存器传送指令 ：访问（读写）CPSR寄存器\n"
   ]
  },
  {
   "cell_type": "markdown",
   "metadata": {},
   "source": [
    "\n",
    "CPSR 在系统复位时，会禁止中断，这是因为复位比较重要不希望被打断\n",
    "```\n",
    "@ 读CPSR\n",
    "\t\t@ MRS R1, CPSR\n",
    "\t\t@ R1 = CPSR\n",
    "\t\t\n",
    "\t\t@ 写CPSR\n",
    "\t\t@ MSR CPSR, #0x10\n",
    "\t\t@ CPSR = 0x10\n",
    "\t\t\n",
    "\t\t@ 在USER模式下不能随意修改CPSR，因为USER模式属于非特权模式\n",
    "\t\t@ MSR CPSR, #0xD3\n",
    "```"
   ]
  },
  {
   "cell_type": "markdown",
   "metadata": {},
   "source": [
    "### 软中断指令 ： 触发软中断\n"
   ]
  },
  {
   "cell_type": "markdown",
   "metadata": {},
   "source": [
    "\n",
    "```\n",
    "\t\t@ 留出异常向里表的地址\n",
    "\t\t@ 异常向量表\n",
    "\t\tB MAIN\n",
    "\t\tB .\n",
    "\t\tB SWI_HANDLER\n",
    "\t\tB .\n",
    "\t\tB .\n",
    "\t\tB .\n",
    "\t\tB .\n",
    "\t\tB .\n",
    "\t\t\n",
    "\t\t@ 应用程序\n",
    "MAIN:\n",
    "\t\tMOV SP, #0x40000020333\n",
    "\t\t@ 初始化SVC模式下的栈指针\n",
    "\t\tMSR CPSR, #0x10\n",
    "\t\t@ 切换成USER模式，开启FIQ、IRQ\n",
    "\t\tMOV R1, #1\n",
    "\t\tMOV R2, #2\n",
    "\t\tSWI #1\n",
    "\t\t@ 触发软中断异常\n",
    "\t\tADD R3, R2, R1\n",
    "\t\tB STOP\n",
    "\t\t\n",
    "\t\t@ 异常处理程序\n",
    "SWI_HANDLER:\n",
    "\t\tSTMFD SP!,{R1,R2,LR}\n",
    "\t\t@ 压栈保护现场\n",
    "\t\tMOV R1, #10\n",
    "\t\tMOV R2, #20\n",
    "\t\tSUB R3, R2, R1\n",
    "\t\tLDMFD SP!,{R1,R2,PC}^\n",
    "\t\t@ 出栈恢复现场\n",
    "\t\t@ 将压入到栈中的LR（返回地址）出栈给PC，实现程序的返回\n",
    "\t\t@ ‘^’表示出栈的同时将SPSR的值传递给CPSR，实现CPU状态的恢复\t\t\n",
    "```"
   ]
  },
  {
   "cell_type": "markdown",
   "metadata": {},
   "source": [
    "### 协处理器指令:操控协处理器的指令\n",
    "\t\n",
    "如果是简单的加减乘ARM可以自己处理的，ARM会自行处理，但是遇到ARM处理不了的指令时，会调用协处理器来处理。（如图像处理）\n",
    "\n",
    "IPU > 专门处理浮点型数据的协处理器指令  \n",
    "CP15 > 帮助ARM来管理存储器 \n",
    "\n",
    "\t@ 1.协处理器数据运算指令\n",
    "\t@\tCDP\n",
    "\t@ 2.协处理器存储器访问指令\n",
    "\t@\tSTC\t将协处理器中的数据写入到存储器\n",
    "\t@\tLDC\t将存储器中的数据读取到协处理器\n",
    "\t@ 3.协处理器寄存器传送指令\n",
    "\t@\tMRC\t将协处理器中寄存器中的数据传送到ARM处理器中的寄存器\n",
    "\t@\tMCR\t将ARM处理器中寄存器中的数据传送到协处理器中的寄存器"
   ]
  },
  {
   "cell_type": "markdown",
   "metadata": {},
   "source": [
    "## 伪指令\n"
   ]
  },
  {
   "cell_type": "markdown",
   "metadata": {},
   "source": [
    "\n",
    "本身不是指令，编译器可以将其替换成若干条等效指令\n",
    "\n",
    "@ 空指令\n",
    "\t\t@ NOP   @ 编译器编译时会将其替换成一条可以执行但什么都不影响的指令 ： MOV R0， R0 \n",
    "        @ 使用该指令并不能让CPU停下，只能浪费CPU\n",
    "        的时间\n",
    "\t\t\n",
    "\t\t@ 指令\n",
    "\t\t@ LDR R1, [R2]\n",
    "\t\t@ 将R2指向的内存空间中的数据读取到R1寄存器\n",
    "\t\t\n",
    "\t\t@ 伪指令\n",
    "\t\t@ LDR R1, =0x12345678\n",
    "\t\t@ R1 = 0x12345678\t\n",
    "\t\t@ LDR伪指令可以将任意一个32位的数据放到一个寄存器\n",
    "\t\t\n",
    "\t\t@ LDR R1, =STOP\n",
    "\t\t@ 将STOP表示的地址写入R1寄存器\n",
    "\t\t\n",
    "\t\t@ LDR R1, STOP\n",
    "\t\t@ 将STOP地址中的内容写入R1寄存器"
   ]
  },
  {
   "cell_type": "markdown",
   "metadata": {},
   "source": [
    "## 伪操作\n"
   ]
  },
  {
   "cell_type": "markdown",
   "metadata": {},
   "source": [
    "\n",
    "伪操作:不会生成代码，只是在编译之前告诉编译器怎么编译\n",
    "```\n",
    "\t\t@ GNU的伪操作一般都以‘.’开头\n",
    "\t\t\n",
    "\t\t@ .global symbol\n",
    "\t\t@ 将symbol声明成全局符号. 在其他.文件中也可以用\n",
    "\t\t\n",
    "\t\t@ .local symbol\n",
    "\t\t@ 将symbol声明成局部符号\n",
    "\t\t\n",
    "\t\t@ .equ DATA, 0xFF  @类似宏\n",
    "\t\t@ MOV R1, #DATA\n",
    "\t\t\n",
    "\t\t@ .macro FUNC\n",
    "\t\t@\tMOV R1, #1\n",
    "\t\t@\tMOV R2, #2\n",
    "\t\t@ .endm\n",
    "\t\t@ FUNC   @ 对多段代码进行封装\n",
    "\t\t\n",
    "\t\t@ .if 0\n",
    "\t\t@\tMOV R1, #1\n",
    "\t\t@\tMOV R2, #2\n",
    "\t\t@ .endif  @ 条件编译\n",
    "\t\n",
    "\t\t@.rept 3   @ 生成3段重复的代码\n",
    "\t\t@ \tMOV R1, #1\n",
    "\t\t@ \tMOV R2, #2\n",
    "\t\t@.endr\n",
    "\t\t\n",
    "\t\t@ .weak symbol\n",
    "\t\t@ 弱化一个符号，即告诉编译器即便没有这个符号也不要报错\n",
    "\t\t@ .weak func\n",
    "\t\t@ B func\n",
    "\t\t\n",
    "\t\t@ .word VALUE\n",
    "\t\t@ 在当前地址申请一个字的空间并将其初始化为VALUE\n",
    "\t\t@ MOV R1, #1\n",
    "\t\t@ .word 0xFFFFFFFF\n",
    "\t\t@ MOV R2, #2\n",
    "\t\t\n",
    "\t\t@ .byte VALUE\t\n",
    "\t\t@ 在当前地址申请一个字节的空间并将其初始化为VALUE\n",
    "\t\t@ MOV R1, #1\n",
    "\t\t@ .byte 0xFF\n",
    "\t\t\n",
    "\t\t@ .align N\n",
    "\t\t@ 告诉编译器后续的代码2的N次方对齐\n",
    "\t\t@ .align 4\n",
    "\t\t@ MOV R2, #2\n",
    "\t\t\n",
    "\t\t@ .arm\n",
    "\t\t@ 告诉编译器后续的代码是ARM指令\n",
    "\t\t\n",
    "\t\t@ .thumb\n",
    "\t\t@ 告诉编译器后续的代码是Thumb指令\n",
    "\t\t\n",
    "\t\t@ .text\t\t\t\t\n",
    "\t\t@ 定义一个代码段\n",
    "\t\t\n",
    "\t\t@ .data\t\t\t\t\n",
    "\t\t@ 定义一个数据段\n",
    "\t\t\n",
    "\t\t@ .space N, VALUE\n",
    "\t\t@ 在当前地址申请N个字节的空间并将其初始化为VALUE\n",
    "\t\t@ MOV R1, #1\n",
    "\t\t@ .space 12, 0x12\n",
    "\t\t@ MOV R2, #2\n",
    "\t\t\n",
    "\t\t@ 不同的编译器伪操作的语法不同\n",
    "```"
   ]
  },
  {
   "cell_type": "markdown",
   "metadata": {},
   "source": [
    "# C和汇编的混合编程\n"
   ]
  },
  {
   "cell_type": "markdown",
   "metadata": {},
   "source": [
    "C和汇编的混合编程原则：在哪种语言环境下符合哪种语言的语法规则  \n",
    "\t\t1. 在汇编中将C中的函数当做标号处理  \n",
    "\t\t2. 在C中将汇编中的标号当做函数处理  \n",
    "\t\t3. 在C中内联的汇编当做C的语句来处理  \n",
    "\n",
    "1. 方式一：汇编语言调用（跳转）C语言\n"
   ]
  },
  {
   "cell_type": "code",
   "execution_count": null,
   "metadata": {
    "vscode": {
     "languageId": "plaintext"
    }
   },
   "outputs": [],
   "source": [
    "\tMOV R1, #1\n",
    "\tMOV R2, #2\n",
    "\tBL  func_c\n",
    "\tMOV R3, #3"
   ]
  },
  {
   "cell_type": "markdown",
   "metadata": {},
   "source": [
    "\t\n",
    "1. 方式二：C语言调用（跳转）汇编语言\n",
    "```\n",
    "@ .global FUNC_ASM\n",
    "@ FUNC_ASM:\n",
    "\t\t\t@ MOV R4, #4\n",
    "\t\t\t@ MOV R5, #5\n",
    "```\n",
    "1. C内联（内嵌）汇编\n",
    "```C\n",
    "void func_c(void)\n",
    "{\n",
    "\tint a;\n",
    "\ta ++;\n",
    "\t//C内联（内嵌）汇编\n",
    "\tasm\n",
    "\t(\n",
    "\t\t\"MOV R6, #6\\n\"\n",
    "\t\t\"MOV R7, #7\\n\"\n",
    "\t);\n",
    "\t//C语言调用（跳转）汇编语言\n",
    "\tFUNC_ASM();\n",
    "\ta --;\n",
    "}\n",
    "```"
   ]
  },
  {
   "cell_type": "markdown",
   "metadata": {},
   "source": [
    "# ATPCS协议(ARM-THUMB Procedure Call Standard)\n",
    "\n",
    "ATPCS协议主要内容 \n",
    "\n",
    "1.栈的种类  \n",
    "\t1.1 使用满减栈  \n",
    "\t \n",
    "2.寄存器的使用  \n",
    "    2.1 R15用作程序计数器，不能作其他用途  \t\n",
    "\t2.2 R14用作链接寄存器，不能作其他用途  \n",
    "\t2.3 R13用作栈指针，不能作其他用途  \n",
    "\t2.4 当函数的参数不多于4个时使用R0-R3传递，当函数的参数多于4个时，多出的部分用栈传递  \n",
    "\t2.5\t函数的返回值使用R0传递  \n",
    "\t2.6 其它寄存器主要用于存储局部变量  "
   ]
  },
  {
   "cell_type": "markdown",
   "metadata": {},
   "source": [
    "# 使用KEIL作ARM处理器的软件仿真"
   ]
  },
  {
   "cell_type": "markdown",
   "metadata": {},
   "source": [
    "## KEIL仿真环境的搭建\n"
   ]
  },
  {
   "cell_type": "markdown",
   "metadata": {},
   "source": [
    "\n",
    "1. 首先创建好工程文件夹\n",
    "2. 接着选择要仿真的处理器，选择ARM的处理器，以Samsung的S3C2410为例\n",
    "3. 新建一个文件并以`.s`为后缀保存。此时便创建好了一个编写汇编指令的文件\n",
    "4. 然后需要将这个汇编文件和工程进行绑定。先展开“Target1”，然后右击“Source Group1”,然后单击“Add Files to Group 'Source Group 1'...”\n",
    "   \n",
    "   ![alt text](image-2.png)\n",
    "   \n",
    "5. 下一步，指定所使用的编译器，如图单击\n",
    "对应的图标，在弹出的对话框中选择“Folders/Extensions”，然后勾选“Use GNU Compiler”\n",
    "使用 GNU 的编译器（弹出对话框选‘是’即可），然后在“GNU-Tool-Prefix”位置输入编\n",
    "译器前缀“arm-none-linux-gnueabi-”，然后在“GNU-Tool Folder”位置选择编译器路径\n",
    "“ C:\\Program Files (x86)\\CodeSourcery\\Sourcery_CodeBench_Lite_for_ARM_GNU_Linux ”\n",
    "最后单击“OK”完成设置\n",
    "\n",
    "![alt text](image-3.png)\n",
    "\n",
    "6. 如图单击“Target Options...”图标，在弹出的对话框中单击“Linker”，设置“Text Start”\n",
    "即代码的起始地址为“0x00000000”，然后单击“OK”，这样我们写的代码的起始地址就是\n",
    "从 0x00000000 开始存储\n",
    "\n",
    "![alt text](image-4.png)\n"
   ]
  },
  {
   "cell_type": "markdown",
   "metadata": {},
   "source": [
    "## KEIL界面介绍"
   ]
  },
  {
   "cell_type": "markdown",
   "metadata": {},
   "source": [
    "\n",
    "![alt text](image-5.png)\n",
    "\n",
    "![alt text](image-6.png)\n",
    "\n",
    "单击“复位”可复位程序 \n",
    " \n",
    "单击“单步运行”可单步调试  \n",
    "\n",
    "单击“Debug”可退出仿真界面  \n",
    "\n",
    "在寄存器信息栏中我们可以看到程序运行过程中寄存器中的值，如果寄存器的背景变成蓝色说明该寄存器的值有变化\n",
    "\n",
    "在汇编源码栏中我们可以看到程序源码以及当前程序运行的位置\n",
    "\n",
    "在反汇编栏我们可以看到汇编代码对应的机器码以及内存地址等信息，在内存信息栏我们可以看到指定内存地址中的内容"
   ]
  },
  {
   "cell_type": "markdown",
   "metadata": {},
   "source": [
    "菜单栏 DEBUG 选项卡中 Memory Map指定了CPU中内存的读写权限\n",
    "右下角Memory 可以看内存中的数据"
   ]
  },
  {
   "cell_type": "markdown",
   "metadata": {},
   "source": [
    "## 编译问题汇总\n"
   ]
  },
  {
   "cell_type": "markdown",
   "metadata": {},
   "source": [
    "\n",
    "1. 每次修改完代码之后必须先保存再进行编译\n",
    "2. 若编译后有以下警告信息，再次单击编译即可消除\n",
    "Warning: arm-asm.s: Warning: end of file in comment; newline inserted"
   ]
  }
 ],
 "metadata": {
  "kernelspec": {
   "display_name": "Python 3 (ipykernel)",
   "language": "python",
   "name": "python3"
  },
  "language_info": {
   "codemirror_mode": {
    "name": "ipython",
    "version": 3
   },
   "file_extension": ".py",
   "mimetype": "text/x-python",
   "name": "python",
   "nbconvert_exporter": "python",
   "pygments_lexer": "ipython3",
   "version": "3.8.8"
  }
 },
 "nbformat": 4,
 "nbformat_minor": 4
}

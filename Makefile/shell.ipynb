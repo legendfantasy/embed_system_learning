{
 "cells": [
  {
   "cell_type": "markdown",
   "id": "0d944fd7-ffc3-436a-b13d-09f3c67d58a8",
   "metadata": {
    "jp-MarkdownHeadingCollapsed": true,
    "tags": [],
    "toc-hr-collapsed": true
   },
   "source": [
    "# 软件包？"
   ]
  },
  {
   "cell_type": "markdown",
   "id": "6dc2de93-3f3f-4229-917a-047ee93806b1",
   "metadata": {
    "jp-MarkdownHeadingCollapsed": true,
    "tags": []
   },
   "source": [
    "## 什么是软件包"
   ]
  },
  {
   "cell_type": "markdown",
   "id": "46db35dd-a5e2-4e57-84e1-fb2f05a8731f",
   "metadata": {},
   "source": [
    "将应用程序的二进制文件、配置文件、man/info帮助页面等文件合并打包在一个文件中，用户使用软件包管理器直接操作软件包，完成获取、安装、卸载、查询等操作"
   ]
  },
  {
   "cell_type": "markdown",
   "id": "9c216175-9974-448a-a4f9-526c12bef4a5",
   "metadata": {
    "tags": []
   },
   "source": [
    "## 流行的软件包管理机制"
   ]
  },
  {
   "cell_type": "markdown",
   "id": "b17fdb39-5015-45a0-83dd-affc75d85174",
   "metadata": {},
   "source": [
    "1. Deb 软件包\n",
    "2. Rpm 软件包\n",
    "3. APT 软件包  \n",
    "pip是Python的包管理工具"
   ]
  },
  {
   "cell_type": "markdown",
   "id": "52e5bee3-0059-4e52-b3b6-b508b511cf25",
   "metadata": {
    "jp-MarkdownHeadingCollapsed": true,
    "tags": []
   },
   "source": [
    "## 软件包类型"
   ]
  },
  {
   "cell_type": "markdown",
   "id": "ed07878b-ba12-4620-a76d-ef3a8c0e9238",
   "metadata": {},
   "source": [
    "1. Binary Packages\n",
    "2. Source Packages"
   ]
  },
  {
   "cell_type": "markdown",
   "id": "f53484ec-5526-4c0c-b51d-13ed37412dc1",
   "metadata": {},
   "source": [
    "查看软件包的类型"
   ]
  },
  {
   "cell_type": "markdown",
   "id": "39a7b48b-eb72-4b69-987e-615f579218d4",
   "metadata": {},
   "source": [
    "``` file 文件名.deb ```"
   ]
  },
  {
   "cell_type": "code",
   "execution_count": 1,
   "id": "55e6551e-012a-4f44-8918-1740a8ce5c48",
   "metadata": {},
   "outputs": [
    {
     "name": "stdout",
     "output_type": "stream",
     "text": [
      "sogoupinyin_4.0.1.2800_x86_64.deb: Debian binary package (format 2.0), with control.tar.gz, data compression xz  \n"
     ]
    }
   ],
   "source": [
    "!file sogoupinyin_4.0.1.2800_x86_64.deb"
   ]
  },
  {
   "cell_type": "markdown",
   "id": "10031eb4-cd67-4d4b-8e81-f7a7d1864a2d",
   "metadata": {},
   "source": [
    "Filename_Version-Reversion_Architecture.deb   \n",
    "软件包名称 软件版本 修订版本   体系架构"
   ]
  },
  {
   "cell_type": "markdown",
   "id": "70b94a58-df36-4015-8040-1358ed4109be",
   "metadata": {
    "tags": [],
    "toc-hr-collapsed": true
   },
   "source": [
    "## 在线软件包管理"
   ]
  },
  {
   "cell_type": "markdown",
   "id": "c162f99c-33c4-441a-a4be-4156286d6229",
   "metadata": {
    "jp-MarkdownHeadingCollapsed": true
   },
   "source": [
    "### APT 工作原理"
   ]
  },
  {
   "cell_type": "markdown",
   "id": "62a28abd-d6bf-4706-baf3-d92754a62006",
   "metadata": {},
   "source": [
    "将各式各样的软件包分门别类地存放在软件仓库中，进行有效地组织和管理。然后，将软件仓库置于许许多多的镜像服务器中，并保持基本一致。 因此，对于用户这些镜像服务器就是他们的软件源(reposity)"
   ]
  },
  {
   "cell_type": "markdown",
   "id": "31d60edb-11dc-4d6d-ad1f-9eef50f41c7a",
   "metadata": {
    "jp-MarkdownHeadingCollapsed": true
   },
   "source": [
    "### 更新软件源"
   ]
  },
  {
   "cell_type": "markdown",
   "id": "f9f24a09-85fd-4d26-940b-549b0ab58a7b",
   "metadata": {},
   "source": [
    "1. 修改 /etc/apt/sources.list\n",
    "2. 图形界面更换软件源\n",
    "3. sudo apt-get update"
   ]
  },
  {
   "cell_type": "markdown",
   "id": "00b096f3-c5ee-41cf-89c4-8fe422f802d9",
   "metadata": {
    "jp-MarkdownHeadingCollapsed": true
   },
   "source": [
    "### APT 相关命令"
   ]
  },
  {
   "cell_type": "markdown",
   "id": "219eff34-9f9a-4abd-a6f9-7ee9e8ece41f",
   "metadata": {},
   "source": [
    "| sudo apt install package_name | 安装软件包 |    \n",
    "| sudo apt --purge remove package_name | 移除软件包并删除配置 |   \n",
    "| sudo apt autoremove | 删除不需要的依赖 |   \n",
    "| sudo apt show package_name | 显示软件包信息 |   \n",
    "| sudo apt-get source <packages> | 下载软件源代码 |   \n",
    "| sudo apt-cache depends <packages> | 了解软件依赖关系 |  \n",
    "| sudo apt-get check | 检查软件依赖关系 |   "
   ]
  },
  {
   "cell_type": "markdown",
   "id": "69064c58-e044-41ea-bc73-721c00e73dfa",
   "metadata": {
    "toc-hr-collapsed": true
   },
   "source": [
    "## 离线软件包管理"
   ]
  },
  {
   "cell_type": "markdown",
   "id": "46cedfeb-ff9a-4241-9190-4ca9f412639c",
   "metadata": {},
   "source": [
    "### dpkg 命令"
   ]
  },
  {
   "cell_type": "markdown",
   "id": "1d61fe63-62b9-4a5c-b583-acff1c4d1857",
   "metadata": {},
   "source": [
    "| dpkg -i <package> | 安装一个在本地文件系统上存在的 Debian 软件包|  \n",
    "| dpgk -r <package> | 移除一个已经安装的软件包 |  \n",
    "| dpkg -P <package> | 移除已安装软件包及配置文件 |   \n",
    "| dpkg -L <package> | 列出安装的软件包清单 |   \n",
    "| dpkg -s <package> | 显出软件包的安装状态 |  "
   ]
  },
  {
   "cell_type": "markdown",
   "id": "54828e1a-fec6-48df-9f92-e7c1ba93b73d",
   "metadata": {
    "tags": []
   },
   "source": [
    "# shell内核"
   ]
  },
  {
   "cell_type": "markdown",
   "id": "fca3fc45-8fb2-498b-9613-2aac11c2dd57",
   "metadata": {},
   "source": [
    "shell就是Linux内核的一个外层保护工具，并负责完成用户与内核之间的交互"
   ]
  },
  {
   "cell_type": "markdown",
   "id": "92d649af-a861-44e1-95a5-378d3e0cf297",
   "metadata": {},
   "source": [
    "Shell 是一个命令行解释器，它为用户提供一个向 Linux 内核发送请求以便运 行程序的界面系统级程序。 用户可以用 Shell 来启动、 挂起、 停止、 编程等操 作。"
   ]
  },
  {
   "cell_type": "markdown",
   "id": "bedadc99-8982-43a0-ad3b-889a4010e1f3",
   "metadata": {
    "jp-MarkdownHeadingCollapsed": true,
    "tags": []
   },
   "source": [
    "## 查看当前系统的 Shell"
   ]
  },
  {
   "cell_type": "markdown",
   "id": "023c0d2a-20f6-44bc-829a-6cae1340cf0e",
   "metadata": {},
   "source": [
    "查看当前系统有哪些 shell   "
   ]
  },
  {
   "cell_type": "code",
   "execution_count": 2,
   "id": "e132ff13-2dc2-4005-b064-bc6757ecec7c",
   "metadata": {},
   "outputs": [
    {
     "name": "stdout",
     "output_type": "stream",
     "text": [
      "# /etc/shells: valid login shells\n",
      "/bin/sh\n",
      "/bin/bash\n",
      "/usr/bin/bash\n",
      "/bin/rbash\n",
      "/usr/bin/rbash\n",
      "/bin/dash\n",
      "/usr/bin/dash\n"
     ]
    }
   ],
   "source": [
    "! cat /etc/shells "
   ]
  },
  {
   "cell_type": "markdown",
   "id": "18359992-4895-4b6a-b276-fd97e259a4c4",
   "metadata": {},
   "source": [
    "查看当前是什么 shell  "
   ]
  },
  {
   "cell_type": "code",
   "execution_count": 3,
   "id": "f7279696-bd4f-4082-9d4a-4a448328e4a7",
   "metadata": {},
   "outputs": [
    {
     "name": "stdout",
     "output_type": "stream",
     "text": [
      "/bin/bash\n"
     ]
    }
   ],
   "source": [
    "!echo $SHELL"
   ]
  },
  {
   "cell_type": "markdown",
   "id": "4815460b-dbb5-458c-895b-d1392eba0597",
   "metadata": {
    "jp-MarkdownHeadingCollapsed": true,
    "tags": []
   },
   "source": [
    "## 用shell控制开关机"
   ]
  },
  {
   "cell_type": "markdown",
   "id": "4afe0b90-6a2b-4b73-93e9-5580f3389715",
   "metadata": {},
   "source": [
    "立即关机    \n",
    "``` linux@ubuntu:~$ sudo shutdown - h now ```  \n",
    "立即重新启动   \n",
    "``` linux@ubuntu:~$ sudo reboot now ```  \n",
    "定时关机   \n",
    "``` linux@ubuntu:~$ sudo shutdown - h +45 “That is all, game over.” ```  \n",
    "定时重启  \n",
    "``` linux@ubuntu:~$ sudo shutdown -r +60 ```    "
   ]
  },
  {
   "cell_type": "markdown",
   "id": "5524e960-791c-41cc-86f1-cebbbb0fde5f",
   "metadata": {
    "jp-MarkdownHeadingCollapsed": true,
    "tags": []
   },
   "source": [
    "## shell 用户相关命令"
   ]
  },
  {
   "cell_type": "markdown",
   "id": "ec8d1885-a979-4d6b-9834-7abd9302c4f3",
   "metadata": {},
   "source": [
    "linux 下用户可以分为\n",
    "1. 普通用户\n",
    "2. 超级用户"
   ]
  },
  {
   "cell_type": "markdown",
   "id": "2e429341-ee35-4aae-9c32-af5a8f373fbd",
   "metadata": {
    "jp-MarkdownHeadingCollapsed": true,
    "tags": []
   },
   "source": [
    "## 修改文件权限"
   ]
  },
  {
   "cell_type": "markdown",
   "id": "d17325f8-0548-43ac-8486-603c3b3173d2",
   "metadata": {},
   "source": [
    "``` ls -l 文件名 ``` 查看文件的权限"
   ]
  },
  {
   "cell_type": "code",
   "execution_count": 4,
   "id": "289dd537-34b9-4c3a-89f0-91044f5ce393",
   "metadata": {},
   "outputs": [
    {
     "name": "stdout",
     "output_type": "stream",
     "text": [
      "-rwxrwxr-x 1 legendfantasy legendfantasy 19224 4月  23  2022 test\n"
     ]
    }
   ],
   "source": [
    "! ls -l test"
   ]
  },
  {
   "cell_type": "markdown",
   "id": "c3eebd54-bc6d-4568-9394-cca7e679cb88",
   "metadata": {},
   "source": [
    "``` -rwxrwxrwx ``` 这里会出现9个字母，如果文件具有相关权限则该位置就有该字母，没有则用-填充  \n",
    "r － 可读  \n",
    "w － 可写  \n",
    "x － 可执行  \n",
    "这9个字母可以分成3组  \n",
    "前3个 － u 当前用户   \n",
    "中3个 － g 同组用户   \n",
    "后3个 － o 其他用户  "
   ]
  },
  {
   "cell_type": "markdown",
   "id": "ecf89b70-5398-462e-aabc-dd56c503694b",
   "metadata": {},
   "source": [
    "修改权限的方法有两种："
   ]
  },
  {
   "cell_type": "markdown",
   "id": "97d28722-7a52-4d65-9c7d-d5c6fc7bd542",
   "metadata": {},
   "source": [
    "字母法  \n",
    "``` chmod (u g o a(所有用户)) (+ - =) (rwx) 文件名 ```   "
   ]
  },
  {
   "cell_type": "markdown",
   "id": "deb06926-ccc0-4009-b90c-8ff840c46bb7",
   "metadata": {},
   "source": [
    "给当前用户减去对file的可执行权限  "
   ]
  },
  {
   "cell_type": "code",
   "execution_count": 6,
   "id": "2bcf3584-d7f2-45bb-ac20-f996f19f4ffa",
   "metadata": {},
   "outputs": [
    {
     "name": "stdout",
     "output_type": "stream",
     "text": [
      "-rw-rwxr-x 1 legendfantasy legendfantasy 19224 4月  23  2022 test\n"
     ]
    }
   ],
   "source": [
    "!chmod u-x test\n",
    "!ls -l test"
   ]
  },
  {
   "cell_type": "code",
   "execution_count": 8,
   "id": "be5abf39-8171-44dc-afb4-d4220c80166f",
   "metadata": {},
   "outputs": [
    {
     "name": "stdout",
     "output_type": "stream",
     "text": [
      "-rwxrwxrwx 1 legendfantasy legendfantasy 19224 4月  23  2022 test\n"
     ]
    }
   ],
   "source": [
    "!chmod a=rwx test\n",
    "!ls -l test"
   ]
  },
  {
   "cell_type": "markdown",
   "id": "195bfc45-08c2-45f9-bfa4-9009acf68f86",
   "metadata": {},
   "source": [
    "数字法  \n",
    "``` chmod （数字） 文件名 ```"
   ]
  },
  {
   "cell_type": "code",
   "execution_count": 9,
   "id": "cfba2e91-c3b0-4ea5-8d6c-aefabf5827e1",
   "metadata": {},
   "outputs": [
    {
     "name": "stdout",
     "output_type": "stream",
     "text": [
      "-rwxrwxr-x 1 legendfantasy legendfantasy 19224 4月  23  2022 test\n"
     ]
    }
   ],
   "source": [
    "!chmod 775 test # 所有用户赋于rwx权限  \n",
    "!ls -l test"
   ]
  },
  {
   "cell_type": "markdown",
   "id": "b4330823-2019-41fb-b7c9-c7aa7f64c7b0",
   "metadata": {},
   "source": [
    "这里数字代表的是对 rwxrwxrwx这9个字母进行二进制编码，如果有权限则对应1，没有对应0， 形式如111111101  \n",
    "然后再转成8进制 775"
   ]
  },
  {
   "cell_type": "markdown",
   "id": "bc36332e-4f86-4b59-8293-044d64b55371",
   "metadata": {
    "tags": [],
    "toc-hr-collapsed": true
   },
   "source": [
    "## shell 基本命令"
   ]
  },
  {
   "cell_type": "markdown",
   "id": "9010e933-0b2a-4e44-ad4a-8d3bd73ce5e5",
   "metadata": {},
   "source": [
    "### pwd"
   ]
  },
  {
   "cell_type": "code",
   "execution_count": 1,
   "id": "a129e2ab-6a0a-4498-a6b7-3e871f5741c5",
   "metadata": {},
   "outputs": [
    {
     "name": "stdout",
     "output_type": "stream",
     "text": [
      "/home/legendfantasy/C C++ code\n"
     ]
    }
   ],
   "source": [
    "!pwd"
   ]
  },
  {
   "cell_type": "markdown",
   "id": "0f8f30e7-fa2d-49d0-9b8b-d4313a70d7fe",
   "metadata": {},
   "source": [
    "### ls"
   ]
  },
  {
   "cell_type": "code",
   "execution_count": 2,
   "id": "596a689c-d220-4ffd-a535-a212d6aa1947",
   "metadata": {},
   "outputs": [
    {
     "name": "stdout",
     "output_type": "stream",
     "text": [
      "1.log\t      file1.txt    log\t\t\t\t      test1.c\n",
      "未命名.ipynb  file2.txt    Lsoutput.txt\t\t\t      test2.c\n",
      "指针.ipynb    file3.txt    pointerfunc\t\t\t      test.c\n",
      "a.out\t      file_hard    sogoupinyin_4.0.1.2800_x86_64.deb  test.sh\n",
      "err.log       file_soft    tempCodeRunnerFile.python\n",
      "file\t      Linux.ipynb  test\n"
     ]
    }
   ],
   "source": [
    "!ls"
   ]
  },
  {
   "cell_type": "markdown",
   "id": "3ad651f5-b17e-478a-8986-4dc7f483dc77",
   "metadata": {},
   "source": [
    "### cd"
   ]
  },
  {
   "cell_type": "code",
   "execution_count": 6,
   "id": "1aac44f9-b801-4a25-9dbe-edfba05be484",
   "metadata": {},
   "outputs": [
    {
     "name": "stdout",
     "output_type": "stream",
     "text": [
      "/home/legendfantasy/C C++ code\n"
     ]
    }
   ],
   "source": [
    "!cd /home/legendfantasy/\n",
    "!pwd"
   ]
  },
  {
   "cell_type": "markdown",
   "id": "71a7e67c-e5ea-4fcf-84a0-7184ce06f74d",
   "metadata": {},
   "source": [
    "### mkdir "
   ]
  },
  {
   "cell_type": "code",
   "execution_count": 7,
   "id": "09fc7364-a5c0-4fc3-ad3a-95c0b0d4acda",
   "metadata": {},
   "outputs": [
    {
     "name": "stdout",
     "output_type": "stream",
     "text": [
      "1.log\t      file1\t Linux.ipynb\t\t\t    test\n",
      "未命名.ipynb  file1.txt  log\t\t\t\t    test1.c\n",
      "指针.ipynb    file2.txt  Lsoutput.txt\t\t\t    test2.c\n",
      "a.out\t      file3.txt  pointerfunc\t\t\t    test.c\n",
      "err.log       file_hard  sogoupinyin_4.0.1.2800_x86_64.deb  test.sh\n",
      "file\t      file_soft  tempCodeRunnerFile.python\n"
     ]
    }
   ],
   "source": [
    "! mkdir file1\n",
    "! ls"
   ]
  },
  {
   "cell_type": "markdown",
   "id": "1b98f152-fbfb-4dfa-85ce-f265baf12d14",
   "metadata": {},
   "source": [
    "### rmdir"
   ]
  },
  {
   "cell_type": "code",
   "execution_count": 9,
   "id": "918dae80-a7c6-4217-bd35-a4b04ba68277",
   "metadata": {},
   "outputs": [
    {
     "name": "stdout",
     "output_type": "stream",
     "text": [
      "1.log\t      file1.txt    log\t\t\t\t      test1.c\n",
      "未命名.ipynb  file2.txt    Lsoutput.txt\t\t\t      test2.c\n",
      "指针.ipynb    file3.txt    pointerfunc\t\t\t      test.c\n",
      "a.out\t      file_hard    sogoupinyin_4.0.1.2800_x86_64.deb  test.sh\n",
      "err.log       file_soft    tempCodeRunnerFile.python\n",
      "file\t      Linux.ipynb  test\n"
     ]
    }
   ],
   "source": [
    "! rmdir file1\n",
    "! ls"
   ]
  },
  {
   "cell_type": "markdown",
   "id": "b3e1a4e2-1ade-4b95-a6b3-d54295f179d8",
   "metadata": {},
   "source": [
    "### cp"
   ]
  },
  {
   "cell_type": "code",
   "execution_count": 10,
   "id": "a38f79c4-e658-4ed2-945b-12b845ffb296",
   "metadata": {},
   "outputs": [
    {
     "name": "stdout",
     "output_type": "stream",
     "text": [
      "1.log\t      file1.txt  Linux.ipynb\t\t\t    test\n",
      "未命名.ipynb  file2.txt  log\t\t\t\t    test1.c\n",
      "指针.ipynb    file3.txt  Lsoutput.txt\t\t\t    test2.c\n",
      "a.out\t      file4.txt  pointerfunc\t\t\t    test.c\n",
      "err.log       file_hard  sogoupinyin_4.0.1.2800_x86_64.deb  test.sh\n",
      "file\t      file_soft  tempCodeRunnerFile.python\n"
     ]
    }
   ],
   "source": [
    "! cp file1.txt file4.txt\n",
    "! ls"
   ]
  },
  {
   "cell_type": "markdown",
   "id": "b5ac2500-0c8d-4a19-bcd1-9575694f4a10",
   "metadata": {},
   "source": [
    "### mv"
   ]
  },
  {
   "cell_type": "code",
   "execution_count": 11,
   "id": "066d8f72-46f9-46d9-b4a3-a3c9425b902f",
   "metadata": {},
   "outputs": [
    {
     "name": "stdout",
     "output_type": "stream",
     "text": [
      "1.log\t      file1.txt       Linux.ipynb\t\t\t test\n",
      "未命名.ipynb  file2.txt       log\t\t\t\t test1.c\n",
      "指针.ipynb    file3.txt       Lsoutput.txt\t\t\t test2.c\n",
      "a.out\t      file_hard       pointerfunc\t\t\t test.c\n",
      "err.log       filerename.txt  sogoupinyin_4.0.1.2800_x86_64.deb  test.sh\n",
      "file\t      file_soft       tempCodeRunnerFile.python\n"
     ]
    }
   ],
   "source": [
    "! mv file4.txt filerename.txt\n",
    "! ls"
   ]
  },
  {
   "cell_type": "markdown",
   "id": "de46f182-afe9-43cf-841c-540e58c31e7c",
   "metadata": {},
   "source": [
    "### touch"
   ]
  },
  {
   "cell_type": "code",
   "execution_count": 12,
   "id": "57e6ae72-fdd9-401b-a5d3-4d40f0c19a5a",
   "metadata": {},
   "outputs": [
    {
     "name": "stdout",
     "output_type": "stream",
     "text": [
      "1.log\t      file3.txt       pointerfunc\n",
      "未命名.ipynb  file5.txt       sogoupinyin_4.0.1.2800_x86_64.deb\n",
      "指针.ipynb    file_hard       tempCodeRunnerFile.python\n",
      "a.out\t      filerename.txt  test\n",
      "err.log       file_soft       test1.c\n",
      "file\t      Linux.ipynb     test2.c\n",
      "file1.txt     log\t      test.c\n",
      "file2.txt     Lsoutput.txt    test.sh\n"
     ]
    }
   ],
   "source": [
    "!touch file5.txt\n",
    "!ls"
   ]
  },
  {
   "cell_type": "markdown",
   "id": "e104361a-e7ad-4943-a964-32b0763ba0e5",
   "metadata": {},
   "source": [
    "###  man"
   ]
  },
  {
   "cell_type": "markdown",
   "id": "b2d0b663-aff0-4d72-8b08-29d30a3cae20",
   "metadata": {},
   "source": [
    "man 用于查看帮助"
   ]
  },
  {
   "cell_type": "markdown",
   "id": "ac5888a2-e777-4b8d-84fc-b055bd4b13b9",
   "metadata": {},
   "source": [
    "帮助信息的种类：  \n",
    "NAME ： 命令的名称  \n",
    "SYNOPSIS ： 命令的语法格式  \n",
    "DESCRIPTION ： 命令的一般描述以及用途  \n",
    "OPTIONS ： 描述命令所有的参数或选项  \n",
    "SEE ALSO ： 列出联机帮助页中与该命令直接相关或功能相近的 其他命令  \n",
    "BUGS ： 解释命令或其输出中存在的任何已知的问题或缺陷  \n",
    "EXAMPLES ： 普通的用法示例  \n",
    "AUTHORS ： 联机帮助页以及命令的作者  "
   ]
  },
  {
   "cell_type": "markdown",
   "id": "6c49ec7e-7896-408e-975a-924e957dd02e",
   "metadata": {
    "jupyter": {
     "source_hidden": true
    },
    "tags": []
   },
   "source": [
    "man 的使用  \n",
    "1 Executable programs or shell commands  \n",
    "2 System calls (functions provided by the kernel)  \n",
    "3 Library calls (functions within program libraries)  \n",
    "4 Special files (usually found in /dev)  \n",
    "5 File formats and conventions, e.g. /etc/passwd  \n",
    "6 Games  \n",
    "7 Miscellaneous (including macro packages and conventions), e.g. man(7), groff(7)  \n",
    "8 System administration commands (usually only for root)  \n",
    "9 Kernel routines [Non standard]  "
   ]
  },
  {
   "cell_type": "code",
   "execution_count": 1,
   "id": "5479b582-f6ff-466d-a2c5-eaf1b2a105f5",
   "metadata": {
    "collapsed": true,
    "jupyter": {
     "outputs_hidden": true
    },
    "tags": []
   },
   "outputs": [
    {
     "name": "stdout",
     "output_type": "stream",
     "text": [
      "PRINTF(1)                        User Commands                       PRINTF(1)\n",
      "\n",
      "NAME\n",
      "       printf - format and print data\n",
      "\n",
      "SYNOPSIS\n",
      "       printf FORMAT [ARGUMENT]...\n",
      "       printf OPTION\n",
      "\n",
      "DESCRIPTION\n",
      "       Print ARGUMENT(s) according to FORMAT, or execute according to OPTION:\n",
      "\n",
      "       --help display this help and exit\n",
      "\n",
      "       --version\n",
      "              output version information and exit\n",
      "\n",
      "       FORMAT controls the output as in C printf.  Interpreted sequences are:\n",
      "\n",
      "       \\\"     double quote\n",
      "\n",
      "       \\\\     backslash\n",
      "\n",
      "       \\a     alert (BEL)\n",
      "\n",
      "       \\b     backspace\n",
      "\n",
      "       \\c     produce no further output\n",
      "\n",
      "       \\e     escape\n",
      "\n",
      "       \\f     form feed\n",
      "\n",
      "       \\n     new line\n",
      "\n",
      "       \\r     carriage return\n",
      "\n",
      "       \\t     horizontal tab\n",
      "\n",
      "       \\v     vertical tab\n",
      "\n",
      "       \\NNN   byte with octal value NNN (1 to 3 digits)\n",
      "\n",
      "       \\xHH   byte with hexadecimal value HH (1 to 2 digits)\n",
      "\n",
      "       \\uHHHH Unicode (ISO/IEC 10646) character with hex value HHHH (4 digits)\n",
      "\n",
      "       \\UHHHHHHHH\n",
      "              Unicode character with hex value HHHHHHHH (8 digits)\n",
      "\n",
      "       %%     a single %\n",
      "\n",
      "       %b     ARGUMENT  as  a string with '\\' escapes interpreted, except that\n",
      "              octal escapes are of the form \\0 or \\0NNN\n",
      "\n",
      "       %q     ARGUMENT is printed in a format that can be reused as shell  in‐\n",
      "              put,  escaping  non-printable characters with the proposed POSIX\n",
      "              $'' syntax.\n",
      "\n",
      "       and all C format specifications ending with one of diouxXfeEgGcs,  with\n",
      "       ARGUMENTs converted to proper type first.  Variable widths are handled.\n",
      "\n",
      "       NOTE:  your shell may have its own version of printf, which usually su‐\n",
      "       persedes the version described here.  Please refer to your shell's doc‐\n",
      "       umentation for details about the options it supports.\n",
      "\n",
      "AUTHOR\n",
      "       Written by David MacKenzie.\n",
      "\n",
      "REPORTING BUGS\n",
      "       GNU coreutils online help: <https://www.gnu.org/software/coreutils/>\n",
      "       Report    printf    translation    bugs   to   <https://translationpro‐\n",
      "       ject.org/team/>\n",
      "\n",
      "COPYRIGHT\n",
      "       Copyright © 2018 Free Software Foundation, Inc.   License  GPLv3+:  GNU\n",
      "       GPL version 3 or later <https://gnu.org/licenses/gpl.html>.\n",
      "       This  is  free  software:  you  are free to change and redistribute it.\n",
      "       There is NO WARRANTY, to the extent permitted by law.\n",
      "\n",
      "SEE ALSO\n",
      "       printf(3)\n",
      "\n",
      "       Full documentation at: <https://www.gnu.org/software/coreutils/printf>\n",
      "       or available locally via: info '(coreutils) printf invocation'\n",
      "\n",
      "GNU coreutils 8.30              September 2019                       PRINTF(1)\n"
     ]
    }
   ],
   "source": [
    "!man printf"
   ]
  },
  {
   "cell_type": "markdown",
   "id": "c2efcc3e-9000-4447-a7b9-85b3ed1ca128",
   "metadata": {
    "jupyter": {
     "source_hidden": true
    },
    "tags": []
   },
   "source": [
    "这里显示的内容不全，需要增加指定man的方式  \n",
    "3代表指定库函数"
   ]
  },
  {
   "cell_type": "code",
   "execution_count": 2,
   "id": "100fb043-ef8e-4db0-815f-e2f26e34f04a",
   "metadata": {
    "collapsed": true,
    "jupyter": {
     "outputs_hidden": true
    },
    "tags": []
   },
   "outputs": [
    {
     "name": "stdout",
     "output_type": "stream",
     "text": [
      "PRINTF(3)                  Linux Programmer's Manual                 PRINTF(3)\n",
      "\n",
      "NAME\n",
      "       printf,  fprintf,  dprintf,  sprintf,  snprintf, vprintf, vfprintf, vd‐\n",
      "       printf, vsprintf, vsnprintf - formatted output conversion\n",
      "\n",
      "SYNOPSIS\n",
      "       #include <stdio.h>\n",
      "\n",
      "       int printf(const char *format, ...);\n",
      "       int fprintf(FILE *stream, const char *format, ...);\n",
      "       int dprintf(int fd, const char *format, ...);\n",
      "       int sprintf(char *str, const char *format, ...);\n",
      "       int snprintf(char *str, size_t size, const char *format, ...);\n",
      "\n",
      "       #include <stdarg.h>\n",
      "\n",
      "       int vprintf(const char *format, va_list ap);\n",
      "       int vfprintf(FILE *stream, const char *format, va_list ap);\n",
      "       int vdprintf(int fd, const char *format, va_list ap);\n",
      "       int vsprintf(char *str, const char *format, va_list ap);\n",
      "       int vsnprintf(char *str, size_t size, const char *format, va_list ap);\n",
      "\n",
      "   Feature Test Macro Requirements for glibc (see feature_test_macros(7)):\n",
      "\n",
      "       snprintf(), vsnprintf():\n",
      "           _XOPEN_SOURCE >= 500 || _ISOC99_SOURCE ||\n",
      "               || /* Glibc versions <= 2.19: */ _BSD_SOURCE\n",
      "\n",
      "       dprintf(), vdprintf():\n",
      "           Since glibc 2.10:\n",
      "               _POSIX_C_SOURCE >= 200809L\n",
      "           Before glibc 2.10:\n",
      "               _GNU_SOURCE\n",
      "\n",
      "DESCRIPTION\n",
      "       The functions in the printf() family produce output according to a for‐\n",
      "       mat  as  described  below.   The functions printf() and vprintf() write\n",
      "       output to stdout, the standard output stream; fprintf() and  vfprintf()\n",
      "       write  output  to  the  given  output  stream;  sprintf(),  snprintf(),\n",
      "       vsprintf() and vsnprintf() write to the character string str.\n",
      "\n",
      "       The function dprintf() is the same as fprintf() except that it  outputs\n",
      "       to a file descriptor, fd, instead of to a stdio stream.\n",
      "\n",
      "       The  functions snprintf() and vsnprintf() write at most size bytes (in‐\n",
      "       cluding the terminating null byte ('\\0')) to str.\n",
      "\n",
      "       The  functions  vprintf(),  vfprintf(),  vdprintf(),  vsprintf(),   vs‐\n",
      "       nprintf()   are   equivalent  to  the  functions  printf(),  fprintf(),\n",
      "       dprintf(), sprintf(), snprintf(), respectively, except  that  they  are\n",
      "       called with a va_list instead of a variable number of arguments.  These\n",
      "       functions do not call the va_end macro.  Because they invoke the va_arg\n",
      "       macro, the value of ap is undefined after the call.  See stdarg(3).\n",
      "\n",
      "       All  of  these functions write the output under the control of a format\n",
      "       string that specifies how subsequent arguments (or  arguments  accessed\n",
      "       via the variable-length argument facilities of stdarg(3)) are converted\n",
      "       for output.\n",
      "\n",
      "       C99 and POSIX.1-2001 specify that the results are undefined if  a  call\n",
      "       to  sprintf(), snprintf(), vsprintf(), or vsnprintf() would cause copy‐\n",
      "       ing to take place between objects that overlap  (e.g.,  if  the  target\n",
      "       string  array and one of the supplied input arguments refer to the same\n",
      "       buffer).  See NOTES.\n",
      "\n",
      "   Format of the format string\n",
      "       The format string is a character string, beginning and  ending  in  its\n",
      "       initial  shift state, if any.  The format string is composed of zero or\n",
      "       more directives: ordinary characters (not  %),  which  are  copied  un‐\n",
      "       changed  to  the  output stream; and conversion specifications, each of\n",
      "       which results in fetching zero or more subsequent arguments.  Each con‐\n",
      "       version specification is introduced by the character %, and ends with a\n",
      "       conversion specifier.  In between there may be (in this order) zero  or\n",
      "       more  flags, an optional minimum field width, an optional precision and\n",
      "       an optional length modifier.\n",
      "\n",
      "       The arguments must correspond properly (after type promotion) with  the\n",
      "       conversion  specifier.  By default, the arguments are used in the order\n",
      "       given, where each '*' (see Field width and Precision  below)  and  each\n",
      "       conversion  specifier asks for the next argument (and it is an error if\n",
      "       insufficiently many arguments are given).  One can also specify explic‐\n",
      "       itly  which  argument  is taken, at each place where an argument is re‐\n",
      "       quired, by writing \"%m$\" instead of '%' and \"*m$\" instead of '*', where\n",
      "       the  decimal integer m denotes the position in the argument list of the\n",
      "       desired argument, indexed starting from 1.  Thus,\n",
      "\n",
      "           printf(\"%*d\", width, num);\n",
      "\n",
      "       and\n",
      "\n",
      "           printf(\"%2$*1$d\", width, num);\n",
      "\n",
      "       are equivalent.  The second style allows  repeated  references  to  the\n",
      "       same  argument.  The C99 standard does not include the style using '$',\n",
      "       which comes from the Single UNIX Specification.  If the style using '$'\n",
      "       is used, it must be used throughout for all conversions taking an argu‐\n",
      "       ment and all width and precision arguments, but it may  be  mixed  with\n",
      "       \"%%\"  formats,  which do not consume an argument.  There may be no gaps\n",
      "       in the numbers of arguments specified using '$'; for example, if  argu‐\n",
      "       ments  1  and  3 are specified, argument 2 must also be specified some‐\n",
      "       where in the format string.\n",
      "\n",
      "       For some numeric conversions a radix  character  (\"decimal  point\")  or\n",
      "       thousands'  grouping  character is used.  The actual character used de‐\n",
      "       pends on the LC_NUMERIC part of the locale.  (See  setlocale(3).)   The\n",
      "       POSIX  locale uses '.' as radix character, and does not have a grouping\n",
      "       character.  Thus,\n",
      "\n",
      "               printf(\"%'.2f\", 1234567.89);\n",
      "\n",
      "       results in \"1234567.89\" in the POSIX locale,  in  \"1234567,89\"  in  the\n",
      "       nl_NL locale, and in \"1.234.567,89\" in the da_DK locale.\n",
      "\n",
      "   Flag characters\n",
      "       The character % is followed by zero or more of the following flags:\n",
      "\n",
      "       #      The  value  should  be  converted to an \"alternate form\".  For o\n",
      "              conversions, the first character of the output  string  is  made\n",
      "              zero (by prefixing a 0 if it was not zero already).  For x and X\n",
      "              conversions, a nonzero result has the string \"0x\" (or \"0X\" for X\n",
      "              conversions)  prepended  to  it.  For a, A, e, E, f, F, g, and G\n",
      "              conversions, the result will always  contain  a  decimal  point,\n",
      "              even  if  no digits follow it (normally, a decimal point appears\n",
      "              in the results of those conversions only if  a  digit  follows).\n",
      "              For g and G conversions, trailing zeros are not removed from the\n",
      "              result as they would otherwise be.  For other  conversions,  the\n",
      "              result is undefined.\n",
      "\n",
      "       0      The value should be zero padded.  For d, i, o, u, x, X, a, A, e,\n",
      "              E, f, F, g, and G conversions, the converted value is padded  on\n",
      "              the  left  with  zeros rather than blanks.  If the 0 and - flags\n",
      "              both appear, the 0 flag is ignored.  If  a  precision  is  given\n",
      "              with  a numeric conversion (d, i, o, u, x, and X), the 0 flag is\n",
      "              ignored.  For other conversions, the behavior is undefined.\n",
      "\n",
      "       -      The converted value is to be left adjusted on the  field  bound‐\n",
      "              ary.  (The default is right justification.)  The converted value\n",
      "              is padded on the right with blanks, rather than on the left with\n",
      "              blanks or zeros.  A - overrides a 0 if both are given.\n",
      "\n",
      "       ' '    (a  space)  A  blank should be left before a positive number (or\n",
      "              empty string) produced by a signed conversion.\n",
      "\n",
      "       +      A sign (+ or -) should always be placed before a number produced\n",
      "              by  a  signed  conversion.   By default, a sign is used only for\n",
      "              negative numbers.  A + overrides a space if both are used.\n",
      "\n",
      "       The five flag characters above are defined in the  C99  standard.   The\n",
      "       Single UNIX Specification specifies one further flag character.\n",
      "\n",
      "       '      For decimal conversion (i, d, u, f, F, g, G) the output is to be\n",
      "              grouped with thousands' grouping characters if the locale infor‐\n",
      "              mation  indicates any.  (See setlocale(3).)  Note that many ver‐\n",
      "              sions of gcc(1) cannot parse this option and will issue a  warn‐\n",
      "              ing.  (SUSv2 did not include %'F, but SUSv3 added it.)\n",
      "\n",
      "       glibc 2.2 adds one further flag character.\n",
      "\n",
      "       I      For decimal integer conversion (i, d, u) the output uses the lo‐\n",
      "              cale's alternative output digits, if any.   For  example,  since\n",
      "              glibc  2.2.3  this  will give Arabic-Indic digits in the Persian\n",
      "              (\"fa_IR\") locale.\n",
      "\n",
      "   Field width\n",
      "       An optional decimal digit string (with nonzero first digit)  specifying\n",
      "       a  minimum  field  width.   If the converted value has fewer characters\n",
      "       than the field width, it will be padded with spaces  on  the  left  (or\n",
      "       right, if the left-adjustment flag has been given).  Instead of a deci‐\n",
      "       mal digit string one may write \"*\" or \"*m$\" (for some  decimal  integer\n",
      "       m) to specify that the field width is given in the next argument, or in\n",
      "       the m-th argument, respectively, which must be of type int.  A negative\n",
      "       field  width is taken as a '-' flag followed by a positive field width.\n",
      "       In no case does a nonexistent or small field width cause truncation  of\n",
      "       a  field;  if the result of a conversion is wider than the field width,\n",
      "       the field is expanded to contain the conversion result.\n",
      "\n",
      "   Precision\n",
      "       An optional precision, in the form of a period ('.')   followed  by  an\n",
      "       optional  decimal  digit string.  Instead of a decimal digit string one\n",
      "       may write \"*\" or \"*m$\" (for some decimal integer m) to specify that the\n",
      "       precision  is  given in the next argument, or in the m-th argument, re‐\n",
      "       spectively, which must be of type int.  If the precision  is  given  as\n",
      "       just  '.',  the precision is taken to be zero.  A negative precision is\n",
      "       taken as if the precision were omitted.  This gives the minimum  number\n",
      "       of digits to appear for d, i, o, u, x, and X conversions, the number of\n",
      "       digits to appear after the radix character for a, A, e,  E,  f,  and  F\n",
      "       conversions,  the maximum number of significant digits for g and G con‐\n",
      "       versions, or the maximum number of characters  to  be  printed  from  a\n",
      "       string for s and S conversions.\n",
      "\n",
      "   Length modifier\n",
      "       Here, \"integer conversion\" stands for d, i, o, u, x, or X conversion.\n",
      "\n",
      "       hh     A  following  integer conversion corresponds to a signed char or\n",
      "              unsigned char argument, or a following n conversion  corresponds\n",
      "              to a pointer to a signed char argument.\n",
      "\n",
      "       h      A following integer conversion corresponds to a short int or un‐\n",
      "              signed short int argument, or a following  n  conversion  corre‐\n",
      "              sponds to a pointer to a short int argument.\n",
      "\n",
      "       l      (ell)  A  following integer conversion corresponds to a long int\n",
      "              or unsigned long int argument, or a following n conversion  cor‐\n",
      "              responds  to  a pointer to a long int argument, or a following c\n",
      "              conversion corresponds to a wint_t argument, or  a  following  s\n",
      "              conversion corresponds to a pointer to wchar_t argument.\n",
      "\n",
      "       ll     (ell-ell).  A following integer conversion corresponds to a long\n",
      "              long int or unsigned long long int argument, or  a  following  n\n",
      "              conversion corresponds to a pointer to a long long int argument.\n",
      "\n",
      "       q      A synonym for ll.  This is a nonstandard extension, derived from\n",
      "              BSD; avoid its use in new code.\n",
      "\n",
      "       L      A following a, A, e, E, f, F, g, or G conversion corresponds  to\n",
      "              a long double argument.  (C99 allows %LF, but SUSv2 does not.)\n",
      "\n",
      "       j      A  following  integer  conversion  corresponds to an intmax_t or\n",
      "              uintmax_t argument, or a following n conversion corresponds to a\n",
      "              pointer to an intmax_t argument.\n",
      "\n",
      "       z      A  following  integer  conversion  corresponds  to  a  size_t or\n",
      "              ssize_t argument, or a following n conversion corresponds  to  a\n",
      "              pointer to a size_t argument.\n",
      "\n",
      "       Z      A  nonstandard  synonym for z that predates the appearance of z.\n",
      "              Do not use in new code.\n",
      "\n",
      "       t      A following integer conversion corresponds to a ptrdiff_t  argu‐\n",
      "              ment,  or a following n conversion corresponds to a pointer to a\n",
      "              ptrdiff_t argument.\n",
      "\n",
      "       SUSv3 specifies all of the above, except for those modifiers explicitly\n",
      "       noted as being nonstandard extensions.  SUSv2 specified only the length\n",
      "       modifiers h (in hd, hi, ho, hx, hX, hn) and l (in ld, li, lo,  lx,  lX,\n",
      "       ln, lc, ls) and L (in Le, LE, Lf, Lg, LG).\n",
      "\n",
      "       As  a nonstandard extension, the GNU implementations treats ll and L as\n",
      "       synonyms, so that one can, for example, write llg (as a synonym for the\n",
      "       standards-compliant  Lg) and Ld (as a synonym for the standards compli‐\n",
      "       ant lld).  Such usage is nonportable.\n",
      "\n",
      "   Conversion specifiers\n",
      "       A character that specifies the type of conversion to be  applied.   The\n",
      "       conversion specifiers and their meanings are:\n",
      "\n",
      "       d, i   The  int  argument is converted to signed decimal notation.  The\n",
      "              precision, if any, gives the minimum number of digits that  must\n",
      "              appear;  if  the  converted  value  requires fewer digits, it is\n",
      "              padded on the left with zeros.   The  default  precision  is  1.\n",
      "              When  0  is  printed with an explicit precision 0, the output is\n",
      "              empty.\n",
      "\n",
      "       o, u, x, X\n",
      "              The unsigned int argument is converted to  unsigned  octal  (o),\n",
      "              unsigned  decimal  (u),  or unsigned hexadecimal (x and X) nota‐\n",
      "              tion.  The letters abcdef are used for x conversions;  the  let‐\n",
      "              ters  ABCDEF are used for X conversions.  The precision, if any,\n",
      "              gives the minimum number of digits that must appear; if the con‐\n",
      "              verted  value  requires  fewer  digits, it is padded on the left\n",
      "              with zeros.  The default precision is 1.  When 0 is printed with\n",
      "              an explicit precision 0, the output is empty.\n",
      "\n",
      "       e, E   The  double  argument  is  rounded  and  converted  in the style\n",
      "              [-]d.ddde±dd where there is one digit (which is nonzero  if  the\n",
      "              argument  is nonzero) before the decimal-point character and the\n",
      "              number of digits after it is equal to the precision; if the pre‐\n",
      "              cision  is  missing, it is taken as 6; if the precision is zero,\n",
      "              no decimal-point character appears.  An E  conversion  uses  the\n",
      "              letter  E  (rather than e) to introduce the exponent.  The expo‐\n",
      "              nent always contains at least two digits; if the value is  zero,\n",
      "              the exponent is 00.\n",
      "\n",
      "       f, F   The double argument is rounded and converted to decimal notation\n",
      "              in the style [-]ddd.ddd, where the number of  digits  after  the\n",
      "              decimal-point character is equal to the precision specification.\n",
      "              If the precision is missing, it is taken as 6; if the  precision\n",
      "              is  explicitly  zero,  no decimal-point character appears.  If a\n",
      "              decimal point appears, at least one digit appears before it.\n",
      "\n",
      "              (SUSv2 does not know about F and says that character string rep‐\n",
      "              resentations  for infinity and NaN may be made available.  SUSv3\n",
      "              adds a specification for F.  The C99 standard specifies \"[-]inf\"\n",
      "              or  \"[-]infinity\" for infinity, and a string starting with \"nan\"\n",
      "              for NaN, in the case of f conversion, and \"[-]INF\" or \"[-]INFIN‐\n",
      "              ITY\" or \"NAN\" in the case of F conversion.)\n",
      "\n",
      "       g, G   The  double argument is converted in style f or e (or F or E for\n",
      "              G conversions).  The precision specifies the number of  signifi‐\n",
      "              cant  digits.   If the precision is missing, 6 digits are given;\n",
      "              if the precision is zero, it is treated as 1.  Style e  is  used\n",
      "              if  the  exponent from its conversion is less than -4 or greater\n",
      "              than or equal to the precision.  Trailing zeros are removed from\n",
      "              the  fractional part of the result; a decimal point appears only\n",
      "              if it is followed by at least one digit.\n",
      "\n",
      "       a, A   (C99; not in SUSv2, but added in SUSv3) For  a  conversion,  the\n",
      "              double  argument is converted to hexadecimal notation (using the\n",
      "              letters abcdef) in the style [-]0xh.hhhhp±; for A conversion the\n",
      "              prefix  0X,  the letters ABCDEF, and the exponent separator P is\n",
      "              used.  There is one hexadecimal digit before the decimal  point,\n",
      "              and  the  number  of  digits after it is equal to the precision.\n",
      "              The default precision suffices for an  exact  representation  of\n",
      "              the value if an exact representation in base 2 exists and other‐\n",
      "              wise is sufficiently large to distinguish values of type double.\n",
      "              The digit before the decimal point is unspecified for nonnormal‐\n",
      "              ized numbers, and nonzero but otherwise unspecified for  normal‐\n",
      "              ized numbers.\n",
      "\n",
      "       c      If no l modifier is present, the int argument is converted to an\n",
      "              unsigned char, and the resulting character is written.  If an  l\n",
      "              modifier  is  present,  the  wint_t (wide character) argument is\n",
      "              converted to a multibyte sequence by a call  to  the  wcrtomb(3)\n",
      "              function, with a conversion state starting in the initial state,\n",
      "              and the resulting multibyte string is written.\n",
      "\n",
      "       s      If no l modifier is present: the const char *  argument  is  ex‐\n",
      "              pected to be a pointer to an array of character type (pointer to\n",
      "              a string).  Characters from the array are written up to (but not\n",
      "              including)  a  terminating  null  byte ('\\0'); if a precision is\n",
      "              specified, no more than the number specified are written.  If  a\n",
      "              precision  is given, no null byte need be present; if the preci‐\n",
      "              sion is not specified, or is greater than the size of the array,\n",
      "              the array must contain a terminating null byte.\n",
      "\n",
      "              If an l modifier is present: the const wchar_t * argument is ex‐\n",
      "              pected to be a pointer to an array  of  wide  characters.   Wide\n",
      "              characters  from the array are converted to multibyte characters\n",
      "              (each by a call to the wcrtomb(3) function,  with  a  conversion\n",
      "              state  starting in the initial state before the first wide char‐\n",
      "              acter), up to and including a terminating null  wide  character.\n",
      "              The  resulting  multibyte  characters are written up to (but not\n",
      "              including) the terminating null byte.  If a precision is  speci‐\n",
      "              fied,  no  more bytes than the number specified are written, but\n",
      "              no partial multibyte characters are written.  Note that the pre‐\n",
      "              cision determines the number of bytes written, not the number of\n",
      "              wide characters or screen positions.  The array must  contain  a\n",
      "              terminating null wide character, unless a precision is given and\n",
      "              it is so small that the number of bytes written exceeds  it  be‐\n",
      "              fore the end of the array is reached.\n",
      "\n",
      "       C      (Not  in  C99  or C11, but in SUSv2, SUSv3, and SUSv4.)  Synonym\n",
      "              for lc.  Don't use.\n",
      "\n",
      "       S      (Not in C99 or C11, but in SUSv2, SUSv3,  and  SUSv4.)   Synonym\n",
      "              for ls.  Don't use.\n",
      "\n",
      "       p      The  void * pointer argument is printed in hexadecimal (as if by\n",
      "              %#x or %#lx).\n",
      "\n",
      "       n      The number of characters written so far is stored into the inte‐\n",
      "              ger  pointed  to  by  the corresponding argument.  That argument\n",
      "              shall be an int *, or variant whose size  matches  the  (option‐\n",
      "              ally)  supplied  integer  length  modifier.  No argument is con‐\n",
      "              verted.  (This specifier is not supported by the  bionic  C  li‐\n",
      "              brary.)   The behavior is undefined if the conversion specifica‐\n",
      "              tion includes any flags, a field width, or a precision.\n",
      "\n",
      "       m      (Glibc extension; supported by uClibc and musl.)   Print  output\n",
      "              of strerror(errno).  No argument is required.\n",
      "\n",
      "       %      A  '%' is written.  No argument is converted.  The complete con‐\n",
      "              version specification is '%%'.\n",
      "\n",
      "RETURN VALUE\n",
      "       Upon successful return, these functions return the number of characters\n",
      "       printed (excluding the null byte used to end output to strings).\n",
      "\n",
      "       The  functions  snprintf()  and vsnprintf() do not write more than size\n",
      "       bytes (including the terminating null byte ('\\0')).  If the output  was\n",
      "       truncated  due  to  this  limit, then the return value is the number of\n",
      "       characters (excluding the terminating null byte) which would have  been\n",
      "       written  to the final string if enough space had been available.  Thus,\n",
      "       a return value of size or more means that  the  output  was  truncated.\n",
      "       (See also below under NOTES.)\n",
      "\n",
      "       If an output error is encountered, a negative value is returned.\n",
      "\n",
      "ATTRIBUTES\n",
      "       For  an  explanation  of  the  terms  used  in  this  section,  see at‐\n",
      "       tributes(7).\n",
      "\n",
      "       ┌────────────────────────┬───────────────┬────────────────┐\n",
      "       │Interface               │ Attribute     │ Value          │\n",
      "       ├────────────────────────┼───────────────┼────────────────┤\n",
      "       │printf(), fprintf(),    │ Thread safety │ MT-Safe locale │\n",
      "       │sprintf(), snprintf(),  │               │                │\n",
      "       │vprintf(), vfprintf(),  │               │                │\n",
      "       │vsprintf(), vsnprintf() │               │                │\n",
      "       └────────────────────────┴───────────────┴────────────────┘\n",
      "\n",
      "CONFORMING TO\n",
      "       fprintf(),  printf(),  sprintf(),  vprintf(),  vfprintf(),  vsprintf():\n",
      "       POSIX.1-2001, POSIX.1-2008, C89, C99.\n",
      "\n",
      "       snprintf(), vsnprintf(): POSIX.1-2001, POSIX.1-2008, C99.\n",
      "\n",
      "       The  dprintf()  and vdprintf() functions were originally GNU extensions\n",
      "       that were later standardized in POSIX.1-2008.\n",
      "\n",
      "       Concerning the return value of snprintf(),  SUSv2  and  C99  contradict\n",
      "       each other: when snprintf() is called with size=0 then SUSv2 stipulates\n",
      "       an unspecified return value less than 1, while C99  allows  str  to  be\n",
      "       NULL in this case, and gives the return value (as always) as the number\n",
      "       of characters that would have been written in case  the  output  string\n",
      "       has  been  large enough.  POSIX.1-2001 and later align their specifica‐\n",
      "       tion of snprintf() with C99.\n",
      "\n",
      "       glibc 2.1 adds length modifiers hh, j, t, and z and conversion  charac‐\n",
      "       ters a and A.\n",
      "\n",
      "       glibc  2.2  adds the conversion character F with C99 semantics, and the\n",
      "       flag character I.\n",
      "\n",
      "NOTES\n",
      "       Some programs imprudently rely on code such as the following\n",
      "\n",
      "           sprintf(buf, \"%s some further text\", buf);\n",
      "\n",
      "       to append text to buf.  However, the standards explicitly note that the\n",
      "       results  are  undefined  if source and destination buffers overlap when\n",
      "       calling sprintf(), snprintf(), vsprintf(), and vsnprintf().   Depending\n",
      "       on the version of gcc(1) used, and the compiler options employed, calls\n",
      "       such as the above will not produce the expected results.\n",
      "\n",
      "       The glibc implementation of the functions  snprintf()  and  vsnprintf()\n",
      "       conforms  to  the  C99  standard,  that is, behaves as described above,\n",
      "       since glibc version 2.1.  Until glibc 2.0.6, they would return -1  when\n",
      "       the output was truncated.\n",
      "\n",
      "BUGS\n",
      "       Because  sprintf()  and  vsprintf()  assume an arbitrarily long string,\n",
      "       callers must be careful not to overflow the actual space; this is often\n",
      "       impossible  to assure.  Note that the length of the strings produced is\n",
      "       locale-dependent and difficult to  predict.   Use  snprintf()  and  vs‐\n",
      "       nprintf() instead (or asprintf(3) and vasprintf(3)).\n",
      "\n",
      "       Code  such as printf(foo); often indicates a bug, since foo may contain\n",
      "       a % character.  If foo comes from untrusted user input, it may  contain\n",
      "       %n,  causing  the printf() call to write to memory and creating a secu‐\n",
      "       rity hole.\n",
      "\n",
      "EXAMPLE\n",
      "       To print Pi to five decimal places:\n",
      "\n",
      "           #include <math.h>\n",
      "           #include <stdio.h>\n",
      "           fprintf(stdout, \"pi = %.5f\\n\", 4 * atan(1.0));\n",
      "\n",
      "       To print a date and time in the form \"Sunday,  July  3,  10:02\",  where\n",
      "       weekday and month are pointers to strings:\n",
      "\n",
      "           #include <stdio.h>\n",
      "           fprintf(stdout, \"%s, %s %d, %.2d:%.2d\\n\",\n",
      "                   weekday, month, day, hour, min);\n",
      "\n",
      "       Many  countries use the day-month-year order.  Hence, an international‐\n",
      "       ized version must be able to print the arguments in an order  specified\n",
      "       by the format:\n",
      "\n",
      "           #include <stdio.h>\n",
      "           fprintf(stdout, format,\n",
      "                   weekday, month, day, hour, min);\n",
      "\n",
      "       where  format  depends  on locale, and may permute the arguments.  With\n",
      "       the value:\n",
      "\n",
      "           \"%1$s, %3$d. %2$s, %4$d:%5$.2d\\n\"\n",
      "\n",
      "       one might obtain \"Sonntag, 3. Juli, 10:02\".\n",
      "\n",
      "       To allocate a sufficiently large string and print into it (code correct\n",
      "       for both glibc 2.0 and glibc 2.1):\n",
      "\n",
      "       #include <stdio.h>\n",
      "       #include <stdlib.h>\n",
      "       #include <stdarg.h>\n",
      "\n",
      "       char *\n",
      "       make_message(const char *fmt, ...)\n",
      "       {\n",
      "           int size = 0;\n",
      "           char *p = NULL;\n",
      "           va_list ap;\n",
      "\n",
      "           /* Determine required size */\n",
      "\n",
      "           va_start(ap, fmt);\n",
      "           size = vsnprintf(p, size, fmt, ap);\n",
      "           va_end(ap);\n",
      "\n",
      "           if (size < 0)\n",
      "               return NULL;\n",
      "\n",
      "           size++;             /* For '\\0' */\n",
      "           p = malloc(size);\n",
      "           if (p == NULL)\n",
      "               return NULL;\n",
      "\n",
      "           va_start(ap, fmt);\n",
      "           size = vsnprintf(p, size, fmt, ap);\n",
      "           va_end(ap);\n",
      "\n",
      "           if (size < 0) {\n",
      "               free(p);\n",
      "               return NULL;\n",
      "           }\n",
      "\n",
      "           return p;\n",
      "       }\n",
      "\n",
      "       If  truncation occurs in glibc versions prior to 2.0.6, this is treated\n",
      "       as an error instead of being handled gracefully.\n",
      "\n",
      "SEE ALSO\n",
      "       printf(1), asprintf(3), puts(3), scanf(3),  setlocale(3),  strfromd(3),\n",
      "       wcrtomb(3), wprintf(3), locale(5)\n",
      "\n",
      "COLOPHON\n",
      "       This  page  is  part of release 5.05 of the Linux man-pages project.  A\n",
      "       description of the project, information about reporting bugs,  and  the\n",
      "       latest     version     of     this    page,    can    be    found    at\n",
      "       https://www.kernel.org/doc/man-pages/.\n",
      "\n",
      "GNU                               2019-10-10                         PRINTF(3)\n"
     ]
    }
   ],
   "source": [
    "!man 3 printf"
   ]
  },
  {
   "cell_type": "markdown",
   "id": "3bf00125-3e34-407d-bf1d-b21823196eff",
   "metadata": {
    "jp-MarkdownHeadingCollapsed": true,
    "tags": []
   },
   "source": [
    "###  date"
   ]
  },
  {
   "cell_type": "markdown",
   "id": "e2822a96-30e7-47b8-ae45-028e1198c267",
   "metadata": {},
   "source": [
    "打印或设置系统时间"
   ]
  },
  {
   "cell_type": "code",
   "execution_count": 4,
   "id": "ce8869eb-4d32-45a8-88f3-c854c6e25234",
   "metadata": {},
   "outputs": [
    {
     "name": "stdout",
     "output_type": "stream",
     "text": [
      "18:56:43\n"
     ]
    }
   ],
   "source": [
    "!date +%T"
   ]
  },
  {
   "cell_type": "code",
   "execution_count": 5,
   "id": "211650a1-dc8c-4c29-a82d-e6936803c8ae",
   "metadata": {},
   "outputs": [
    {
     "name": "stdout",
     "output_type": "stream",
     "text": [
      "2023/12/06\n"
     ]
    }
   ],
   "source": [
    "!date +%Y/%m/%d"
   ]
  },
  {
   "cell_type": "code",
   "execution_count": 7,
   "id": "c16f1c9c-118a-4dbb-be9f-00b0901e3526",
   "metadata": {},
   "outputs": [
    {
     "name": "stdout",
     "output_type": "stream",
     "text": [
      "18:57\n"
     ]
    }
   ],
   "source": [
    "!date +%H:%M"
   ]
  },
  {
   "cell_type": "code",
   "execution_count": 8,
   "id": "68b9e23a-1726-411f-8c72-c324d97fb7c0",
   "metadata": {},
   "outputs": [
    {
     "name": "stdout",
     "output_type": "stream",
     "text": [
      " 当前时间为： 2023/12/06 18:57:53\n"
     ]
    }
   ],
   "source": [
    "!date +\" 当前时间为： %Y/%m/%d %H:%M:%S\""
   ]
  },
  {
   "cell_type": "code",
   "execution_count": 10,
   "id": "7f7da1dc-2417-49ec-9a27-da4ea78f49ec",
   "metadata": {},
   "outputs": [
    {
     "name": "stdout",
     "output_type": "stream",
     "text": [
      " 三个月之后： 2024/03/06 18:58:22\n"
     ]
    }
   ],
   "source": [
    "!date +\" 三个月之后： %Y/%m/%d %H:%M:%S\" -d \"+3 month\""
   ]
  },
  {
   "cell_type": "code",
   "execution_count": 11,
   "id": "9bfa3b0c-a37d-4d3f-94c8-f5a1d7c0c922",
   "metadata": {},
   "outputs": [
    {
     "name": "stdout",
     "output_type": "stream",
     "text": [
      " 三天前： 2023/12/03 18:58:44\n"
     ]
    }
   ],
   "source": [
    "!date +\" 三天前： %Y/%m/%d %H:%M:%S\" -d \"-3 day\""
   ]
  },
  {
   "cell_type": "code",
   "execution_count": 12,
   "id": "5234f5a0-6ad1-4ad1-af86-0bc8640834c9",
   "metadata": {},
   "outputs": [
    {
     "name": "stdout",
     "output_type": "stream",
     "text": [
      "date: 无法设置日期: 不允许的操作\n",
      "2030年 01月 11日 星期五 19:43:44 CST\n"
     ]
    }
   ],
   "source": [
    "!date -s \"20300111 19:43:44\""
   ]
  },
  {
   "cell_type": "markdown",
   "id": "2a88eca4-77bf-461d-b8ec-d7b69c3b3b78",
   "metadata": {
    "jp-MarkdownHeadingCollapsed": true,
    "tags": []
   },
   "source": [
    "###  df"
   ]
  },
  {
   "cell_type": "markdown",
   "id": "ea29cf50-02c3-42e1-9329-8acecdb292b9",
   "metadata": {},
   "source": [
    "报告系统磁盘使用情况"
   ]
  },
  {
   "cell_type": "markdown",
   "id": "b8084316-819b-49b3-8db0-7a79440d2ecd",
   "metadata": {},
   "source": [
    "常用参数：  \n",
    "-a ： 列出所有文件系统  \n",
    "-k ： 列出磁盘的分配情况（ KB ）  \n",
    "-h ： 同 -k ， 但大小以 G 、 M ， K 单位显示  \n",
    "-l ： 仅列出本地文件系统  "
   ]
  },
  {
   "cell_type": "markdown",
   "id": "03714f30-d522-4ca9-b37f-82cdc9925b5f",
   "metadata": {},
   "source": [
    "###  du"
   ]
  },
  {
   "cell_type": "markdown",
   "id": "4019b029-debe-4c18-813b-90bf54308cca",
   "metadata": {},
   "source": [
    "统计文件空间使用情况"
   ]
  },
  {
   "cell_type": "markdown",
   "id": "043d0814-411b-4aa2-a9ab-63c438dc9848",
   "metadata": {},
   "source": [
    "常用参数：  \n",
    "-a ： 列出所有的对应目录及子目录所占大小  \n",
    "-h ： 列出磁盘的使用情况（ KB ）  \n",
    "-s ： 列出总的占用空间（ KB ）  "
   ]
  },
  {
   "cell_type": "markdown",
   "id": "60d7e283-d940-4b57-a6b0-b07389c7f1d9",
   "metadata": {
    "tags": []
   },
   "source": [
    "## 输出命令"
   ]
  },
  {
   "cell_type": "markdown",
   "id": "bbb5c041-b9a3-4296-82a9-46b2f07e1cd6",
   "metadata": {},
   "source": [
    "+ Echo the STRING(s) to standard output.  \n",
    "-n do not output the trailing newline  不输出尾部换行符  \n",
    "-e enable interpretation of backslash escapes  启用对反斜杠转义字符的解释  \n",
    "-E disable interpretation of backslash escapes (default)  取消对反斜杠转义字符的解释"
   ]
  },
  {
   "cell_type": "code",
   "execution_count": 13,
   "id": "825517ad-9eb9-4225-9d5b-1b0fbea5e7bc",
   "metadata": {},
   "outputs": [
    {
     "name": "stdout",
     "output_type": "stream",
     "text": [
      "Hello World\n"
     ]
    }
   ],
   "source": [
    "!echo \"Hello World\""
   ]
  },
  {
   "cell_type": "code",
   "execution_count": 14,
   "id": "db73854d-a2ce-4a10-a082-15b4ef93a2d7",
   "metadata": {},
   "outputs": [
    {
     "name": "stdout",
     "output_type": "stream",
     "text": [
      "Hello World"
     ]
    }
   ],
   "source": [
    "!echo -n \"Hello World\""
   ]
  },
  {
   "cell_type": "code",
   "execution_count": 15,
   "id": "9c87dc09-ead5-46dd-84b3-bf754c2c8693",
   "metadata": {},
   "outputs": [
    {
     "name": "stdout",
     "output_type": "stream",
     "text": [
      "Hello World\\n\n"
     ]
    }
   ],
   "source": [
    "!echo \"Hello World\\n\""
   ]
  },
  {
   "cell_type": "code",
   "execution_count": 16,
   "id": "42e505f1-826f-4dca-a038-b67cfc1edd2b",
   "metadata": {},
   "outputs": [
    {
     "name": "stdout",
     "output_type": "stream",
     "text": [
      "Hello World\n",
      "\n"
     ]
    }
   ],
   "source": [
    "!echo -e \"Hello World\\n\""
   ]
  },
  {
   "cell_type": "code",
   "execution_count": 17,
   "id": "1c068902-e1a2-420a-8662-1a53f436b65a",
   "metadata": {},
   "outputs": [
    {
     "name": "stdout",
     "output_type": "stream",
     "text": [
      "Hello World\\n\n"
     ]
    }
   ],
   "source": [
    "!echo -E \"Hello World\\n\""
   ]
  },
  {
   "cell_type": "markdown",
   "id": "dfdcf6ae-6700-49d4-b9a4-754b7c2f5203",
   "metadata": {
    "jp-MarkdownHeadingCollapsed": true,
    "tags": [],
    "toc-hr-collapsed": true
   },
   "source": [
    "## 输入输出重定向"
   ]
  },
  {
   "cell_type": "markdown",
   "id": "33b76ea7-6b59-4af4-bdcb-0b8c98256e75",
   "metadata": {},
   "source": [
    "### 什么是重定向  \n",
    "输入 / 输出重定向是改变 shell 命令或程序默认的标准输入 / 输出目标， 重新定向到新的目标。"
   ]
  },
  {
   "cell_type": "markdown",
   "id": "b9ab2876-2dea-49a9-b8df-470590c916e1",
   "metadata": {},
   "source": [
    "### 默认的输入输出位置是哪里  \n",
    "l i nux 中默认的标准输入定义为键盘，标准输出定义为终端窗口。  \n",
    "标准输入： （ stdin ， 文件描述符为 0 ） ： 默认从键盘输入  \n",
    "标准输出： （ stdout ， 文件描述符为 1 ） ： 默认输出到屏幕。  \n",
    "标准出错： （ stderr ， 文件描述符为 2 ） ： 默认输出到屏幕。  "
   ]
  },
  {
   "cell_type": "markdown",
   "id": "1e8c5436-8c45-4dbd-82e4-27a46323f494",
   "metadata": {},
   "source": [
    "### 为什么要使用重定向  \n",
    "1. 当屏幕输出的信息很重要时，而且希望保存重要的信息时  \n",
    "2. 后台执行中的程序，不希望它干扰屏幕正常的输出结果时  \n",
    "3. 系统的例行命令，例如定时任务的执行结果，希望他可以存下来  \n",
    "4. 一些执行命令，我们已经知道他可能出现错误信息，想把它直接丢掉时  \n",
    "5. 执行一个命令，可能报错和正确的输出并序，类似错误日志与标准正确日志需要分别输出至不同的文件。  "
   ]
  },
  {
   "cell_type": "markdown",
   "id": "6499a305-8e2e-48eb-bb41-fc757e6f3143",
   "metadata": {},
   "source": [
    "### 输出重定向重定向符"
   ]
  },
  {
   "cell_type": "markdown",
   "id": "ab970d24-72cb-4c06-a71b-26b53a8516f8",
   "metadata": {},
   "source": [
    "#### 输出重定向"
   ]
  },
  {
   "cell_type": "markdown",
   "id": "89a4dfd2-7343-4556-9c7d-282345a34c23",
   "metadata": {},
   "source": [
    " \\> file  \n",
    " 将 file 文件重定向为输出源，新建模式 "
   ]
  },
  {
   "cell_type": "code",
   "execution_count": 23,
   "id": "452f60f8-de3f-4bd2-b744-5a0044fa74c8",
   "metadata": {},
   "outputs": [
    {
     "name": "stdout",
     "output_type": "stream",
     "text": [
      "\u001b[?1000h\u001b7\u001b[?47h\u001b[>4;2m\u001b[?1h\u001b=\u001b[?2004h\u001b[1;24r\u001b[?12h\u001b[?12l\u001b[22;2t\u001b[22;1t\u001b[29m\u001b[m\u001b[H\u001b[2J\u001b[?25l\u001b[24;1H\"Lsoutput.txt\" 12L, 70C\u001b[2;1H▽\u001b[6n\u001b[2;1H  \u001b[1;1H\u001b[>c\u001b]10;?\u0007\u001b]11;?\u0007\u001b[1;1H\u001b[1m\u001b[4m\u001b[33m  1 \u001b[m\u001b[4mbin                                                                         \u001b[m\u001b[2;1H\u001b[1m\u001b[33m  2 \u001b[mgames\n",
      "\u001b[1m\u001b[33m  3 \u001b[minclude\n",
      "\u001b[1m\u001b[33m  4 \u001b[mlib\n",
      "\u001b[1m\u001b[33m  5 \u001b[mlib32\n",
      "\u001b[1m\u001b[33m  6 \u001b[mlib64\n",
      "\u001b[1m\u001b[33m  7 \u001b[mlibexec\n",
      "\u001b[1m\u001b[33m  8 \u001b[mlibx32\n",
      "\u001b[1m\u001b[33m  9 \u001b[mlocal\n",
      "\u001b[1m\u001b[33m 10 \u001b[msbin\n",
      "\u001b[1m\u001b[33m 11 \u001b[mshare\n",
      "\u001b[1m\u001b[33m 12 \u001b[msrc\n",
      "\u001b[1m\u001b[34m~                                                                               \u001b[14;1H~                                                                               \u001b[15;1H~                                                                               \u001b[16;1H~                                                                               \u001b[17;1H~                                                                               \u001b[18;1H~                                                                               \u001b[19;1H~                                                                               \u001b[20;1H~                                                                               \u001b[21;1H~                                                                               \u001b[22;1H~                                                                               \u001b[m\u001b[23;1H\u001b[1m\u001b[7mLsoutput.txt                                                  1,1           全部\u001b[1;5H\u001b[?25h\u001b[?25l\u001b[m\u001b[24;1H输入  :qa 并按回车键来退出 Vim\u0007\u001b[1;5H\u001b[?25h"
     ]
    }
   ],
   "source": [
    "!ls /usr > Lsoutput.txt \n",
    "!vi Lsoutput.txt"
   ]
  },
  {
   "cell_type": "markdown",
   "id": "af9bb2d8-3f1a-4820-9f0d-5bce1dede869",
   "metadata": {},
   "source": [
    "将执行结果写到 Lsoutput.txt 文件中,若有同名文件将被删除"
   ]
  },
  {
   "cell_type": "markdown",
   "id": "809c64f6-6c63-4877-bc7c-c1076305f22f",
   "metadata": {},
   "source": [
    "  "
   ]
  },
  {
   "cell_type": "markdown",
   "id": "633cb4d8-f11d-467e-94fa-b7c5240b548a",
   "metadata": {},
   "source": [
    "\\>> file  \n",
    "将 file 文件重定向为输出源,追加模式 "
   ]
  },
  {
   "cell_type": "code",
   "execution_count": 20,
   "id": "27646382-3fd3-4549-8cb9-5c46a8f199d0",
   "metadata": {},
   "outputs": [
    {
     "name": "stdout",
     "output_type": "stream",
     "text": [
      "\u001b[?1000h\u001b7\u001b[?47h\u001b[>4;2m\u001b[?1h\u001b=\u001b[?2004h\u001b[1;24r\u001b[?12h\u001b[?12l\u001b[22;2t\u001b[22;1t\u001b[29m\u001b[m\u001b[H\u001b[2J\u001b[?25l\u001b[24;1H\"Lsoutput.txt\" 24L, 140C\u001b[2;1H▽\u001b[6n\u001b[2;1H  \u001b[1;1H\u001b[>c\u001b]10;?\u0007\u001b]11;?\u0007\u001b[1;1H\u001b[1m\u001b[4m\u001b[33m  1 \u001b[m\u001b[4mbin                                                                         \u001b[m\u001b[2;1H\u001b[1m\u001b[33m  2 \u001b[mgames\n",
      "\u001b[1m\u001b[33m  3 \u001b[minclude\n",
      "\u001b[1m\u001b[33m  4 \u001b[mlib\n",
      "\u001b[1m\u001b[33m  5 \u001b[mlib32\n",
      "\u001b[1m\u001b[33m  6 \u001b[mlib64\n",
      "\u001b[1m\u001b[33m  7 \u001b[mlibexec\n",
      "\u001b[1m\u001b[33m  8 \u001b[mlibx32\n",
      "\u001b[1m\u001b[33m  9 \u001b[mlocal\n",
      "\u001b[1m\u001b[33m 10 \u001b[msbin\n",
      "\u001b[1m\u001b[33m 11 \u001b[mshare\n",
      "\u001b[1m\u001b[33m 12 \u001b[msrc\n",
      "\u001b[1m\u001b[33m 13 \u001b[mbin\n",
      "\u001b[1m\u001b[33m 14 \u001b[mgames\n",
      "\u001b[1m\u001b[33m 15 \u001b[minclude\n",
      "\u001b[1m\u001b[33m 16 \u001b[mlib\n",
      "\u001b[1m\u001b[33m 17 \u001b[mlib32\n",
      "\u001b[1m\u001b[33m 18 \u001b[mlib64\n",
      "\u001b[1m\u001b[33m 19 \u001b[mlibexec\n",
      "\u001b[1m\u001b[33m 20 \u001b[mlibx32\n",
      "\u001b[1m\u001b[33m 21 \u001b[mlocal\n",
      "\u001b[1m\u001b[33m 22 \u001b[msbin\n",
      "\u001b[1m\u001b[7mLsoutput.txt                                                  1,1           顶端\u001b[1;5H\u001b[?25h\u001b[?25l\u001b[m\u001b[24;1H输入  :qa 并按回车键来退出 Vim\u0007\u001b[1;5H\u001b[?25h"
     ]
    }
   ],
   "source": [
    "!ls /usr >> Lsoutput.txt \n",
    "!vi Lsoutput.txt "
   ]
  },
  {
   "cell_type": "markdown",
   "id": "db5333de-5fe9-42bb-be54-7b80e9c05406",
   "metadata": {},
   "source": [
    "将 ls /usr 的执行结果,追加到 Lsoutput.txt 文件已有内容后  "
   ]
  },
  {
   "cell_type": "markdown",
   "id": "b6676dae-ecca-4d02-8947-a8d429993ee3",
   "metadata": {},
   "source": [
    "  "
   ]
  },
  {
   "cell_type": "markdown",
   "id": "41e1c739-a06a-445b-b465-09fba7c3a1c1",
   "metadata": {},
   "source": [
    "2> 或 &>  \n",
    "将由命令产生的错误信息输入到文件中 "
   ]
  },
  {
   "cell_type": "code",
   "execution_count": 24,
   "id": "2162d038-d5e4-4e90-821d-3528a0fed597",
   "metadata": {},
   "outputs": [
    {
     "name": "stdout",
     "output_type": "stream",
     "text": [
      "ls: 无法访问 'noexistingfile.txt': 没有那个文件或目录\n"
     ]
    }
   ],
   "source": [
    "!ls noexistingfile.txt 2> err.log \n",
    "!cat err.log"
   ]
  },
  {
   "cell_type": "markdown",
   "id": "27c2f681-32c3-488d-a4de-025ed25a8e7d",
   "metadata": {},
   "source": [
    "使用 ls 命令,查看一个不存在的文件时,将系统错误提示保存在 err.log 文件中 "
   ]
  },
  {
   "cell_type": "markdown",
   "id": "f5e959ff-2a7d-4a1f-8807-92db7461afc2",
   "metadata": {},
   "source": [
    "  "
   ]
  },
  {
   "cell_type": "markdown",
   "id": "bca84546-998a-49de-97db-1d88a4191a4e",
   "metadata": {},
   "source": [
    "2>&1  \n",
    "将标准出错重定向到标 准输出 "
   ]
  },
  {
   "cell_type": "code",
   "execution_count": 26,
   "id": "38a6f16e-8bf7-4747-b6f7-d57f6b663b24",
   "metadata": {},
   "outputs": [
    {
     "name": "stdout",
     "output_type": "stream",
     "text": [
      "test\n"
     ]
    }
   ],
   "source": [
    "!ls test > log 2>&1\n",
    "!cat log"
   ]
  },
  {
   "cell_type": "markdown",
   "id": "c947ee75-5b64-4e15-81e9-2d6a06e43098",
   "metadata": {},
   "source": [
    "标准输出和标准出错信息都输出到 log 文件 "
   ]
  },
  {
   "cell_type": "markdown",
   "id": "78ab0f7b-a752-4efe-b586-e077dde32d64",
   "metadata": {},
   "source": [
    "#### 输入重定向"
   ]
  },
  {
   "cell_type": "code",
   "execution_count": null,
   "id": "e0ffc4da-6f95-47df-9779-d99780292cbd",
   "metadata": {},
   "outputs": [],
   "source": [
    "\\< file  \n",
    "将file文件重定向为输入源"
   ]
  },
  {
   "cell_type": "code",
   "execution_count": 38,
   "id": "ee8f7f0b-6123-4def-b763-8f1654b300db",
   "metadata": {},
   "outputs": [
    {
     "name": "stdout",
     "output_type": "stream",
     "text": [
      "file1.txt^C\n"
     ]
    }
   ],
   "source": [
    "!cat < file2.txt"
   ]
  },
  {
   "cell_type": "markdown",
   "id": "71b3e23b-c62b-40e5-baad-5e7e84024488",
   "metadata": {},
   "source": [
    "将 file1 中的内容作为输入传给 cat 命令"
   ]
  },
  {
   "cell_type": "markdown",
   "id": "11fb094c-a040-401d-8f50-f2250f1eff17",
   "metadata": {},
   "source": [
    "  "
   ]
  },
  {
   "cell_type": "markdown",
   "id": "b58226fa-724b-4353-b30d-c91a74d958c5",
   "metadata": {},
   "source": [
    "<< 分界符  \n",
    "表示从标准输入设备（键盘） 中读入， 直到遇到分界符才停止（读入的数据不包括分界符）， 这里的分界符其实就是自定义的字符串"
   ]
  },
  {
   "cell_type": "code",
   "execution_count": 32,
   "id": "90620de1-eb93-4198-ba97-3befda49a704",
   "metadata": {},
   "outputs": [
    {
     "name": "stdout",
     "output_type": "stream",
     "text": [
      "/bin/bash: 警告： 立即文档在第 0 行被文件结束符分隔 (需要“9”)\n"
     ]
    }
   ],
   "source": [
    "!cat << 9"
   ]
  },
  {
   "cell_type": "markdown",
   "id": "29a75771-f14d-438e-8325-9856b4eb0f1c",
   "metadata": {},
   "source": [
    "当遇到输入 9 时， 输入结束"
   ]
  },
  {
   "cell_type": "markdown",
   "id": "c472692d-b0f3-4e17-b1bb-cdacd2df8cc5",
   "metadata": {},
   "source": [
    "  "
   ]
  },
  {
   "cell_type": "markdown",
   "id": "1cb14318-5d35-46ef-b51b-1888f5ac3f04",
   "metadata": {},
   "source": [
    "命令 < 文 件 1 > 文 件 2  \n",
    "将文件 1 作为命令的输入设备，该命令的执行 结果输出到文件 2 中。"
   ]
  },
  {
   "cell_type": "code",
   "execution_count": 36,
   "id": "f830a9c4-e351-4850-b090-489b518224ab",
   "metadata": {},
   "outputs": [
    {
     "name": "stdout",
     "output_type": "stream",
     "text": [
      "hello\n",
      "world\n"
     ]
    }
   ],
   "source": [
    "!cat < file1.txt > log\n",
    "!cat log"
   ]
  },
  {
   "cell_type": "markdown",
   "id": "76b9c2a6-71c5-431c-b7a7-6a77710ac6cf",
   "metadata": {},
   "source": [
    "file 作为 cat 命令的输出，把 cat 的输出结果，输出到 log 文件中"
   ]
  },
  {
   "cell_type": "markdown",
   "id": "6eb94971-9dc7-4cfa-a859-210620e9ed39",
   "metadata": {
    "jp-MarkdownHeadingCollapsed": true,
    "tags": []
   },
   "source": [
    "## 通配符"
   ]
  },
  {
   "cell_type": "markdown",
   "id": "3894becb-7197-4479-a9fb-56a437d1e0e5",
   "metadata": {},
   "source": [
    "通配符是一种特殊语句，通配符是用来代替字符的"
   ]
  },
  {
   "cell_type": "markdown",
   "id": "3fbef8f1-5001-486d-b38e-f292a733b196",
   "metadata": {},
   "source": [
    "星号（ * ）  \n",
    "匹配任意长度的字符串用  \n",
    "file_*.txt  \n",
    "匹配 file_wang.txt 、 file_Lee.txt 、 file3_Liu.txt  \n",
    "问号（ ? ）  \n",
    "匹配一个长度的字符用  \n",
    "flie_?.txt  \n",
    "匹配 file_1.txt 、 file1_2.txt 、 file_3.txt  \n",
    "方括号 （ […] ）  \n",
    "匹配其中指定的一个字符用  \n",
    "file_[otr].txt  \n",
    "匹配 file_o.txt 、 file_r.txt 和 file_t.txt  \n",
    "方括号 （ [ - ] ） \n",
    "匹配指定的一个字符范围用  \n",
    "file_[a-z].txt \n",
    "匹配 file_a.txt 、 file_b.txt ， 直到 file_z.txt  \n",
    "方括号 （ [^…] ）  \n",
    "除了其中指定的字符 均可匹配  \n",
    "file_[^otr].txt  \n",
    "除了 file_o.txt 、 file_r.txt 和 file_t.txt 的其他文件  "
   ]
  },
  {
   "cell_type": "markdown",
   "id": "1018174c-0025-4f1f-b167-a56efd3677bc",
   "metadata": {
    "jp-MarkdownHeadingCollapsed": true,
    "tags": []
   },
   "source": [
    "## 管道"
   ]
  },
  {
   "cell_type": "markdown",
   "id": "09182816-9bbb-4b91-afcb-daf5d9f144e4",
   "metadata": {
    "tags": []
   },
   "source": [
    "用 ｜ 将前一个命令的输出结果交给后面的命令，要保证前一个命令有输出结果"
   ]
  },
  {
   "cell_type": "code",
   "execution_count": 40,
   "id": "8a864c32-27c9-43df-9f62-69b613da5016",
   "metadata": {},
   "outputs": [
    {
     "name": "stdout",
     "output_type": "stream",
     "text": [
      "hello\n",
      "world\n"
     ]
    }
   ],
   "source": [
    "!cat file1.txt"
   ]
  },
  {
   "cell_type": "code",
   "execution_count": 39,
   "id": "5ed6982c-9cf6-4d65-b773-bf8cf8be4cf8",
   "metadata": {},
   "outputs": [
    {
     "name": "stdout",
     "output_type": "stream",
     "text": [
      "2\n"
     ]
    }
   ],
   "source": [
    "!cat file1.txt | wc -l #line"
   ]
  },
  {
   "cell_type": "code",
   "execution_count": 41,
   "id": "4ec7c786-d3b0-439d-a990-5f2763becfb0",
   "metadata": {},
   "outputs": [
    {
     "name": "stdout",
     "output_type": "stream",
     "text": [
      "2\n"
     ]
    }
   ],
   "source": [
    "!cat file1.txt | wc -w #words"
   ]
  },
  {
   "cell_type": "code",
   "execution_count": 42,
   "id": "0bd26152-f270-4912-b898-d189989d5489",
   "metadata": {},
   "outputs": [
    {
     "name": "stdout",
     "output_type": "stream",
     "text": [
      "12\n"
     ]
    }
   ],
   "source": [
    "!cat file1.txt | wc -c # character"
   ]
  },
  {
   "cell_type": "code",
   "execution_count": 43,
   "id": "bec070b3-a31b-48d4-959d-1b1ce835ead1",
   "metadata": {},
   "outputs": [
    {
     "name": "stdout",
     "output_type": "stream",
     "text": [
      "hello\n"
     ]
    }
   ],
   "source": [
    "!cat file1.txt | grep 'hello' #查找是否有‘hello‘"
   ]
  },
  {
   "cell_type": "markdown",
   "id": "894b41e2-f7ef-40a0-98d4-34d9d4beada6",
   "metadata": {
    "jp-MarkdownHeadingCollapsed": true,
    "tags": []
   },
   "source": [
    "## 命令转换"
   ]
  },
  {
   "cell_type": "markdown",
   "id": "d6c73501-3d6f-45e3-b9cd-2dccad594ed6",
   "metadata": {},
   "source": [
    "用于将命令的结果赋给一个变量"
   ]
  },
  {
   "cell_type": "code",
   "execution_count": 45,
   "id": "a2c507a7-40fc-46b7-ad90-9d692d45089b",
   "metadata": {},
   "outputs": [
    {
     "name": "stdout",
     "output_type": "stream",
     "text": [
      "/bin/bash: a：未找到命令\n",
      "\n"
     ]
    }
   ],
   "source": [
    "!a = `ls`\n",
    "!echo $a"
   ]
  },
  {
   "cell_type": "markdown",
   "id": "8574ba48-ab49-4ea4-8c83-e8bb63815fde",
   "metadata": {
    "jp-MarkdownHeadingCollapsed": true,
    "tags": []
   },
   "source": [
    "## 查看文件相关命令"
   ]
  },
  {
   "cell_type": "markdown",
   "id": "62ac1873-1d8d-4b74-9f79-913e152bd41b",
   "metadata": {},
   "source": [
    "+ cat 将文件内容输出到标准输出\n",
    "+ cat 直接用将等待用户输入，并重复输出用户的输入\n",
    "+ tac 反向输出"
   ]
  },
  {
   "cell_type": "markdown",
   "id": "f88721e8-2392-44c5-8af8-8e988c79ef38",
   "metadata": {},
   "source": [
    "+ more file  当文件内容过多，可以用该命令分屏显示文件内容  \n",
    "常用的交互命令如下：  \n",
    "+ 空格键：向下翻页。\n",
    "+ b：向上翻页。\n",
    "+ 回车键：向下滚动一行。\n",
    "+ /字符串：搜索指定的字符串。\n",
    "+ q：退出。"
   ]
  },
  {
   "cell_type": "markdown",
   "id": "350ce6cd-1e05-400a-a28b-e9e35efc1585",
   "metadata": {},
   "source": [
    "+ less file 当分行显示文件内容  \n",
    "+ 命令可以使用“方向键”上下翻行；使用“pgup/pgdn”上下翻页  "
   ]
  },
  {
   "cell_type": "markdown",
   "id": "f59e1656-2f2b-4c4d-addc-88b6c115fb5e",
   "metadata": {},
   "source": [
    "+ head 显示前10行"
   ]
  },
  {
   "cell_type": "markdown",
   "id": "bdf08553-df8a-4f8e-84c9-8eb49c55222b",
   "metadata": {
    "jp-MarkdownHeadingCollapsed": true,
    "tags": []
   },
   "source": [
    "## 硬软链接"
   ]
  },
  {
   "cell_type": "markdown",
   "id": "342ae753-b512-4bbb-9466-8c283b76775c",
   "metadata": {},
   "source": [
    "+ 硬链接是利用 Linux 中为每个文件分配的物理编号—— inode 建立链接。 因此硬链接不能跨越文件系统。\n",
    "+ 软链接（符号链接）是利用文件的路径名建立链接。 通常建立软链接使用绝对路径而不是相对路径，以最大限度增加可移植性。"
   ]
  },
  {
   "cell_type": "code",
   "execution_count": 1,
   "id": "603b0077-fd00-4c9a-9896-ddca470cc05c",
   "metadata": {},
   "outputs": [
    {
     "name": "stdout",
     "output_type": "stream",
     "text": [
      "2115268 file1.txt\n"
     ]
    }
   ],
   "source": [
    "!ls -i file1.txt #使用ls -i 来查看文件inode号"
   ]
  },
  {
   "cell_type": "markdown",
   "id": "f62641f0-7223-431a-98fc-521c52469740",
   "metadata": {},
   "source": [
    "创建硬链接：  \n",
    "ln target link_name  "
   ]
  },
  {
   "cell_type": "code",
   "execution_count": 2,
   "id": "0af2a77d-6ed6-403c-9219-f673dc455846",
   "metadata": {},
   "outputs": [
    {
     "name": "stdout",
     "output_type": "stream",
     "text": [
      "2115268 file_hard\n"
     ]
    }
   ],
   "source": [
    "!ln file1.txt file_hard\n",
    "!ls -i file_hard "
   ]
  },
  {
   "cell_type": "markdown",
   "id": "a86198ff-7f53-4f17-aede-db58ad51a2be",
   "metadata": {},
   "source": [
    "如果使用vi打开并修改file_hard 的内容\n",
    "用vi打开 file1.txt 会发现file1的内容也被同步修改"
   ]
  },
  {
   "cell_type": "markdown",
   "id": "821cdc0f-a938-447a-9218-967090f51b5c",
   "metadata": {},
   "source": [
    "创建软链接：  \n",
    "ln -s target link_name  "
   ]
  },
  {
   "cell_type": "code",
   "execution_count": 5,
   "id": "bca15e0c-5083-4198-8837-cc73f8afacd9",
   "metadata": {},
   "outputs": [
    {
     "name": "stdout",
     "output_type": "stream",
     "text": [
      "lrwxrwxrwx 1 legendfantasy legendfantasy 9 12月  7 14:43 file_soft -> file1.txt\n"
     ]
    }
   ],
   "source": [
    "!ln -s file1.txt file_soft \n",
    "!ls -l file_soft"
   ]
  },
  {
   "cell_type": "markdown",
   "id": "bee6c0c5-09af-471c-9fbf-cfd74a29f19f",
   "metadata": {},
   "source": [
    "果使用vi打开并修改file_soft 的内容\n",
    "用vi打开 file1.txt 会发现file1的内容也被同步修改"
   ]
  },
  {
   "cell_type": "markdown",
   "id": "94736beb-a83a-48a6-8ab5-3df578176927",
   "metadata": {},
   "source": [
    "硬软链接的区别  \n",
    "如果是修改硬链接的目标文件名，链接依然有效；  \n",
    "如果修改软链接的目标文件名， 则链接将断开；  \n",
    "对一个已存在的链接文件执行移动或删除操作，有可能导致链接的断开。  \n",
    "假如删除目标文件后，重新创建一个同名文件，软链接将恢复，硬链接不再有效，因为文件的 inode 已经改变。  "
   ]
  },
  {
   "cell_type": "markdown",
   "id": "0c608541-50c7-4c58-b355-210302a28325",
   "metadata": {},
   "source": [
    "+ 硬链接通常用于对文件进行备份  \n",
    "+ 软链接通常用于文件路径很长，用软链接来代替文件进行操作"
   ]
  },
  {
   "cell_type": "markdown",
   "id": "c8f3f68d-8d28-4ef1-8cfa-3020f7cc3ec2",
   "metadata": {
    "tags": [],
    "toc-hr-collapsed": true
   },
   "source": [
    "## 文件处理相关命令"
   ]
  },
  {
   "cell_type": "markdown",
   "id": "5dceba9e-71af-43e2-8d58-f8345e48975f",
   "metadata": {},
   "source": [
    "### 查找文件命令"
   ]
  },
  {
   "cell_type": "markdown",
   "id": "b143422c-def2-490b-b051-3fd574df200b",
   "metadata": {
    "tags": []
   },
   "source": [
    "### 查找文件内容命令"
   ]
  },
  {
   "cell_type": "markdown",
   "id": "3b4d9095-2610-453b-b013-02125b394a4d",
   "metadata": {
    "jp-MarkdownHeadingCollapsed": true,
    "tags": []
   },
   "source": [
    " #### find "
   ]
  },
  {
   "cell_type": "markdown",
   "id": "f446e288-734a-41ed-b123-035d5e4d22e5",
   "metadata": {},
   "source": [
    "search for files in a directory hierarchy  \n",
    "语法： find [ 起始目录 ]  \n",
    "相关选项  \n",
    "-name ' 字串 ' 查找文件名匹配所给字串的所有文件，字串内可用通配符 * 、 ? 、 [ ] 。  \n",
    "-iname ' 字串 ' 忽略大小写的方式查找  \n",
    "-type x 查找类型为 x 的文件  \n",
    "-exec 命令名称 {} 对符合条件的文件执行所给的 Linux 命令，而不询问用户是否需要执行该命令。 {} 表示命令的参数即为所找到的文件；命令的末尾必 须以“ \\ ； ” 结束。  "
   ]
  },
  {
   "cell_type": "code",
   "execution_count": 1,
   "id": "e61a5607-f66c-4a80-8a4d-8f380d6f8c6e",
   "metadata": {},
   "outputs": [
    {
     "name": "stdout",
     "output_type": "stream",
     "text": [
      "./file1.txt\n"
     ]
    }
   ],
   "source": [
    "!find . -name \"file1.txt\""
   ]
  },
  {
   "cell_type": "code",
   "execution_count": 4,
   "id": "309731b6-8c4e-480a-b9cd-bce369d7e99d",
   "metadata": {},
   "outputs": [],
   "source": [
    "!find . -name \"file\"  #没找到就没有输出"
   ]
  },
  {
   "cell_type": "code",
   "execution_count": 5,
   "id": "e1ad435a-7bd0-4eb3-8e0e-e92bd4773e19",
   "metadata": {
    "collapsed": true,
    "jupyter": {
     "outputs_hidden": true
    },
    "tags": []
   },
   "outputs": [
    {
     "name": "stdout",
     "output_type": "stream",
     "text": [
      "/usr/share/file\n",
      "/usr/share/perl5/Biber/Input/file\n",
      "/usr/share/perl5/URI/file\n",
      "/usr/share/bash-completion/completions/file\n",
      "/usr/share/doc/file\n",
      "/usr/share/bug/file\n",
      "/usr/lib/file\n",
      "/usr/lib/apt/methods/file\n",
      "/usr/bin/file\n"
     ]
    }
   ],
   "source": [
    "!find /usr -name \"file\""
   ]
  },
  {
   "cell_type": "code",
   "execution_count": 6,
   "id": "db738539-b2d2-4278-864d-97a7b0621204",
   "metadata": {
    "collapsed": true,
    "jupyter": {
     "outputs_hidden": true
    },
    "tags": []
   },
   "outputs": [
    {
     "name": "stdout",
     "output_type": "stream",
     "text": [
      "/usr/share/perl/5.30.0/File\n",
      "/usr/share/perl/5.30.0/TAP/Formatter/File\n",
      "/usr/share/perl5/Log/Dispatch/File\n",
      "/usr/share/perl5/File\n",
      "/usr/share/perl5/Lintian/File\n",
      "/usr/share/doc/lintian/api.html/Lintian/File\n",
      "/usr/lib/x86_64-linux-gnu/perl/5.30.0/File\n",
      "/usr/lib/x86_64-linux-gnu/perl/5.30.0/auto/File\n",
      "/usr/lib/x86_64-linux-gnu/perl5/5.30/File\n",
      "/usr/lib/x86_64-linux-gnu/perl5/5.30/auto/File\n",
      "/usr/lib/x86_64-linux-gnu/perl-base/File\n",
      "/usr/lib/x86_64-linux-gnu/perl-base/auto/File\n"
     ]
    }
   ],
   "source": [
    "!find /usr -name \"File\""
   ]
  },
  {
   "cell_type": "code",
   "execution_count": 8,
   "id": "4bbc940b-ebc1-4e9e-9e6c-876e2436c103",
   "metadata": {
    "collapsed": true,
    "jupyter": {
     "outputs_hidden": true
    },
    "tags": []
   },
   "outputs": [
    {
     "name": "stdout",
     "output_type": "stream",
     "text": [
      "/usr/share/file\n",
      "/usr/share/perl/5.30.0/File\n",
      "/usr/share/perl/5.30.0/TAP/Formatter/File\n",
      "/usr/share/perl5/Log/Dispatch/File\n",
      "/usr/share/perl5/File\n",
      "/usr/share/perl5/Biber/Input/file\n",
      "/usr/share/perl5/Lintian/File\n",
      "/usr/share/perl5/URI/file\n",
      "/usr/share/bash-completion/completions/file\n",
      "/usr/share/doc/file\n",
      "/usr/share/doc/lintian/api.html/Lintian/File\n",
      "/usr/share/bug/file\n",
      "/usr/lib/file\n",
      "/usr/lib/apt/methods/file\n",
      "/usr/lib/x86_64-linux-gnu/perl/5.30.0/File\n",
      "/usr/lib/x86_64-linux-gnu/perl/5.30.0/auto/File\n",
      "/usr/lib/x86_64-linux-gnu/perl5/5.30/File\n",
      "/usr/lib/x86_64-linux-gnu/perl5/5.30/auto/File\n",
      "/usr/lib/x86_64-linux-gnu/perl-base/File\n",
      "/usr/lib/x86_64-linux-gnu/perl-base/auto/File\n",
      "/usr/bin/file\n"
     ]
    }
   ],
   "source": [
    "!find /usr -iname \"File\""
   ]
  },
  {
   "cell_type": "code",
   "execution_count": 9,
   "id": "6822a2a4-d7f8-4aab-aac6-e17023729345",
   "metadata": {
    "collapsed": true,
    "jupyter": {
     "outputs_hidden": true
    },
    "tags": []
   },
   "outputs": [
    {
     "name": "stdout",
     "output_type": "stream",
     "text": [
      "./.vscode/tasks.json\n",
      "./.vscode/launch.json\n",
      "./file1.txt\n",
      "./1.log\n",
      "./指针.ipynb\n",
      "./file2.txt\n",
      "./test\n",
      "./tempCodeRunnerFile.python\n",
      "./Linux.ipynb\n",
      "./sogoupinyin_4.0.1.2800_x86_64.deb\n",
      "./log\n",
      "./未命名.ipynb\n",
      "./test.c\n",
      "./file_hard\n",
      "./test1.c\n",
      "./a.out\n",
      "./err.log\n",
      "./Lsoutput.txt\n",
      "./test2.c\n",
      "./.ipynb_checkpoints/Linux-checkpoint.ipynb\n",
      "./.ipynb_checkpoints/未命名-checkpoint.ipynb\n",
      "./.ipynb_checkpoints/指针-checkpoint.ipynb\n",
      "./.ipynb_checkpoints/file2-checkpoint.txt\n",
      "./.ipynb_checkpoints/file1-checkpoint.txt\n"
     ]
    }
   ],
   "source": [
    "!find . -type f "
   ]
  },
  {
   "cell_type": "code",
   "execution_count": 10,
   "id": "84cfb4ca-5b65-41fe-b7bb-07f6d154eac0",
   "metadata": {},
   "outputs": [],
   "source": [
    "!find . -name \"file\" -a -type l"
   ]
  },
  {
   "cell_type": "code",
   "execution_count": 11,
   "id": "7b9a91e5-4765-472e-94cb-8f6eac00a754",
   "metadata": {
    "collapsed": true,
    "jupyter": {
     "outputs_hidden": true
    },
    "tags": []
   },
   "outputs": [
    {
     "name": "stdout",
     "output_type": "stream",
     "text": [
      "./file_soft\n"
     ]
    }
   ],
   "source": [
    "!find . -name \"file\" -o -type l"
   ]
  },
  {
   "cell_type": "code",
   "execution_count": 16,
   "id": "2c6449e0-bc51-44b0-8e7a-f283880f881b",
   "metadata": {
    "collapsed": true,
    "jupyter": {
     "outputs_hidden": true
    },
    "tags": []
   },
   "outputs": [
    {
     "name": "stdout",
     "output_type": "stream",
     "text": [
      ".\n",
      "./.vscode\n",
      "./.vscode/tasks.json\n",
      "./.vscode/launch.json\n",
      "./file1.txt\n",
      "./1.log\n",
      "./指针.ipynb\n",
      "./file2.txt\n",
      "./test\n",
      "./tempCodeRunnerFile.python\n",
      "./Linux.ipynb\n",
      "./sogoupinyin_4.0.1.2800_x86_64.deb\n",
      "./log\n",
      "./未命名.ipynb\n",
      "./test.c\n",
      "./file_hard\n",
      "./test1.c\n",
      "./file_soft\n",
      "./a.out\n",
      "./err.log\n",
      "./Lsoutput.txt\n",
      "./pointerfunc\n",
      "./test2.c\n",
      "./.ipynb_checkpoints\n",
      "./.ipynb_checkpoints/Linux-checkpoint.ipynb\n",
      "./.ipynb_checkpoints/未命名-checkpoint.ipynb\n",
      "./.ipynb_checkpoints/指针-checkpoint.ipynb\n",
      "./.ipynb_checkpoints/file2-checkpoint.txt\n",
      "./.ipynb_checkpoints/file1-checkpoint.txt\n"
     ]
    }
   ],
   "source": [
    "!find . ! -name \"file\""
   ]
  },
  {
   "cell_type": "code",
   "execution_count": 18,
   "id": "98be2869-5cc8-4773-a984-71c7fe6e4d03",
   "metadata": {},
   "outputs": [
    {
     "name": "stdout",
     "output_type": "stream",
     "text": [
      "./file3.txt\n",
      "find: 缺少“-exec”参数\n"
     ]
    }
   ],
   "source": [
    "!find . -name \"file3.txt\"\n",
    "!find . -name \"file3.txt\" -exec rm {}\\;"
   ]
  },
  {
   "cell_type": "markdown",
   "id": "ef3ecf17-f252-4b3b-b35b-07c1441e4962",
   "metadata": {
    "jp-MarkdownHeadingCollapsed": true,
    "tags": []
   },
   "source": [
    "#### grep"
   ]
  },
  {
   "cell_type": "markdown",
   "id": "4f0c244d-350c-4ec2-97b3-3e3db2a94d80",
   "metadata": {},
   "source": [
    "grep, egrep, fgrep, rgrep  \n",
    "print lines that match patterns  \n",
    "语法： grep [ 选项 ] 要查找的内容 查找的位置"
   ]
  },
  {
   "cell_type": "markdown",
   "id": "68efd296-97fc-4517-a379-dd7d3e21560d",
   "metadata": {},
   "source": [
    "常用选项：  \n",
    "-A 除了显示符合范本样式的那一列之外，并显示该行之后的内容  \n",
    "-B 除了显示符合样式的那一行之外，并显示该行之前的内容  \n",
    "-C 除了显示符合样式的那一行之外，并显示该行之前后的内容  \n",
    "-i 忽略字符大小写的差别  \n",
    "-r 查找位置是目录时用  \n",
    "-n 在显示符合样式的那一行之前，标示出该行的列数编号  "
   ]
  },
  {
   "cell_type": "markdown",
   "id": "7cb84c0e-98ed-44b1-9b1b-9de72df12cbb",
   "metadata": {
    "tags": []
   },
   "source": [
    "### 文件处理3剑客"
   ]
  },
  {
   "cell_type": "markdown",
   "id": "6087cbd2-cc33-41d0-8b05-8d88f1fb02f5",
   "metadata": {},
   "source": [
    "#### cut"
   ]
  },
  {
   "cell_type": "markdown",
   "id": "41a55d6e-bf23-4528-ab11-5db82cdc7145",
   "metadata": {},
   "source": [
    "remove sections from each line of files  \n",
    "从文件中去掉几行  "
   ]
  },
  {
   "cell_type": "markdown",
   "id": "59e11086-60f6-4536-a6c9-475544eddd42",
   "metadata": {},
   "source": [
    "帮助信息：  \n",
    "-b ： 以字节为单位取出固定字符区间  \n",
    "-c ：以字符 的单位取出固定字符区间；  \n",
    "-d ：后面接分隔字符。与 -f 一起使用；  \n",
    "-f ：依据 -d 的分隔字符将一段信息分割成为数段，用 -f 取出第几段的意思；  "
   ]
  },
  {
   "cell_type": "markdown",
   "id": "84c611ad-95c0-42a0-a664-6b71eb29c6c6",
   "metadata": {},
   "source": [
    "#### sed"
   ]
  },
  {
   "cell_type": "markdown",
   "id": "9f63ad95-c3d1-4d35-8223-e0c9b56b6d8d",
   "metadata": {},
   "source": [
    "stream editor for filtering and transforming text"
   ]
  },
  {
   "cell_type": "markdown",
   "id": "7aa613af-5685-460d-b8fa-2041e18bc790",
   "metadata": {},
   "source": [
    "-r ：使用扩展正则表达式  \n",
    "-e ：它告诉 sed 将下一个参数解释为一个 sed 指令，只有当命令行上给出多个 sed 指令时才需要使用 -e 选项  \n",
    "-i ：直接对内容进行修改，不加 -i 时默认只是预览，不会对文件做实际修改  \n",
    "-n ：取消默认输出， sed 默认会输出所有文本内容，使用 -n 参数后只显示处理过的行  "
   ]
  },
  {
   "cell_type": "markdown",
   "id": "8568bee1-f899-4461-925c-968376c8b6a7",
   "metadata": {},
   "source": [
    "编辑命令  \n",
    "a: 追加  \n",
    "i: 插入  \n",
    "d: 删除  \n",
    "s: 替换  \n",
    "p: 打印  "
   ]
  },
  {
   "cell_type": "markdown",
   "id": "503fe388-8e83-4c6e-aaf6-b2157d84db6b",
   "metadata": {},
   "source": [
    "#### awk"
   ]
  },
  {
   "cell_type": "markdown",
   "id": "0c51870c-23ce-4f34-8ff3-58f7b418435d",
   "metadata": {},
   "source": [
    "awk '{[pattern] action}' {filenames} # 行匹配语句 awk '' 只能用单引号  \n",
    "$n 当前记录的第 n 个字段，字段间由 FS 分隔  \n",
    "$0 完整的输入记录  \n",
    "NF 一条记录的字段的数目  \n",
    "NR 已经读出的记录数，就是行号，从 1 开始  "
   ]
  },
  {
   "cell_type": "markdown",
   "id": "fe4f8e33-4cf0-42ee-853c-590015b4c3d5",
   "metadata": {},
   "source": [
    "## 解压缩相关命令"
   ]
  },
  {
   "cell_type": "markdown",
   "id": "bad14ba2-12f0-44f7-95c0-cfe1b4e877ac",
   "metadata": {},
   "source": [
    "### gzip 和 gunzip"
   ]
  },
  {
   "cell_type": "markdown",
   "id": "38a26fa2-a32c-4198-8293-b59009b9e941",
   "metadata": {},
   "source": [
    "将一个文件压缩成 .gz 格式的压缩文件，移植性好  \n",
    "这个命令没有归档功能，每次只能压缩一个文件。生成相应名字的压缩包  "
   ]
  },
  {
   "cell_type": "code",
   "execution_count": null,
   "id": "d8b100bc-2a81-4dca-a289-cedaf005b34d",
   "metadata": {},
   "outputs": [],
   "source": [
    "gzip test"
   ]
  },
  {
   "cell_type": "code",
   "execution_count": null,
   "id": "4070090e-b7a5-4a6e-961d-857f9eeeee34",
   "metadata": {},
   "outputs": [],
   "source": [
    "unzip test"
   ]
  },
  {
   "cell_type": "markdown",
   "id": "05a74014-34ab-47d7-9b67-222dc338968a",
   "metadata": {
    "jp-MarkdownHeadingCollapsed": true,
    "tags": []
   },
   "source": [
    "### bzip2 和 bunzip2"
   ]
  },
  {
   "cell_type": "markdown",
   "id": "65c7474e-e99c-4231-821a-da3a31495043",
   "metadata": {},
   "source": [
    "bzip2 命令是 .bz2 文件的压缩程序  \n",
    "bzip2 在性能上优于 gzip ，提供了最大限度的压缩比率  "
   ]
  },
  {
   "cell_type": "markdown",
   "id": "4eef2749-4647-42cf-b2f7-4208781d6eb9",
   "metadata": {
    "jp-MarkdownHeadingCollapsed": true,
    "tags": []
   },
   "source": [
    "### zip 和 unzip"
   ]
  },
  {
   "cell_type": "markdown",
   "id": "a195c0fa-f5cf-43dd-a07a-507230c35fb9",
   "metadata": {},
   "source": [
    "压缩后的文件后缀名为 .zip ，可以压缩目录，原文件保留。  \n",
    "方便在 Linux 和微软 Windows 间交换文件  "
   ]
  },
  {
   "cell_type": "markdown",
   "id": "9024bef0-b9a2-4d4c-812e-1502a0453a61",
   "metadata": {
    "jp-MarkdownHeadingCollapsed": true,
    "tags": []
   },
   "source": [
    "### tar"
   ]
  },
  {
   "cell_type": "markdown",
   "id": "42fa155c-1f8d-4490-b0d0-9c0176ffb1b8",
   "metadata": {},
   "source": [
    "ar 命令符号模式的一般语法格式为：  \n",
    "tar \\[ -t | -x | -r | -c | -v | -f | -j | -z ] tarfile filelist  \n",
    "-t 显示归档文件的内容  \n",
    "-x 释放归档文件  \n",
    "-c 创建一个新的归档文件  \n",
    "-r 追加的方式归档文件  \n",
    "-v 显示归档和释放的过程信息  \n",
    "-f 用户指定归档文件的文件名，否则使用默认名称  \n",
    "-j 由 tar 生成归档，然后由 bzip2 压缩  \n",
    "-z 由 tar 生成归档，然后由 gzip 压缩  "
   ]
  },
  {
   "cell_type": "markdown",
   "id": "1ffe6a62-0218-4937-87f8-0dc3bbf9bdc7",
   "metadata": {
    "jp-MarkdownHeadingCollapsed": true,
    "tags": [],
    "toc-hr-collapsed": true
   },
   "source": [
    "## 进程处理"
   ]
  },
  {
   "cell_type": "markdown",
   "id": "ae879438-7ad3-4c96-878f-30704f88ef29",
   "metadata": {},
   "source": [
    "每一个进程都有其地址空间\n",
    "1. 文本区域（text region)\n",
    "2. 数据区域（data region)\n",
    "3. 堆栈区域（stack region)"
   ]
  },
  {
   "cell_type": "markdown",
   "id": "8c1c8f37-850f-4b45-8a88-9adc9a4ae654",
   "metadata": {},
   "source": [
    "### 查看进程命令  \n",
    "ps -elf\n",
    "ps -aux"
   ]
  },
  {
   "cell_type": "code",
   "execution_count": 1,
   "id": "50b0a28f-e52f-4bcd-ad70-5305833c80df",
   "metadata": {},
   "outputs": [
    {
     "name": "stdout",
     "output_type": "stream",
     "text": [
      "    PID TTY          TIME CMD\n",
      "   5749 pts/1    00:00:00 ps\n"
     ]
    }
   ],
   "source": [
    "!ps"
   ]
  },
  {
   "cell_type": "code",
   "execution_count": 2,
   "id": "d9f2c387-0b29-43b1-9fbb-19e6da17f176",
   "metadata": {
    "collapsed": true,
    "jupyter": {
     "outputs_hidden": true,
     "source_hidden": true
    },
    "tags": []
   },
   "outputs": [
    {
     "name": "stdout",
     "output_type": "stream",
     "text": [
      "F S UID          PID    PPID  C PRI  NI ADDR SZ WCHAN  STIME TTY          TIME CMD\n",
      "4 S root           1       0  0  80   0 - 42160 -      06:38 ?        00:00:01 /sbin/init splash\n",
      "1 S root           2       0  0  80   0 -     0 -      06:38 ?        00:00:00 [kthreadd]\n",
      "1 I root           3       2  0  60 -20 -     0 -      06:38 ?        00:00:00 [rcu_gp]\n",
      "1 I root           4       2  0  60 -20 -     0 -      06:38 ?        00:00:00 [rcu_par_gp]\n",
      "1 I root           5       2  0  60 -20 -     0 -      06:38 ?        00:00:00 [slub_flushwq]\n",
      "1 I root           6       2  0  60 -20 -     0 -      06:38 ?        00:00:00 [netns]\n",
      "1 I root           8       2  0  60 -20 -     0 -      06:38 ?        00:00:00 [kworker/0:0H-events_highpri]\n",
      "1 I root          10       2  0  60 -20 -     0 -      06:38 ?        00:00:00 [mm_percpu_wq]\n",
      "1 S root          11       2  0  80   0 -     0 -      06:38 ?        00:00:00 [rcu_tasks_rude_]\n",
      "1 S root          12       2  0  80   0 -     0 -      06:38 ?        00:00:00 [rcu_tasks_trace]\n",
      "1 S root          13       2  0  80   0 -     0 -      06:38 ?        00:00:00 [ksoftirqd/0]\n",
      "1 I root          14       2  0  80   0 -     0 -      06:38 ?        00:00:00 [rcu_sched]\n",
      "1 S root          15       2  0 -40   - -     0 -      06:38 ?        00:00:00 [migration/0]\n",
      "1 S root          16       2  0   9   - -     0 -      06:38 ?        00:00:00 [idle_inject/0]\n",
      "1 I root          17       2  0  80   0 -     0 -      06:38 ?        00:00:00 [kworker/0:1-events]\n",
      "1 S root          18       2  0  80   0 -     0 -      06:38 ?        00:00:00 [cpuhp/0]\n",
      "5 S root          19       2  0  80   0 -     0 -      06:38 ?        00:00:00 [cpuhp/1]\n",
      "1 S root          20       2  0   9   - -     0 -      06:38 ?        00:00:00 [idle_inject/1]\n",
      "1 S root          21       2  0 -40   - -     0 -      06:38 ?        00:00:00 [migration/1]\n",
      "1 S root          22       2  0  80   0 -     0 -      06:38 ?        00:00:00 [ksoftirqd/1]\n",
      "1 I root          24       2  0  60 -20 -     0 -      06:38 ?        00:00:00 [kworker/1:0H-kblockd]\n",
      "5 S root          25       2  0  80   0 -     0 -      06:38 ?        00:00:00 [cpuhp/2]\n",
      "1 S root          26       2  0   9   - -     0 -      06:38 ?        00:00:00 [idle_inject/2]\n",
      "1 S root          27       2  0 -40   - -     0 -      06:38 ?        00:00:00 [migration/2]\n",
      "1 S root          28       2  0  80   0 -     0 -      06:38 ?        00:00:00 [ksoftirqd/2]\n",
      "1 I root          30       2  0  60 -20 -     0 -      06:38 ?        00:00:00 [kworker/2:0H-events_highpri]\n",
      "5 S root          31       2  0  80   0 -     0 -      06:38 ?        00:00:00 [cpuhp/3]\n",
      "1 S root          32       2  0   9   - -     0 -      06:38 ?        00:00:00 [idle_inject/3]\n",
      "1 S root          33       2  0 -40   - -     0 -      06:38 ?        00:00:00 [migration/3]\n",
      "1 S root          34       2  0  80   0 -     0 -      06:38 ?        00:00:00 [ksoftirqd/3]\n",
      "1 I root          36       2  0  60 -20 -     0 -      06:38 ?        00:00:00 [kworker/3:0H-events_highpri]\n",
      "5 S root          37       2  0  80   0 -     0 -      06:38 ?        00:00:00 [cpuhp/4]\n",
      "1 S root          38       2  0   9   - -     0 -      06:38 ?        00:00:00 [idle_inject/4]\n",
      "1 S root          39       2  0 -40   - -     0 -      06:38 ?        00:00:00 [migration/4]\n",
      "1 S root          40       2  0  80   0 -     0 -      06:38 ?        00:00:00 [ksoftirqd/4]\n",
      "1 I root          42       2  0  60 -20 -     0 -      06:38 ?        00:00:00 [kworker/4:0H-events_highpri]\n",
      "5 S root          43       2  0  80   0 -     0 -      06:38 ?        00:00:00 [cpuhp/5]\n",
      "1 S root          44       2  0   9   - -     0 -      06:38 ?        00:00:00 [idle_inject/5]\n",
      "1 S root          45       2  0 -40   - -     0 -      06:38 ?        00:00:00 [migration/5]\n",
      "1 S root          46       2  0  80   0 -     0 -      06:38 ?        00:00:00 [ksoftirqd/5]\n",
      "1 I root          48       2  0  60 -20 -     0 -      06:38 ?        00:00:00 [kworker/5:0H-events_highpri]\n",
      "5 S root          49       2  0  80   0 -     0 -      06:38 ?        00:00:00 [cpuhp/6]\n",
      "1 S root          50       2  0   9   - -     0 -      06:38 ?        00:00:00 [idle_inject/6]\n",
      "1 S root          51       2  0 -40   - -     0 -      06:38 ?        00:00:00 [migration/6]\n",
      "1 S root          52       2  0  80   0 -     0 -      06:38 ?        00:00:00 [ksoftirqd/6]\n",
      "1 I root          54       2  0  60 -20 -     0 -      06:38 ?        00:00:00 [kworker/6:0H-events_highpri]\n",
      "5 S root          55       2  0  80   0 -     0 -      06:38 ?        00:00:00 [cpuhp/7]\n",
      "1 S root          56       2  0   9   - -     0 -      06:38 ?        00:00:00 [idle_inject/7]\n",
      "1 S root          57       2  0 -40   - -     0 -      06:38 ?        00:00:00 [migration/7]\n",
      "1 S root          58       2  0  80   0 -     0 -      06:38 ?        00:00:00 [ksoftirqd/7]\n",
      "1 I root          60       2  0  60 -20 -     0 -      06:38 ?        00:00:00 [kworker/7:0H-events_highpri]\n",
      "5 S root          61       2  0  80   0 -     0 -      06:38 ?        00:00:00 [kdevtmpfs]\n",
      "1 I root          62       2  0  60 -20 -     0 -      06:38 ?        00:00:00 [inet_frag_wq]\n",
      "1 S root          63       2  0  80   0 -     0 -      06:38 ?        00:00:00 [kauditd]\n",
      "1 S root          64       2  0  80   0 -     0 -      06:38 ?        00:00:00 [khungtaskd]\n",
      "1 S root          65       2  0  80   0 -     0 -      06:38 ?        00:00:00 [oom_reaper]\n",
      "1 I root          66       2  0  60 -20 -     0 -      06:38 ?        00:00:00 [writeback]\n",
      "1 S root          67       2  0  80   0 -     0 -      06:38 ?        00:00:00 [kcompactd0]\n",
      "1 S root          68       2  0  85   5 -     0 -      06:38 ?        00:00:00 [ksmd]\n",
      "1 S root          69       2  0  99  19 -     0 -      06:38 ?        00:00:00 [khugepaged]\n",
      "1 I root          75       2  0  80   0 -     0 -      06:38 ?        00:00:00 [kworker/3:1-events]\n",
      "1 I root          79       2  0  80   0 -     0 -      06:38 ?        00:00:00 [kworker/2:1-events]\n",
      "1 I root         117       2  0  60 -20 -     0 -      06:38 ?        00:00:00 [kintegrityd]\n",
      "1 I root         118       2  0  60 -20 -     0 -      06:38 ?        00:00:00 [kblockd]\n",
      "1 I root         119       2  0  60 -20 -     0 -      06:38 ?        00:00:00 [blkcg_punt_bio]\n",
      "1 I root         120       2  0  80   0 -     0 -      06:38 ?        00:00:00 [kworker/1:1-events]\n",
      "1 I root         121       2  0  80   0 -     0 -      06:38 ?        00:00:00 [kworker/4:1-events]\n",
      "1 I root         122       2  0  80   0 -     0 -      06:38 ?        00:00:00 [kworker/5:1-events]\n",
      "1 I root         123       2  0  80   0 -     0 -      06:38 ?        00:00:00 [kworker/6:1-events]\n",
      "5 I root         125       2  0  80   0 -     0 -      06:38 ?        00:00:00 [kworker/u16:1-ext4-rsv-conversion]\n",
      "1 I root         126       2  0  60 -20 -     0 -      06:38 ?        00:00:00 [tpm_dev_wq]\n",
      "1 I root         127       2  0  60 -20 -     0 -      06:38 ?        00:00:00 [ata_sff]\n",
      "1 I root         128       2  0  60 -20 -     0 -      06:38 ?        00:00:00 [md]\n",
      "1 I root         129       2  0  60 -20 -     0 -      06:38 ?        00:00:00 [edac-poller]\n",
      "1 I root         130       2  0  60 -20 -     0 -      06:38 ?        00:00:00 [devfreq_wq]\n",
      "1 S root         131       2  0   9   - -     0 -      06:38 ?        00:00:00 [watchdogd]\n",
      "1 I root         132       2  0  60 -20 -     0 -      06:38 ?        00:00:00 [kworker/0:1H-events_highpri]\n",
      "1 S root         134       2  0  80   0 -     0 -      06:38 ?        00:00:00 [kswapd0]\n",
      "1 S root         135       2  0  80   0 -     0 -      06:38 ?        00:00:00 [ecryptfs-kthrea]\n",
      "1 I root         137       2  0  60 -20 -     0 -      06:38 ?        00:00:00 [kthrotld]\n",
      "1 S root         138       2  0   9   - -     0 -      06:38 ?        00:00:00 [irq/122-aerdrv]\n",
      "1 S root         139       2  0   9   - -     0 -      06:38 ?        00:00:00 [irq/122-pcie-dp]\n",
      "1 S root         140       2  0   9   - -     0 -      06:38 ?        00:00:00 [irq/123-aerdrv]\n",
      "1 S root         141       2  0   9   - -     0 -      06:38 ?        00:00:00 [irq/123-pcie-dp]\n",
      "1 I root         142       2  0  60 -20 -     0 -      06:38 ?        00:00:00 [acpi_thermal_pm]\n",
      "1 I root         144       2  0  60 -20 -     0 -      06:38 ?        00:00:00 [vfio-irqfd-clea]\n",
      "1 I root         145       2  0  60 -20 -     0 -      06:38 ?        00:00:00 [mld]\n",
      "1 I root         146       2  0  60 -20 -     0 -      06:38 ?        00:00:00 [kworker/4:1H-events_highpri]\n",
      "1 I root         147       2  0  60 -20 -     0 -      06:38 ?        00:00:00 [ipv6_addrconf]\n",
      "1 I root         156       2  0  60 -20 -     0 -      06:38 ?        00:00:00 [kstrp]\n",
      "1 I root         159       2  0  60 -20 -     0 -      06:38 ?        00:00:00 [zswap-shrink]\n",
      "1 I root         160       2  0  60 -20 -     0 -      06:38 ?        00:00:00 [kworker/u17:0-hci0]\n",
      "1 I root         167       2  0  60 -20 -     0 -      06:38 ?        00:00:00 [charger_manager]\n",
      "1 I root         168       2  0  80   0 -     0 -      06:38 ?        00:00:00 [kworker/4:2-cgroup_destroy]\n",
      "1 I root         190       2  0  60 -20 -     0 -      06:38 ?        00:00:00 [kworker/5:1H-events_highpri]\n",
      "1 I root         221       2  0  60 -20 -     0 -      06:38 ?        00:00:00 [kworker/6:1H-events_highpri]\n",
      "1 I root         226       2  0  80   0 -     0 -      06:38 ?        00:00:00 [kworker/1:2-events]\n",
      "1 I root         227       2  0  60 -20 -     0 -      06:38 ?        00:00:00 [nvme-wq]\n",
      "1 I root         228       2  0  60 -20 -     0 -      06:38 ?        00:00:00 [nvme-reset-wq]\n",
      "1 I root         229       2  0  60 -20 -     0 -      06:38 ?        00:00:00 [nvme-delete-wq]\n",
      "1 I root         230       2  0  60 -20 -     0 -      06:38 ?        00:00:00 [sdhci]\n",
      "1 S root         231       2  0   9   - -     0 -      06:38 ?        00:00:00 [irq/19-mmc0]\n",
      "1 S root         232       2  0  80   0 -     0 -      06:38 ?        00:00:00 [scsi_eh_0]\n",
      "1 I root         233       2  0  60 -20 -     0 -      06:38 ?        00:00:00 [scsi_tmf_0]\n",
      "1 S root         234       2  0   9   - -     0 -      06:38 ?        00:00:00 [irq/126-0000:00]\n",
      "1 S root         235       2  0  80   0 -     0 -      06:38 ?        00:00:00 [scsi_eh_1]\n",
      "1 I root         236       2  0  60 -20 -     0 -      06:38 ?        00:00:00 [scsi_tmf_1]\n",
      "1 I root         239       2  0  60 -20 -     0 -      06:38 ?        00:00:00 [kworker/3:1H-events_highpri]\n",
      "1 S root         243       2  0   9   - -     0 -      06:38 ?        00:00:00 [irq/127-SYNA30A]\n",
      "1 I root         244       2  0  60 -20 -     0 -      06:38 ?        00:00:00 [kworker/7:1H-kblockd]\n",
      "1 I root         247       2  0  80   0 -     0 -      06:38 ?        00:00:00 [kworker/u16:6-i915]\n",
      "1 I root         248       2  0  80   0 -     0 -      06:38 ?        00:00:00 [kworker/3:2-cgroup_destroy]\n",
      "1 I root         249       2  0  80   0 -     0 -      06:38 ?        00:00:00 [kworker/7:2-events]\n",
      "1 I root         250       2  0  80   0 -     0 -      06:38 ?        00:00:00 [kworker/0:2-events]\n",
      "1 I root         252       2  0  60 -20 -     0 -      06:38 ?        00:00:00 [kworker/2:1H-kblockd]\n",
      "1 I root         253       2  0  80   0 -     0 -      06:38 ?        00:00:00 [kworker/7:3-events]\n",
      "1 I root         279       2  0  60 -20 -     0 -      06:38 ?        00:00:00 [kworker/1:1H-kblockd]\n",
      "1 S root         281       2  0  80   0 -     0 -      06:38 ?        00:00:00 [jbd2/nvme0n1p8-]\n",
      "1 I root         282       2  0  60 -20 -     0 -      06:38 ?        00:00:00 [ext4-rsv-conver]\n",
      "4 S root         330       1  0  79  -1 - 24904 -      06:38 ?        00:00:00 /lib/systemd/systemd-journald\n",
      "1 I root         354       2  0  60 -20 -     0 -      06:38 ?        00:00:00 [rpciod]\n",
      "1 I root         355       2  0  60 -20 -     0 -      06:38 ?        00:00:00 [xprtiod]\n",
      "1 S root         360       1  0  80   0 -  1348 -      06:38 ?        00:00:00 /usr/sbin/blkmapd\n",
      "4 S root         365       1  0  80   0 -  6321 -      06:38 ?        00:00:00 /lib/systemd/systemd-udevd\n",
      "1 I root         431       2  0  80   0 -     0 -      06:38 ?        00:00:00 [kworker/6:2-events]\n",
      "1 I root         433       2  0  80   0 -     0 -      06:38 ?        00:00:00 [kworker/2:2-cgroup_destroy]\n",
      "1 S root         435       2  0   9   - -     0 -      06:38 ?        00:00:00 [irq/138-mei_me]\n",
      "1 I root         436       2  0  80   0 -     0 -      06:38 ?        00:00:00 [kworker/5:2-cgroup_destroy]\n",
      "1 I root         439       2  0  60 -20 -     0 -      06:38 ?        00:00:00 [cfg80211]\n",
      "1 S root         450       2  0   9   - -     0 -      06:38 ?        00:00:00 [irq/139-iwlwifi]\n",
      "1 S root         451       2  0   9   - -     0 -      06:38 ?        00:00:00 [irq/140-iwlwifi]\n",
      "1 S root         452       2  0   9   - -     0 -      06:38 ?        00:00:00 [irq/141-iwlwifi]\n",
      "1 S root         453       2  0   9   - -     0 -      06:38 ?        00:00:00 [irq/142-iwlwifi]\n",
      "1 S root         454       2  0   9   - -     0 -      06:38 ?        00:00:00 [irq/143-iwlwifi]\n",
      "1 S root         455       2  0   9   - -     0 -      06:38 ?        00:00:00 [irq/144-iwlwifi]\n",
      "1 S root         456       2  0   9   - -     0 -      06:38 ?        00:00:00 [irq/145-iwlwifi]\n",
      "1 S root         457       2  0   9   - -     0 -      06:38 ?        00:00:00 [irq/146-iwlwifi]\n",
      "1 S root         458       2  0   9   - -     0 -      06:38 ?        00:00:00 [irq/147-iwlwifi]\n",
      "1 S root         459       2  0   9   - -     0 -      06:38 ?        00:00:00 [irq/148-iwlwifi]\n",
      "1 I root         477       2  0  60 -20 -     0 -      06:38 ?        00:00:00 [kworker/u17:1-hci0]\n",
      "1 D root         478       2  0  60 -20 -     0 -      06:38 ?        00:00:00 [kworker/u17:2+i915_flip]\n",
      "1 S root         485       2  0   9   - -     0 -      06:38 ?        00:00:00 [card0-crtc0]\n",
      "1 S root         486       2  0   9   - -     0 -      06:38 ?        00:00:00 [card0-crtc1]\n",
      "1 S root         487       2  0   9   - -     0 -      06:38 ?        00:00:00 [card0-crtc2]\n",
      "1 I root         489       2  0  60 -20 -     0 -      06:38 ?        00:00:00 [cryptd]\n",
      "1 I root         516       2  0  80   0 -     0 -      06:38 ?        00:00:00 [kworker/u16:7-events_unbound]\n",
      "1 S root         525       2  0   9   - -     0 -      06:38 ?        00:00:00 [irq/150-AudioDS]\n",
      "1 S root         774       2  0  80   0 -     0 -      06:38 ?        00:00:00 [jbd2/nvme0n1p7-]\n",
      "1 I root         775       2  0  60 -20 -     0 -      06:38 ?        00:00:00 [ext4-rsv-conver]\n",
      "1 D root         777       2  0  80   0 -     0 -      06:38 ?        00:00:00 [jbd2/nvme0n1p10]\n",
      "1 I root         778       2  0  60 -20 -     0 -      06:38 ?        00:00:00 [ext4-rsv-conver]\n",
      "1 S root         799       1  0  80   0 -   838 -      06:38 ?        00:00:00 /usr/sbin/rpc.idmapd\n",
      "4 S _rpc         814       1  0  80   0 -  1777 -      06:38 ?        00:00:00 /sbin/rpcbind -f -w\n",
      "4 S systemd+     815       1  0  80   0 -  6172 -      06:38 ?        00:00:00 /lib/systemd/systemd-resolved\n",
      "4 S systemd+     816       1  0  80   0 - 22729 -      06:38 ?        00:00:00 /lib/systemd/systemd-timesyncd\n",
      "4 S root         855       1  0  80   0 - 60579 -      06:38 ?        00:00:00 /usr/lib/accountsservice/accounts-daemon\n",
      "4 S root         856       1  0  80   0 -   637 -      06:38 ?        00:00:00 /usr/sbin/acpid\n",
      "4 S avahi        859       1  0  80   0 -  2133 -      06:38 ?        00:00:00 avahi-daemon: running [legendfantasy-hp.local]\n",
      "4 S root         861       1  0  80   0 -  2107 -      06:38 ?        00:00:00 /usr/lib/bluetooth/bluetoothd\n",
      "4 S root         863       1  0  80   0 -  3125 -      06:38 ?        00:00:00 /usr/sbin/cron -f\n",
      "4 S root         864       1  0  80   0 -  7884 -      06:38 ?        00:00:00 /usr/sbin/cupsd -l\n",
      "4 S message+     865       1  0  80   0 -  2499 -      06:38 ?        00:00:01 /usr/bin/dbus-daemon --system --address=systemd: --nofork --nopidfile --systemd-a\n",
      "4 S root         867       1  0  80   0 - 85064 -      06:38 ?        00:00:00 /usr/sbin/NetworkManager --no-daemon\n",
      "4 S root         877       1  0  80   0 - 20485 -      06:38 ?        00:00:00 /usr/sbin/irqbalance --foreground\n",
      "4 S root         880       1  0  80   0 - 10746 -      06:38 ?        00:00:00 /usr/bin/python3 /usr/bin/networkd-dispatcher --run-startup-triggers\n",
      "4 S root         883       1  0  80   0 - 61301 -      06:38 ?        00:00:00 /usr/lib/policykit-1/polkitd --no-debug\n",
      "4 S syslog       888       1  0  80   0 - 56132 -      06:38 ?        00:00:00 /usr/sbin/rsyslogd -n -iNONE\n",
      "4 S root         890       1  0  80   0 -  5432 -      06:38 ?        00:00:01 /usr/local/sunlogin/bin/oray_rundaemon -m server\n",
      "4 S root         900       1  0  80   0 - 440721 -     06:38 ?        00:00:01 /usr/lib/snapd/snapd\n",
      "4 S root         901       1  0  80   0 - 59700 -      06:38 ?        00:00:00 /usr/libexec/switcheroo-control\n",
      "4 S root         904       1  0  80   0 -  4366 -      06:38 ?        00:00:00 /lib/systemd/systemd-logind\n",
      "4 S root         905       1  0  80   0 - 69254 -      06:38 ?        00:00:00 /usr/sbin/thermald --systemd --dbus-enable --adaptive\n",
      "4 S root         906       1  0  80   0 - 98554 -      06:38 ?        00:00:00 /usr/lib/udisks2/udisksd\n",
      "4 S root         908       1  0  80   0 -  3523 -      06:38 ?        00:00:00 /sbin/wpa_supplicant -u -s -O /run/wpa_supplicant\n",
      "1 S avahi        914     859  0  80   0 -  2087 -      06:38 ?        00:00:00 avahi-daemon: chroot helper\n",
      "0 S root         940     890  2  80   0 - 97985 -      06:38 ?        00:00:09 /usr/local/sunlogin/bin/sunloginclient -m service\n",
      "4 S colord       951       1  0  80   0 - 62412 -      06:38 ?        00:00:00 /usr/libexec/colord\n",
      "4 S root         952       1  0  80   0 - 44121 -      06:38 ?        00:00:00 /usr/sbin/cups-browsed\n",
      "4 S root         956       1  0  80   0 - 78778 -      06:38 ?        00:00:00 /usr/sbin/ModemManager\n",
      "1 S root         985       1  0  80   0 -  7984 -      06:38 ?        00:00:00 /usr/sbin/rpc.mountd --manage-gids\n",
      "4 S root         986       1  0  80   0 - 314786 -     06:38 ?        00:00:00 /snap/v2raya/26/usr/bin/v2raya --v2ray-bin /snap/v2raya/26/usr/local/bin/v2ray\n",
      "4 S root        1012       1  0  80   0 - 58047 -      06:38 ?        00:00:00 /usr/sbin/lightdm\n",
      "4 S root        1014       1  0  80   0 -  3048 -      06:38 ?        00:00:00 sshd: /usr/sbin/sshd -D [listener] 0 of 10-100 startups\n",
      "1 S root        1015       2  0  80   0 -     0 -      06:38 ?        00:00:00 [lockd]\n",
      "4 S root        1081       1  0  80   0 - 30303 -      06:38 ?        00:00:00 /usr/bin/python3 /usr/share/unattended-upgrades/unattended-upgrade-shutdown --wai\n",
      "4 S root        1099       1  0  80   0 -  2878 -      06:38 tty1     00:00:00 /sbin/agetty -o -p -- \\u --noclear tty1 linux\n",
      "4 S root        1112       1  0  80   0 - 63921 -      06:38 ?        00:00:00 /usr/lib/upower/upowerd\n",
      "1 S root        1137       2  0  80   0 -     0 -      06:38 ?        00:00:00 [nfsd]\n",
      "1 S root        1138       2  0  80   0 -     0 -      06:38 ?        00:00:00 [nfsd]\n",
      "1 S root        1139       2  0  80   0 -     0 -      06:38 ?        00:00:00 [nfsd]\n",
      "1 S root        1140       2  0  80   0 -     0 -      06:38 ?        00:00:00 [nfsd]\n",
      "1 S root        1141       2  0  80   0 -     0 -      06:38 ?        00:00:00 [nfsd]\n",
      "1 S root        1142       2  0  80   0 -     0 -      06:38 ?        00:00:00 [nfsd]\n",
      "1 S root        1143       2  0  80   0 -     0 -      06:38 ?        00:00:00 [nfsd]\n",
      "1 S root        1144       2  0  80   0 -     0 -      06:38 ?        00:00:00 [nfsd]\n",
      "4 S rtkit       1265       1  0  81   1 - 38234 -      06:38 ?        00:00:00 /usr/libexec/rtkit-daemon\n",
      "5 S root        1425       2  0  70 -10 -     0 -      06:38 ?        00:00:00 [krfcommd]\n",
      "4 S root        1431    1012  0  80   0 - 40291 -      06:38 ?        00:00:00 lightdm --session-child 12 19\n",
      "4 S whoopsie    1467       1  0  80   0 - 43816 -      06:38 ?        00:00:00 /usr/bin/whoopsie -f\n",
      "1 S kernoops    1471       1  0  80   0 -  2817 -      06:38 ?        00:00:00 /usr/sbin/kerneloops --test\n",
      "1 S kernoops    1477       1  0  80   0 -  2817 -      06:38 ?        00:00:00 /usr/sbin/kerneloops\n",
      "4 S legendf+    1490       1  0  80   0 -  5009 ep_pol 06:38 ?        00:00:00 /lib/systemd/systemd --user\n",
      "5 S legendf+    1491    1490  0  80   0 - 42718 -      06:38 ?        00:00:00 (sd-pam)\n",
      "0 S legendf+    1496    1490  0  69 -11 - 509761 do_sys 06:38 ?       00:00:00 /usr/bin/pulseaudio --daemonize=no --log-target=journal\n",
      "0 S legendf+    1498    1490  0  99   - - 147241 do_sys 06:38 ?       00:00:00 /usr/libexec/tracker-miner-fs\n",
      "0 S legendf+    1502    1490  0  80   0 -  2145 ep_pol 06:38 ?        00:00:00 /usr/bin/dbus-daemon --session --address=systemd: --nofork --nopidfile --systemd-\n",
      "1 S legendf+    1504       1  0  80   0 - 60896 -      06:38 ?        00:00:00 /usr/bin/gnome-keyring-daemon --daemonize --login\n",
      "4 S legendf+    1507    1431  0  80   0 - 47899 do_sys 06:38 ?        00:00:00 /usr/libexec/gnome-session-binary --systemd --systemd --session=ubuntu\n",
      "0 S legendf+    1528    1490  0  80   0 - 60743 do_sys 06:38 ?        00:00:00 /usr/libexec/gvfsd\n",
      "0 S legendf+    1541    1490  0  80   0 - 94588 futex_ 06:38 ?        00:00:00 /usr/libexec/gvfsd-fuse /run/user/1000/gvfs -f -o big_writes\n",
      "0 S legendf+    1558    1490  0  80   0 - 79414 do_sys 06:38 ?        00:00:00 /usr/libexec/gvfs-udisks2-volume-monitor\n",
      "0 S legendf+    1598    1490  0  80   0 - 59784 do_sys 06:38 ?        00:00:00 /usr/libexec/gvfs-goa-volume-monitor\n",
      "0 S legendf+    1606    1490  0  80   0 - 139219 do_sys 06:38 ?       00:00:00 /usr/libexec/goa-daemon\n",
      "1 S legendf+    1608    1507  0  80   0 -  1510 -      06:38 ?        00:00:00 /usr/bin/ssh-agent /usr/bin/im-launch env GNOME_SHELL_SESSION_MODE=ubuntu /usr/bi\n",
      "0 S legendf+    1655    1490  0  80   0 - 79533 do_sys 06:38 ?        00:00:00 /usr/libexec/goa-identity-service\n",
      "0 S legendf+    1665    1490  0  80   0 - 23327 do_sys 06:38 ?        00:00:00 /usr/libexec/gnome-session-ctl --monitor\n",
      "0 S legendf+    1666    1490  0  80   0 - 79995 do_sys 06:38 ?        00:00:00 /usr/libexec/gvfs-afc-volume-monitor\n",
      "0 S legendf+    1677    1490  0  80   0 - 59733 do_sys 06:38 ?        00:00:00 /usr/libexec/gvfs-mtp-volume-monitor\n",
      "0 S legendf+    1678    1490  0  80   0 - 103719 do_sys 06:38 ?       00:00:00 /usr/libexec/gnome-session-binary --systemd-service --session=ubuntu\n",
      "0 S legendf+    1682    1490  0  80   0 - 60333 do_sys 06:38 ?        00:00:00 /usr/libexec/gvfs-gphoto2-volume-monitor\n",
      "0 R legendf+    1707    1490  5  80   0 - 1176887 -    06:38 ?        00:00:25 /usr/bin/gnome-shell\n",
      "0 S legendf+    1709    1678  0  80   0 - 76405 do_sys 06:38 ?        00:00:00 /usr/libexec/at-spi-bus-launcher --launch-immediately\n",
      "0 S legendf+    1715    1709  0  80   0 -  1812 ep_pol 06:38 ?        00:00:00 /usr/bin/dbus-daemon --config-file=/usr/share/defaults/at-spi2/accessibility.conf\n",
      "0 S legendf+    1742    1707  0  80   0 - 83920 ep_pol 06:38 ?        00:00:04 /usr/bin/Xwayland :0 -rootless -noreset -accessx -core -auth /run/user/1000/.mutt\n",
      "0 S legendf+    1762    1490  0  80   0 - 59739 do_sys 06:38 ?        00:00:00 /usr/libexec/xdg-permission-store\n",
      "0 S legendf+    1767    1490  0  80   0 - 145369 do_sys 06:38 ?       00:00:00 /usr/libexec/gnome-shell-calendar-server\n",
      "0 S legendf+    1773    1490  0  80   0 - 98487 do_sys 06:38 ?        00:00:00 /usr/libexec/evolution-source-registry\n",
      "0 S legendf+    1780    1490  0  80   0 - 210591 do_sys 06:38 ?       00:00:00 /usr/libexec/evolution-calendar-factory\n",
      "0 S legendf+    1790    1490  0  80   0 - 39157 do_sys 06:38 ?        00:00:00 /usr/libexec/dconf-service\n",
      "0 S legendf+    1792    1490  0  80   0 - 169291 do_sys 06:38 ?       00:00:00 /usr/libexec/evolution-addressbook-factory\n",
      "0 S legendf+    1828    1528  0  80   0 - 79339 do_sys 06:38 ?        00:00:00 /usr/libexec/gvfsd-trash --spawner :1.3 /org/gtk/gvfs/exec_spaw/0\n",
      "0 S legendf+    1833    1490  0  80   0 - 733413 do_sys 06:38 ?       00:00:00 /usr/bin/gjs /usr/share/gnome-shell/org.gnome.Shell.Notifications\n",
      "0 S legendf+    1836    1490  0  80   0 - 40694 do_sys 06:38 ?        00:00:00 /usr/libexec/at-spi2-registryd --use-gnome-session\n",
      "0 S legendf+    1853    1490  0  80   0 - 91871 do_sys 06:38 ?        00:00:00 /usr/libexec/glib-pacrunner\n",
      "0 S legendf+    1862    1490  0  80   0 - 78317 do_sys 06:38 ?        00:00:00 /usr/libexec/gsd-a11y-settings\n",
      "0 S legendf+    1863    1490  0  80   0 - 109605 do_sys 06:38 ?       00:00:00 /usr/libexec/gsd-color\n",
      "0 S legendf+    1864    1490  0  80   0 - 94306 do_sys 06:38 ?        00:00:00 /usr/libexec/gsd-datetime\n",
      "0 S legendf+    1865    1490  0  80   0 - 78835 do_sys 06:38 ?        00:00:00 /usr/libexec/gsd-housekeeping\n",
      "0 S legendf+    1867    1490  0  80   0 - 88351 do_sys 06:38 ?        00:00:00 /usr/libexec/gsd-keyboard\n",
      "0 S legendf+    1869    1490  0  80   0 - 227145 do_sys 06:38 ?       00:00:00 /usr/libexec/gsd-media-keys\n",
      "0 S legendf+    1870    1490  0  80   0 - 106898 do_sys 06:38 ?       00:00:00 /usr/libexec/gsd-power\n",
      "0 S legendf+    1872    1490  0  80   0 - 62911 do_sys 06:38 ?        00:00:00 /usr/libexec/gsd-print-notifications\n",
      "0 S legendf+    1874    1490  0  80   0 - 115095 do_sys 06:38 ?       00:00:00 /usr/libexec/gsd-rfkill\n",
      "0 S legendf+    1875    1490  0  80   0 - 59697 do_sys 06:38 ?        00:00:00 /usr/libexec/gsd-screensaver-proxy\n",
      "0 S legendf+    1879    1490  0  80   0 - 117096 do_sys 06:38 ?       00:00:00 /usr/libexec/gsd-sharing\n",
      "0 S legendf+    1884    1490  0  80   0 - 79726 do_sys 06:38 ?        00:00:00 /usr/libexec/gsd-smartcard\n",
      "0 S legendf+    1887    1490  0  80   0 - 80743 do_sys 06:38 ?        00:00:00 /usr/libexec/gsd-sound\n",
      "0 S legendf+    1893    1490  0  80   0 - 97143 do_sys 06:38 ?        00:00:00 /usr/libexec/gsd-usb-protection\n",
      "0 S legendf+    1897    1490  0  80   0 - 106205 do_sys 06:38 ?       00:00:00 /usr/libexec/gsd-wacom\n",
      "0 S legendf+    1899    1490  0  80   0 - 79426 do_sys 06:38 ?        00:00:00 /usr/libexec/gsd-wwan\n",
      "0 S legendf+    1953    1678  0  80   0 - 57952 do_sys 06:38 ?        00:00:00 /usr/libexec/gsd-disk-utility-notify\n",
      "0 S legendf+    1958    1678  0  80   0 - 149008 do_sys 06:38 ?       00:00:00 /usr/bin/python3 /usr/bin/blueman-applet\n",
      "0 S legendf+    1963    1678  0  80   0 - 168050 do_sys 06:38 ?       00:00:00 /usr/libexec/evolution-data-server/evolution-alarm-notify\n",
      "0 S legendf+    1988    1678  0  80   0 - 79062 do_sys 06:38 ?        00:00:00 /usr/lib/x86_64-linux-gnu/indicator-messages/indicator-messages-service\n",
      "0 S legendf+    2006    1490  0  80   0 - 86364 do_sys 06:38 ?        00:00:00 /usr/libexec/gsd-printer\n",
      "4 S legendf+    2009    1490  0  80   0 - 203180 do_sys 06:38 ?       00:00:03 /snap/snap-store/959/usr/bin/snap-store --gapplication-service\n",
      "0 S legendf+    2039    1490  0  80   0 - 133688 do_sys 06:38 ?       00:00:00 /usr/libexec/xdg-document-portal\n",
      "0 S legendf+    2160    1707  0  80   0 - 97125 do_sys 06:38 ?        00:00:02 ibus-daemon --panel disable -r --xim\n",
      "0 S legendf+    2161    1490  0  80   0 - 153397 do_sys 06:38 ?       00:00:00 /usr/libexec/xdg-desktop-portal\n",
      "0 S legendf+    2166    1490  0  80   0 - 138457 do_sys 06:38 ?       00:00:00 /usr/libexec/gsd-xsettings\n",
      "0 S legendf+    2169    1490  0  80   0 - 108339 do_sys 06:38 ?       00:00:00 /usr/libexec/xdg-desktop-portal-gtk\n",
      "0 S legendf+    2181    2160  0  80   0 - 41517 do_sys 06:38 ?        00:00:00 /usr/libexec/ibus-memconf\n",
      "0 S legendf+    2182    2160  0  80   0 - 88972 do_sys 06:38 ?        00:00:01 /usr/libexec/ibus-extension-gtk3\n",
      "0 S legendf+    2185    1490  0  80   0 - 99904 do_sys 06:38 ?        00:00:00 /usr/libexec/ibus-x11 --kill-daemon\n",
      "0 S legendf+    2190    1490  0  80   0 - 59960 do_sys 06:38 ?        00:00:00 /usr/libexec/ibus-portal\n",
      "0 S legendf+    2230    1490  0  80   0 - 110987 do_sys 06:38 ?       00:00:00 /usr/bin/python3 /usr/bin/blueman-tray\n",
      "0 S legendf+    2237    2160  1  80   0 - 69988 do_sys 06:38 ?        00:00:05 /usr/bin/python3 /usr/share/ibus-table/engine/main.py --ibus\n",
      "0 S legendf+    2239    1490  0  80   0 - 10999 do_sys 06:38 ?        00:00:00 /usr/lib/bluetooth/obexd\n",
      "4 S root        2285       1  0  80   0 - 98850 -      06:38 ?        00:00:00 /usr/libexec/fwupd/fwupd\n",
      "0 S legendf+    2290    1528  0  80   0 - 79177 do_sys 06:38 ?        00:00:00 /usr/libexec/gvfsd-burn --spawner :1.3 /org/gtk/gvfs/exec_spaw/1\n",
      "0 S legendf+    2413    1490  0  80   0 - 120191 do_sys 06:38 ?       00:00:00 /usr/libexec/gnome-terminal-server\n",
      "0 S legendf+    2418    2413  0  80   0 -  3556 do_wai 06:38 pts/0    00:00:00 bash\n",
      "1 S root        2462       2  0  65 -15 -     0 -      06:38 ?        00:00:00 [khidpd_046db342]\n",
      "0 S legendf+    2873    2418  2  80   0 - 232621 ep_pol 06:39 pts/0   00:00:10 /home/legendfantasy/anaconda3/envs/cling/bin/python /home/legendfantasy/anaconda3\n",
      "0 S legendf+    2894    2160  0  80   0 - 62126 do_sys 06:39 ?        00:00:00 /usr/lib/ibus/ibus-engine-libpinyin --ibus\n",
      "4 S legendf+    2998    2873  8  80   0 - 980711 do_sys 06:39 ?       00:00:35 /usr/lib/firefox/firefox -new-tab file:///home/legendfantasy/.local/share/jupyter\n",
      "4 S legendf+    3064    2998  0  80   0 - 53399 do_sys 06:39 ?        00:00:00 /usr/lib/firefox/firefox -contentproc -parentBuildID 20231129155202 -prefsLen 352\n",
      "4 S legendf+    3173    2998  1  80   0 - 686208 do_sys 06:39 ?       00:00:06 /usr/lib/firefox/firefox -contentproc -childID 2 -isForBrowser -prefsLen 39857 -p\n",
      "0 S legendf+    3243    2998  0  80   0 - 53111 do_sys 06:39 ?        00:00:00 /usr/lib/firefox/firefox -contentproc -parentBuildID 20231129155202 -sandboxingKi\n",
      "4 R legendf+    3257    2998 12  80   0 - 729838 -     06:39 ?        00:00:50 /usr/lib/firefox/firefox -contentproc -childID 3 -isForBrowser -prefsLen 31518 -p\n",
      "4 S legendf+    3264    2998  0  80   0 - 602248 do_sys 06:39 ?       00:00:00 /usr/lib/firefox/firefox -contentproc -childID 4 -isForBrowser -prefsLen 31518 -p\n",
      "4 S legendf+    3274    2998  0  80   0 - 602248 do_sys 06:39 ?       00:00:00 /usr/lib/firefox/firefox -contentproc -childID 5 -isForBrowser -prefsLen 31518 -p\n",
      "4 S legendf+    3279    2998  0  80   0 - 628839 do_sys 06:39 ?       00:00:00 /usr/lib/firefox/firefox -contentproc -childID 6 -isForBrowser -prefsLen 39923 -p\n",
      "4 S legendf+    3419    2998  0  80   0 - 602463 do_sys 06:39 ?       00:00:00 /usr/lib/firefox/firefox -contentproc -childID 7 -isForBrowser -prefsLen 31518 -p\n",
      "0 S legendf+    3604    1490  0  80   0 - 41360 do_sys 06:39 ?        00:00:00 /usr/libexec/gvfsd-metadata\n",
      "0 S legendf+    3608    1678  0  80   0 - 200617 do_sys 06:39 ?       00:00:01 /usr/bin/gnome-software --gapplication-service\n",
      "0 S legendf+    3611    1678  0  80   0 - 109362 do_sys 06:39 ?       00:00:00 update-notifier\n",
      "0 S legendf+    4063    2873  1  80   0 - 193102 do_sel 06:41 ?       00:00:03 /home/legendfantasy/anaconda3/envs/cling/bin/python -m ipykernel_launcher -f /hom\n",
      "0 S legendf+    4103    2873  2  80   0 - 133926 pipe_r 06:41 pts/0   00:00:08 /home/legendfantasy/anaconda3/envs/cling/bin/python -m pylsp\n",
      "0 S legendf+    4186    4103  0  80   0 -  9043 pipe_r 06:41 pts/0    00:00:00 /home/legendfantasy/anaconda3/envs/cling/bin/python /home/legendfantasy/anaconda3\n",
      "1 I root        5225       2  0  80   0 -     0 -      06:44 ?        00:00:00 [kworker/3:0]\n",
      "1 I root        5648       2  0  80   0 -     0 -      06:45 ?        00:00:00 [kworker/u16:0]\n",
      "1 I root        5663       2  0  80   0 -     0 -      06:45 ?        00:00:00 [kworker/5:0]\n",
      "4 R legendf+    5869    4063  0  80   0 -  3649 -      06:45 pts/1    00:00:00 ps -elf\n"
     ]
    }
   ],
   "source": [
    "!ps -elf"
   ]
  },
  {
   "cell_type": "code",
   "execution_count": 3,
   "id": "795bc748-3188-4eac-853d-7a75c92fc52f",
   "metadata": {
    "collapsed": true,
    "jupyter": {
     "outputs_hidden": true
    },
    "tags": []
   },
   "outputs": [
    {
     "name": "stdout",
     "output_type": "stream",
     "text": [
      "USER         PID %CPU %MEM    VSZ   RSS TTY      STAT START   TIME COMMAND\n",
      "root           1  0.2  0.0 168640 12136 ?        Ss   06:38   0:01 /sbin/init sp\n",
      "root           2  0.0  0.0      0     0 ?        S    06:38   0:00 [kthreadd]\n",
      "root           3  0.0  0.0      0     0 ?        I<   06:38   0:00 [rcu_gp]\n",
      "root           4  0.0  0.0      0     0 ?        I<   06:38   0:00 [rcu_par_gp]\n",
      "root           5  0.0  0.0      0     0 ?        I<   06:38   0:00 [slub_flushwq\n",
      "root           6  0.0  0.0      0     0 ?        I<   06:38   0:00 [netns]\n",
      "root           8  0.0  0.0      0     0 ?        I<   06:38   0:00 [kworker/0:0H\n",
      "root          10  0.0  0.0      0     0 ?        I<   06:38   0:00 [mm_percpu_wq\n",
      "root          11  0.0  0.0      0     0 ?        S    06:38   0:00 [rcu_tasks_ru\n",
      "root          12  0.0  0.0      0     0 ?        S    06:38   0:00 [rcu_tasks_tr\n",
      "root          13  0.0  0.0      0     0 ?        S    06:38   0:00 [ksoftirqd/0]\n",
      "root          14  0.0  0.0      0     0 ?        I    06:38   0:00 [rcu_sched]\n",
      "root          15  0.0  0.0      0     0 ?        S    06:38   0:00 [migration/0]\n",
      "root          16  0.0  0.0      0     0 ?        S    06:38   0:00 [idle_inject/\n",
      "root          17  0.0  0.0      0     0 ?        I    06:38   0:00 [kworker/0:1-\n",
      "root          18  0.0  0.0      0     0 ?        S    06:38   0:00 [cpuhp/0]\n",
      "root          19  0.0  0.0      0     0 ?        S    06:38   0:00 [cpuhp/1]\n",
      "root          20  0.0  0.0      0     0 ?        S    06:38   0:00 [idle_inject/\n",
      "root          21  0.0  0.0      0     0 ?        S    06:38   0:00 [migration/1]\n",
      "root          22  0.0  0.0      0     0 ?        S    06:38   0:00 [ksoftirqd/1]\n",
      "root          24  0.0  0.0      0     0 ?        I<   06:38   0:00 [kworker/1:0H\n",
      "root          25  0.0  0.0      0     0 ?        S    06:38   0:00 [cpuhp/2]\n",
      "root          26  0.0  0.0      0     0 ?        S    06:38   0:00 [idle_inject/\n",
      "root          27  0.0  0.0      0     0 ?        S    06:38   0:00 [migration/2]\n",
      "root          28  0.0  0.0      0     0 ?        S    06:38   0:00 [ksoftirqd/2]\n",
      "root          30  0.0  0.0      0     0 ?        I<   06:38   0:00 [kworker/2:0H\n",
      "root          31  0.0  0.0      0     0 ?        S    06:38   0:00 [cpuhp/3]\n",
      "root          32  0.0  0.0      0     0 ?        S    06:38   0:00 [idle_inject/\n",
      "root          33  0.0  0.0      0     0 ?        S    06:38   0:00 [migration/3]\n",
      "root          34  0.0  0.0      0     0 ?        S    06:38   0:00 [ksoftirqd/3]\n",
      "root          36  0.0  0.0      0     0 ?        I<   06:38   0:00 [kworker/3:0H\n",
      "root          37  0.0  0.0      0     0 ?        S    06:38   0:00 [cpuhp/4]\n",
      "root          38  0.0  0.0      0     0 ?        S    06:38   0:00 [idle_inject/\n",
      "root          39  0.0  0.0      0     0 ?        S    06:38   0:00 [migration/4]\n",
      "root          40  0.0  0.0      0     0 ?        S    06:38   0:00 [ksoftirqd/4]\n",
      "root          42  0.0  0.0      0     0 ?        I<   06:38   0:00 [kworker/4:0H\n",
      "root          43  0.0  0.0      0     0 ?        S    06:38   0:00 [cpuhp/5]\n",
      "root          44  0.0  0.0      0     0 ?        S    06:38   0:00 [idle_inject/\n",
      "root          45  0.0  0.0      0     0 ?        S    06:38   0:00 [migration/5]\n",
      "root          46  0.0  0.0      0     0 ?        S    06:38   0:00 [ksoftirqd/5]\n",
      "root          48  0.0  0.0      0     0 ?        I<   06:38   0:00 [kworker/5:0H\n",
      "root          49  0.0  0.0      0     0 ?        S    06:38   0:00 [cpuhp/6]\n",
      "root          50  0.0  0.0      0     0 ?        S    06:38   0:00 [idle_inject/\n",
      "root          51  0.0  0.0      0     0 ?        S    06:38   0:00 [migration/6]\n",
      "root          52  0.0  0.0      0     0 ?        S    06:38   0:00 [ksoftirqd/6]\n",
      "root          54  0.0  0.0      0     0 ?        I<   06:38   0:00 [kworker/6:0H\n",
      "root          55  0.0  0.0      0     0 ?        S    06:38   0:00 [cpuhp/7]\n",
      "root          56  0.0  0.0      0     0 ?        S    06:38   0:00 [idle_inject/\n",
      "root          57  0.0  0.0      0     0 ?        S    06:38   0:00 [migration/7]\n",
      "root          58  0.0  0.0      0     0 ?        S    06:38   0:00 [ksoftirqd/7]\n",
      "root          60  0.0  0.0      0     0 ?        I<   06:38   0:00 [kworker/7:0H\n",
      "root          61  0.0  0.0      0     0 ?        S    06:38   0:00 [kdevtmpfs]\n",
      "root          62  0.0  0.0      0     0 ?        I<   06:38   0:00 [inet_frag_wq\n",
      "root          63  0.0  0.0      0     0 ?        S    06:38   0:00 [kauditd]\n",
      "root          64  0.0  0.0      0     0 ?        S    06:38   0:00 [khungtaskd]\n",
      "root          65  0.0  0.0      0     0 ?        S    06:38   0:00 [oom_reaper]\n",
      "root          66  0.0  0.0      0     0 ?        I<   06:38   0:00 [writeback]\n",
      "root          67  0.0  0.0      0     0 ?        S    06:38   0:00 [kcompactd0]\n",
      "root          68  0.0  0.0      0     0 ?        SN   06:38   0:00 [ksmd]\n",
      "root          69  0.0  0.0      0     0 ?        SN   06:38   0:00 [khugepaged]\n",
      "root          75  0.0  0.0      0     0 ?        I    06:38   0:00 [kworker/3:1-\n",
      "root          79  0.0  0.0      0     0 ?        I    06:38   0:00 [kworker/2:1-\n",
      "root         117  0.0  0.0      0     0 ?        I<   06:38   0:00 [kintegrityd]\n",
      "root         118  0.0  0.0      0     0 ?        I<   06:38   0:00 [kblockd]\n",
      "root         119  0.0  0.0      0     0 ?        I<   06:38   0:00 [blkcg_punt_b\n",
      "root         120  0.0  0.0      0     0 ?        I    06:38   0:00 [kworker/1:1-\n",
      "root         121  0.1  0.0      0     0 ?        I    06:38   0:00 [kworker/4:1-\n",
      "root         122  0.0  0.0      0     0 ?        I    06:38   0:00 [kworker/5:1-\n",
      "root         123  0.0  0.0      0     0 ?        I    06:38   0:00 [kworker/6:1-\n",
      "root         125  0.0  0.0      0     0 ?        I    06:38   0:00 [kworker/u16:\n",
      "root         126  0.0  0.0      0     0 ?        I<   06:38   0:00 [tpm_dev_wq]\n",
      "root         127  0.0  0.0      0     0 ?        I<   06:38   0:00 [ata_sff]\n",
      "root         128  0.0  0.0      0     0 ?        I<   06:38   0:00 [md]\n",
      "root         129  0.0  0.0      0     0 ?        I<   06:38   0:00 [edac-poller]\n",
      "root         130  0.0  0.0      0     0 ?        I<   06:38   0:00 [devfreq_wq]\n",
      "root         131  0.0  0.0      0     0 ?        S    06:38   0:00 [watchdogd]\n",
      "root         132  0.0  0.0      0     0 ?        I<   06:38   0:00 [kworker/0:1H\n",
      "root         134  0.0  0.0      0     0 ?        S    06:38   0:00 [kswapd0]\n",
      "root         135  0.0  0.0      0     0 ?        S    06:38   0:00 [ecryptfs-kth\n",
      "root         137  0.0  0.0      0     0 ?        I<   06:38   0:00 [kthrotld]\n",
      "root         138  0.0  0.0      0     0 ?        S    06:38   0:00 [irq/122-aerd\n",
      "root         139  0.0  0.0      0     0 ?        S    06:38   0:00 [irq/122-pcie\n",
      "root         140  0.0  0.0      0     0 ?        S    06:38   0:00 [irq/123-aerd\n",
      "root         141  0.0  0.0      0     0 ?        S    06:38   0:00 [irq/123-pcie\n",
      "root         142  0.0  0.0      0     0 ?        I<   06:38   0:00 [acpi_thermal\n",
      "root         144  0.0  0.0      0     0 ?        I<   06:38   0:00 [vfio-irqfd-c\n",
      "root         145  0.0  0.0      0     0 ?        I<   06:38   0:00 [mld]\n",
      "root         146  0.0  0.0      0     0 ?        I<   06:38   0:00 [kworker/4:1H\n",
      "root         147  0.0  0.0      0     0 ?        I<   06:38   0:00 [ipv6_addrcon\n",
      "root         156  0.0  0.0      0     0 ?        I<   06:38   0:00 [kstrp]\n",
      "root         159  0.0  0.0      0     0 ?        I<   06:38   0:00 [zswap-shrink\n",
      "root         160  0.0  0.0      0     0 ?        I<   06:38   0:00 [kworker/u17:\n",
      "root         167  0.0  0.0      0     0 ?        I<   06:38   0:00 [charger_mana\n",
      "root         168  0.0  0.0      0     0 ?        I    06:38   0:00 [kworker/4:2-\n",
      "root         190  0.0  0.0      0     0 ?        I<   06:38   0:00 [kworker/5:1H\n",
      "root         221  0.0  0.0      0     0 ?        I<   06:38   0:00 [kworker/6:1H\n",
      "root         226  0.0  0.0      0     0 ?        I    06:38   0:00 [kworker/1:2-\n",
      "root         227  0.0  0.0      0     0 ?        I<   06:38   0:00 [nvme-wq]\n",
      "root         228  0.0  0.0      0     0 ?        I<   06:38   0:00 [nvme-reset-w\n",
      "root         229  0.0  0.0      0     0 ?        I<   06:38   0:00 [nvme-delete-\n",
      "root         230  0.0  0.0      0     0 ?        I<   06:38   0:00 [sdhci]\n",
      "root         231  0.0  0.0      0     0 ?        S    06:38   0:00 [irq/19-mmc0]\n",
      "root         232  0.0  0.0      0     0 ?        S    06:38   0:00 [scsi_eh_0]\n",
      "root         233  0.0  0.0      0     0 ?        I<   06:38   0:00 [scsi_tmf_0]\n",
      "root         234  0.0  0.0      0     0 ?        S    06:38   0:00 [irq/126-0000\n",
      "root         235  0.0  0.0      0     0 ?        S    06:38   0:00 [scsi_eh_1]\n",
      "root         236  0.0  0.0      0     0 ?        I<   06:38   0:00 [scsi_tmf_1]\n",
      "root         239  0.0  0.0      0     0 ?        I<   06:38   0:00 [kworker/3:1H\n",
      "root         243  0.0  0.0      0     0 ?        S    06:38   0:00 [irq/127-SYNA\n",
      "root         244  0.0  0.0      0     0 ?        I<   06:38   0:00 [kworker/7:1H\n",
      "root         247  0.0  0.0      0     0 ?        I    06:38   0:00 [kworker/u16:\n",
      "root         248  0.0  0.0      0     0 ?        I    06:38   0:00 [kworker/3:2-\n",
      "root         249  0.0  0.0      0     0 ?        I    06:38   0:00 [kworker/7:2-\n",
      "root         250  0.0  0.0      0     0 ?        I    06:38   0:00 [kworker/0:2-\n",
      "root         252  0.0  0.0      0     0 ?        I<   06:38   0:00 [kworker/2:1H\n",
      "root         253  0.0  0.0      0     0 ?        I    06:38   0:00 [kworker/7:3-\n",
      "root         279  0.0  0.0      0     0 ?        I<   06:38   0:00 [kworker/1:1H\n",
      "root         281  0.0  0.0      0     0 ?        S    06:38   0:00 [jbd2/nvme0n1\n",
      "root         282  0.0  0.0      0     0 ?        I<   06:38   0:00 [ext4-rsv-con\n",
      "root         330  0.0  0.3  99616 49080 ?        S<s  06:38   0:00 /lib/systemd/\n",
      "root         354  0.0  0.0      0     0 ?        I<   06:38   0:00 [rpciod]\n",
      "root         355  0.0  0.0      0     0 ?        I<   06:38   0:00 [xprtiod]\n",
      "root         360  0.0  0.0   5392   168 ?        Ss   06:38   0:00 /usr/sbin/blk\n",
      "root         365  0.1  0.0  25284  7980 ?        Ss   06:38   0:00 /lib/systemd/\n",
      "root         431  0.0  0.0      0     0 ?        I    06:38   0:00 [kworker/6:2-\n",
      "root         433  0.0  0.0      0     0 ?        I    06:38   0:00 [kworker/2:2-\n",
      "root         435  0.0  0.0      0     0 ?        S    06:38   0:00 [irq/138-mei_\n",
      "root         436  0.0  0.0      0     0 ?        I    06:38   0:00 [kworker/5:2-\n",
      "root         439  0.0  0.0      0     0 ?        I<   06:38   0:00 [cfg80211]\n",
      "root         450  0.0  0.0      0     0 ?        S    06:38   0:00 [irq/139-iwlw\n",
      "root         451  0.0  0.0      0     0 ?        S    06:38   0:00 [irq/140-iwlw\n",
      "root         452  0.0  0.0      0     0 ?        S    06:38   0:00 [irq/141-iwlw\n",
      "root         453  0.0  0.0      0     0 ?        S    06:38   0:00 [irq/142-iwlw\n",
      "root         454  0.0  0.0      0     0 ?        S    06:38   0:00 [irq/143-iwlw\n",
      "root         455  0.0  0.0      0     0 ?        S    06:38   0:00 [irq/144-iwlw\n",
      "root         456  0.0  0.0      0     0 ?        S    06:38   0:00 [irq/145-iwlw\n",
      "root         457  0.0  0.0      0     0 ?        S    06:38   0:00 [irq/146-iwlw\n",
      "root         458  0.0  0.0      0     0 ?        S    06:38   0:00 [irq/147-iwlw\n",
      "root         459  0.0  0.0      0     0 ?        S    06:38   0:00 [irq/148-iwlw\n",
      "root         477  0.0  0.0      0     0 ?        I<   06:38   0:00 [kworker/u17:\n",
      "root         478  0.0  0.0      0     0 ?        I<   06:38   0:00 [kworker/u17:\n",
      "root         485  0.0  0.0      0     0 ?        S    06:38   0:00 [card0-crtc0]\n",
      "root         486  0.0  0.0      0     0 ?        S    06:38   0:00 [card0-crtc1]\n",
      "root         487  0.0  0.0      0     0 ?        S    06:38   0:00 [card0-crtc2]\n",
      "root         489  0.0  0.0      0     0 ?        I<   06:38   0:00 [cryptd]\n",
      "root         516  0.0  0.0      0     0 ?        I    06:38   0:00 [kworker/u16:\n",
      "root         525  0.0  0.0      0     0 ?        S    06:38   0:00 [irq/150-Audi\n",
      "root         774  0.0  0.0      0     0 ?        S    06:38   0:00 [jbd2/nvme0n1\n",
      "root         775  0.0  0.0      0     0 ?        I<   06:38   0:00 [ext4-rsv-con\n",
      "root         777  0.0  0.0      0     0 ?        S    06:38   0:00 [jbd2/nvme0n1\n",
      "root         778  0.0  0.0      0     0 ?        I<   06:38   0:00 [ext4-rsv-con\n",
      "root         799  0.0  0.0   3352   208 ?        Ss   06:38   0:00 /usr/sbin/rpc\n",
      "_rpc         814  0.0  0.0   7108  3796 ?        Ss   06:38   0:00 /sbin/rpcbind\n",
      "systemd+     815  0.0  0.0  24688 12088 ?        Ss   06:38   0:00 /lib/systemd/\n",
      "systemd+     816  0.0  0.0  90916  6100 ?        Ssl  06:38   0:00 /lib/systemd/\n",
      "root         855  0.0  0.0 242316  8360 ?        Ssl  06:38   0:00 /usr/lib/acco\n",
      "root         856  0.0  0.0   2548   772 ?        Ss   06:38   0:00 /usr/sbin/acp\n",
      "avahi        859  0.0  0.0   8532  3408 ?        Ss   06:38   0:00 avahi-daemon:\n",
      "root         861  0.0  0.0   8428  4596 ?        Ss   06:38   0:00 /usr/lib/blue\n",
      "root         863  0.0  0.0  12500  2752 ?        Ss   06:38   0:00 /usr/sbin/cro\n",
      "root         864  0.0  0.0  31536  8840 ?        Ss   06:38   0:00 /usr/sbin/cup\n",
      "message+     865  0.2  0.0   9996  6760 ?        Ss   06:38   0:01 /usr/bin/dbus\n",
      "root         867  0.1  0.1 340256 21224 ?        Ssl  06:38   0:00 /usr/sbin/Net\n",
      "root         877  0.0  0.0  81940  3616 ?        Ssl  06:38   0:00 /usr/sbin/irq\n",
      "root         880  0.0  0.1  42984 20620 ?        Ss   06:38   0:00 /usr/bin/pyth\n",
      "root         883  0.1  0.0 245204 13348 ?        Ssl  06:38   0:00 /usr/lib/poli\n",
      "syslog       888  0.0  0.0 224528  5488 ?        Ssl  06:38   0:00 /usr/sbin/rsy\n",
      "root         890  0.4  0.0  21728  6520 ?        Ssl  06:38   0:01 /usr/local/su\n",
      "root         900  0.2  0.1 1762884 30500 ?       Ssl  06:38   0:01 /usr/lib/snap\n",
      "root         901  0.0  0.0 238800  6328 ?        Ssl  06:38   0:00 /usr/libexec/\n",
      "root         904  0.0  0.0  17464  8220 ?        Ss   06:38   0:00 /lib/systemd/\n",
      "root         905  0.0  0.0 277016 10852 ?        Ssl  06:38   0:00 /usr/sbin/the\n",
      "root         906  0.0  0.0 394216 13192 ?        Ssl  06:38   0:00 /usr/lib/udis\n",
      "root         908  0.0  0.0  14092  9064 ?        Ss   06:38   0:00 /sbin/wpa_sup\n",
      "avahi        914  0.0  0.0   8348   332 ?        S    06:38   0:00 avahi-daemon:\n",
      "root         940  2.0  0.1 391940 21216 ?        Sl   06:38   0:09 /usr/local/su\n",
      "colord       951  0.0  0.0 249648 14932 ?        Ssl  06:38   0:00 /usr/libexec/\n",
      "root         952  0.0  0.0 176484 12868 ?        Ssl  06:38   0:00 /usr/sbin/cup\n",
      "root         956  0.0  0.0 315112 11704 ?        Ssl  06:38   0:00 /usr/sbin/Mod\n",
      "root         985  0.0  0.1  31936 25120 ?        Ss   06:38   0:00 /usr/sbin/rpc\n",
      "root         986  0.2  0.2 1259144 33696 ?       Ssl  06:38   0:00 /snap/v2raya/\n",
      "root        1012  0.0  0.0 232188  7548 ?        SLsl 06:38   0:00 /usr/sbin/lig\n",
      "root        1014  0.0  0.0  12192  6892 ?        Ss   06:38   0:00 sshd: /usr/sb\n",
      "root        1015  0.0  0.0      0     0 ?        S    06:38   0:00 [lockd]\n",
      "root        1081  0.0  0.1 121212 22692 ?        Ssl  06:38   0:00 /usr/bin/pyth\n",
      "root        1099  0.0  0.0  11512  1832 tty1     Ss+  06:38   0:00 /sbin/agetty \n",
      "root        1112  0.0  0.0 255684 10236 ?        Ssl  06:38   0:00 /usr/lib/upow\n",
      "root        1137  0.0  0.0      0     0 ?        S    06:38   0:00 [nfsd]\n",
      "root        1138  0.0  0.0      0     0 ?        S    06:38   0:00 [nfsd]\n",
      "root        1139  0.0  0.0      0     0 ?        S    06:38   0:00 [nfsd]\n",
      "root        1140  0.0  0.0      0     0 ?        S    06:38   0:00 [nfsd]\n",
      "root        1141  0.0  0.0      0     0 ?        S    06:38   0:00 [nfsd]\n",
      "root        1142  0.0  0.0      0     0 ?        S    06:38   0:00 [nfsd]\n",
      "root        1143  0.0  0.0      0     0 ?        S    06:38   0:00 [nfsd]\n",
      "root        1144  0.0  0.0      0     0 ?        S    06:38   0:00 [nfsd]\n",
      "rtkit       1265  0.0  0.0 152936  2964 ?        SNsl 06:38   0:00 /usr/libexec/\n",
      "root        1425  0.0  0.0      0     0 ?        S<   06:38   0:00 [krfcommd]\n",
      "root        1431  0.0  0.0 161164  9504 ?        Sl   06:38   0:00 lightdm --ses\n",
      "whoopsie    1467  0.0  0.0 175264 12108 ?        Ssl  06:38   0:00 /usr/bin/whoo\n",
      "kernoops    1471  0.0  0.0  11268   448 ?        Ss   06:38   0:00 /usr/sbin/ker\n",
      "kernoops    1477  0.0  0.0  11268   444 ?        Ss   06:38   0:00 /usr/sbin/ker\n",
      "legendf+    1490  0.0  0.0  20036 10808 ?        Ss   06:38   0:00 /lib/systemd/\n",
      "legendf+    1491  0.0  0.0 170872  4112 ?        S    06:38   0:00 (sd-pam)\n",
      "legendf+    1496  0.0  0.1 2039044 16964 ?       S<sl 06:38   0:00 /usr/bin/puls\n",
      "legendf+    1498  0.0  0.1 588964 25476 ?        SNsl 06:38   0:00 /usr/libexec/\n",
      "legendf+    1502  0.0  0.0   8580  5548 ?        Ss   06:38   0:00 /usr/bin/dbus\n",
      "legendf+    1504  0.0  0.0 243584  7432 ?        Sl   06:38   0:00 /usr/bin/gnom\n",
      "legendf+    1507  0.0  0.0 191596 13892 ?        Ssl  06:38   0:00 /usr/libexec/\n",
      "legendf+    1528  0.0  0.0 242972  8016 ?        Ssl  06:38   0:00 /usr/libexec/\n",
      "legendf+    1541  0.0  0.0 378352  6552 ?        Sl   06:38   0:00 /usr/libexec/\n",
      "legendf+    1558  0.0  0.0 317656  9884 ?        Ssl  06:38   0:00 /usr/libexec/\n",
      "legendf+    1598  0.0  0.0 239136  6144 ?        Ssl  06:38   0:00 /usr/libexec/\n",
      "legendf+    1606  0.0  0.2 556876 34836 ?        Sl   06:38   0:00 /usr/libexec/\n",
      "legendf+    1608  0.0  0.0   6040   452 ?        Ss   06:38   0:00 /usr/bin/ssh-\n",
      "legendf+    1655  0.0  0.0 318132  9068 ?        Sl   06:38   0:00 /usr/libexec/\n",
      "legendf+    1665  0.0  0.0  93308  4316 ?        Ssl  06:38   0:00 /usr/libexec/\n",
      "legendf+    1666  0.0  0.0 319980  9116 ?        Ssl  06:38   0:00 /usr/libexec/\n",
      "legendf+    1677  0.0  0.0 238932  5984 ?        Ssl  06:38   0:00 /usr/libexec/\n",
      "legendf+    1678  0.0  0.1 414876 16628 ?        Ssl  06:38   0:00 /usr/libexec/\n",
      "legendf+    1682  0.0  0.0 241332  7296 ?        Ssl  06:38   0:00 /usr/libexec/\n",
      "legendf+    1707  6.0  1.9 4707516 317120 ?      Rsl  06:38   0:27 /usr/bin/gnom\n",
      "legendf+    1709  0.0  0.0 305620  6508 ?        Sl   06:38   0:00 /usr/libexec/\n",
      "legendf+    1715  0.0  0.0   7248  4280 ?        S    06:38   0:00 /usr/bin/dbus\n",
      "legendf+    1742  0.9  0.4 335680 73356 ?        Sl   06:38   0:04 /usr/bin/Xway\n",
      "legendf+    1762  0.0  0.0 238956  6512 ?        Ssl  06:38   0:00 /usr/libexec/\n",
      "legendf+    1767  0.0  0.1 581476 20608 ?        Sl   06:38   0:00 /usr/libexec/\n",
      "legendf+    1773  0.0  0.1 393948 26108 ?        Ssl  06:38   0:00 /usr/libexec/\n",
      "legendf+    1780  0.0  0.1 842364 30812 ?        Ssl  06:38   0:00 /usr/libexec/\n",
      "legendf+    1790  0.0  0.0 156628  6024 ?        Sl   06:38   0:00 /usr/libexec/\n",
      "legendf+    1792  0.0  0.2 677164 34072 ?        Ssl  06:38   0:00 /usr/libexec/\n",
      "legendf+    1828  0.0  0.0 317356  8172 ?        Sl   06:38   0:00 /usr/libexec/\n",
      "legendf+    1833  0.0  0.1 2933652 26776 ?       Sl   06:38   0:00 /usr/bin/gjs \n",
      "legendf+    1836  0.0  0.0 162776  6848 ?        Sl   06:38   0:00 /usr/libexec/\n",
      "legendf+    1853  0.0  0.0 367484 11376 ?        Ssl  06:38   0:00 /usr/libexec/\n",
      "legendf+    1862  0.0  0.0 313268  6752 ?        Ssl  06:38   0:00 /usr/libexec/\n",
      "legendf+    1863  0.1  0.1 438420 30332 ?        Ssl  06:38   0:00 /usr/libexec/\n",
      "legendf+    1864  0.0  0.1 377224 16536 ?        Ssl  06:38   0:00 /usr/libexec/\n",
      "legendf+    1865  0.0  0.0 315340  7480 ?        Ssl  06:38   0:00 /usr/libexec/\n",
      "legendf+    1867  0.1  0.1 353404 29288 ?        Ssl  06:38   0:00 /usr/libexec/\n",
      "legendf+    1869  0.1  0.1 908580 31328 ?        Ssl  06:38   0:00 /usr/libexec/\n",
      "legendf+    1870  0.1  0.1 427592 29696 ?        Ssl  06:38   0:00 /usr/libexec/\n",
      "legendf+    1872  0.0  0.0 251644 11492 ?        Ssl  06:38   0:00 /usr/libexec/\n",
      "legendf+    1874  0.0  0.0 460380  6264 ?        Ssl  06:38   0:00 /usr/libexec/\n",
      "legendf+    1875  0.0  0.0 238788  6104 ?        Ssl  06:38   0:00 /usr/libexec/\n",
      "legendf+    1879  0.0  0.0 468384 10868 ?        Ssl  06:38   0:00 /usr/libexec/\n",
      "legendf+    1884  0.0  0.0 318904 10184 ?        Ssl  06:38   0:00 /usr/libexec/\n",
      "legendf+    1887  0.0  0.0 322972  9416 ?        Ssl  06:38   0:00 /usr/libexec/\n",
      "legendf+    1893  0.0  0.0 388572  7552 ?        Ssl  06:38   0:00 /usr/libexec/\n",
      "legendf+    1897  0.0  0.1 424820 27160 ?        Ssl  06:38   0:00 /usr/libexec/\n",
      "legendf+    1899  0.0  0.0 317704  8368 ?        Ssl  06:38   0:00 /usr/libexec/\n",
      "legendf+    1953  0.0  0.0 231808  6292 ?        Sl   06:38   0:00 /usr/libexec/\n",
      "legendf+    1958  0.1  0.3 596032 50540 ?        Sl   06:38   0:00 /usr/bin/pyth\n",
      "legendf+    1963  0.1  0.4 672200 67528 ?        Sl   06:38   0:00 /usr/libexec/\n",
      "legendf+    1988  0.0  0.0 316248  8640 ?        Sl   06:38   0:00 /usr/lib/x86_\n",
      "legendf+    2006  0.0  0.0 345456 15220 ?        Sl   06:38   0:00 /usr/libexec/\n",
      "legendf+    2009  0.8  0.6 812720 102240 ?       Sl   06:38   0:03 /snap/snap-st\n",
      "legendf+    2039  0.0  0.0 534752  6648 ?        Ssl  06:38   0:00 /usr/libexec/\n",
      "legendf+    2160  0.4  0.0 388500  9176 ?        Sl   06:38   0:02 ibus-daemon -\n",
      "legendf+    2161  0.0  0.0 613588 11016 ?        Ssl  06:38   0:00 /usr/libexec/\n",
      "legendf+    2166  0.0  0.4 553828 67488 ?        Ssl  06:38   0:00 /usr/libexec/\n",
      "legendf+    2169  0.0  0.2 433356 34076 ?        Ssl  06:38   0:00 /usr/libexec/\n",
      "legendf+    2181  0.0  0.0 166068  7328 ?        Sl   06:38   0:00 /usr/libexec/\n",
      "legendf+    2182  0.3  0.1 355888 31160 ?        Sl   06:38   0:01 /usr/libexec/\n",
      "legendf+    2185  0.0  0.3 399616 60844 ?        Sl   06:38   0:00 /usr/libexec/\n",
      "legendf+    2190  0.0  0.0 239840  7456 ?        Sl   06:38   0:00 /usr/libexec/\n",
      "legendf+    2230  0.0  0.2 443948 44532 ?        Sl   06:38   0:00 /usr/bin/pyth\n",
      "legendf+    2237  1.1  0.2 279952 39200 ?        Sl   06:38   0:05 /usr/bin/pyth\n",
      "legendf+    2239  0.0  0.0  43996  6552 ?        Ss   06:38   0:00 /usr/lib/blue\n",
      "root        2285  0.1  0.2 395400 34132 ?        Ssl  06:38   0:00 /usr/libexec/\n",
      "legendf+    2290  0.0  0.0 316708  7204 ?        Sl   06:38   0:00 /usr/libexec/\n",
      "legendf+    2413  0.2  0.4 480764 78908 ?        Ssl  06:38   0:00 /usr/libexec/\n",
      "legendf+    2418  0.0  0.0  14224  5412 pts/0    Ss   06:38   0:00 bash\n",
      "root        2462  0.0  0.0      0     0 ?        S<   06:38   0:00 [khidpd_046db\n",
      "legendf+    2873  2.5  0.8 930484 135664 pts/0   Sl+  06:39   0:10 /home/legendf\n",
      "legendf+    2894  0.0  0.0 248504 10376 ?        Sl   06:39   0:00 /usr/lib/ibus\n",
      "legendf+    2998  9.2  2.2 3922712 370504 ?      Ssl  06:39   0:38 /usr/lib/fire\n",
      "legendf+    3064  0.0  0.2 213596 44728 ?        Sl   06:39   0:00 /usr/lib/fire\n",
      "legendf+    3173  1.4  1.4 2744832 231760 ?      Sl   06:39   0:06 /usr/lib/fire\n",
      "legendf+    3243  0.0  0.2 212444 39876 ?        Sl   06:39   0:00 /usr/lib/fire\n",
      "legendf+    3257 12.9  2.3 2923448 385204 ?      Rl   06:39   0:53 /usr/lib/fire\n",
      "legendf+    3264  0.0  0.5 2408992 83904 ?       Sl   06:39   0:00 /usr/lib/fire\n",
      "legendf+    3274  0.0  0.5 2408992 85144 ?       Sl   06:39   0:00 /usr/lib/fire\n",
      "legendf+    3279  0.1  0.8 2515356 141660 ?      Sl   06:39   0:00 /usr/lib/fire\n",
      "legendf+    3419  0.0  0.5 2409852 84376 ?       Sl   06:39   0:00 /usr/lib/fire\n",
      "legendf+    3604  0.0  0.0 165440  6408 ?        Ssl  06:39   0:00 /usr/libexec/\n",
      "legendf+    3608  0.3  0.5 802468 94380 ?        Sl   06:39   0:01 /usr/bin/gnom\n",
      "legendf+    3611  0.0  0.2 437448 35692 ?        Sl   06:39   0:00 update-notifi\n",
      "legendf+    4063  1.3  0.4 772620 79464 ?        Ssl  06:41   0:04 /home/legendf\n",
      "legendf+    4103  2.9  0.6 535960 105148 pts/0   Sl+  06:41   0:09 /home/legendf\n",
      "legendf+    4186  0.0  0.1  36172 24560 pts/0    S+   06:41   0:00 /home/legendf\n",
      "root        5225  0.0  0.0      0     0 ?        I    06:44   0:00 [kworker/3:0]\n",
      "root        5648  0.0  0.0      0     0 ?        I    06:45   0:00 [kworker/u16:\n",
      "root        5663  0.0  0.0      0     0 ?        I    06:45   0:00 [kworker/5:0]\n",
      "root        5871  0.0  0.0      0     0 ?        I    06:45   0:00 [kworker/6:0]\n",
      "root        5896  0.0  0.0      0     0 ?        I    06:46   0:00 [kworker/0:0]\n",
      "legendf+    5957  0.0  0.0  14788  3492 pts/1    Rs+  06:46   0:00 ps -aux\n"
     ]
    }
   ],
   "source": [
    "!ps -aux"
   ]
  },
  {
   "cell_type": "markdown",
   "id": "94cb1417-575f-4def-8a64-cfd7f0792355",
   "metadata": {},
   "source": [
    "### 查看进程命令 top  \n",
    "全屏显示，随着进程状态变化不断更新"
   ]
  },
  {
   "cell_type": "code",
   "execution_count": 4,
   "id": "84d6b207-ae27-457b-8af2-5d4ef8de2f29",
   "metadata": {
    "collapsed": true,
    "jupyter": {
     "outputs_hidden": true,
     "source_hidden": true
    },
    "tags": []
   },
   "outputs": [
    {
     "name": "stdout",
     "output_type": "stream",
     "text": [
      "\u001b[?1h\u001b=\u001b[H\u001b[2J\u001b[mtop - 06:47:30 up 9 min,  1 user,  load average: 0.62, 0.60, 0.33\u001b[m\u001b[m\u001b[m\u001b[m\u001b[K\n",
      "任务:\u001b[m\u001b[m\u001b[1m 296 \u001b[m\u001b[mtotal,\u001b[m\u001b[m\u001b[1m   1 \u001b[m\u001b[mrunning,\u001b[m\u001b[m\u001b[1m 295 \u001b[m\u001b[msleeping,\u001b[m\u001b[m\u001b[1m   0 \u001b[m\u001b[mstopped,\u001b[m\u001b[m\u001b[1m   0 \u001b[m\u001b[mzombie\u001b[m\u001b[m\u001b[m\u001b[m\u001b[K\n",
      "%Cpu(s):\u001b[m\u001b[m\u001b[1m 34.1 \u001b[m\u001b[mus,\u001b[m\u001b[m\u001b[1m  1.6 \u001b[m\u001b[msy,\u001b[m\u001b[m\u001b[1m  0.0 \u001b[m\u001b[mni,\u001b[m\u001b[m\u001b[1m 63.6 \u001b[m\u001b[mid,\u001b[m\u001b[m\u001b[1m  0.8 \u001b[m\u001b[mwa,\u001b[m\u001b[m\u001b[1m  0.0 \u001b[m\u001b[mhi,\u001b[m\u001b[m\u001b[1m  0.0 \u001b[m\u001b[msi,\u001b[m\u001b[m\u001b[1m  0.0 \u001b[m\u001b[mst\u001b[m\u001b[m\u001b[m\u001b[m\u001b[K\n",
      "MiB Mem :\u001b[m\u001b[m\u001b[1m  15828.5 \u001b[m\u001b[mtotal,\u001b[m\u001b[m\u001b[1m  11291.7 \u001b[m\u001b[mfree,\u001b[m\u001b[m\u001b[1m   1880.6 \u001b[m\u001b[mused,\u001b[m\u001b[m\u001b[1m   2656.3 \u001b[m\u001b[mbuff/cache\u001b[m\u001b[m\u001b[m\u001b[m\u001b[K\n",
      "MiB Swap:\u001b[m\u001b[m\u001b[1m  15625.0 \u001b[m\u001b[mtotal,\u001b[m\u001b[m\u001b[1m  15625.0 \u001b[m\u001b[mfree,\u001b[m\u001b[m\u001b[1m      0.0 \u001b[m\u001b[mused.\u001b[m\u001b[m\u001b[1m  13114.4 \u001b[m\u001b[mavail Mem \u001b[m\u001b[m\u001b[m\u001b[m\u001b[K\n",
      "\u001b[K\n",
      "\u001b[7m 进程号 USER      PR  NI    VIRT    RES    SHR    %CPU  %MEM     TIME+ COMMAND  \u001b[m\u001b[m\u001b[K\n",
      "\u001b[m   3257 legendf+  20   0 2921388 369636 143324 S 106.2   2.3   1:04.57 Isolate+ \u001b[m\u001b[m\u001b[K\n",
      "\u001b[m   1707 legendf+  20   0 4706356 317484 135632 S  62.5   2.0   0:32.58 gnome-s+ \u001b[m\u001b[m\u001b[K\n",
      "\u001b[m   4103 legendf+  20   0  535960 105148  28868 S  37.5   0.6   0:10.77 python   \u001b[m\u001b[m\u001b[K\n",
      "\u001b[m   2998 legendf+  20   0 3922932 370676 225948 S  25.0   2.3   0:46.12 firefox  \u001b[m\u001b[m\u001b[K\n",
      "\u001b[m   2160 legendf+  20   0  388500   9176   7068 S   6.2   0.1   0:02.84 ibus-da+ \u001b[m\u001b[m\u001b[K\n",
      "\u001b[m   2182 legendf+  20   0  355888  31160  21592 S   6.2   0.2   0:01.63 ibus-ex+ \u001b[m\u001b[m\u001b[K\n",
      "\u001b[m   2873 legendf+  20   0  930484 135664  31872 S   6.2   0.8   0:12.57 jupyter+ \u001b[m\u001b[m\u001b[K\n",
      "\u001b[m   3173 legendf+  20   0 2744832 231824  99756 S   6.2   1.4   0:06.51 WebExte+ \u001b[m\u001b[m\u001b[K\n",
      "\u001b[m   4063 legendf+  20   0  772620  79600  14688 S   6.2   0.5   0:04.92 python   \u001b[m\u001b[m\u001b[K\n",
      "\u001b[m\u001b[1m   6387 legendf+  20   0   15116   4092   3316 R   6.2   0.0   0:00.01 top      \u001b[m\u001b[m\u001b[K\n",
      "\u001b[m      1 root      20   0  168640  12136   8432 S   0.0   0.1   0:01.40 systemd  \u001b[m\u001b[m\u001b[K\n",
      "\u001b[m      2 root      20   0       0      0      0 S   0.0   0.0   0:00.00 kthreadd \u001b[m\u001b[m\u001b[K\n",
      "\u001b[m      3 root       0 -20       0      0      0 I   0.0   0.0   0:00.00 rcu_gp   \u001b[m\u001b[m\u001b[K\n",
      "\u001b[m      4 root       0 -20       0      0      0 I   0.0   0.0   0:00.00 rcu_par+ \u001b[m\u001b[m\u001b[K\n",
      "\u001b[m      5 root       0 -20       0      0      0 I   0.0   0.0   0:00.00 slub_fl+ \u001b[m\u001b[m\u001b[K\n",
      "\u001b[m      6 root       0 -20       0      0      0 I   0.0   0.0   0:00.00 netns    \u001b[m\u001b[m\u001b[K\n",
      "\u001b[m      8 root       0 -20       0      0      0 I   0.0   0.0   0:00.00 kworker+ \u001b[m\u001b[m\u001b[K\u001b[H\u001b[mtop - 06:47:33 up 9 min,  1 user,  load average: 0.73, 0.63, 0.34\u001b[m\u001b[m\u001b[m\u001b[m\u001b[K\n",
      "任务:\u001b[m\u001b[m\u001b[1m 296 \u001b[m\u001b[mtotal,\u001b[m\u001b[m\u001b[1m   2 \u001b[m\u001b[mrunning,\u001b[m\u001b[m\u001b[1m 294 \u001b[m\u001b[msleeping,\u001b[m\u001b[m\u001b[1m   0 \u001b[m\u001b[mstopped,\u001b[m\u001b[m\u001b[1m   0 \u001b[m\u001b[mzombie\u001b[m\u001b[m\u001b[m\u001b[m\u001b[K\n",
      "%Cpu(s):\u001b[m\u001b[m\u001b[1m  9.7 \u001b[m\u001b[mus,\u001b[m\u001b[m\u001b[1m  1.8 \u001b[m\u001b[msy,\u001b[m\u001b[m\u001b[1m  0.0 \u001b[m\u001b[mni,\u001b[m\u001b[m\u001b[1m 88.5 \u001b[m\u001b[mid,\u001b[m\u001b[m\u001b[1m  0.0 \u001b[m\u001b[mwa,\u001b[m\u001b[m\u001b[1m  0.0 \u001b[m\u001b[mhi,\u001b[m\u001b[m\u001b[1m  0.0 \u001b[m\u001b[msi,\u001b[m\u001b[m\u001b[1m  0.0 \u001b[m\u001b[mst\u001b[m\u001b[m\u001b[m\u001b[m\u001b[K\n",
      "MiB Mem :\u001b[m\u001b[m\u001b[1m  15828.5 \u001b[m\u001b[mtotal,\u001b[m\u001b[m\u001b[1m  11283.6 \u001b[m\u001b[mfree,\u001b[m\u001b[m\u001b[1m   1889.0 \u001b[m\u001b[mused,\u001b[m\u001b[m\u001b[1m   2655.9 \u001b[m\u001b[mbuff/cache\u001b[m\u001b[m\u001b[m\u001b[m\u001b[K\n",
      "MiB Swap:\u001b[m\u001b[m\u001b[1m  15625.0 \u001b[m\u001b[mtotal,\u001b[m\u001b[m\u001b[1m  15625.0 \u001b[m\u001b[mfree,\u001b[m\u001b[m\u001b[1m      0.0 \u001b[m\u001b[mused.\u001b[m\u001b[m\u001b[1m  13106.3 \u001b[m\u001b[mavail Mem \u001b[m\u001b[m\u001b[m\u001b[m\u001b[K\n",
      "\u001b[K\n",
      "\n",
      "\u001b[m   3257 legendf+  20   0 2925484 378436 143324 S  34.9   2.3   1:05.62 Isolate+ \u001b[m\u001b[m\u001b[K\n",
      "\u001b[m   2998 legendf+  20   0 3923040 370688 225948 S  28.6   2.3   0:46.98 firefox  \u001b[m\u001b[m\u001b[K\n",
      "\u001b[m   1707 legendf+  20   0 4706324 317484 135632 S  15.3   2.0   0:33.04 gnome-s+ \u001b[m\u001b[m\u001b[K\n",
      "\u001b[m   1742 legendf+  20   0  335744  73356  44344 S   4.3   0.5   0:05.43 Xwayland \u001b[m\u001b[m\u001b[K\n",
      "\u001b[m   4063 legendf+  20   0  772620  79600  14688 S   3.3   0.5   0:05.02 python   \u001b[m\u001b[m\u001b[K\n",
      "\u001b[m    940 root      20   0  391940  21216  19088 S   1.7   0.1   0:11.23 sunlogi+ \u001b[m\u001b[m\u001b[K\n",
      "\u001b[m   4103 legendf+  20   0  535960 105148  28868 S   1.7   0.6   0:10.82 python   \u001b[m\u001b[m\u001b[K\n",
      "\u001b[m   2873 legendf+  20   0  930484 135664  31872 S   1.3   0.8   0:12.61 jupyter+ \u001b[m\u001b[m\u001b[K\n",
      "\u001b[m    121 root      20   0       0      0      0 I   0.7   0.0   0:00.94 kworker+ \u001b[m\u001b[m\u001b[K\n",
      "\u001b[m     14 root      20   0       0      0      0 I   0.3   0.0   0:00.38 rcu_sch+ \u001b[m\u001b[m\u001b[K\n",
      "\u001b[m     40 root      20   0       0      0      0 S   0.3   0.0   0:00.49 ksoftir+ \u001b[m\u001b[m\u001b[K\n",
      "\u001b[m\u001b[1m     79 root      20   0       0      0      0 R   0.3   0.0   0:00.08 kworker+ \u001b[m\u001b[m\u001b[K\n",
      "\u001b[m    478 root       0 -20       0      0      0 I   0.3   0.0   0:00.24 kworker+ \u001b[m\u001b[m\u001b[K\n",
      "\u001b[m    890 root      20   0   21728   6520   6048 S   0.3   0.0   0:02.23 oray_ru+ \u001b[m\u001b[m\u001b[K\n",
      "\u001b[m    905 root      20   0  277016  10852   9804 S   0.3   0.1   0:00.27 thermald \u001b[m\u001b[m\u001b[K\n",
      "\u001b[m   2237 legendf+  20   0  279952  39228  15168 S   0.3   0.2   0:07.46 python3  \u001b[m\u001b[m\u001b[K\n",
      "\u001b[m   3173 legendf+  20   0 2744832 232088  99756 S   0.3   1.4   0:06.52 WebExte+ \u001b[m\u001b[m\u001b[K\u001b[H\u001b[mtop - 06:47:36 up 9 min,  1 user,  load average: 0.73, 0.63, 0.34\u001b[m\u001b[m\u001b[m\u001b[m\u001b[K\n",
      "任务:\u001b[m\u001b[m\u001b[1m 296 \u001b[m\u001b[mtotal,\u001b[m\u001b[m\u001b[1m   3 \u001b[m\u001b[mrunning,\u001b[m\u001b[m\u001b[1m 293 \u001b[m\u001b[msleeping,\u001b[m\u001b[m\u001b[1m   0 \u001b[m\u001b[mstopped,\u001b[m\u001b[m\u001b[1m   0 \u001b[m\u001b[mzombie\u001b[m\u001b[m\u001b[m\u001b[m\u001b[K\n",
      "%Cpu(s):\u001b[m\u001b[m\u001b[1m  7.4 \u001b[m\u001b[mus,\u001b[m\u001b[m\u001b[1m  1.6 \u001b[m\u001b[msy,\u001b[m\u001b[m\u001b[1m  0.0 \u001b[m\u001b[mni,\u001b[m\u001b[m\u001b[1m 90.8 \u001b[m\u001b[mid,\u001b[m\u001b[m\u001b[1m  0.1 \u001b[m\u001b[mwa,\u001b[m\u001b[m\u001b[1m  0.0 \u001b[m\u001b[mhi,\u001b[m\u001b[m\u001b[1m  0.1 \u001b[m\u001b[msi,\u001b[m\u001b[m\u001b[1m  0.0 \u001b[m\u001b[mst\u001b[m\u001b[m\u001b[m\u001b[m\u001b[K\n",
      "MiB Mem :\u001b[m\u001b[m\u001b[1m  15828.5 \u001b[m\u001b[mtotal,\u001b[m\u001b[m\u001b[1m  11280.7 \u001b[m\u001b[mfree,\u001b[m\u001b[m\u001b[1m   1891.8 \u001b[m\u001b[mused,\u001b[m\u001b[m\u001b[1m   2656.0 \u001b[m\u001b[mbuff/cache\u001b[m\u001b[m\u001b[m\u001b[m\u001b[K\n",
      "MiB Swap:\u001b[m\u001b[m\u001b[1m  15625.0 \u001b[m\u001b[mtotal,\u001b[m\u001b[m\u001b[1m  15625.0 \u001b[m\u001b[mfree,\u001b[m\u001b[m\u001b[1m      0.0 \u001b[m\u001b[mused.\u001b[m\u001b[m\u001b[1m  13103.5 \u001b[m\u001b[mavail Mem \u001b[m\u001b[m\u001b[m\u001b[m\u001b[K\n",
      "\u001b[K\n",
      "\n",
      "\u001b[m   2998 legendf+  20   0 3923056 371704 225948 S  19.9   2.3   0:47.58 firefox  \u001b[m\u001b[m\u001b[K\n",
      "\u001b[m\u001b[1m   3257 legendf+  20   0 2927532 371596 143324 R  18.9   2.3   1:06.19 Isolate+ \u001b[m\u001b[m\u001b[K\n",
      "\u001b[m   1707 legendf+  20   0 4706312 317296 135632 S  13.9   2.0   0:33.46 gnome-s+ \u001b[m\u001b[m\u001b[K\n",
      "\u001b[m   4063 legendf+  20   0  772620  79600  14688 S   3.3   0.5   0:05.12 python   \u001b[m\u001b[m\u001b[K\n",
      "\u001b[m   1742 legendf+  20   0  335744  73356  44344 S   2.6   0.5   0:05.51 Xwayland \u001b[m\u001b[m\u001b[K\n",
      "\u001b[m   2237 legendf+  20   0  279952  39228  15168 S   2.3   0.2   0:07.53 python3  \u001b[m\u001b[m\u001b[K\n",
      "\u001b[m    940 root      20   0  391940  21216  19088 S   1.7   0.1   0:11.28 sunlogi+ \u001b[m\u001b[m\u001b[K\n",
      "\u001b[m   2873 legendf+  20   0  930484 135664  31872 S   1.7   0.8   0:12.66 jupyter+ \u001b[m\u001b[m\u001b[K\n",
      "\u001b[m    121 root      20   0       0      0      0 I   0.7   0.0   0:00.96 kworker+ \u001b[m\u001b[m\u001b[K\n",
      "\u001b[m    890 root      20   0   21728   6520   6048 S   0.7   0.0   0:02.25 oray_ru+ \u001b[m\u001b[m\u001b[K\n",
      "\u001b[m   3173 legendf+  20   0 2744832 232088  99756 S   0.7   1.4   0:06.54 WebExte+ \u001b[m\u001b[m\u001b[K\n",
      "\u001b[m   2413 legendf+  20   0  480764  78908  57708 S   0.3   0.5   0:00.94 gnome-t+ \u001b[m\u001b[m\u001b[K\n",
      "\u001b[m\u001b[1m   6387 legendf+  20   0   15116   4092   3316 R   0.3   0.0   0:00.03 top      \u001b[m\u001b[m\u001b[K\n",
      "\u001b[m      1 root      20   0  168640  12136   8432 S   0.0   0.1   0:01.40 systemd  \u001b[m\u001b[m\u001b[K\n",
      "\u001b[m      2 root      20   0       0      0      0 S   0.0   0.0   0:00.00 kthreadd \u001b[m\u001b[m\u001b[K\n",
      "\u001b[m      3 root       0 -20       0      0      0 I   0.0   0.0   0:00.00 rcu_gp   \u001b[m\u001b[m\u001b[K\n",
      "\u001b[m      4 root       0 -20       0      0      0 I   0.0   0.0   0:00.00 rcu_par+ \u001b[m\u001b[m\u001b[K\u001b[H\u001b[mtop - 06:47:39 up 9 min,  1 user,  load average: 0.75, 0.63, 0.35\u001b[m\u001b[m\u001b[m\u001b[m\u001b[K\n",
      "任务:\u001b[m\u001b[m\u001b[1m 296 \u001b[m\u001b[mtotal,\u001b[m\u001b[m\u001b[1m   1 \u001b[m\u001b[mrunning,\u001b[m\u001b[m\u001b[1m 295 \u001b[m\u001b[msleeping,\u001b[m\u001b[m\u001b[1m   0 \u001b[m\u001b[mstopped,\u001b[m\u001b[m\u001b[1m   0 \u001b[m\u001b[mzombie\u001b[m\u001b[m\u001b[m\u001b[m\u001b[K\n",
      "%Cpu(s):\u001b[m\u001b[m\u001b[1m  6.7 \u001b[m\u001b[mus,\u001b[m\u001b[m\u001b[1m  1.3 \u001b[m\u001b[msy,\u001b[m\u001b[m\u001b[1m  0.0 \u001b[m\u001b[mni,\u001b[m\u001b[m\u001b[1m 91.8 \u001b[m\u001b[mid,\u001b[m\u001b[m\u001b[1m  0.0 \u001b[m\u001b[mwa,\u001b[m\u001b[m\u001b[1m  0.0 \u001b[m\u001b[mhi,\u001b[m\u001b[m\u001b[1m  0.1 \u001b[m\u001b[msi,\u001b[m\u001b[m\u001b[1m  0.0 \u001b[m\u001b[mst\u001b[m\u001b[m\u001b[m\u001b[m\u001b[K\n",
      "MiB Mem :\u001b[m\u001b[m\u001b[1m  15828.5 \u001b[m\u001b[mtotal,\u001b[m\u001b[m\u001b[1m  11281.1 \u001b[m\u001b[mfree,\u001b[m\u001b[m\u001b[1m   1890.1 \u001b[m\u001b[mused,\u001b[m\u001b[m\u001b[1m   2657.4 \u001b[m\u001b[mbuff/cache\u001b[m\u001b[m\u001b[m\u001b[m\u001b[K\n",
      "MiB Swap:\u001b[m\u001b[m\u001b[1m  15625.0 \u001b[m\u001b[mtotal,\u001b[m\u001b[m\u001b[1m  15625.0 \u001b[m\u001b[mfree,\u001b[m\u001b[m\u001b[1m      0.0 \u001b[m\u001b[mused.\u001b[m\u001b[m\u001b[1m  13104.1 \u001b[m\u001b[mavail Mem \u001b[m\u001b[m\u001b[m\u001b[m\u001b[K\n",
      "\u001b[K\n",
      "\n",
      "\u001b[m   3257 legendf+  20   0 2927532 369172 143324 S  22.3   2.3   1:06.86 Isolate+ \u001b[m\u001b[m\u001b[K\n",
      "\u001b[m   2998 legendf+  20   0 3923360 372148 226248 S  18.6   2.3   0:48.14 firefox  \u001b[m\u001b[m\u001b[K\n",
      "\u001b[m   1707 legendf+  20   0 4707352 317340 135632 S  10.6   2.0   0:33.78 gnome-s+ \u001b[m\u001b[m\u001b[K\n",
      "\u001b[m   4063 legendf+  20   0  772620  79600  14688 S   4.0   0.5   0:05.24 python   \u001b[m\u001b[m\u001b[K\n",
      "\u001b[m   1742 legendf+  20   0  336064  73356  44344 S   3.0   0.5   0:05.60 Xwayland \u001b[m\u001b[m\u001b[K\n",
      "\u001b[m    940 root      20   0  391940  21216  19088 S   2.3   0.1   0:11.35 sunlogi+ \u001b[m\u001b[m\u001b[K\n",
      "\u001b[m   2873 legendf+  20   0  930484 135664  31872 S   1.3   0.8   0:12.70 jupyter+ \u001b[m\u001b[m\u001b[K\n",
      "\u001b[m\u001b[1m   6387 legendf+  20   0   15116   4092   3316 R   0.7   0.0   0:00.05 top      \u001b[m\u001b[m\u001b[K\n",
      "\u001b[m      1 root      20   0  168640  12136   8432 S   0.3   0.1   0:01.41 systemd  \u001b[m\u001b[m\u001b[K\n",
      "\u001b[m     40 root      20   0       0      0      0 S   0.3   0.0   0:00.50 ksoftir+ \u001b[m\u001b[m\u001b[K\n",
      "\u001b[m    121 root      20   0       0      0      0 I   0.3   0.0   0:00.97 kworker+ \u001b[m\u001b[m\u001b[K\n",
      "\u001b[m    478 root       0 -20       0      0      0 I   0.3   0.0   0:00.25 kworker+ \u001b[m\u001b[m\u001b[K\n",
      "\u001b[m    516 root      20   0       0      0      0 I   0.3   0.0   0:00.37 kworker+ \u001b[m\u001b[m\u001b[K\n",
      "\u001b[m    816 systemd+  20   0   90916   6100   5312 S   0.3   0.0   0:00.16 systemd+ \u001b[m\u001b[m\u001b[K\n",
      "\u001b[m    890 root      20   0   21728   6520   6048 S   0.3   0.0   0:02.26 oray_ru+ \u001b[m\u001b[m\u001b[K\n",
      "\u001b[m   3173 legendf+  20   0 2744832 232088  99756 S   0.3   1.4   0:06.55 WebExte+ \u001b[m\u001b[m\u001b[K\n",
      "\u001b[m      2 root      20   0       0      0      0 S   0.0   0.0   0:00.00 kthreadd \u001b[m\u001b[m\u001b[K\u001b[?1l\u001b>\u001b[25;1H\n",
      "\u001b[K"
     ]
    }
   ],
   "source": [
    "!top"
   ]
  },
  {
   "cell_type": "markdown",
   "id": "9c1b8ce1-c1c5-4f72-8952-9969bf77b564",
   "metadata": {
    "tags": []
   },
   "source": [
    "### 查看进程命令 -pstree"
   ]
  },
  {
   "cell_type": "markdown",
   "id": "9a18c641-a002-470e-9ee3-e46813d968be",
   "metadata": {},
   "source": [
    "将所有进程以树状图显示"
   ]
  },
  {
   "cell_type": "code",
   "execution_count": 6,
   "id": "a4ac94be-f087-46c1-878a-63d0da86f7a8",
   "metadata": {
    "collapsed": true,
    "jupyter": {
     "outputs_hidden": true
    },
    "tags": []
   },
   "outputs": [
    {
     "name": "stdout",
     "output_type": "stream",
     "text": [
      "systemd─┬─ModemManager───2*[{ModemManager}]\n",
      "        ├─NetworkManager───2*[{NetworkManager}]\n",
      "        ├─accounts-daemon───2*[{accounts-daemon}]\n",
      "        ├─acpid\n",
      "        ├─agetty\n",
      "        ├─avahi-daemon───avahi-daemon\n",
      "        ├─blkmapd\n",
      "        ├─bluetoothd\n",
      "        ├─colord───2*[{colord}]\n",
      "        ├─cron\n",
      "        ├─cups-browsed───2*[{cups-browsed}]\n",
      "        ├─cupsd\n",
      "        ├─dbus-daemon\n",
      "        ├─fwupd───4*[{fwupd}]\n",
      "        ├─gnome-keyring-d───3*[{gnome-keyring-d}]\n",
      "        ├─irqbalance───{irqbalance}\n",
      "        ├─2*[kerneloops]\n",
      "        ├─lightdm─┬─lightdm─┬─gnome-session-b─┬─ssh-agent\n",
      "        │         │         │                 └─2*[{gnome-session-b}]\n",
      "        │         │         └─2*[{lightdm}]\n",
      "        │         └─2*[{lightdm}]\n",
      "        ├─networkd-dispat\n",
      "        ├─oray_rundaemon─┬─sunloginclient───8*[{sunloginclient}]\n",
      "        │                └─{oray_rundaemon}\n",
      "        ├─polkitd───2*[{polkitd}]\n",
      "        ├─rpc.idmapd\n",
      "        ├─rpc.mountd\n",
      "        ├─rpcbind\n",
      "        ├─rsyslogd───3*[{rsyslogd}]\n",
      "        ├─rtkit-daemon───2*[{rtkit-daemon}]\n",
      "        ├─snapd───14*[{snapd}]\n",
      "        ├─sshd\n",
      "        ├─switcheroo-cont───2*[{switcheroo-cont}]\n",
      "        ├─systemd─┬─(sd-pam)\n",
      "        │         ├─at-spi2-registr───2*[{at-spi2-registr}]\n",
      "        │         ├─blueman-tray───3*[{blueman-tray}]\n",
      "        │         ├─dbus-daemon\n",
      "        │         ├─dconf-service───2*[{dconf-service}]\n",
      "        │         ├─evolution-addre───5*[{evolution-addre}]\n",
      "        │         ├─evolution-calen───8*[{evolution-calen}]\n",
      "        │         ├─evolution-sourc───3*[{evolution-sourc}]\n",
      "        │         ├─gjs───10*[{gjs}]\n",
      "        │         ├─glib-pacrunner───2*[{glib-pacrunner}]\n",
      "        │         ├─gnome-session-b─┬─at-spi-bus-laun─┬─dbus-daemon\n",
      "        │         │                 │                 └─3*[{at-spi-bus-laun}]\n",
      "        │         │                 ├─blueman-applet───3*[{blueman-applet}]\n",
      "        │         │                 ├─evolution-alarm───5*[{evolution-alarm}]\n",
      "        │         │                 ├─gnome-software───3*[{gnome-software}]\n",
      "        │         │                 ├─gsd-disk-utilit───2*[{gsd-disk-utilit}]\n",
      "        │         │                 ├─indicator-messa───3*[{indicator-messa}]\n",
      "        │         │                 ├─update-notifier───3*[{update-notifier}]\n",
      "        │         │                 └─3*[{gnome-session-b}]\n",
      "        │         ├─gnome-session-c───{gnome-session-c}\n",
      "        │         ├─gnome-shell─┬─Xwayland───2*[{Xwayland}]\n",
      "        │         │             ├─ibus-daemon─┬─ibus-engine-lib───3*[{ibus-engi+\n",
      "        │         │             │             ├─ibus-extension-───3*[{ibus-exte+\n",
      "        │         │             │             ├─ibus-memconf───2*[{ibus-memconf+\n",
      "        │         │             │             ├─python3───3*[{python3}]\n",
      "        │         │             │             └─2*[{ibus-daemon}]\n",
      "        │         │             └─16*[{gnome-shell}]\n",
      "        │         ├─gnome-shell-cal───5*[{gnome-shell-cal}]\n",
      "        │         ├─gnome-terminal-─┬─bash───jupyter-lab─┬─firefox─┬─Isolated W+\n",
      "        │         │                 │                    │         ├─Privileged+\n",
      "        │         │                 │                    │         ├─Socket Pro+\n",
      "        │         │                 │                    │         ├─Utility Pr+\n",
      "        │         │                 │                    │         ├─3*[Web Con+\n",
      "        │         │                 │                    │         ├─WebExtensi+\n",
      "        │         │                 │                    │         └─98*[{firef+\n",
      "        │         │                 │                    ├─python─┬─pstree\n",
      "        │         │                 │                    │        └─11*[{python+\n",
      "        │         │                 │                    ├─python─┬─python\n",
      "        │         │                 │                    │        └─2*[{python}+\n",
      "        │         │                 │                    └─8*[{jupyter-lab}]\n",
      "        │         │                 └─3*[{gnome-terminal-}]\n",
      "        │         ├─goa-daemon───3*[{goa-daemon}]\n",
      "        │         ├─goa-identity-se───2*[{goa-identity-se}]\n",
      "        │         ├─gsd-a11y-settin───3*[{gsd-a11y-settin}]\n",
      "        │         ├─gsd-color───3*[{gsd-color}]\n",
      "        │         ├─gsd-datetime───3*[{gsd-datetime}]\n",
      "        │         ├─gsd-housekeepin───3*[{gsd-housekeepin}]\n",
      "        │         ├─gsd-keyboard───3*[{gsd-keyboard}]\n",
      "        │         ├─gsd-media-keys───3*[{gsd-media-keys}]\n",
      "        │         ├─gsd-power───3*[{gsd-power}]\n",
      "        │         ├─gsd-print-notif───2*[{gsd-print-notif}]\n",
      "        │         ├─gsd-printer───2*[{gsd-printer}]\n",
      "        │         ├─gsd-rfkill───2*[{gsd-rfkill}]\n",
      "        │         ├─gsd-screensaver───2*[{gsd-screensaver}]\n",
      "        │         ├─gsd-sharing───3*[{gsd-sharing}]\n",
      "        │         ├─gsd-smartcard───4*[{gsd-smartcard}]\n",
      "        │         ├─gsd-sound───3*[{gsd-sound}]\n",
      "        │         ├─gsd-usb-protect───3*[{gsd-usb-protect}]\n",
      "        │         ├─gsd-wacom───3*[{gsd-wacom}]\n",
      "        │         ├─gsd-wwan───3*[{gsd-wwan}]\n",
      "        │         ├─gsd-xsettings───4*[{gsd-xsettings}]\n",
      "        │         ├─gvfs-afc-volume───3*[{gvfs-afc-volume}]\n",
      "        │         ├─gvfs-goa-volume───2*[{gvfs-goa-volume}]\n",
      "        │         ├─gvfs-gphoto2-vo───2*[{gvfs-gphoto2-vo}]\n",
      "        │         ├─gvfs-mtp-volume───2*[{gvfs-mtp-volume}]\n",
      "        │         ├─gvfs-udisks2-vo───3*[{gvfs-udisks2-vo}]\n",
      "        │         ├─gvfsd─┬─gvfsd-burn───2*[{gvfsd-burn}]\n",
      "        │         │       ├─gvfsd-trash───2*[{gvfsd-trash}]\n",
      "        │         │       └─2*[{gvfsd}]\n",
      "        │         ├─gvfsd-fuse───5*[{gvfsd-fuse}]\n",
      "        │         ├─gvfsd-metadata───2*[{gvfsd-metadata}]\n",
      "        │         ├─ibus-portal───2*[{ibus-portal}]\n",
      "        │         ├─ibus-x11───3*[{ibus-x11}]\n",
      "        │         ├─obexd\n",
      "        │         ├─pulseaudio───7*[{pulseaudio}]\n",
      "        │         ├─snap-store───4*[{snap-store}]\n",
      "        │         ├─tracker-miner-f───4*[{tracker-miner-f}]\n",
      "        │         ├─xdg-desktop-por───4*[{xdg-desktop-por}]\n",
      "        │         ├─xdg-desktop-por───3*[{xdg-desktop-por}]\n",
      "        │         ├─xdg-document-po───6*[{xdg-document-po}]\n",
      "        │         └─xdg-permission-───2*[{xdg-permission-}]\n",
      "        ├─systemd-journal\n",
      "        ├─systemd-logind\n",
      "        ├─systemd-resolve\n",
      "        ├─systemd-timesyn───{systemd-timesyn}\n",
      "        ├─systemd-udevd\n",
      "        ├─thermald───3*[{thermald}]\n",
      "        ├─udisksd───4*[{udisksd}]\n",
      "        ├─unattended-upgr───{unattended-upgr}\n",
      "        ├─upowerd───2*[{upowerd}]\n",
      "        ├─v2raya───10*[{v2raya}]\n",
      "        ├─whoopsie───2*[{whoopsie}]\n",
      "        └─wpa_supplicant\n"
     ]
    }
   ],
   "source": [
    "!pstree"
   ]
  },
  {
   "cell_type": "markdown",
   "id": "2051e0d1-0cc4-4dbd-a346-74c88fceb14b",
   "metadata": {},
   "source": [
    "### 发送信号命令  "
   ]
  },
  {
   "cell_type": "markdown",
   "id": "85e9ddf3-7c5b-4d7f-b171-7e93125c0ce4",
   "metadata": {},
   "source": [
    "kill [-signal] PID  \n",
    "signal 是信号  \n",
    "PID 是进程号  "
   ]
  },
  {
   "cell_type": "markdown",
   "id": "6ab9654f-e1dc-4d2b-abdb-192b047e049d",
   "metadata": {},
   "source": [
    "# shell 脚本编程"
   ]
  },
  {
   "cell_type": "markdown",
   "id": "63a560bf-01ee-4577-b5f9-04cb430c246b",
   "metadata": {},
   "source": [
    "创建以.sh为后缀的文件  \n",
    "#!/bin/bash  开头写这句话来指定所用shell类型\n",
    "编写完成后 在shell命令行中使用./文件名.sh运行"
   ]
  },
  {
   "cell_type": "markdown",
   "id": "27fa631d-d633-4711-9deb-e5f871271ed5",
   "metadata": {},
   "source": [
    "## 脚本变量"
   ]
  },
  {
   "cell_type": "markdown",
   "id": "caef8a0e-5ba2-4de2-bbd3-a69447f2e5c7",
   "metadata": {},
   "source": [
    "变量分类  \n",
    "1. 自定义变量 由用户自己定义，修改和使用\n",
    "2. 特殊这是\n",
    "    + 环境变量  由系统维护，用于设置工作环境\n",
    "    + 只读变量  用于变量值不允许被修改的情况\n",
    "    + 位置变量  通过命令行给脚本程序传递参数\n",
    "    + 预定义变量  bash中内置的一类变量，不能直接修改"
   ]
  },
  {
   "cell_type": "markdown",
   "id": "ff546b3b-97f1-4b3e-ab80-e0769fb33cd2",
   "metadata": {},
   "source": [
    "## 用户自定义变量  \n",
    "+ 在 shell 编程中通常使用全大写变量，方便识别  \n",
    "\\$COUNT=1  \n",
    "+ 变量的调用：在变量前加\\$  \n",
    "\\$echo $COUNT  \n",
    "\n",
    "+ 使用unset命令删除变量的赋值  \n",
    "\\$Z=hello  \n",
    "\\$echo $Z  \n",
    "hello  \n",
    "\\$unset Z  \n",
    "\\$echo $Z  \n"
   ]
  },
  {
   "cell_type": "markdown",
   "id": "02f9f5a0-fbc7-4b7e-9916-151d330c67a2",
   "metadata": {},
   "source": [
    "+ 取值  \n",
    "    + 双引号 : 允许通过 \\$ 符号引用其他变量值  |弱引用，其中的变量引用会被替换为变量值  \n",
    "    + 单引号 : 禁止引用其他变量值,$ 视为普通字符  |强引用，其中的变量引用不会被替换为变量值，而保持源字符串  \n",
    "    + 反撇号 : 命令替换，提取命令执行后的输出结果，\\` ` 和 \\$(...) 作用相同  "
   ]
  },
  {
   "cell_type": "code",
   "execution_count": 3,
   "id": "6d7889ec-b6b0-4fc2-8b6e-059e29a86e8a",
   "metadata": {},
   "outputs": [
    {
     "name": "stdout",
     "output_type": "stream",
     "text": [
      "\n"
     ]
    }
   ],
   "source": [
    "COUNT=3\n",
    "echo $COUNT\n",
    "#\"\"和''\n",
    "echo \"$COUNT\"\n",
    "echo '$COUNT'\n",
    "#``\n",
    "A=`echo $COUNT`\n",
    "A=$(echo $COUNT)\n",
    "echo $A"
   ]
  },
  {
   "cell_type": "markdown",
   "id": "5071dd00-6fcc-4c70-a376-4f812d880bf0",
   "metadata": {},
   "source": [
    "+ 数组\n",
    "echo $a ：默认显示数组 a 的第一个元素  \n",
    "echo ${a[0]} ：显示数组中第一个元素，以此类推  \n",
    "echo ${a[-1]} ： 显示数组中最后一个元素  \n",
    "echo ${a[*]} 和 echo ${a[@]} ：显示数组中所有元素  \n",
    "echo ${#a[@]} ：显示数组中元素的个数  \n",
    "echo ${a[@]: 起始元素 id: 元素个数 ]} ：显示数组中以起始元素为首的  \n",
    "指定个数的元素（注意：这里起始元素 id 不能为负值  \n",
    "unset a[n] 删除数组中的第 n 个元素  \n",
    "unset a 删除 a 这个数组  "
   ]
  },
  {
   "cell_type": "markdown",
   "id": "79798fac-7180-451e-a2c8-b016d2b1b1e5",
   "metadata": {},
   "source": [
    "## 输出语句 echo"
   ]
  },
  {
   "cell_type": "code",
   "execution_count": null,
   "id": "56881760-d1a9-451f-b6ed-16fc339d0467",
   "metadata": {},
   "outputs": [],
   "source": []
  }
 ],
 "metadata": {
  "kernelspec": {
   "display_name": "Python 3",
   "language": "python",
   "name": "python3"
  },
  "language_info": {
   "codemirror_mode": {
    "name": "ipython",
    "version": 3
   },
   "file_extension": ".py",
   "mimetype": "text/x-python",
   "name": "python",
   "nbconvert_exporter": "python",
   "pygments_lexer": "ipython3",
   "version": "3.5.2 (default, Jan 26 2021, 13:30:48) \n[GCC 5.4.0 20160609]"
  },
  "toc-autonumbering": false,
  "toc-showmarkdowntxt": false,
  "vscode": {
   "interpreter": {
    "hash": "31f2aee4e71d21fbe5cf8b01ff0e069b9275f58929596ceb00d14d90e3e16cd6"
   }
  }
 },
 "nbformat": 4,
 "nbformat_minor": 5
}

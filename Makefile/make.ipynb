{
 "cells": [
  {
   "attachments": {},
   "cell_type": "markdown",
   "id": "5248e1cb-aa26-4ea4-b76d-69ad7c5a9c19",
   "metadata": {
    "tags": []
   },
   "source": [
    "# Make 和 Makefile"
   ]
  },
  {
   "attachments": {},
   "cell_type": "markdown",
   "id": "26ff1531",
   "metadata": {},
   "source": [
    "## 简介"
   ]
  },
  {
   "cell_type": "markdown",
   "id": "3104c111",
   "metadata": {},
   "source": [
    "解释一下什么是make和有什么用：   \n",
    "+ 是什么： make 是工程管理器\n",
    "+ 使用场景/来源： 一个项目如果由许多源文件组成，如果有其中一个文件被修改过，GCC不知道哪个文件是最新的，就不得不把所有文件都编译一遍。因此有一个自动编译的工具就十分必要。\n",
    "make是一个自动编译管理器，能够根据文件时间戳自动发现更新过的的文件从而减少编译的工作量。\n",
    "通过读入Makefile文件的内容来执行大量的编译工作，用户只需编写一次简单和编译语句即可。"
   ]
  },
  {
   "attachments": {},
   "cell_type": "markdown",
   "id": "98d1c606-6666-4a60-b605-ca4510fdfdd6",
   "metadata": {},
   "source": [
    "make 靠读makefile文件完成自动编译  \n",
    "\n",
    "编写makefile的优点：  \n",
    "\n",
    "1.自动编译  \n",
    "2.只需编译修改的文件  "
   ]
  },
  {
   "attachments": {},
   "cell_type": "markdown",
   "id": "a78326e9",
   "metadata": {},
   "source": [
    "## Makefile 基本结构\n"
   ]
  },
  {
   "cell_type": "markdown",
   "id": "fa6b55c1",
   "metadata": {},
   "source": [
    "\n",
    "Makefile用来告诉make如何编译和链接一个程序  \n",
    "一个Makefile中通常包含如下内容：  \n",
    "1. 目标体：\n",
    "    需要由make工具创建的目标体(target),通常是目标文件或可执行文件；\n",
    "2. 依赖\n",
    "    要创建的目标体所依赖的文件(dependency_file);\n",
    "3. 命令\n",
    "    创建每个目标体时需要运行的命令(command)。\n",
    "    命令一般以tab键开头，且命令行中不能有空格。\n",
    "\n",
    "其格式为：\n",
    "```\n",
    "target: dependency_files \n",
    "    command\n",
    "```"
   ]
  },
  {
   "attachments": {},
   "cell_type": "markdown",
   "id": "bfff2d3b",
   "metadata": {},
   "source": [
    "## Makefile 使用方法\n"
   ]
  },
  {
   "attachments": {},
   "cell_type": "markdown",
   "id": "6cc4214d",
   "metadata": {},
   "source": [
    "\n",
    "使用 make 的格式为：`make target`\n",
    "\n",
    "这样 make 就会自动读入Makefile（也可以是首字母小写 makefile）并执行对应 target 的 command 语句，并会找到相应的依赖文件\n",
    "\n",
    "此外 make 还有丰富的命令行选项，可以完成各种不同的功能，如："
   ]
  },
  {
   "attachments": {},
   "cell_type": "markdown",
   "id": "8925991b",
   "metadata": {},
   "source": [
    "| 命 令 格 式 | 含 义 |\n",
    "| :--- | :--- |\n",
    "| -C dir | 读入指定目录下的 Makefile  |\n",
    "| -f file | 读入当前目录下的 file 文件作为 Makefile |\n",
    "| -i | 忽略所有的命令执行错误 |\n",
    "| -I dir | 指定被包含的 Makefile 所在目录 |\n",
    "| -n | 只打印要执行的命令，但不执行这些命令 |\n",
    "| -p | 显示 make 变量数据库和隐含规则 |\n",
    "| -s | 在执行命令时不显示命令 |\n",
    "| -w | 如果 make 在执行过程中改变目录，则打印当前目录名 |"
   ]
  },
  {
   "attachments": {},
   "cell_type": "markdown",
   "id": "fd400319-78d5-40c2-b241-31953463c7e1",
   "metadata": {
    "tags": []
   },
   "source": [
    "## makefile 自定义变量\n"
   ]
  },
  {
   "attachments": {},
   "cell_type": "markdown",
   "id": "5208ae2d",
   "metadata": {},
   "source": [
    "\n",
    "为了进一步简化编辑和维护 Makefile，make 允许在 Makefile 中创建和使用变量\n",
    "\n",
    "在 Makefile 中，变量名是大小写敏感的，并且命名规则和 C 语言中的变量名相同\n",
    "\n",
    "一般只用来代替一个文本字符串，该文本字符串称为该变量的值,这些值可以代替目标体、依赖文件、命令以及 makefile 文件中其他部分中的文本\n",
    "\n",
    "变量定义有两种方式：\n",
    "1. 递归展开方式\n",
    "\n",
    "    递归展开方式定义的变量是在引用在该变量时进行替换的，即如果该变量包含了对其他变量的应用，则在引用该变量时一次性将内嵌的变量全部展开，虽然这种类型的变量能够很好地完成用户的指令，但是它也有严重的缺点，在变量扩展过程中可能导致无穷循环。\n",
    "1. 简单方式\n",
    "   \n",
    "    变量的值在定义处展开，并且只展开一次，因此它不包含任何对其他变量的引用，从而消除变量的嵌套引用\n",
    "\n",
    "递归展开方式的定义格式为：VAR=var  \n",
    "简单扩展方式的定义格式为：VAR:=var  \n",
    "Make 中的变量使用均使用格式为：$(VAR)  "
   ]
  },
  {
   "attachments": {},
   "cell_type": "markdown",
   "id": "9d8db8c9-8e37-44e2-909d-57cc7857c323",
   "metadata": {},
   "source": [
    "> 重复赋值的变量只保留最后一个"
   ]
  },
  {
   "cell_type": "code",
   "execution_count": null,
   "id": "dde419ea-d554-45fa-b2e3-fc9b7298a154",
   "metadata": {},
   "outputs": [],
   "source": [
    "SRC = add.o \n",
    "SRC = sub.o  \n",
    "SRC = test.o\n",
    "\n",
    "\n",
    "test:$(SRC)           \n",
    "    gcc ${SRC} -o test\n",
    "add.o:add.c\n",
    "    gcc -c add.c -o add.o\n",
    "sub.o:sub.c\n",
    "    gcc -c sub.c -o add.o\n",
    "test.o:test.c\n",
    "    gcc -c test.c -o test.o\n",
    "#伪目标  \n",
    ".PHONY:clean\n",
    "\n",
    "clean:\n",
    "    rm *.o"
   ]
  },
  {
   "attachments": {},
   "cell_type": "markdown",
   "id": "2e08e5c7-6ca1-45c0-aeac-aaa7475dd30c",
   "metadata": {},
   "source": [
    "> ?= 表示如果变量已经定义赋值，这里就不再执行"
   ]
  },
  {
   "cell_type": "code",
   "execution_count": null,
   "id": "4ec5f90a-ea32-49d2-bd7d-d92e009b3e93",
   "metadata": {},
   "outputs": [],
   "source": [
    "SRC = add.o \n",
    "SRC ?= sub.o\n",
    "SRC ?= test.o\n",
    "\n",
    "test:$(SRC)           \n",
    "    gcc ${SRC} -o test\n",
    "add.o:add.c\n",
    "    gcc -c add.c -o add.o\n",
    "sub.o:sub.c\n",
    "    gcc -c sub.c -o add.o\n",
    "test.o:test.c\n",
    "    gcc -c test.c -o test.o\n",
    "#伪目标  \n",
    ".PHONY:clean\n",
    "\n",
    "clean:\n",
    "    rm *.o"
   ]
  },
  {
   "attachments": {},
   "cell_type": "markdown",
   "id": "c5be4b68-21b4-484f-8fd2-695e876e4542",
   "metadata": {},
   "source": [
    "> := 表示如果变量已经定义赋值，就对变量进行覆盖"
   ]
  },
  {
   "cell_type": "code",
   "execution_count": null,
   "id": "bfa1a033-29d8-48cf-b061-7bc39b28e131",
   "metadata": {},
   "outputs": [],
   "source": [
    "SRC = add.o \n",
    "SRC := sub.o\n",
    "SRC := test.o\n",
    "\n",
    "test:$(SRC)           \n",
    "    gcc ${SRC} -o test\n",
    "add.o:add.c\n",
    "    gcc -c add.c -o add.o\n",
    "sub.o:sub.c\n",
    "    gcc -c sub.c -o add.o\n",
    "test.o:test.c\n",
    "    gcc -c test.c -o test.o\n",
    "#伪目标  \n",
    ".PHONY:clean\n",
    "\n",
    "clean:\n",
    "    rm *.o"
   ]
  },
  {
   "attachments": {},
   "cell_type": "markdown",
   "id": "798c110f-5553-404c-9cf6-d38daf832fa3",
   "metadata": {},
   "source": [
    "> += 表示对变量赋值进行追加"
   ]
  },
  {
   "cell_type": "code",
   "execution_count": null,
   "id": "904add81-7537-463f-a635-148649b79eb6",
   "metadata": {},
   "outputs": [],
   "source": [
    "SRC = add.o \n",
    "SRC += sub.o\n",
    "SRC += test.o\n",
    "\n",
    "test:$(SRC)           \n",
    "    gcc ${SRC} -o test\n",
    "add.o:add.c\n",
    "    gcc -c add.c -o add.o\n",
    "sub.o:sub.c\n",
    "    gcc -c sub.c -o add.o\n",
    "test.o:test.c\n",
    "    gcc -c test.c -o test.o\n",
    "#伪目标  \n",
    ".PHONY:clean\n",
    "\n",
    "clean:\n",
    "    rm *.o"
   ]
  },
  {
   "attachments": {},
   "cell_type": "markdown",
   "id": "b239733b",
   "metadata": {},
   "source": [
    "## makefile 预定义变量"
   ]
  },
  {
   "attachments": {},
   "cell_type": "markdown",
   "id": "ca1cb39c",
   "metadata": {},
   "source": [
    "预定义变量是通常在 Makefile 都会出现的变量，其中部分有默认值，也就是常见的设定值，当然用户可以对其进行修改。预定义变量包含了常见编译器、汇编器的名称及其编译选项。\n"
   ]
  },
  {
   "attachments": {},
   "cell_type": "markdown",
   "id": "9fcfb0e8",
   "metadata": {},
   "source": [
    "\n",
    "|命 令 格 式 | 含 义 |\n",
    "| -------- | ----- |\n",
    "| AR | 库文件维护程序的名称，默认值为 ar |\n",
    "| AS | 汇编程序的名称，默认值为 as \n",
    "| CC | C 编译器的名称，默认值为 cc \n",
    "| CPP | C 预编译器的名称，默认值为$(CC) –E \n",
    "| CXX | C++编译器的名称，默认值为 g++ \n",
    "| FC | FORTRAN 编译器的名称，默认值为 f77 \n",
    "| RM | 文件删除程序的名称，默认值为 rm –f \n",
    "| ARFLAGS | 库文件维护程序的选项，无默认值\n",
    "| ASFLAGS | 汇编程序的选项，无默认值\n",
    "| CFLAGS | C 编译器的选项，无默认值\n",
    "| CPPFLAGS | C 预编译的选项，无默认值\n",
    "| CXXFLAGS | C++编译器的选项，无默认值\n",
    "| FFLAGS | FORTRAN 编译器的选项，无默认值"
   ]
  },
  {
   "attachments": {},
   "cell_type": "markdown",
   "id": "261861c6",
   "metadata": {},
   "source": [
    "## makefile 自动变量"
   ]
  },
  {
   "attachments": {},
   "cell_type": "markdown",
   "id": "3560edc8",
   "metadata": {},
   "source": [
    "自动变量通常可以代表编译语句中出现目标文件和依赖文件等，并且具有本地含义（即下一语句中出现的相同变量代表的是下一语句的目标文件和依赖文件）"
   ]
  },
  {
   "attachments": {},
   "cell_type": "markdown",
   "id": "ce6112e0",
   "metadata": {},
   "source": [
    "\n",
    "| 命令格式 | 含义 |\n",
    "| --- | --- |\n",
    "| $* | 不包含扩展名的目标文件名称 |\n",
    "| $+ | 所有的依赖文件，以空格分开，并以出现的先后为序，可能包含重复的依赖文件 |\n",
    "| $< | 第一个依赖文件的名称 |\n",
    "| $? | 所有时间戳比目标文件晚的依赖文件，并以空格分开 |\n",
    "| $@ | 目标文件的完整名称 |\n",
    "| $^ | 所有不重复的依赖文件，以空格分开 |\n",
    "| $\\% | 如果目标是归档成员，则该变量表示目标的归档成员名称 |"
   ]
  },
  {
   "cell_type": "code",
   "execution_count": null,
   "id": "055c9e9e",
   "metadata": {},
   "outputs": [],
   "source": [
    "OBJS = kang.o yul.o \n",
    "CC = Gcc \n",
    "CFLAGS = -Wall -O -g \n",
    "\n",
    "sunq : $(OBJS) \n",
    " $(CC) $^ -o $@\n",
    "kang.o : kang.c kang.h \n",
    " $(CC) $(CFLAGS) -c $< -o $@\n",
    "yul.o : yul.c yul.h \n",
    " $(CC) $(CFLAGS) -c $< -o $@"
   ]
  },
  {
   "attachments": {},
   "cell_type": "markdown",
   "id": "1ffb3fd1",
   "metadata": {},
   "source": [
    "## Makefile 规则"
   ]
  },
  {
   "attachments": {},
   "cell_type": "markdown",
   "id": "082df3c1",
   "metadata": {},
   "source": [
    "### 1. 隐式规则\n",
    "\n",
    "隐含规则能够告诉 make 怎样使用传统的技术完成任务，这样，当用户使用它们时就不必详细指定编译的具体细节，而只需把目标文件列出即可。Make 会自动搜索隐式规则目录来确定如何生成目标文件。如"
   ]
  },
  {
   "cell_type": "code",
   "execution_count": null,
   "id": "1ecd0922",
   "metadata": {},
   "outputs": [],
   "source": [
    "OBJS = kang.o yul.o \n",
    "CC = Gcc \n",
    "CFLAGS = -Wall -O -g \n",
    "sunq : $(OBJS) \n",
    " $(CC) $^ -o $@"
   ]
  },
  {
   "attachments": {},
   "cell_type": "markdown",
   "id": "98cd6d9b",
   "metadata": {},
   "source": [
    "这里就直接省去了后面两个目标的语句，为什么可以省略后两句呢？因为 Make 的隐式规则指出：所有“.o”文件都可自动由“.c”文件使用命令  \n",
    "“\\$(CC) \\$(CPPFLAGS) \\$(CFLAGS) -c file.c –o file.o”生成。这样“kang.o”和 “yul.o”就会分别调用“\\$(CC) \\$(CFLAGS) -c kang.c -o kang.o”和“\\$(CC) \\$(CFLAGS) -c yul.c -o yul.o”生成  \n",
    "在隐式规则只能查找到相同文件名的不同后缀名文件，如“kang.o”文件必须由“kang.c”文件生成。"
   ]
  },
  {
   "attachments": {},
   "cell_type": "markdown",
   "id": "509da0ad",
   "metadata": {},
   "source": [
    " | 对应语言后缀名 | 规 则 |\n",
    " | --- | --- |\n",
    " | C 编译：.c 变为.o | \\$(CC) –c \\$(CPPFLAGS) \\$(CFLAGS)  |\n",
    " | C++编译：.cc 或.C 变为.o | \\$(CXX) -c \\$(CPPFLAGS) \\$(CXXFLAGS)  |\n",
    " | Pascal 编译：.p 变为.o | \\$(PC) -c \\$(PFLAGS)  |\n",
    " | Fortran 编译：.r 变为-o | \\$(FC) -c \\$(FFLAGS) |"
   ]
  },
  {
   "attachments": {},
   "cell_type": "markdown",
   "id": "77623156",
   "metadata": {},
   "source": [
    "### 2. 模式规则\n",
    "模式规则是用来定义相同处理规则的多个文件的。它不同于隐式规则，隐式规则仅仅能够用 make 默认的变量来进行操作，而模式规则还能引入用户自定义变量，为多个文件建立相同的规则，从而简化 Makefile 的编写。模式规则的格式类似于普通规则，这个规则中的相关文件前必须用“%”标明。"
   ]
  },
  {
   "cell_type": "code",
   "execution_count": null,
   "id": "40c702b9",
   "metadata": {},
   "outputs": [],
   "source": [
    "OBJS = kang.o yul.o \n",
    "CC = Gcc \n",
    "CFLAGS = -Wall -O -g \n",
    "sunq : $(OBJS) \n",
    " $(CC) $^ -o $@\n",
    "%.o : %.c \n",
    " $(CC) $(CFLAGS) -c $< -o $@"
   ]
  },
  {
   "attachments": {},
   "cell_type": "markdown",
   "id": "cad9fac7",
   "metadata": {},
   "source": [
    "### makefile的一步编译和两步编译"
   ]
  },
  {
   "cell_type": "code",
   "execution_count": null,
   "id": "73976de3-a8b7-469f-9703-730e8a6af8c2",
   "metadata": {},
   "outputs": [],
   "source": [
    "test: add.c sub.c test.c\n",
    "    gcc add.c sub.c test.c -o test"
   ]
  },
  {
   "cell_type": "markdown",
   "id": "6e13076e-81f0-408b-b0a4-700045ecebfa",
   "metadata": {},
   "source": [
    "这里使用的是一步编译，无法只对修改的文件进行编译"
   ]
  },
  {
   "attachments": {},
   "cell_type": "markdown",
   "id": "6fb19958-8979-4ea6-847a-f70caee1fa9d",
   "metadata": {},
   "source": [
    "两步编译 .c->.o->.exe"
   ]
  },
  {
   "cell_type": "code",
   "execution_count": null,
   "id": "f753c1d2-a43f-4eb3-a55b-58b289bbe58d",
   "metadata": {},
   "outputs": [],
   "source": [
    "add.o:add.c\n",
    "    gcc -c add.c -o add.o\n",
    "sub.o:sub.c\n",
    "    gcc -c sub.c -o add.o\n",
    "test.o:test.c\n",
    "    gcc -c test.c -o test.o\n",
    "test: add.o sub.o test.o\n",
    "    gcc add.o sub.o test.o -o test"
   ]
  },
  {
   "attachments": {},
   "cell_type": "markdown",
   "id": "74abd73d-f913-4b57-8ff8-6a27aa92bf5b",
   "metadata": {},
   "source": [
    "但这样写只识别第一条命令，因为如果make后不加目标，默认执行第一个目标"
   ]
  },
  {
   "cell_type": "code",
   "execution_count": null,
   "id": "fdd6ed90-cd64-498c-8dba-fa8f576cb850",
   "metadata": {},
   "outputs": [],
   "source": [
    "test: add.o sub.o test.o\n",
    "    gcc add.o sub.o test.o -o test\n",
    "add.o:add.c\n",
    "    gcc -c add.c -o add.o\n",
    "sub.o:sub.c\n",
    "    gcc -c sub.c -o add.o\n",
    "test.o:test.c\n",
    "    gcc -c test.c -o test.o"
   ]
  },
  {
   "attachments": {},
   "cell_type": "markdown",
   "id": "84bb0d19-5add-4e29-9d42-d4055780cda4",
   "metadata": {},
   "source": [
    "这里在执行第一个命令后会去寻找下面的.o来生成目标"
   ]
  },
  {
   "attachments": {},
   "cell_type": "markdown",
   "id": "f3a1b489",
   "metadata": {},
   "source": [
    "### make 清理动作"
   ]
  },
  {
   "cell_type": "markdown",
   "id": "0a9b6bae-528c-4188-af59-8a8e6aa2b17a",
   "metadata": {},
   "source": [
    "运行完之后可以执行 rm *.o 来删去中间生成的文件  \n",
    "这也可以用make来处理"
   ]
  },
  {
   "cell_type": "code",
   "execution_count": null,
   "id": "496dcdf7-dac1-43e5-a526-621a18b6a928",
   "metadata": {},
   "outputs": [],
   "source": [
    "test: add.o sub.o test.o\n",
    "    gcc add.o sub.o test.o -o test\n",
    "add.o:add.c\n",
    "    gcc -c add.c -o add.o\n",
    "sub.o:sub.c\n",
    "    gcc -c sub.c -o add.o\n",
    "test.o:test.c\n",
    "    gcc -c test.c -o test.o\n",
    "clean:\n",
    "    rm *.o"
   ]
  },
  {
   "attachments": {},
   "cell_type": "markdown",
   "id": "115bc796-dd96-47b3-8a8b-7dc1530df0bf",
   "metadata": {},
   "source": [
    "如果make后不加目标，默认只执行第一个命令,向下检索执行不到clean目标  \n",
    "这里需要键入 make clean"
   ]
  },
  {
   "attachments": {},
   "cell_type": "markdown",
   "id": "8eee8fcd-df7e-4474-9c05-b418995f1d0e",
   "metadata": {},
   "source": [
    "### 伪目标"
   ]
  },
  {
   "attachments": {},
   "cell_type": "markdown",
   "id": "e71bb21c",
   "metadata": {},
   "source": [
    "伪目标（或称为幽灵目标）是一种特殊类型的规则，它不对应于实际的文件名。这意味着即使对应的文件不存在，也不会影响make命令的执行"
   ]
  },
  {
   "cell_type": "code",
   "execution_count": null,
   "id": "1e42e8fd-96d5-48cb-9145-619fd0bc49a6",
   "metadata": {},
   "outputs": [],
   "source": [
    "SRC = add.o sub.o test.o\n",
    "# 取值的时候小括号大括号都行\n",
    "test:$(SRC)           \n",
    "    gcc ${SRC} -o test\n",
    "add.o:add.c\n",
    "    gcc -c add.c -o add.o\n",
    "sub.o:sub.c\n",
    "    gcc -c sub.c -o add.o\n",
    "test.o:test.c\n",
    "    gcc -c test.c -o test.o\n",
    "#伪目标  \n",
    ".PHONY:clean\n",
    "\n",
    "clean:\n",
    "    rm *.o"
   ]
  },
  {
   "attachments": {},
   "cell_type": "markdown",
   "id": "cee759d9",
   "metadata": {},
   "source": [
    "这样做是为了告诉 make 不要对这些名字进行检查是否为真实存在的文件；否则如果存在同名的实际目录或子目录的话，可能会引发错误或者混淆行为"
   ]
  },
  {
   "attachments": {},
   "cell_type": "markdown",
   "id": "618c42ac",
   "metadata": {},
   "source": [
    "## 实例"
   ]
  },
  {
   "attachments": {},
   "cell_type": "markdown",
   "id": "867e9572",
   "metadata": {},
   "source": [
    "1. 编译多个目标文件"
   ]
  },
  {
   "cell_type": "code",
   "execution_count": null,
   "id": "31570383",
   "metadata": {},
   "outputs": [],
   "source": [
    "edit : main.o kbd.o command.o display.o insert.o search.o files.o utils.o\n",
    "    gcc -o edit main.o kbd.o command.o display.o insert.o search.o files.o utils.o\n",
    "\n",
    "main.o : main.c defs.h\n",
    "    gcc -c main.c -o main.o\n",
    "kbd.o : kbd.c defs.h command.h\n",
    "    gcc -c kbd.c -o kbd.o\n",
    "command.o : command.c defs.h command.h\n",
    "    gcc -c command.c -o command.o\n",
    "display.o : display.c defs.h buffer.h\n",
    "    gcc -c display.c -o display.o\n",
    "insert.o : insert.c defs.h buffer.h\n",
    "    gcc -c insert.c -o insert.o\n",
    "search.o : search.c defs.h buffer.h\n",
    "    gcc -c search.c -o search.o\n",
    "files.o : files.c defs.h buffer.h command.h\n",
    "    gcc -c files.c -o files.o\n",
    "utils.o : utils.c defs.h\n",
    "    gcc -c utils.c -o utils.o\n",
    "clean :\n",
    "    rm edit main.o kbd.o command.o display.o insert.o search.o files.o utils.o"
   ]
  },
  {
   "cell_type": "code",
   "execution_count": null,
   "id": "59448535",
   "metadata": {},
   "outputs": [],
   "source": [
    "# Makefile\n",
    "# \n",
    "\n",
    "#CROSS_COMPILE = arm-linux-GNU-\n",
    "\n",
    "CC = $(CROSS_COMPILE)gcc\n",
    "\n",
    "ifdef CROSS_COMPILE\n",
    "TARGET = /opt/filesystem\n",
    "endif\n",
    "\n",
    "#DEBUG = -g -O0 -Wall\n",
    "DEBUG = -g -O2\n",
    "CFLAGS += $(DEBUG)\n",
    "\n",
    "PROGS = $(patsubst %.c, %, $(wildcard *.c))\n",
    "\n",
    "all:$(PROGS)\n",
    "\n",
    "install:$(PROGS)\n",
    "ifdef CROSS_COMPILE\n",
    "    mkdir $(TARGET)/root/long_term/io -p\n",
    "    cp $(PROGS) $(TARGET)/root/long_term/io -f\n",
    "endif\n",
    "% : %.c\n",
    "    $(CC) $(CFLAGS) $< -o $@\n",
    ".PHONY:uninstall clean dist"
   ]
  },
  {
   "cell_type": "code",
   "execution_count": null,
   "id": "33ea2222",
   "metadata": {},
   "outputs": [],
   "source": [
    "SUBDIRS := $(filter-out ./, $(shell find ./ -maxdepth 1 -type d))\n",
    "PWD := $(shell pwd)\n",
    "\n",
    ".PHONY: subdirs clean\n",
    "\n",
    "sudbdirs:\n",
    "\t@for dir in $(SUBDIRS);do\\\n",
    "\t\tmake -C $$dir;\\\n",
    "\tdone\n",
    "\n",
    "clean:\n",
    "\t@for dir in $(SUBDIRS);do\\\n",
    "\t\tmake -C $$dir clean;\\\n",
    "\tdone"
   ]
  },
  {
   "attachments": {},
   "cell_type": "markdown",
   "id": "61914d1a",
   "metadata": {},
   "source": [
    "```\n",
    "SUBDIRS := $(filter-out ./, $(shell find ./ -maxdepth 1 -type d))\n",
    "```\n",
    "1. $(shell ...)是Make的shell函数，允许执行shell命令，并将结果赋值给变量\n",
    "2. find ./ -maxdepth 1 -type d是查找当前目录下的所有一级子目录\n",
    "3. $(filter-out 目录名, 文件列表)是make的过滤函数，从文件列表中去除掉指定的目录名\n",
    "\n",
    "@: 在Makefile中，@字符用于表示该命令在执行时不应被打印到控制台。\n",
    "\n",
    "```\n",
    "make -C $$dir;\n",
    "```\n",
    "在这个循环内部，make命令被调用。-C选项告诉make命令更改到指定的目录（即`$$dir`）中执行。这里使用了两个`$` 符号（`$$dir`），是因为在bash脚本中，`$`符号用于引用变量。但在make命令中，`$`也是一个特殊字符，用于引用变量。因此，为了在bash脚本中引用一个变量，并将其传递给make命令，我们需要使用$$来转义内部的$。"
   ]
  },
  {
   "attachments": {},
   "cell_type": "markdown",
   "id": "df045af8",
   "metadata": {},
   "source": [
    "# autotools"
   ]
  }
 ],
 "metadata": {
  "kernelspec": {
   "display_name": "C",
   "language": "c",
   "name": "c"
  },
  "language_info": {
   "file_extension": ".c",
   "mimetype": "text/plain",
   "name": "c"
  }
 },
 "nbformat": 4,
 "nbformat_minor": 5
}

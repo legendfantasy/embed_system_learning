{
 "cells": [
  {
   "cell_type": "markdown",
   "id": "5248e1cb-aa26-4ea4-b76d-69ad7c5a9c19",
   "metadata": {
    "tags": []
   },
   "source": [
    "# Makefile"
   ]
  },
  {
   "cell_type": "markdown",
   "id": "3104c111",
   "metadata": {},
   "source": [
    "解释一下什么是make和有什么用：   \n",
    "+ 是什么： make 是工程管理器\n",
    "+ 使用场景/来源： 一个项目如果由许多源文件组成，如果有其中一个文件被修改过，GCC不知道哪个文件是最新的，就不得不把所有文件都编译一遍。因此有一个自动编译的工具就十分必要。\n",
    "make是一个自动编译管理器，能够根据文件时间戳自动发现更新过的的文件从而减少编译的工作量。\n",
    "通过读入Makefile文件的内容来执行大量的编译工作，用户只需编写一次简单和编译语句即可。"
   ]
  },
  {
   "cell_type": "markdown",
   "id": "a78326e9",
   "metadata": {},
   "source": [
    "## Makefile 基本结构\n",
    "Makefile用来告诉make如何编译和链接一个程序  \n",
    "一个Makefile中通常包含如下内容：  \n",
    "1. "
   ]
  },
  {
   "cell_type": "markdown",
   "id": "767cb113-baf1-4cce-93ef-8c1c72982412",
   "metadata": {
    "tags": []
   },
   "source": [
    "## makefile 编写基本流程"
   ]
  },
  {
   "cell_type": "markdown",
   "id": "b2b9ba7a-1abf-4dce-917f-7a37fedb4404",
   "metadata": {},
   "source": [
    "make 是一个命令工具用于解释makefile中的指令"
   ]
  },
  {
   "cell_type": "markdown",
   "id": "98d1c606-6666-4a60-b605-ca4510fdfdd6",
   "metadata": {},
   "source": [
    "编写makefile的优点：  \n",
    "1.自动编译  \n",
    "2.只需编译修改的文件  "
   ]
  },
  {
   "cell_type": "markdown",
   "id": "32fbee1c-2c7c-42dd-97ab-a3c5e0828ec7",
   "metadata": {},
   "source": [
    "基本语法：  \n",
    "目标：依赖  \n",
    "(tab)    命令  "
   ]
  },
  {
   "cell_type": "markdown",
   "id": "e4a6ed68-910d-4377-aec2-e240cfd84d00",
   "metadata": {},
   "source": [
    "makefile 遵循的语法规则和shell命令一致"
   ]
  },
  {
   "cell_type": "markdown",
   "id": "5be91cbf-d3e8-45af-b5fc-34ea5c4a71a7",
   "metadata": {},
   "source": [
    "1. vim makefile 创建makefile文件"
   ]
  },
  {
   "cell_type": "code",
   "execution_count": null,
   "id": "73976de3-a8b7-469f-9703-730e8a6af8c2",
   "metadata": {},
   "outputs": [],
   "source": [
    "test: add.c sub.c test.c\n",
    "    gcc add.c sub.c test.c -o test"
   ]
  },
  {
   "cell_type": "markdown",
   "id": "6e13076e-81f0-408b-b0a4-700045ecebfa",
   "metadata": {},
   "source": [
    "这里使用的是一步编译，无法只对修改的文件进行编译"
   ]
  },
  {
   "cell_type": "markdown",
   "id": "eeded53c-2a9f-41a5-984f-26c21d3a1f3e",
   "metadata": {},
   "source": [
    "2. 终端中只需键入 make 这一命令"
   ]
  },
  {
   "cell_type": "markdown",
   "id": "6fb19958-8979-4ea6-847a-f70caee1fa9d",
   "metadata": {},
   "source": [
    "下面实现两步编译  \n",
    "两步编译 .c->.o->.exe"
   ]
  },
  {
   "cell_type": "code",
   "execution_count": null,
   "id": "f753c1d2-a43f-4eb3-a55b-58b289bbe58d",
   "metadata": {},
   "outputs": [],
   "source": [
    "add.o:add.c\n",
    "    gcc -c add.c -o add.o\n",
    "sub.o:sub.c\n",
    "    gcc -c sub.c -o add.o\n",
    "test.o:test.c\n",
    "    gcc -c test.c -o test.o\n",
    "test: add.o sub.o test.o\n",
    "    gcc add.o sub.o test.o -o test"
   ]
  },
  {
   "cell_type": "markdown",
   "id": "74abd73d-f913-4b57-8ff8-6a27aa92bf5b",
   "metadata": {},
   "source": [
    "这样写只识别第一条命令"
   ]
  },
  {
   "cell_type": "code",
   "execution_count": null,
   "id": "c3014ad3-9558-4971-95e8-5f930a3b62d3",
   "metadata": {},
   "outputs": [],
   "source": [
    "如果make后不加目标，默认只执行第一个命令"
   ]
  },
  {
   "cell_type": "code",
   "execution_count": null,
   "id": "fdd6ed90-cd64-498c-8dba-fa8f576cb850",
   "metadata": {},
   "outputs": [],
   "source": [
    "test: add.o sub.o test.o\n",
    "    gcc add.o sub.o test.o -o test\n",
    "add.o:add.c\n",
    "    gcc -c add.c -o add.o\n",
    "sub.o:sub.c\n",
    "    gcc -c sub.c -o add.o\n",
    "test.o:test.c\n",
    "    gcc -c test.c -o test.o"
   ]
  },
  {
   "cell_type": "markdown",
   "id": "84bb0d19-5add-4e29-9d42-d4055780cda4",
   "metadata": {},
   "source": [
    "这里在执行第一个命令后会去寻找当前没有，而下面有的.o生成命令"
   ]
  },
  {
   "cell_type": "markdown",
   "id": "0a9b6bae-528c-4188-af59-8a8e6aa2b17a",
   "metadata": {},
   "source": [
    "运行完之后可以执行 rm *.o 来删去中间生成的文件  \n",
    "这也可以用make来处理"
   ]
  },
  {
   "cell_type": "code",
   "execution_count": null,
   "id": "496dcdf7-dac1-43e5-a526-621a18b6a928",
   "metadata": {},
   "outputs": [],
   "source": [
    "test: add.o sub.o test.o\n",
    "    gcc add.o sub.o test.o -o test\n",
    "add.o:add.c\n",
    "    gcc -c add.c -o add.o\n",
    "sub.o:sub.c\n",
    "    gcc -c sub.c -o add.o\n",
    "test.o:test.c\n",
    "    gcc -c test.c -o test.o\n",
    "clean:\n",
    "    rm *.o"
   ]
  },
  {
   "cell_type": "markdown",
   "id": "115bc796-dd96-47b3-8a8b-7dc1530df0bf",
   "metadata": {},
   "source": [
    "如果make后不加目标，默认只执行第一个命令  \n",
    "这里需要键入 make clean"
   ]
  },
  {
   "cell_type": "code",
   "execution_count": null,
   "id": "814cfcb3-2269-4c90-ab85-a044c3cf2a9f",
   "metadata": {},
   "outputs": [],
   "source": [
    "test: add.o sub.o test.o\n",
    "    gcc add.o sub.o test.o -o test\n",
    "add.o:add.c\n",
    "    gcc -c add.c -o add.o\n",
    "sub.o:sub.c\n",
    "    gcc -c sub.c -o add.o\n",
    "test.o:test.c\n",
    "    gcc -c test.c -o test.o\n",
    "#伪目标  \n",
    ".PHONY:clean\n",
    "\n",
    "clean:\n",
    "    rm *.o"
   ]
  },
  {
   "cell_type": "markdown",
   "id": "8eee8fcd-df7e-4474-9c05-b418995f1d0e",
   "metadata": {},
   "source": [
    "使用伪目标可以帮助解决已经有同名文件clean的情形"
   ]
  },
  {
   "cell_type": "markdown",
   "id": "fd400319-78d5-40c2-b241-31953463c7e1",
   "metadata": {
    "tags": []
   },
   "source": [
    "## makefile 自定义变量"
   ]
  },
  {
   "cell_type": "markdown",
   "id": "c25c5ba6-f31e-4b71-856e-85b0823640d6",
   "metadata": {},
   "source": [
    "这里创建变量的目的是代替一个文本字符串"
   ]
  },
  {
   "cell_type": "code",
   "execution_count": null,
   "id": "1e42e8fd-96d5-48cb-9145-619fd0bc49a6",
   "metadata": {},
   "outputs": [],
   "source": [
    "SRC = add.o sub.o test.o\n",
    "# 取值的时候小括号大括号都行\n",
    "test:$(SRC)           \n",
    "    gcc ${SRC} -o test\n",
    "add.o:add.c\n",
    "    gcc -c add.c -o add.o\n",
    "sub.o:sub.c\n",
    "    gcc -c sub.c -o add.o\n",
    "test.o:test.c\n",
    "    gcc -c test.c -o test.o\n",
    "#伪目标  \n",
    ".PHONY:clean\n",
    "\n",
    "clean:\n",
    "    rm *.o"
   ]
  },
  {
   "cell_type": "code",
   "execution_count": null,
   "id": "dde419ea-d554-45fa-b2e3-fc9b7298a154",
   "metadata": {},
   "outputs": [],
   "source": [
    "SRC = add.o \n",
    "SRC = sub.o  \n",
    "SRC = test.o\n",
    "\n",
    "\n",
    "test:$(SRC)           \n",
    "    gcc ${SRC} -o test\n",
    "add.o:add.c\n",
    "    gcc -c add.c -o add.o\n",
    "sub.o:sub.c\n",
    "    gcc -c sub.c -o add.o\n",
    "test.o:test.c\n",
    "    gcc -c test.c -o test.o\n",
    "#伪目标  \n",
    ".PHONY:clean\n",
    "\n",
    "clean:\n",
    "    rm *.o"
   ]
  },
  {
   "cell_type": "markdown",
   "id": "9d8db8c9-8e37-44e2-909d-57cc7857c323",
   "metadata": {},
   "source": [
    "重复赋值只保留最后一个"
   ]
  },
  {
   "cell_type": "code",
   "execution_count": null,
   "id": "4ec5f90a-ea32-49d2-bd7d-d92e009b3e93",
   "metadata": {},
   "outputs": [],
   "source": [
    "SRC = add.o \n",
    "SRC ?= sub.o\n",
    "SRC ?= test.o\n",
    "\n",
    "test:$(SRC)           \n",
    "    gcc ${SRC} -o test\n",
    "add.o:add.c\n",
    "    gcc -c add.c -o add.o\n",
    "sub.o:sub.c\n",
    "    gcc -c sub.c -o add.o\n",
    "test.o:test.c\n",
    "    gcc -c test.c -o test.o\n",
    "#伪目标  \n",
    ".PHONY:clean\n",
    "\n",
    "clean:\n",
    "    rm *.o"
   ]
  },
  {
   "cell_type": "markdown",
   "id": "2e08e5c7-6ca1-45c0-aeac-aaa7475dd30c",
   "metadata": {},
   "source": [
    "?= 如果变量已经定义赋值，这里就不再执行"
   ]
  },
  {
   "cell_type": "code",
   "execution_count": null,
   "id": "bfa1a033-29d8-48cf-b061-7bc39b28e131",
   "metadata": {},
   "outputs": [],
   "source": [
    "SRC = add.o \n",
    "SRC := sub.o\n",
    "SRC := test.o\n",
    "\n",
    "test:$(SRC)           \n",
    "    gcc ${SRC} -o test\n",
    "add.o:add.c\n",
    "    gcc -c add.c -o add.o\n",
    "sub.o:sub.c\n",
    "    gcc -c sub.c -o add.o\n",
    "test.o:test.c\n",
    "    gcc -c test.c -o test.o\n",
    "#伪目标  \n",
    ".PHONY:clean\n",
    "\n",
    "clean:\n",
    "    rm *.o"
   ]
  },
  {
   "cell_type": "markdown",
   "id": "c5be4b68-21b4-484f-8fd2-695e876e4542",
   "metadata": {},
   "source": [
    ":= 如果变量已经定义赋值，就对变量进行覆盖"
   ]
  },
  {
   "cell_type": "code",
   "execution_count": null,
   "id": "904add81-7537-463f-a635-148649b79eb6",
   "metadata": {},
   "outputs": [],
   "source": [
    "SRC = add.o \n",
    "SRC += sub.o\n",
    "SRC += test.o\n",
    "\n",
    "test:$(SRC)           \n",
    "    gcc ${SRC} -o test\n",
    "add.o:add.c\n",
    "    gcc -c add.c -o add.o\n",
    "sub.o:sub.c\n",
    "    gcc -c sub.c -o add.o\n",
    "test.o:test.c\n",
    "    gcc -c test.c -o test.o\n",
    "#伪目标  \n",
    ".PHONY:clean\n",
    "\n",
    "clean:\n",
    "    rm *.o"
   ]
  },
  {
   "cell_type": "markdown",
   "id": "798c110f-5553-404c-9cf6-d38daf832fa3",
   "metadata": {},
   "source": [
    "+= 对变量赋值进行追加"
   ]
  },
  {
   "cell_type": "code",
   "execution_count": null,
   "id": "31570383",
   "metadata": {},
   "outputs": [],
   "source": [
    "edit : main.o kbd.o command.o display.o insert.o search.o files.o utils.o\n",
    "    gcc -o edit main.o kbd.o command.o display.o insert.o search.o files.o utils.o\n",
    "\n",
    "main.o : main.c defs.h\n",
    "    gcc -c main.c -o main.o\n",
    "kbd.o : kbd.c defs.h command.h\n",
    "    gcc -c kbd.c -o kbd.o\n",
    "command.o : command.c defs.h command.h\n",
    "    gcc -c command.c -o command.o\n",
    "display.o : display.c defs.h buffer.h\n",
    "    gcc -c display.c -o display.o\n",
    "insert.o : insert.c defs.h buffer.h\n",
    "    gcc -c insert.c -o insert.o\n",
    "search.o : search.c defs.h buffer.h\n",
    "    gcc -c search.c -o search.o\n",
    "files.o : files.c defs.h buffer.h command.h\n",
    "    gcc -c files.c -o files.o\n",
    "utils.o : utils.c defs.h\n",
    "    gcc -c utils.c -o utils.o\n",
    "clean :\n",
    "    rm edit main.o kbd.o command.o display.o insert.o search.o files.o utils.o"
   ]
  },
  {
   "cell_type": "code",
   "execution_count": null,
   "id": "59448535",
   "metadata": {},
   "outputs": [],
   "source": [
    "# Makefile\n",
    "# \n",
    "\n",
    "#CROSS_COMPILE = arm-linux-GNU-\n",
    "\n",
    "CC = $(CROSS_COMPILE)gcc\n",
    "\n",
    "ifdef CROSS_COMPILE\n",
    "TARGET = /opt/filesystem\n",
    "endif\n",
    "\n",
    "#DEBUG = -g -O0 -Wall\n",
    "DEBUG = -g -O2\n",
    "CFLAGS += $(DEBUG)\n",
    "\n",
    "PROGS = $(patsubst %.c, %, $(wildcard *.c))\n",
    "\n",
    "all:$(PROGS)\n",
    "\n",
    "install:$(PROGS)\n",
    "ifdef CROSS_COMPILE\n",
    "    mkdir $(TARGET)/root/long_term/io -p\n",
    "    cp $(PROGS) $(TARGET)/root/long_term/io -f\n",
    "endif\n",
    "% : %.c\n",
    "    $(CC) $(CFLAGS) $< -o $@\n",
    ".PHONY:uninstall clean dist"
   ]
  },
  {
   "cell_type": "code",
   "execution_count": null,
   "id": "fe736fcd",
   "metadata": {},
   "outputs": [],
   "source": []
  }
 ],
 "metadata": {
  "kernelspec": {
   "display_name": "C",
   "language": "c",
   "name": "c"
  },
  "language_info": {
   "file_extension": ".c",
   "mimetype": "text/plain",
   "name": "c"
  }
 },
 "nbformat": 4,
 "nbformat_minor": 5
}

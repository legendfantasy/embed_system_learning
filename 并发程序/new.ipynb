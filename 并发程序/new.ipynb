{
 "cells": [
  {
   "attachments": {},
   "cell_type": "markdown",
   "metadata": {},
   "source": [
    "# 程序"
   ]
  },
  {
   "attachments": {},
   "cell_type": "markdown",
   "metadata": {},
   "source": [
    "程序所包含的信息\n",
    "1. 二进制格式标识 ：　a.out, elf，coff，pe\n",
    "2. 机器语言指令\n",
    "3. 程序入口地址\n",
    "4. 数据\n",
    "5. 符号表和重定位表\n",
    "6. 共享库和动态链接信息\n",
    "7. 其他信息"
   ]
  },
  {
   "attachments": {},
   "cell_type": "markdown",
   "metadata": {},
   "source": [
    "1. file命令：可以使用file命令来确定一个文件是否为ELF文件。示例：file /path/to/myfile\n",
    "\n",
    "2. readelf命令：readelf是一个功能强大的命令，可以用来查看ELF文件的详细信息。示例：readelf -a /path/to/myfile\n",
    "\n",
    "3. objdump命令：objdump可用于显示ELF文件的汇编代码和符号表等信息。示例：objdump -d /path/to/myfile\n",
    "\n",
    "4. nm命令：nm命令用于显示ELF文件中的符号表。示例：nm /path/to/myfile\n",
    "\n",
    "5. strip命令：strip命令可以去掉可执行文件中的调试符号和符号表，从而减小文件大小。示例：strip /path/to/myfile\n",
    "\n",
    "6. ldd命令：ldd命令用于查看可执行文件或共享库文件依赖的动态链接库。示例：ldd /path/to/myfile"
   ]
  },
  {
   "cell_type": "code",
   "execution_count": null,
   "metadata": {},
   "outputs": [],
   "source": []
  }
 ],
 "metadata": {
  "kernelspec": {
   "display_name": "Python 3",
   "language": "python",
   "name": "python3"
  },
  "language_info": {
   "name": "python",
   "version": "3.5.2 (default, Jan 26 2021, 13:30:48) \n[GCC 5.4.0 20160609]"
  },
  "orig_nbformat": 4,
  "vscode": {
   "interpreter": {
    "hash": "31f2aee4e71d21fbe5cf8b01ff0e069b9275f58929596ceb00d14d90e3e16cd6"
   }
  }
 },
 "nbformat": 4,
 "nbformat_minor": 2
}

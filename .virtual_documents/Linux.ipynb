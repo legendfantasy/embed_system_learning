get_ipython().getoutput("file sogoupinyin_4.0.1.2800_x86_64.deb")


! cat /etc/shells 


get_ipython().getoutput("echo $SHELL")


! ls -l test


get_ipython().getoutput("chmod u-x test")
get_ipython().getoutput("ls -l test")


get_ipython().getoutput("chmod a=rwx test")
get_ipython().getoutput("ls -l test")


get_ipython().getoutput("chmod 775 test # 所有用户赋于rwx权限  ")
get_ipython().getoutput("ls -l test")


get_ipython().getoutput("pwd")


get_ipython().getoutput("ls")


get_ipython().getoutput("cd /home/legendfantasy/")
get_ipython().getoutput("pwd")


! mkdir file1
! ls


! rmdir file1
! ls


! cp file1.txt file4.txt
! ls


! mv file4.txt filerename.txt
! ls


get_ipython().getoutput("touch file5.txt")
get_ipython().getoutput("ls")


get_ipython().getoutput("man printf")


get_ipython().getoutput("man 3 printf")


get_ipython().getoutput("date +%T")


get_ipython().getoutput("date +%Y/%m/%d")


get_ipython().getoutput("date +%H:%M")


get_ipython().getoutput("date +" 当前时间为： %Y/%m/%d %H:%M:%S"")


get_ipython().getoutput("date +" 三个月之后： %Y/%m/%d %H:%M:%S" -d "+3 month"")


get_ipython().getoutput("date +" 三天前： %Y/%m/%d %H:%M:%S" -d "-3 day"")


get_ipython().getoutput("date -s "20300111 19:43:44"")


get_ipython().getoutput("echo "Hello World"")


get_ipython().getoutput("echo -n "Hello World"")


get_ipython().getoutput("echo "Hello World\n"")


get_ipython().getoutput("echo -e "Hello World\n"")


get_ipython().getoutput("echo -E "Hello World\n"")


get_ipython().getoutput("ls /usr > Lsoutput.txt ")
get_ipython().getoutput("vi Lsoutput.txt")


get_ipython().getoutput("ls /usr >> Lsoutput.txt ")
get_ipython().getoutput("vi Lsoutput.txt ")


get_ipython().getoutput("ls noexistingfile.txt 2> err.log ")
get_ipython().getoutput("cat err.log")


get_ipython().getoutput("ls test > log 2>&1")
get_ipython().getoutput("cat log")


\< file  
将file文件重定向为输入源


get_ipython().getoutput("cat < file2.txt")


get_ipython().getoutput("cat << 9")


get_ipython().getoutput("cat < file1.txt > log")
get_ipython().getoutput("cat log")


get_ipython().getoutput("cat file1.txt")


get_ipython().getoutput("cat file1.txt | wc -l #line")


get_ipython().getoutput("cat file1.txt | wc -w #words")


get_ipython().getoutput("cat file1.txt | wc -c # character")


get_ipython().getoutput("cat file1.txt | grep 'hello' #查找是否有‘hello‘")


get_ipython().getoutput("a = `ls`")
get_ipython().getoutput("echo $a")


get_ipython().getoutput("ls -i file1.txt #使用ls -i 来查看文件inode号")


get_ipython().getoutput("ln file1.txt file_hard")
get_ipython().getoutput("ls -i file_hard ")


get_ipython().getoutput("ln -s file1.txt file_soft ")
get_ipython().getoutput("ls -l file_soft")


get_ipython().getoutput("find . -name "file1.txt"")


get_ipython().getoutput("find . -name "file"  #没找到就没有输出")


get_ipython().getoutput("find /usr -name "file"")


get_ipython().getoutput("find /usr -name "File"")


get_ipython().getoutput("find /usr -iname "File"")


get_ipython().getoutput("find . -type f ")


get_ipython().getoutput("find . -name "file" -a -type l")


get_ipython().getoutput("find . -name "file" -o -type l")


get_ipython().getoutput("find . ! -name "file"")


get_ipython().getoutput("find . -name "file3.txt"")
get_ipython().getoutput("find . -name "file3.txt" -exec rm {}\;")




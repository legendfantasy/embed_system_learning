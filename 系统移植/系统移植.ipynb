{
 "cells": [
  {
   "cell_type": "markdown",
   "metadata": {},
   "source": [
    "# 系统移植的意义\n"
   ]
  },
  {
   "cell_type": "markdown",
   "metadata": {},
   "source": [
    "> 在基于 ARM 处理器的开发板上安装 Linux 系统\n",
    "\n",
    "1. 是在 ARM 处理器上安装一个操作系统，需要特别注意系统文件的兼容性，不同架构的处理器指令集不兼容，即便是相同的处理器架构，板卡不同驱动代码也不兼容\n",
    "2. 安装的是 Linux 系统，Linux 因其精简性特别适合于成本有限的嵌入式系统上部署。Linux 是一个通用的内核并不是为某一个特定的处理器架构或板卡设计的，所以从官方获取 Linux 源码后我们要先经过相应的配置使其与我们当前的硬件平台相匹配后才能进行编译和安装\n",
    "\n",
    "> 操作系统有什么用？\n",
    "\n",
    "操作系统：向下管理硬件、向上提供接口\n",
    "\n",
    "操作系统为我们提供了： 1.进程管理 2.内存管理 3.网络接口 4.文件系统 5.设备管理\n",
    "\n",
    "如果不用操作系统的话，在裸机开发的时候，我们什么函数都调不了，什么都要自己实现。这样做开发的时候需要大量的时间。只能做一些小的项目。\n"
   ]
  },
  {
   "cell_type": "markdown",
   "metadata": {},
   "source": [
    "# Linux 系统移植的过程\n"
   ]
  },
  {
   "cell_type": "markdown",
   "metadata": {},
   "source": [
    "1. 准备 Linux 内核镜像、SD 卡启动盘（uboot）\n",
    "2. 通过拨码开关选择启动方式（SD 启动）\n",
    "3. 通过 SD 卡中的引导程序安装系统\n",
    "4. 安装 Linux 驱动程序\n",
    "5. 安装 Linux 应用程序\n"
   ]
  },
  {
   "cell_type": "markdown",
   "metadata": {},
   "source": [
    "# FS4412 开发板的启动过程\n"
   ]
  },
  {
   "cell_type": "markdown",
   "metadata": {},
   "source": [
    "![alt text](image-1.png)\n",
    "\n",
    "> 相关概念的解释\n",
    "\n",
    "> > iROM :\n",
    "\n",
    "\"iROM\"通常指的是内部只读存储器（Internal Read-Only Memory）。在嵌入式系统中，iROM 通常用于存储固定的程序代码或数据，这些内容在制造过程中被烧录到芯片中，运行时不能被修改。这种存储器的主要优点是它可以保护存储的内容不被意外或恶意修改。\n",
    "\n",
    ">> BL0 \n",
    "\n",
    "BL0: BL0 全名  boot loader ，也就是引导装载程序，是直接固化在内部 ROM 上的一小段程序，在上电的时候会默认去执行\n",
    "\n",
    "执行的内容：\n",
    "\n",
    "1. 禁用看门狗计时器\n",
    "2. 初始化指令缓存 cache\n",
    "3. 初始化栈区域\n",
    "4. 初始化堆区域\n",
    "5. 初始化块设备复制函数\n",
    "6. 初始化锁相环并设置系统时钟\n",
    "7. 将 BL1 复制到内部 SRAM 区域\n",
    "8. 验证 BL1 的校验和，如果校验和失败，iROM 将尝试第二次引导（去 SD/MMC 通道 2）\n",
    "9. 检查它是否处于安全启动模式，如果安全密钥值是用 S5PV210 编写的，那么它就是 secure-boot 模式。如果是安全启动模式，请验证 BL1 的完整性。\n",
    "10. 跳转到 BL1 的起始地址\n",
    "\n",
    ">> RAM\n",
    "\n",
    "\"RAM\"是\"Random Access Memory\"的缩写，中文名为\"随机存取存储器\"。它是一种计算机存储器，可以在任何时间读取或写入数据。RAM 中的数据在断电后会丢失，因此它通常用于存储运行中的程序和临时数据。\n",
    "\n",
    "> > EMMC\n",
    "\n",
    "\"eMMC\"是\"embedded MultiMediaCard\"的缩写，中文名为\"嵌入式多媒体卡\"。它是一种闪存存储标准，通常用于智能手机、平板电脑和其他便携式设备中。\n",
    "\n",
    "eMMC 的主要优点是体积小、成本低，适合于移动设备。但其读写速度和寿命相比于 SSD 等其他类型的闪存存储器要低。\n",
    "\n",
    "相当于电脑外存，断电不丢失\n",
    "\n",
    ">> rootfs 根文件系统\n",
    "\n",
    ">> dtb 设备树文件\n",
    "\n",
    ">> linux linux 系统镜像\n",
    "\n",
    ">> uboot 启动引导程序\n",
    "\n",
    "> 启动过程\n",
    "\n",
    "1. 开发板上电后首先运行 SOC 内部 iROM 中固化的代码(BL0)，这段代码先对基本的软硬件环境(时钟等...)进行初始化，然后再检测拨码开关位置获取启动方式，然后再将对应存储器中的 uboot 搬移到内存，然后跳转到 uboot 运行。\n",
    "2. uboot 开始运行后首先对开发板上的软硬件环境做进一步初始化（栈、网卡、硬件……），然后将 linux 内核、设备树(dtb)、根文件系统(rootfs)从外部存储器（或网络）搬移到内存，然后跳转到 linux 运行。\n",
    "3. linux 开始运行后先对系统环境做初始化，当系统启动完成后，Linux 再从内存中（或网络）挂载根文件系统。（常用的挂载根文件系统的方式是用网络）\n"
   ]
  },
  {
   "cell_type": "markdown",
   "metadata": {},
   "source": [
    "# Ubuntu 网络环境设置\n"
   ]
  },
  {
   "cell_type": "markdown",
   "metadata": {},
   "source": [
    "</home/legendfantasy/C C++ code/系统移植/实验1 ubuntu网络环境配置.pdf>"
   ]
  },
  {
   "cell_type": "markdown",
   "metadata": {},
   "source": [
    "# tftp服务器环境搭建"
   ]
  },
  {
   "cell_type": "markdown",
   "metadata": {},
   "source": [
    "</home/legendfantasy/C C++ code/系统移植/实验2 tftp服务器环境搭建.pdf>"
   ]
  },
  {
   "cell_type": "markdown",
   "metadata": {},
   "source": [
    "# NFS 服务器环境搭建"
   ]
  },
  {
   "cell_type": "markdown",
   "metadata": {},
   "source": []
  },
  {
   "cell_type": "markdown",
   "metadata": {},
   "source": [
    "# uboot\n"
   ]
  },
  {
   "cell_type": "markdown",
   "metadata": {},
   "source": [
    "## uboot 的基本情况\n"
   ]
  },
  {
   "cell_type": "markdown",
   "metadata": {},
   "source": [
    "> Bootloader\n",
    "\n",
    "在操作系统运行之前运行的一小段代码，用于将软硬件环境初始化到一个合适的状态，为操作系统的加载和运行做准备（其本身不是操作系统）\n",
    "\n",
    "Bootloader 基本功能\n",
    "-> 初始化软硬件环境\n",
    "-> 引导加载 linux 内核\n",
    "-> 给 linux 内核传参\n",
    "-> 执行用户命令\n",
    "\n",
    "bootloader 是启动引导程序的统称,嵌入式 linux 常用的 bootloader 是 uboot。\n",
    "\n",
    "> uboot 特点\n",
    "\n",
    "代码结构清晰\n",
    "支持丰富的处理器与开发板，易于移植\n",
    "支持丰富的用户命令\n",
    "支持丰富的网络协议\n",
    "支持丰富的文件系统\n",
    "支持丰富的设备驱动\n",
    "更新活跃、用户较多、资料丰富\n",
    "开放源代码\n",
    "较高的稳定性\n",
    "不具有通用性（不同的处理器、开发板 uboot 不可通用）\n",
    "\n",
    "> Uboot 源码结构\n",
    "\n",
    "可以从官网获取 Uboot 开源代码包\n",
    "\n",
    "![alt text](image-2.png)\n",
    "\n",
    "uboot 并不是专为 fs4412 开发板而编写的工具，其中必然包含了很多为其他硬件平台适配的代码\n",
    "\n",
    "> > 平台相关代码：\n",
    "\n",
    "arch:与 CPU 架构相关的源代码\n",
    "\n",
    "board:与开发板相关的源代码，包含各种官方评估板对应的源码,评估版就是这些公司在新出一款芯片时为这款芯片做的测试的板子\n",
    "\n",
    "> > 平台无关代码\n",
    "\n",
    "api： 这个目录下有很多的用户接口\n",
    "\n",
    "common：这下面全是 uboot 命令的.c 文件\n",
    "\n",
    "disk：磁盘操作的命令文件夹\n",
    "\n",
    "drivers：这里面全是驱动文件\n",
    "\n",
    "fs：文件系统，这里面每个文件夹内都是文件系统的源代码和 makefile 文件这里面 ext4 是嵌入式领域常用的文件系统。\n",
    "\n",
    "include：这里是头文件\n",
    "\n",
    "lib：这里是库\n",
    "\n",
    "post：上电自检程序\n",
    "\n",
    "net：网络文件夹，这里面是 uboot 支持的一些网络\n",
    "\n",
    "> 配置文件、帮助文档、示例程序、工具等\n",
    "\n",
    "boards.cfg:这个文件是配置信息\n",
    "\n",
    "config.mk：也是一个配置文件\n",
    "\n",
    "COPYING：这是版权文件虽然是开源软件但是也不能乱用\n",
    "\n",
    "CREDITS：这里是代码贡献者名单包括他们的邮箱\n",
    "\n",
    "readme：一个说明书或者说帮助文档，这个说明书有 5000 多行都是一些介绍性的的东西。\n",
    "\n",
    "dos：这里是详细的说明书\n",
    "\n",
    "dts：设备树文件夹，后面学习驱动时在详细学习。\n",
    "\n",
    "examples：里面是例程，在不会写的时候可以参考一下\n",
    "\n",
    "makefile：方便我们编译 uboot 镜像。它这个 makefile 是层层调用的，每个文件夹下都有，使用 make 命令后，总的 makefile 文件会调用每层的 makefile 文件来共同编译出 uboot 镜像。这个 makefile 文件非常的复杂。\n",
    "tools：工具\n"
   ]
  },
  {
   "cell_type": "markdown",
   "metadata": {},
   "source": [
    "## uboot 配置与编译\n"
   ]
  },
  {
   "cell_type": "markdown",
   "metadata": {},
   "source": [
    "> 为什么要这么做？\n",
    "\n",
    "不同的开发板的硬件平台不同，所使用的 uboot 代码也会不同，为了保证 uboot 适用所有的开发板，uboot 把所有的开发板都写出来了，需要哪个编译哪个\n",
    "\n",
    "首先，编译源代码要在 ARM 机器上运行就需要使用 ARM 的编译器\n",
    "其次，自己的硬件设备肯定不在官方提供的代码中，所以我们只能找一些相近的开发板作修改\n",
    "这个过程也就是系统移植的过程\n",
    "\n",
    "> uboot 配置\n",
    "\n",
    "> > 指定编译 uboot 源码使用的编译器\n",
    "\n",
    "为了我们编译出来的代码能为 ARM 处理器识别，需要用 arm 环境下的编译器\n",
    "\n",
    "在 uboot 源码顶层目录下的 Makefile 中指定(CROSS_COMPILE 变量)\n",
    "\n",
    "因为编译过程很复杂所有我们不可能自己去 gcc 编译。我们用官方写好的 makefile 就行。\n",
    "\n",
    "但是我们要先指定编译器\n",
    "\n",
    "打开顶层目录的 makefile 文件，搜索 CROSS_COMPILE,修改成如下：\n",
    "\n",
    "![alt text](image-4.png)\n",
    "\n",
    "> > 添加 Board 信息\n",
    "\n",
    "这里我们参考的是 samsung 公司的 origen,首先把相关的代码拷贝并重命名为 fs4412，接着将 makefile 中的相关信息也作修改，使 make 命令能够顺利编译相关文件。\n",
    "\n",
    "> uboot 编译\n",
    "\n",
    "> > 指定当前使用的硬件平台\n",
    "\n",
    "make <board_name>\\_config\n",
    "\n",
    "注 1：<board_name>为当前使用的开发板的名字\n",
    "\n",
    "注 2：执行该命令的前提是 uboot 源码支持该开发板\n",
    "\n",
    "注 3：该命令必须在 uboot 源码的顶层目录下执行\n",
    "\n",
    "该命令是为注册我们修改的开发板的信息\n",
    "\n",
    "make\n",
    "\n",
    "注 1：该命令必须在 uboot 源码的顶层目录下执行\n",
    "\n",
    "注 2：该命令执行后在 uboot 源码顶层目录下生成 u-boot.bin\n",
    "\n",
    "该命令执行以编译 makefile 中写好的相关文件\n",
    "\n",
    "编译完成后会在源码顶层目录下生成 u-boot.bin 文件，但该文件还不能在我们的开发板上运行，因为以上操作我们只是把 origen 相关的文件的名字改成了 fs4412，使 uboot 能 识别 fs4412 开发板，但文件中的代码还是 origen 的，和我们的开发板不匹配，所以我 们还需要进一步进行修改和配置\n",
    "\n",
    "> 添加三星加密引导程序\n",
    "\n",
    "考虑芯片启动的安全性，三星公司没有全部使用 uboot 的开源程序，有一部三星自己写好了，我们可以用但是不能看里面是什么 Exynos4412 需要三星提供的初始引导加密后我们的 u-boot 才能被引导运行，所以我们需要在 uboot 源码中添加三星提供的加密处理代码\n",
    "\n",
    "> 添加编译脚本\n",
    "\n",
    "使用 make 命令编译时只链接 uboot 源码中的相关代码，而我们添加的初始引导加密的 代码不会被连接到 u-boot.bin 中，所以这里我们自己编写编译脚本 build.sh，这个脚本 中除了对 uboot 源码进行配置和编译外还将初始引导加密代码链接到了 u-boot.bin 上， 最终生成一个完成的 uboot 镜像 u-boot-fs4412.bin\n",
    "\n",
    "> UART 功能移植\n",
    "\n",
    "虽然生成的 uboot 已经能在开发板上加载运行，但是此时的 uboot 还不能在终端上打印信息，原因在于 uboot 源码中对 UART 的配置与我们实际的硬件不匹配，需要修改 UART 源码\n",
    "\n",
    "> 网卡功能移植\n",
    "\n",
    "虽然可以通过终端输入命令，但此时的 uboot 还不能使用 ping、tftp 等命令，原因在于 命令都是操作网络的，而 uboot 源码中网卡的相关配置与我们当前的板子不匹配，所以 我们还要对网卡进行移植\n",
    "\n",
    "> EMMC 移植\n",
    "\n",
    "因为 uboot 源码中对 EMMC 的配置与我们的板子不匹配，这里还需要对 EMMC 相关的代码进行修改和配置\n",
    "\n",
    "> 电源管理移植\n",
    "\n",
    "因为 uboot 源码中对电源管理芯片的配置与我们的板子不匹配，后续有可能会导致内核启动卡死，这里还需要对电源管理芯片相关的代码进行修改和配置\n",
    "\n",
    "以上 uboot 的配置和编译过程详见实验手册\n"
   ]
  },
  {
   "cell_type": "markdown",
   "metadata": {},
   "source": [
    "## 使用 SD 卡刷入 uboot 程序以制作启动盘\n",
    "\n"
   ]
  },
  {
   "cell_type": "markdown",
   "metadata": {},
   "source": [
    "## uboot 的使用\n"
   ]
  },
  {
   "cell_type": "markdown",
   "metadata": {},
   "source": [
    "> uboot 模式\n",
    "\n",
    "自启动模式\n",
    "uboot 启动后若没有用户介入，倒计时结束后会自动执行自启动\n",
    "环境变量(bootcmd)中设置的命令（一般作加载和启动内核）\n",
    "如果没有安装操作系统，则会一直显示超时\n",
    "交互模式\n",
    "倒计时结束之前按下任意按键 uboot 会进入交互模式，交互模式下\n",
    "用户可输入 uboot 命令\n",
    "\n",
    "> uboot 环境变量命令\n",
    "\n",
    "1. help  \n",
    "   查看 uboot 支持的所有命令\n",
    "2. help 命令  \n",
    "   查看当前命令的使用方法\n",
    "\n",
    "3. printenv  \n",
    "   打印 uboot 中所有的环境变量\n",
    "4. setenv  \n",
    "   设置指定的环境变量（保存在 RAM 中）\n",
    "   `setenv 环境变量 环境变量的值`\n",
    "   如果想清除一个环境变量的值，那么就将环境变量值的部分就置空\n",
    "\n",
    "5. saveenv  \n",
    "   保存所有环境变量到 EMMC 中\n",
    "\n",
    "6. ipaddr  \n",
    "   uboot 的 IP 地址\n",
    "\n",
    "7. serverip  \n",
    "   服务器的 IP 地址（即 ubuntu 的 IP）\n",
    "\n",
    "8. bootdelay  \n",
    "   进入自启动模式之前倒计时的秒数\n",
    "\n",
    "9. loadb  \n",
    "   通过 Kermit 协议下载文件到指定的内存地址  \n",
    "    `loadb  地址`\n",
    "10. tftp  \n",
    "    通过 tftp 协议下载文件到指定的内存地址  \n",
    "     `tftp  地址  文件名`\n",
    "\n",
    "注：使用 tftp 之前要配置好网络及 tftp 服务器\n",
    "\n",
    "11. mmc read  \n",
    "    将 EMMC 中指定扇区中的内容读取到内存中指定的地址  \n",
    "    `mmc read  <addr> <blk#> <cnt>`  \n",
    "     addr: 内存地址  \n",
    "     blk#: EMMC 中的扇区编号  \n",
    "     cnt: 读取的扇区的个数\n",
    "\n",
    "12. mmc write  \n",
    "    将内存中指定地址中的内容写入到 EMMC 中指定的扇区  \n",
    "    `mmc write <addr> <blk#> <cnt>`\n",
    "\n",
    "13. bootcmd  \n",
    "    自启动的环境变量  \n",
    "    该环境变量可以设置成一到多个 uboot 命令的集合（若有多个使用 `\\;`分割）  \n",
    "    自启动模式下 uboot 就会按照 bootcmd 中命令的顺序逐条执行\n"
   ]
  },
  {
   "cell_type": "markdown",
   "metadata": {},
   "source": [
    "通过前面的一系列操作得到我们自己编译好的 uboot 系统启动程序后，我们接下来需要制作像 windows 下安装操作系统那样的 u 盘启动盘\n",
    "\n",
    "![alt text](image-5.png)\n",
    "\n",
    "SD 卡的存储以扇区为单位,每个扇区的大小为 512Byte, 其中零扇区存储分区表（即分区信息）,后续的扇区可自行分区和格式化；\n",
    "\n",
    "若选择 SD 卡启动，处理器上电后从第一个扇区开始将其中的内容搬移到内存，所以我们把 uboot 放到从第一个扇区开始之后的空间， 之后的空间根据个人需求可进行分区和格式化\n",
    "\n",
    "> 制作一个空镜像\n",
    "\n",
    "需要为 0 分区预留出空间，所以我们需要制作一个空镜像刷入。\n",
    "\n",
    "在 Ubuntu 下执行命令：\n",
    "`sudo dd if=/dev/zero of=zero.bin count=1`\n",
    "\n",
    "> 制作一个空镜像来清除原本 SD 卡上的内容\n",
    "\n",
    "在 Ubuntu 下执行命令：\n",
    "`sudo dd if=/dev/zero of=clear.bin count=2048`\n",
    "\n",
    "> 使用工具把做好的镜像刷入\n"
   ]
  },
  {
   "cell_type": "markdown",
   "metadata": {},
   "source": [
    "# linux 内核\n"
   ]
  },
  {
   "cell_type": "markdown",
   "metadata": {},
   "source": [
    "## Linux 内核的基本情况\n"
   ]
  },
  {
   "cell_type": "markdown",
   "metadata": {},
   "source": [
    "> 内核\n",
    "\n",
    "内核是一个操作系统的核心，提供了操作系统最基本的功能，是操作系统工作的基础，决定着整个系统的性能和稳定性\n",
    "\n",
    "> 操作系统\n",
    "\n",
    "操作系统是在内核的基础上添加了各种工具集、桌面管理器、库、shell、应用程序等\n",
    "\n",
    "![alt text](image-6.png)\n",
    "\n",
    "> linux 层次结构\n",
    "\n",
    "![alt text](image-7.png)\n",
    "\n",
    "> linux 内核特点\n",
    "\n",
    "代码结构清晰、模块化设计\n",
    "支持丰富的硬件平台\n",
    "较高的稳定性\n",
    "轻量化及较强的裁剪性\n",
    "开放源代码\n",
    "更新活跃、用户较多、资料丰富\n",
    "支持丰富的网络协议\n",
    "\n",
    "> linux 内核源码结构\n",
    "\n",
    "![alt text](image-8.png)\n",
    "\n",
    "平台相关代码\n",
    "\n",
    "arch: 与 CPU 架构相关的源代码\n",
    "\n",
    "平台无关代码\n",
    "\n",
    "block:磁盘设备的支持\n",
    "crypto:加密相关  \n",
    "drivers:设备驱动\n",
    "firmware:固件  \n",
    "fs:文件系统\n",
    "include:头文件  \n",
    "init:内核初始化\n",
    "ipc:进程间通信  \n",
    "kernel:内核核心调度机制等\n",
    "lib:库  \n",
    "mm:内存管理\n",
    "net:网络协议  \n",
    "scripts:工具、脚本等\n",
    "security:安全  \n",
    "usr:打包与压缩\n",
    "virt:虚拟\n",
    "\n",
    "帮助文档、示例程序、工具等\n",
    "\n",
    "COPYING: 版权  \n",
    "CREDITS: 内核贡献者  \n",
    "README: 说明文档  \n",
    "Documentation: 帮助文档  \n",
    "Makefile: 编译管理  \n",
    "samples: 示例  \n",
    "tools: 工具\n"
   ]
  },
  {
   "cell_type": "markdown",
   "metadata": {},
   "source": [
    "## linux 内核源码的配置和编译\n"
   ]
  },
  {
   "cell_type": "markdown",
   "metadata": {},
   "source": [
    "> linux 内核源码配置\n",
    "\n",
    "> > 指定处理器架构及编译工具\n",
    "\n",
    "在 Linux 内核源码顶层目录下的 Makefile 中指定(ARCH、CROSS_COMPILE)\n",
    "\n",
    "> > 导入当前处理器的默认配置\n",
    "\n",
    "make <soc_name>\\_defconfig\n",
    "\n",
    "即使是都是 ARM 处理器，不一样的架构汇编也不同。所以光指定叫 arm 肯定不行，因为再 arc/arm 下只有叫 exynos 的没有 exynos4412\n",
    "\n",
    "注 1：soc_name 为当前使用的处理器的名字\n",
    "\n",
    "注 2：内核源码的 arch/arm/configs 下对各个厂商的 soc 都有一个默认配置文件\n",
    "\n",
    "执行 $ make exynos_defconfig 命令，执行完成后终端会显示：configuration written to .config\n",
    "这个.config 保存了对 linux 内核功能的设置\n",
    "\n",
    "执行该命令后就会将对应的配置文件中的信息导入到源码顶层目录下的.config\n",
    "\n",
    "文件中 CONFIG_xxx=y 表示内核选中了该功能，内核编译时就会将该功能对应的代码编译，内核的体积也会增大。#CONFIG_xxx is not set 表示内核没有选中该功能，内核编译时该功能对应的代码不会被编译，内核的体积也会减小。\n",
    "\n",
    "> > 修改配置\n",
    "\n",
    "默认配置只能保证内核拥有最基本的功能，我们需要根据自己的实际需求对内核做进一步的配置\n",
    "\n",
    "方法 1：\n",
    "\n",
    "直接修改.config 文件（不推荐）\n",
    "\n",
    "太多了不好找，并且很多功能是有依赖关系的，要很熟，把最上层到最底层所需的全部东西都打开才能实现一共功能。\n",
    "\n",
    "方法 2：\n",
    "\n",
    "make menuconfig\n",
    "\n",
    "图形化配置界面，在该界面下我们可以对 linux 进行进一步的修改和配置方向键可选择不同的选项，‘Enter’键进入子菜单，‘Y’键选中某项功能， ‘N’键去除某项功能，‘M’键将该功能编译成内核模块，两次‘Esc’键退出界面，‘?’键为帮助选项，‘/’键为搜索选项\n",
    "\n",
    "![alt text](image-9.png)\n",
    "\n",
    "修改配置\n",
    "\n",
    "[ ] 有两种状态\n",
    "\n",
    "输入 Y，显示“\\*”，内核中该功能被选中，相关代码会被编译进内核\n",
    "\n",
    "输入 N，显示“ ”，内核中该功能不被选中，相关代码不会被编译进内核\n",
    "\n",
    "< > 有三种状态\n",
    "\n",
    "输入 Y，显示“\\*”，内核中该功能被选中，相关代码会被编译进内核\n",
    "\n",
    "输入 N，显示“ ”，内核中该功能不被选中，相关代码不会被编译进内核\n",
    "\n",
    "输入 M，显示“M”，内核中该功能被选为模块（被编译为独立的模块）\n",
    "\n",
    "注：使用 make mnuconfig 配置的本质还是修改.config 文件\n",
    "\n",
    "> linux 内核编译\n",
    "\n",
    "执行 make uImage 命令，会对 linux 内核进行编译，会在源码的 arch/arm/boot/目录下生成 uImage 镜像\n"
   ]
  },
  {
   "cell_type": "markdown",
   "metadata": {},
   "source": [
    "## linux 内核安装与加载"
   ]
  },
  {
   "cell_type": "markdown",
   "metadata": {},
   "source": [
    "1. 在tftp本地目录下放入\n",
    "   1. exynos4412-fs4412.dtb 设备树文件\n",
    "   2. uImage linux 内核镜像\n",
    "   3. ramdisk.img 根文件系统镜像\n",
    "2. 在uboot交互模式下设置uboot启动参数\n",
    "   1. 设置开发板ip和服务器ip\n",
    "   2. 设置bootcmd \n",
    "    setenv bootcmd   \n",
    "    tftp 0x41000000 uImage;  \n",
    "    tftp 0x42000000 exynos4412-fs4412.dtb;  \n",
    "    tftp 0x43000000 ramdisk.img;  \n",
    "    bootm 0x41000000 0x4300000 0x42000000  "
   ]
  },
  {
   "cell_type": "markdown",
   "metadata": {},
   "source": [
    "# 设备树\n"
   ]
  },
  {
   "cell_type": "markdown",
   "metadata": {},
   "source": [
    "## 设备树的基本情况\n"
   ]
  },
  {
   "cell_type": "markdown",
   "metadata": {},
   "source": [
    "> 什么是设备树文件\n",
    "\n",
    "设备树是一种描述硬件信息的数据结构，Linux 内核运行时可以通过设备树将硬件信息直接传递给 Linux 内核，而不再需要在 Linux 内核中包含大量的冗余编码\n",
    "\n",
    "> 设备树文件\n",
    "\n",
    "dts 设备树源文件\n",
    "\n",
    "dtsi 类似于头文件，包含一些公共的信息，可被其它设备树文件引用\n",
    "\n",
    "dtb 编译后的设备树文件\n",
    "\n",
    "> 设备树语法\n",
    "\n",
    "设备树的语法为树状结构，由一系列的节点和属性组成，根节点下包含子节点\n",
    "\n",
    "子节点下还可以包含子节点，节点内部包含了对应设备的属性\n",
    "\n",
    "```C\n",
    "    /{\n",
    "    \tmemory{\n",
    "    \t\t0x40000000 0x40000000\n",
    "    \t};\n",
    "    \tdm9000{\n",
    "    \t\t0x05000000;\n",
    "    \t};\n",
    "    \tkey{\n",
    "    \t\tup{\n",
    "\n",
    "    \t\t};\n",
    "    \t\tdown{\n",
    "\n",
    "    \t\t};\n",
    "    \t};\n",
    "    }；\n",
    "```\n",
    "\n",
    "/就表示根节点每个子节点中有一些属性比如内存 memory 内又位置和大小。网卡 dm9000 里有网卡的位置。键盘 key 内有具体哪个按键。\n"
   ]
  },
  {
   "cell_type": "markdown",
   "metadata": {},
   "source": [
    "## 设备树编译\n"
   ]
  },
  {
   "cell_type": "markdown",
   "metadata": {},
   "source": [
    "内核源码中并没有 fs4412 平台的设备树文件，这里我们从源码支持的平台中找一个硬\n",
    "件与我们最类似的，在其基础上进行修改，这里我们参考的是 samsung 公司的 origen\n",
    "\n",
    "1. 首先拷贝 arch/arm/boot/dts 下的 exynos4412-origen.dts\n",
    "2. 因为添加的设备树文件也要编译，所以对应的 Makefile 也要修改\n",
    "3. 回到源码的顶层目录下编译设备树 $ make dtbs ，最终在 arch/arm/boot/dts/目录下生成了 exynos4412-fs4412.dtb\n"
   ]
  },
  {
   "cell_type": "markdown",
   "metadata": {},
   "source": [
    "# linux 内核驱动移植\n"
   ]
  },
  {
   "cell_type": "markdown",
   "metadata": {},
   "source": [
    "1. 在内核源码的顶层目录下执行如下命令，修改内核配置 $ make menuconfig，给内核选配 DM9000 网卡驱动，然后选择“Save”保存\n",
    "2. 在设备树中添加网卡的硬件信息\n",
    "3. 修改时钟相关配置（忽略无用的时钟）\n",
    "4. 修改 EMMC 相关配置\n",
    "5. 编译内核和设备树\n"
   ]
  },
  {
   "cell_type": "markdown",
   "metadata": {},
   "source": [
    "# 根文件系统\n"
   ]
  },
  {
   "cell_type": "markdown",
   "metadata": {},
   "source": [
    "## 根文件系统的基本情况\n"
   ]
  },
  {
   "cell_type": "markdown",
   "metadata": {},
   "source": [
    "> 什么是根文件系统\n",
    "\n",
    "根文件系统是内核启动后挂载的第一个文件系统系统引导程序会在根文件系统挂载后从中把一些基本的初始化脚本和服务等加载到内存中去运行\n",
    "\n",
    "> 根文件系统的内容\n",
    "\n",
    "![alt text](image-10.png)\n",
    "\n",
    "1. bin \n",
    "    shell 命令(elf 格式)(通过 busybox 编译生成)  \n",
    "    都是二进制文件，所以需要区分架构,他们都来自busybox。busybox可以理解成这些命令的源代码\n",
    "\n",
    "2. dev 设备文件(内核启动后会将设备信息写入该目录)\n",
    "\n",
    "3. etc 内核配置文件\n",
    "\n",
    "4. lib 共享库(elf 格式)(从交叉编译工具链中获取)  \n",
    "    为什么要有库呢，因为程序的执行需要动态库。不然链接动态库的应用程序不能再开发板上跑。而我们使用交叉编译的方式编辑和编译程序再 ubuntu 上。所以开发板不需要有静态库。这些库是怎么来的呢，首先 ubuntu 的库我们肯定用不了。他们都是 x86 架构的。不过交叉编译工具链里有库。我们把这里.so 结尾的也就是动态库复制过来\n",
    "\n",
    "5. linuxrc 内核运行的第一个应用程序(通过 busybox 编译生成)  \n",
    "\n",
    "   1. /linuxrc是一个可执行的应用程序\n",
    "\n",
    "        1. /linuxrc是应用层的，和内核源码一点关系都没有\n",
    "\n",
    "        2. /linuxrc在开发板当前内核系统下是可执行的。因此在ARM SoC的linux系统下，这个应用程序就是用arm-linux-gcc编译链接的；如果是在PC机linux系统下，那么这个程序就是用gcc编译连接的。\n",
    "\n",
    "        3. /linuxrc如果是静态编译连接的那么直接可以运行；如果是动态编译连接的那么我们还必须给他提供必要的库文件才能运行。但是因为我们/linuxrc这个程序是由内核直接调用执行的，因此用户没有机会去导出库文件的路径，因此实际上这个/linuxrc没法动态连接，一般都是静态连接的。\n",
    "\n",
    "    2. /linuxrc执行时引出用户界面\n",
    "\n",
    "        1. 操作系统启动后在一系列的自己运行配置之后，最终会给用户一个操作界面（也许是cmdline，也许是GUI），这个用户操作界面就是由/linuxrc带出来的。\n",
    "\n",
    "        2. 用户界面等很多事并不是在/linuxrc程序中负责的，用户界面有自己专门的应用程序，但是用户界面的应用程序是直接或者间接的被/linuxrc调用执行的。用户界面程序和其他的应用程序就是进程2、3、4·····，这就是我们说的进程1（init进程，也就是/linuxrc）是其他所有应用程序进程的祖宗进程。\n",
    "\n",
    "    3. /linuxrc负责系统启动后的配置\n",
    "\n",
    "       1. 就好像一个房子建好之后不能直接住，还要装修一样；操作系统启动起来后也不能直接用，要配置下。\n",
    "\n",
    "       2. 操作系统启动后的应用层的配置（一般叫运行时配置，英文简写etc）是为了让我们的操作系统用起来更方便，更适合我个人的爱好或者实用性。\n",
    "\n",
    "    4. /linuxrc在嵌入式linux中一般就是busybox\n",
    "\n",
    "       1. busybox是一个C语言写出来的项目，里面包含了很多.c文件和.h文件。这个项目可以被配置编译成各个平台下面可以运行的应用程序。我们如果用arm-linux-gcc来编译busybox就会得到一个可以在我们开发板linux内核上运行的应用程序。\n",
    "\n",
    "       2. busybox这个程序开发出来就是为了在嵌入式环境下构建rootfs使用的，也就是说他就是专门开发的init进程应用程序。\n",
    "\n",
    "       3. busybox为当前系统提供了一整套的shell命令程序集。譬如vi、cd、mkdir、ls等。在桌面版的linux发行版（譬如ubuntu、redhat、centOS等）中vi、cd、ls等都是一个一个的单独的应用程序。但是在嵌入式linux中，为了省事我们把vi、cd等所有常用的shell命令集合到一起构成了一个shell命令包，起名叫busybox。\n",
    "\n",
    "mnt 挂载目录(非必要)  \n",
    "proc 进程相关文件(内核启动后会将进程信息写入该目录)  \n",
    "root 超级用户家目录(非必要)  \n",
    "sbin 系统管理 shell 命令(elf 格式)(通过 busybox 编译生成)  \n",
    "sys 驱动相关文件(内核启动后会将驱动信息写入该目录)  \n",
    "usr shell 命令(elf 格式)(通过 busybox 编译生成)\n"
   ]
  },
  {
   "cell_type": "markdown",
   "metadata": {},
   "source": [
    "## 根文件系统编译"
   ]
  },
  {
   "cell_type": "markdown",
   "metadata": {},
   "source": [
    "> 构建自己的根文件系统\n",
    "\n",
    "1. 从官网获取busybox源代码\n",
    "2. 在busybox目录下执行 make menuconfig 命令对busybox进行配置\n",
    "3. 编译 busybox $ make\n",
    "4. 安装 busybox\n",
    "5. 将交叉编译工具链中的库文件拷贝到_install 目录下\n",
    "6. 删除库文件中的静态库\n",
    "7. 删除共享库中的符号表（需要在 root 用户下操作）\n",
    "8. 将资料中“移植相关文件”下的 etc 目录（配置文件）拷贝到当前目录下\n",
    "9. 创建其他目录$ mkdir dev mnt proc root systm pvar"
   ]
  }
 ],
 "metadata": {
  "language_info": {
   "name": "python"
  }
 },
 "nbformat": 4,
 "nbformat_minor": 2
}

{
 "cells": [
  {
   "cell_type": "code",
   "execution_count": null,
   "metadata": {
    "vscode": {
     "languageId": "cpp"
    }
   },
   "outputs": [],
   "source": [
    "class Student\n",
    "{\n",
    "public:\n",
    "    //成员变量\n",
    "    char *name;\n",
    "    int age;\n",
    "    float score;\n",
    "    //成员函数\n",
    "    void say()\n",
    "    {\n",
    "        cout<<name<<\"的年龄是\"<<age<<\"分数是\"<<score<<endl;\n",
    "    }\n",
    "}"
   ]
  },
  {
   "cell_type": "code",
   "execution_count": null,
   "metadata": {
    "vscode": {
     "languageId": "cpp"
    }
   },
   "outputs": [
    {
     "ename": "",
     "evalue": "",
     "output_type": "error",
     "traceback": [
      "\u001b[1;31m无法启动 Kernel。 \n",
      "\u001b[1;31m由于连接超时，无法启动 Kernel \"C++17 (cling)\"。 \n",
      "\u001b[1;31m查看 Jupyter <a href='command:jupyter.viewOutput'>log</a>，了解更多详细信息。"
     ]
    }
   ],
   "source": [
    "#include <iostream>\n",
    "using namespace std;\n",
    "class Student\n",
    "{\n",
    "public:\n",
    "    char *name;\n",
    "    int age;\n",
    "    float score;\n",
    "\n",
    "    void say()\n",
    "    {\n",
    "        cout << name << \"的年龄是\" << age << \"岁，成绩是\" << score << endl;\n",
    "    }\n",
    "};\n",
    "int main()\n",
    "{\n",
    "    Student stu;\n",
    "    stu.name = \"legend\";\n",
    "    stu.age = 20;\n",
    "    stu.score = 90.5f;\n",
    "    stu.say();\n",
    "    return 0;\n",
    "}"
   ]
  }
 ],
 "metadata": {
  "kernelspec": {
   "display_name": "C++17",
   "language": "C++17",
   "name": "xcpp17"
  },
  "language_info": {
   "name": "C++17"
  }
 },
 "nbformat": 4,
 "nbformat_minor": 2
}

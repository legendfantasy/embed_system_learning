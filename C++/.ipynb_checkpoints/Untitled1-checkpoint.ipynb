{
 "cells": [
  {
   "cell_type": "markdown",
   "id": "67124e6d-94b5-40ad-b5cb-7c7a965daddb",
   "metadata": {},
   "source": [
    "# 静态成员变量"
   ]
  },
  {
   "cell_type": "code",
   "execution_count": 1,
   "id": "8820a3f8-540c-4a82-9323-f447062a0ccb",
   "metadata": {},
   "outputs": [],
   "source": [
    "#include <iostream>\n",
    "using namespace std;"
   ]
  },
  {
   "cell_type": "code",
   "execution_count": null,
   "id": "206f8218-8b80-4a65-be5a-6145f97fe386",
   "metadata": {},
   "outputs": [],
   "source": [
    "class A\n",
    "{\n",
    "\tpublic:\n",
    "\t\tint m_data;\n",
    "\t\tstatic int s_data;  //静态成员变量 \n",
    "\t\tA(int data=0):m_data(data){}\n",
    "\n",
    "};"
   ]
  },
  {
   "cell_type": "code",
   "execution_count": null,
   "id": "02a8dd7e-67ef-465c-b0ee-01780cfc0f11",
   "metadata": {},
   "outputs": [],
   "source": [
    "int A::s_data = 100; "
   ]
  },
  {
   "cell_type": "code",
   "execution_count": 5,
   "id": "6d0ba8e7-3140-4abe-a594-000301856841",
   "metadata": {},
   "outputs": [],
   "source": [
    "int main(void)\n",
    "{\n",
    "\tcout << A::s_data << endl;\n",
    "    return 0;\n",
    "}"
   ]
  },
  {
   "cell_type": "markdown",
   "id": "495b7c53-a490-4ee1-8aff-6c7b5fcf5694",
   "metadata": {},
   "source": [
    "# 拷贝构造函数"
   ]
  },
  {
   "cell_type": "code",
   "execution_count": null,
   "id": "bc65598b-811a-4df3-960f-07fc718837ef",
   "metadata": {},
   "outputs": [],
   "source": [
    "#include <iostream>\n",
    "using namespace std;\n",
    "\n",
    "class Integer\n",
    "{\n",
    "    private:\n",
    "        int *m_pi;   //私有成员变量的指针变量\n",
    "    public:\n",
    "        Integer(int i = 0)\n",
    "        {\n",
    "            m_pi = new int(i);  \n",
    "        }\n",
    "        void print(void)\n",
    "        {\n",
    "            cout << *m_pi << endl;\n",
    "        }\n",
    "        ~Integer()\n",
    "        {\n",
    "            delete m_pi;\n",
    "        }\n",
    "};\n",
    "int main(void){\n",
    "Integer i1(100);\n",
    "Integer i2 = i1;\n",
    "//拷贝构造函数\n",
    "Integer i3(i1); //拷贝构造函数\n",
    "i2.print();\n",
    "i3.print();\n",
    "return 0;\n",
    "}"
   ]
  },
  {
   "cell_type": "markdown",
   "id": "8fe3f147-ade7-4ac1-b8fb-8500b123b4a2",
   "metadata": {},
   "source": [
    "# 多继承"
   ]
  },
  {
   "cell_type": "markdown",
   "id": "1d154361-0b0e-4fc3-bfd2-99aac9b1d44e",
   "metadata": {},
   "source": [
    "多继承会引起很多逻辑上的问题，新的语言都不再支持多继承"
   ]
  },
  {
   "cell_type": "code",
   "execution_count": null,
   "id": "becc72e7-7818-46f2-aff8-57af65d84c05",
   "metadata": {},
   "outputs": [],
   "source": [
    "#include<iostream>\n",
    "using namespace std;"
   ]
  },
  {
   "cell_type": "code",
   "execution_count": null,
   "id": "32f6d176-8cb9-407a-9f3c-fe7c51ab6ec5",
   "metadata": {},
   "outputs": [],
   "source": [
    "class A\n",
    "{\n",
    "    protected:\n",
    "        int m_data;\n",
    "    public:\n",
    "        A(int data)\n",
    "        {\n",
    "            m_data = data;\n",
    "            cout << \"A(int)\" << endl;\n",
    "        }\n",
    "};\n",
    "class B\n",
    "{\n",
    "    public:\n",
    "\n",
    "}"
   ]
  }
 ],
 "metadata": {
  "kernelspec": {
   "display_name": "C++17",
   "language": "C++17",
   "name": "xeus-cling-cpp17"
  },
  "language_info": {
   "codemirror_mode": "text/x-c++src",
   "file_extension": ".cpp",
   "mimetype": "text/x-c++src",
   "name": "c++",
   "version": "-std=c++17"
  }
 },
 "nbformat": 4,
 "nbformat_minor": 5
}

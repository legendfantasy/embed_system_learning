{
 "cells": [
  {
   "cell_type": "code",
   "execution_count": 1,
   "id": "bd91d818-23d2-469c-b673-428c0fb67825",
   "metadata": {},
   "outputs": [],
   "source": [
    "#include<iostream>\n",
    "#include<string>\n",
    "using namespace std;"
   ]
  },
  {
   "cell_type": "code",
   "execution_count": 2,
   "id": "daeafb4a-6ad0-41e9-a9f4-cb7d3dcf134d",
   "metadata": {},
   "outputs": [],
   "source": [
    "class Student\n",
    "{\n",
    "\tpublic:\n",
    "\t\tstring name;  //字符指针变量，可以用来保存一个字符或一个字符串的首地址 \n",
    "\t\tint age;\n",
    "\t\tfloat score;\n",
    "\t\tvoid say();  //成员函数,一般只给声明在这里 \n",
    "\n",
    "};"
   ]
  },
  {
   "cell_type": "code",
   "execution_count": 3,
   "id": "06c9f313-8e4c-4fbb-95dd-b5e67fa289f0",
   "metadata": {},
   "outputs": [],
   "source": [
    "void Student::say()\n",
    "{\n",
    "\tcout << name << \"的年龄是\" << age << \"成绩是\"<< score << endl; \n",
    "} "
   ]
  },
  {
   "cell_type": "code",
   "execution_count": 4,
   "id": "1b2d3b7a-54d4-483d-856b-58f03c069f90",
   "metadata": {},
   "outputs": [
    {
     "name": "stdout",
     "output_type": "stream",
     "text": [
      "小明的年龄是15成绩是92.5\n",
      "小红的年龄是14成绩是91.5\n"
     ]
    }
   ],
   "source": [
    "//通过对象指针来访问类的成员 \n",
    "Student *pStu = new Student; //在堆上给Student类分配内存空间，并由对象指针指针pStu来保存 \n",
    "pStu->name = \"小明\"; //通过对对象使用字符指针变量来引用类的成员变量\n",
    "pStu->age = 15;\t\n",
    "pStu->score = 92.5f;\n",
    "pStu->say();\n",
    "delete pStu; \n",
    "//通过对象来访问类的成员 \n",
    "Student stu_1;\n",
    "stu_1.name = \"小红\";\n",
    "stu_1.age = 14;\n",
    "stu_1.score = 91.5f;\n",
    "stu_1.say(); "
   ]
  },
  {
   "cell_type": "code",
   "execution_count": null,
   "id": "bb2f7900-c28b-48d8-aa7c-cb93e2541f84",
   "metadata": {},
   "outputs": [],
   "source": []
  }
 ],
 "metadata": {
  "kernelspec": {
   "display_name": "C++17",
   "language": "C++17",
   "name": "xeus-cling-cpp17"
  },
  "language_info": {
   "codemirror_mode": "text/x-c++src",
   "file_extension": ".cpp",
   "mimetype": "text/x-c++src",
   "name": "c++",
   "version": "-std=c++17"
  }
 },
 "nbformat": 4,
 "nbformat_minor": 5
}

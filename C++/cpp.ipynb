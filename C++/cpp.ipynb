{
 "cells": [
  {
   "cell_type": "markdown",
   "metadata": {},
   "source": [
    "# 定义一个类"
   ]
  },
  {
   "cell_type": "code",
   "execution_count": null,
   "metadata": {
    "vscode": {
     "languageId": "cpp"
    }
   },
   "outputs": [],
   "source": [
    "class Student\n",
    "{\n",
    "    public:\n",
    "        //成员变量\n",
    "        char *name;\n",
    "        int age;\n",
    "        float score;\n",
    "        //成员函数\n",
    "        void say()\n",
    "        {\n",
    "            cout<<name<<\"的年龄是\"<<age<<\"分数是\"<<score<<endl;\n",
    "        }\n",
    "}"
   ]
  },
  {
   "cell_type": "markdown",
   "metadata": {},
   "source": [
    "# 类成员的使用"
   ]
  },
  {
   "cell_type": "code",
   "execution_count": null,
   "metadata": {
    "vscode": {
     "languageId": "cpp"
    }
   },
   "outputs": [],
   "source": [
    "#include <iostream>\n",
    "using namespace std;\n",
    "class Student\n",
    "{\n",
    "public:\n",
    "    // 成员变量\n",
    "    char *name;\n",
    "    int age;\n",
    "    float score;\n",
    "    // 成员函数\n",
    "    void say()  //不用指定参数类型，因为成员变量可以直接使用\n",
    "    {\n",
    "        cout << name << \"的年龄是\" << age << \"岁，成绩是\" << score << endl;\n",
    "    }\n",
    "};\n",
    "int main()\n",
    "{\n",
    "    Student stu;  // 创建对象 \n",
    "    stu.name = \"legend\";  //访问成员变量\n",
    "    stu.age = 20;\n",
    "    stu.score = 90.5f;\n",
    "    stu.say();\n",
    "    return 0;\n",
    "}"
   ]
  },
  {
   "cell_type": "markdown",
   "metadata": {},
   "source": [
    "# 使用类指针"
   ]
  },
  {
   "cell_type": "code",
   "execution_count": null,
   "metadata": {
    "vscode": {
     "languageId": "cpp"
    }
   },
   "outputs": [],
   "source": [
    "#include <iostream>\n",
    "using namespace std;\n",
    "\n",
    "class Student\n",
    "{\n",
    "    public:\n",
    "        char *name;\n",
    "        int age;\n",
    "        float score;\n",
    "        void say()\n",
    "        {\n",
    "            cout << name << \"的年龄是\" << age << \"岁，成绩是\" << score << endl;\n",
    "        }\n",
    "};\n",
    "int main()\n",
    "{\n",
    "    Student *pStu = new Student();\n",
    "    pStu -> name = \"legendfantasy\";\n",
    "    pStu -> age = 18;\n",
    "    pStu -> score = 90;\n",
    "    pStu -> say();\n",
    "    delete pStu;\n",
    "    return 0;\n",
    "}"
   ]
  },
  {
   "cell_type": "markdown",
   "metadata": {},
   "source": [
    "# 在类内声明，在类外定义"
   ]
  },
  {
   "cell_type": "code",
   "execution_count": null,
   "metadata": {
    "vscode": {
     "languageId": "cpp"
    }
   },
   "outputs": [],
   "source": [
    "class Student\n",
    "{\n",
    "    public:\n",
    "        char *name;\n",
    "        int age;\n",
    "        float score;\n",
    "        void say();  //声明\n",
    "}\n",
    "void Student::say()  //定义\n",
    "{\n",
    "    cout << \"name: \" << name << endl;\n",
    "}"
   ]
  },
  {
   "cell_type": "code",
   "execution_count": null,
   "metadata": {
    "vscode": {
     "languageId": "cpp"
    }
   },
   "outputs": [],
   "source": [
    "class Student\n",
    "{\n",
    "    public:\n",
    "        char *name;\n",
    "        int age;\n",
    "        float score;\n",
    "        void say();\n",
    "};\n",
    "inline void Student::say()\n",
    "{\n",
    "    cout << \"name: \" << name << endl;\n",
    "}"
   ]
  },
  {
   "cell_type": "code",
   "execution_count": null,
   "metadata": {
    "vscode": {
     "languageId": "cpp"
    }
   },
   "outputs": [],
   "source": [
    "#include <iostream>\n",
    "using namespace std;\n",
    "\n",
    "class Student\n",
    "{\n",
    "    private:\n",
    "        char *m_name;\n",
    "        int m_age;\n",
    "        float m_score;\n",
    "    public:\n",
    "        void setName(char *name);\n",
    "        void setage(int age);\n",
    "        void setscore(float score);\n",
    "        void show();\n",
    "};\n",
    "void Student::setName(char *name)\n",
    "{\n",
    "    m_name = name;\n",
    "}\n",
    "void Student::setage(int age)\n",
    "{\n",
    "    m_age = age;\n",
    "}\n",
    "void Student::setscore(float score)\n",
    "{\n",
    "    m_score = score;\n",
    "}\n",
    "void Student::show()\n",
    "{\n",
    "    cout << \"name:\" << m_name << endl;\n",
    "}\n",
    "int main()\n",
    "{\n",
    "    //栈上创建对象\n",
    "    Student stu;\n",
    "    stu.setName(\"ihje\");\n",
    "    stu.setage(18);\n",
    "    stu.setscore(90);\n",
    "    stu.show();\n",
    "\n",
    "    //堆上创建对象\n",
    "    Student *pstu = new Student();\n",
    "    pstu->setName(\"ihje\");\n",
    "    pstu->setage(18);\n",
    "    pstu->setscore(90);\n",
    "    pstu->show();\n",
    "    delete pstu;\n",
    "    \n",
    "    return 0;\n",
    "}"
   ]
  },
  {
   "cell_type": "markdown",
   "metadata": {},
   "source": [
    "# 类内函数的重载"
   ]
  },
  {
   "cell_type": "code",
   "execution_count": null,
   "metadata": {
    "vscode": {
     "languageId": "cpp"
    }
   },
   "outputs": [],
   "source": [
    "#include <iostream>\n",
    "using namepsace std;\n",
    "\n",
    "void display();\n",
    "\n",
    "void display(int);\n",
    "\n",
    "namepsace ns \n",
    "{\n",
    "    void display();\n",
    "}\n",
    "class Demo\n",
    "{\n",
    "    public:\n",
    "        void display();\n",
    "}\n",
    "int main()\n",
    "{\n",
    "    display();\n",
    "    display(1);\n",
    "    ns::display();\n",
    "    Demo obj;\n",
    "    obj.display();\n",
    "\n",
    "    return 0;\n",
    "}"
   ]
  },
  {
   "cell_type": "markdown",
   "metadata": {},
   "source": [
    "# 构造函数\n",
    "类使用构造函数来对成员的数据成员进行初始化"
   ]
  },
  {
   "cell_type": "code",
   "execution_count": null,
   "metadata": {
    "vscode": {
     "languageId": "cpp"
    }
   },
   "outputs": [],
   "source": [
    "#include <iostream>\n",
    "using namespace std;\n",
    "class Student\n",
    "{\n",
    "    private:\n",
    "        char *m_name;\n",
    "        int m_age;\n",
    "        float m_gpa;\n",
    "    public:\n",
    "        Student(char *name, int age, float gpa)  // Constructor\n",
    "        void show();\n",
    "};\n",
    "Student::Student(char *name, int age, float gpa)  \n",
    "{\n",
    "    m_name = name;\n",
    "    m_age = age;\n",
    "    m_gpa = gpa;\n",
    "}\n",
    "void show()\n",
    "{\n",
    "    cout << m_name << \"的年龄是 \" << m_age << \"成绩是 \" << m_gpa;\n",
    "}\n",
    "int main()\n",
    "{\n",
    "    Student stu(\"张三\", 20, 98.5);  //创建对象时自动调用构造函数\n",
    "    stu.show\n",
    "    Student *pstu = new Student(\"李四\", 21, 97.5);  \n",
    "    pstu->show();\n",
    "    return 0;\n",
    "}"
   ]
  },
  {
   "cell_type": "code",
   "execution_count": null,
   "metadata": {
    "vscode": {
     "languageId": "c++"
    }
   },
   "outputs": [],
   "source": [
    "#include <iostream>\n",
    "using namespace std;\n",
    "class Student\n",
    "{\n",
    "    private:\n",
    "        char *m_name;\n",
    "        int m_age;\n",
    "        float m_score;\n",
    "    public:\n",
    "        Student();  //构造函数的重载\n",
    "        Student(char *name, int age, float score);\n",
    "        void setname(char *name);\n",
    "        void setage(int age);\n",
    "        void setscore(float score);\n",
    "        void show();\n",
    "};\n",
    "Student::student()  //构造函数，完成清零操作\n",
    "{\n",
    "    m_name = NULL;\n",
    "    m_age = 0;\n",
    "    m_score = 0.0;\n",
    "}\n",
    "Student::Student(char *name, int age, float score)\n",
    "{\n",
    "    m_name = name;\n",
    "    m_age = age;\n",
    "    m_score = score;\n",
    "}\n",
    "void Student::setname(char *name)\n",
    "{\n",
    "    m_name = name;\n",
    "}\n",
    "void Student::setage(int age)\n",
    "{\n",
    "    m_age = age;\n",
    "}\n",
    "void Student::setscore(float score)\n",
    "{\n",
    "    m_score = score;\n",
    "}\n",
    "void Student::show()\n",
    "{\n",
    "    if(m_name == NULL || m_age <= 0)\n",
    "    {\n",
    "        cout << \"Invalid data!\" << endl;\n",
    "    }\n",
    "    else\n",
    "    {\n",
    "        cout << \"Name: \" << m_name << endl;\n",
    "    }\n",
    "}\n",
    "int main()\n",
    "{\n",
    "    Student stu(\"Tom\", 18, 90.5);  //\n",
    "    stu.show();\n",
    "\n",
    "    Student *pstu = new Student();  // 使用构造函数Student()，只要是创建了构造函数就必须使用\n",
    "\n",
    "    pstu -> show();\n",
    "    pstu -> setname(\"jerry\");\n",
    "    pstu -> setage(19);\n",
    "    pstu -> setscore(95.0);\n",
    "    pstu -> show();\n",
    "\n",
    "    return 0;\n",
    "}"
   ]
  },
  {
   "cell_type": "code",
   "execution_count": null,
   "metadata": {
    "vscode": {
     "languageId": "c++"
    }
   },
   "outputs": [],
   "source": [
    "#include <iostream>\n",
    "using namespace std;\n",
    "class A\n",
    "{\n",
    "    public:\n",
    "        A(void)    //无参构造函数\n",
    "        {\n",
    "            cout << \"A的无参构造\" << endl;\n",
    "            m_i = 0;\n",
    "        }\n",
    "    public:\n",
    "        int m_i;\n",
    "};\n",
    "class B\n",
    "{\n",
    "    public:\n",
    "        int m_j; //基本类型成员变量  对其不作初始化，则其值是未知的\n",
    "        A m_a; //类类型成员变量（成员子对象），对其进行初始化会调用其无参构造函数\n",
    "    //这里没有任何构造函数，编译器会生成一个默认的无参构造函数\n",
    "};\n",
    "\n",
    "int main(void)\n",
    "{\n",
    "    B b; //会调用B自动生成的缺省构造函数，调用成员对象m_a的无参构造函数\n",
    "    cout << b.m_j << endl; //未知\n",
    "    cout << b.m_a.m_i <<endl; //0\n",
    "    return 0;\n",
    "}"
   ]
  },
  {
   "cell_type": "code",
   "execution_count": null,
   "metadata": {
    "vscode": {
     "languageId": "c++"
    }
   },
   "outputs": [],
   "source": [
    "#include <iostream>\n",
    "using namespace std;\n",
    "struct param\n",
    "{\n",
    "    int l;\n",
    "    int w;\n",
    "    int h;\n",
    "    int ww;\n",
    "};\n",
    "class Desk\n",
    "{\n",
    "    private:\n",
    "        int length, width, height, weight;\n",
    "    public:\n",
    "        Desk(int l, int w, int h, int ww);  //有参构造函数\n",
    "    #if 1\n",
    "        Desk(void)   //无参构造函数\n",
    "        {\n",
    "            cout << \"Desk(void)\" << endl;\n",
    "            length = 0;\n",
    "            width = 0;\n",
    "            height = 0;\n",
    "            weight = 0;\n",
    "        }\n",
    "    #endif\n",
    "        Desk(param & p)  //拷贝构造函数\n",
    "        {\n",
    "            cout << \"Desk(parm &)\" << endl;\n",
    "            length = p.l;\n",
    "            width = p.w;\n",
    "            height = p.h;\n",
    "            weight = p.ww;\n",
    "        }\n",
    "};\n",
    "\n",
    "#if 1\n",
    "Desk::Desk(int l, int w, int h, int ww)\n",
    "{\n",
    "    cout << \"Desk(int, int, int, int)\" << endl;\n",
    "    length = l;\n",
    "    width = w;\n",
    "    height = h;\n",
    "    weight = ww;\n",
    "}\n",
    "#endif\n",
    "\n",
    "int main(void)\n",
    "{\n",
    "    //构造函数的重载\n",
    "    Desk d1(1,2,3,4);  //调用有参构造函数\n",
    "    Desk d2; //调用无参构造函数,无参构造函数连括号都可以省\n",
    "    param pm;\n",
    "    pm.l = 1;\n",
    "    pm.w = 2;\n",
    "    pm.h = 3;\n",
    "    pm.ww =4;\n",
    "    Desk d3(pm);\n",
    "    return 0;\n",
    "}"
   ]
  },
  {
   "cell_type": "markdown",
   "metadata": {},
   "source": [
    "# 类型转换构造函数"
   ]
  },
  {
   "cell_type": "markdown",
   "metadata": {},
   "source": [
    "一种邪门的构造函数调用方法,"
   ]
  },
  {
   "cell_type": "code",
   "execution_count": null,
   "metadata": {
    "vscode": {
     "languageId": "c++"
    }
   },
   "outputs": [],
   "source": [
    "#include <iostream>\n",
    "#include <cstring>\n",
    "using namespace std;\n",
    "class Integer\n",
    "{\n",
    "    private:\n",
    "        int m_i ;\n",
    "    public:\n",
    "        Integer(void)\n",
    "        {\n",
    "            cout << \"Integer(void)\" << endl;\n",
    "            m_i = 0;\n",
    "        }\n",
    "        Integer(int n)  //类型转换构造函数\n",
    "        { \n",
    "            cout << \"Integer(int)\" <<endl;\n",
    "            m_i = n;\n",
    "        }\n",
    "        Integer(const char * c)\n",
    "        {\n",
    "            cout << \"Integer(const char*)\" <<endl;\n",
    "            m_i = strlen(c);\n",
    "        }\n",
    "        void print(void)\n",
    "        {\n",
    "            cout << m_i << endl;\n",
    "        }\n",
    "};\n",
    "\n",
    "int main(void)\n",
    "{\n",
    "    Integer a;\n",
    "    a.print();\n",
    "\n",
    "    Integer b = 1; //这里居然可以直接给对象赋值，不用调用成员变量\n",
    "    //这其实是将1转换为Integer类型，然后调用赋值运算符重载函数\n",
    "    // 实现的机制是：1会调用类型转换的构造函数，将1转换为Integer类型，然后调用赋值运算符重载函数\n",
    "    b.print();\n",
    "\n",
    "    Integer c = \"abc\";\n",
    "    c.print();\n",
    "    return 0;\n",
    "}"
   ]
  },
  {
   "cell_type": "markdown",
   "metadata": {},
   "source": [
    "但这种写法让人费解，所以可以加以规范"
   ]
  },
  {
   "cell_type": "code",
   "execution_count": null,
   "metadata": {
    "vscode": {
     "languageId": "c++"
    }
   },
   "outputs": [],
   "source": [
    "#include <iostream>\n",
    "#include <cstring>\n",
    "using namespace std;\n",
    "class Integer\n",
    "{\n",
    "    private:\n",
    "        int m_i ;\n",
    "    public:\n",
    "        Integer(void)\n",
    "        {\n",
    "            cout << \"Integer(void)\" << endl;\n",
    "            m_i = 0;\n",
    "        }\n",
    "        explicit Integer(int n)\n",
    "        //explicit 关键字的作用是：阻止隐式类型转换\n",
    "        { //类型转换构造函数\n",
    "            cout << \"Integer(int)\" <<endl;\n",
    "            m_i = n;\n",
    "        }\n",
    "        explicit Integer(const char *str)\n",
    "        {\n",
    "            cout << \"Integer(const char *)\" << endl;\n",
    "            m_i = strlen(str);\n",
    "        }\n",
    "\n",
    "        void print(void)\n",
    "        {\n",
    "            cout << m_i << endl;\n",
    "        }\n",
    "};\n",
    "\n",
    "int main(void)\n",
    "{\n",
    "    Integer a;\n",
    "    a.print();\n",
    "    //Integer b = 1; //编译器会找参数为int类型的构造函数\n",
    "    Integer b = Integer(1); //编译器会找参数为int类型的构造函数\n",
    "    b.print();\n",
    "    //Integer c = \"abc\"; //编译器会找参数为const char *类型的构造函数\n",
    "    Integer c = Integer(\"abc\"); //编译器会找参数为const char *类型的构造函数\n",
    "    c.print();\n",
    "    return 0;\n",
    "}"
   ]
  },
  {
   "cell_type": "markdown",
   "metadata": {},
   "source": [
    "# 拷贝构造函数"
   ]
  },
  {
   "cell_type": "code",
   "execution_count": null,
   "metadata": {
    "vscode": {
     "languageId": "cpp"
    }
   },
   "outputs": [],
   "source": [
    "#include <iostream>\n",
    "using namespace std;\n",
    "class A\n",
    "{\n",
    "    public:\n",
    "        int m_data;\n",
    "        A(int data = 0)  //默认构造函数\n",
    "        {\n",
    "            cout << \"A(int)\" << endl;\n",
    "            m_data = data;   //初始化成员变量\n",
    "        }\n",
    "        A(const A &that)   //传入类型为A的常量引用，即传入一个已经构造好的对象\n",
    "        //explicit A(const A &that)   //显式调用拷贝构造函数\n",
    "        {\n",
    "            //拷贝构造函数\n",
    "            cout << \"A(const A&)\" << endl;\n",
    "            m_data = that.m_data;\n",
    "        }\n",
    "};\n",
    "int main(void)\n",
    "{\n",
    "    A a1;  //调用默认构造函数\n",
    "    A a2(a1);  //用一个已经构造的对象来构造另一个对象，调用拷贝构造函数\n",
    "    A a3 = a1; //调用拷贝构造\n",
    "    //A a3 = A(a1);  //显式调用拷贝构造函数\n",
    "    return 0;\n",
    "}"
   ]
  },
  {
   "cell_type": "code",
   "execution_count": null,
   "metadata": {
    "vscode": {
     "languageId": "cpp"
    }
   },
   "outputs": [],
   "source": [
    "#include <iostream>\n",
    "using namespace std;\n",
    "class A\n",
    "{\n",
    "    public:\n",
    "        int m_data;\n",
    "        A(int data = 0)\n",
    "        {\n",
    "            cout << \"A(int)\" << endl;\n",
    "            m_data = data;\n",
    "        }\n",
    "        A(const A& that)\n",
    "        {\n",
    "        //拷贝构造函数\n",
    "            cout << \"A(const A&)\" << endl;\n",
    "            m_data = that.m_data;\n",
    "        }\n",
    "};\n",
    "class B\n",
    "{\n",
    "    public:\n",
    "        int m_data;\n",
    "        A m_a;\n",
    "};\n",
    "\n",
    "int main(void)\n",
    "{\n",
    "    B b1; //创建b1对象，调用B的缺省构造函数，由于有`成员对象`m_a, 要对其进行初始化，所以会调用A的构造函数\n",
    "    b1.m_a.m_data = 98;\n",
    "    b1.m_data = 97;\n",
    "    B b2 = b1; //创建b2对象，调用B的拷贝构造函数\n",
    "    //对类对象，调用成员对象的拷贝构造函数\n",
    "    cout << b2.m_a.m_data << endl;\n",
    "    cout << b2.m_data << endl;\n",
    "    return 0;\n",
    "}"
   ]
  },
  {
   "cell_type": "markdown",
   "metadata": {},
   "source": [
    "# 构造函数的初始化列表"
   ]
  },
  {
   "cell_type": "markdown",
   "metadata": {},
   "source": [
    "如果有类类型的成员变量(成员子对象)，而该类又没有无参构造函数，则必须要通过初始化列表显式指明其初始化方式"
   ]
  },
  {
   "cell_type": "code",
   "execution_count": null,
   "metadata": {
    "vscode": {
     "languageId": "c++"
    }
   },
   "outputs": [],
   "source": [
    "#include <iostream>\n",
    "using namespace std;\n",
    "class A\n",
    "{\n",
    "    private:\n",
    "        int m_data;\n",
    "    public:\n",
    "        A(int data)\n",
    "        {\n",
    "            cout <<\"A(int)\" << endl;\n",
    "            m_data = data;\n",
    "        }\n",
    "};\n",
    "class B\n",
    "{\n",
    "    private:\n",
    "        A m_a;\n",
    "    public:\n",
    "        B(void):m_a(123)\n",
    "        {\n",
    "            cout <<\"B(void)\" << endl;\n",
    "        }\n",
    "};\n",
    "int main(void)\n",
    "{\n",
    "    B b; //一定会去构造成员对象m_a , 未指定如何构造，系统去调用m_a的无参构造函数\n",
    "    return 0;\n",
    "}"
   ]
  },
  {
   "cell_type": "markdown",
   "metadata": {},
   "source": [
    "“const”修饰的成员变量(常成员变量)必须要在初始化列表中初始化\n",
    "“引用型”成员变量必须要在初始化列表中初始化"
   ]
  },
  {
   "cell_type": "code",
   "execution_count": null,
   "metadata": {
    "vscode": {
     "languageId": "c++"
    }
   },
   "outputs": [],
   "source": [
    "#include <iostream>\n",
    "using namespace std;\n",
    "int num = 12;\n",
    "class A\n",
    "{\n",
    "    public:\n",
    "        int& m_r;\n",
    "        const int m_c;\n",
    "        /*\n",
    "        * error\n",
    "        A(void)\n",
    "        {\n",
    "            m_r = num;\n",
    "            m_c = 100;\n",
    "        }\n",
    "        */\n",
    "        A(void):m_r(num), m_c(100)\n",
    "        {\n",
    "        }\n",
    "};\n",
    "int main(void)\n",
    "{\n",
    "    A a;\n",
    "    cout << a.m_r << \" \" <<a.m_c <<endl;\n",
    "    return 0;\n",
    "}"
   ]
  },
  {
   "cell_type": "markdown",
   "metadata": {},
   "source": [
    "# this指针"
   ]
  },
  {
   "cell_type": "code",
   "execution_count": null,
   "metadata": {
    "vscode": {
     "languageId": "cpp"
    }
   },
   "outputs": [],
   "source": [
    "#include <iostream>\n",
    "using namespace std;\n",
    "class Student\n",
    "{\n",
    "    public:\n",
    "        Student(int age, const string &name)\n",
    "        {\n",
    "            m_age = age;\n",
    "            m_name = name;\n",
    "        }\n",
    "        void print()\n",
    "        {\n",
    "            cout << m_name << \":\" << m_age << endl;\n",
    "        }\n",
    "    private:\n",
    "        int m_age;\n",
    "        string m_name;\n",
    "};\n",
    "int main(void)\n",
    "{\n",
    "    Student zs(12, \"zhangsan\");\n",
    "    Student ls = Student(13, \"lisi\");\n",
    "    zs.print();\n",
    "    ls.print();\n",
    "    return 0;\n",
    "}"
   ]
  },
  {
   "cell_type": "code",
   "execution_count": null,
   "metadata": {
    "vscode": {
     "languageId": "c++"
    }
   },
   "outputs": [],
   "source": [
    "#include <iostream>\n",
    "using namespace std;\n",
    "class Student\n",
    "{\n",
    "    public:\n",
    "        Student(Student *this, int age, const string &name)\n",
    "        {\n",
    "            this->m_age = age;\n",
    "            this->m_name = name;\n",
    "        }\n",
    "        void print(Student *this)\n",
    "        {\n",
    "            cout << this->m_name << \":\" << this->m_age << endl;\n",
    "        }\n",
    "    private:\n",
    "        int m_age;\n",
    "        string m_name;\n",
    "};\n",
    "int main(void)\n",
    "{\n",
    "    Student zs(12, \"zhangsan\");\n",
    "    // (&zs, 12, \"zhangsan\")\n",
    "    Student ls = Student(13, \"lisi\");\n",
    "    zs.print(); //print(&zs)\n",
    "    ls.print();//print(&ls)\n",
    "    return 0;\n",
    "}"
   ]
  }
 ],
 "metadata": {
  "kernelspec": {
   "display_name": "C++11",
   "language": "C++11",
   "name": "xcpp11"
  },
  "language_info": {
   "codemirror_mode": "text/x-c++src",
   "file_extension": ".cpp",
   "mimetype": "text/x-c++src",
   "name": "C++11",
   "version": "11"
  }
 },
 "nbformat": 4,
 "nbformat_minor": 2
}

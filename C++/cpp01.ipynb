{
 "cells": [
  {
   "cell_type": "markdown",
   "metadata": {},
   "source": [
    "# 双目运算符的重载"
   ]
  },
  {
   "cell_type": "code",
   "execution_count": null,
   "metadata": {
    "vscode": {
     "languageId": "cpp"
    }
   },
   "outputs": [],
   "source": [
    "#include <iostream>\n",
    "using namespace std;\n",
    "\n",
    "class Complex\n",
    "{\n",
    "    private:\n",
    "        double r;\n",
    "        double i;\n",
    "    public:\n",
    "        Complex(double r, double i)\n",
    "        {\n",
    "            this->r = r;\n",
    "            this->i = i;\n",
    "        }\n",
    "        void print(void)\n",
    "        {\n",
    "            cout << r << \" + \" << i << \"i\" << endl;\n",
    "        }\n",
    "        \n",
    "        const Complex operator+(const Complex &c)  //对+运算符进行重载，传入参数为对象c的引用\n",
    "        {\n",
    "            Complex tmp(r+c.r, i+c.i);  //返回一个对象, 对象的r为调用类的r+传入参数的r\n",
    "            return tmp;  //返回一个对象\n",
    "        }\n",
    "        friend const Complex operator-(const Complex &l , const Complex &r);  //友元函数，对-运算符进行重载\n",
    "};\n",
    "const Complex operator-(const Complex &l, const Complex &r)  //传入两个对象的引用\n",
    "{\n",
    "    Complex tmp(l.r - r.r, l.i - r.i);\n",
    "    return tmp;\n",
    "}\n",
    "int main(void)\n",
    "{\n",
    "    Complex a(1,2);\n",
    "    Complex b(3,4);\n",
    "    a.print();\n",
    "    b.print();\n",
    "    \n",
    "    Complex c = a + b;// a.operator+(b);\n",
    "    // a和b都是对象\n",
    "    //对象a的operator+方法，传入参数为对象b\n",
    "    c.print();\n",
    "    Complex d = c - a; // operator-(c, a);\n",
    "    d.print();\n",
    "    \n",
    "    return 0;\n",
    "}"
   ]
  },
  {
   "cell_type": "markdown",
   "metadata": {},
   "source": [
    "# 赋值运算符重载"
   ]
  },
  {
   "cell_type": "code",
   "execution_count": null,
   "metadata": {
    "vscode": {
     "languageId": "cpp"
    }
   },
   "outputs": [],
   "source": [
    "#include <iostream>\n",
    "using namespace std;\n",
    "class Complex\n",
    "{\n",
    "    private:\n",
    "        double r;\n",
    "        double i;\n",
    "    public:\n",
    "        Complex(double r, double i)\n",
    "        {\n",
    "            this->r = r;\n",
    "            this->i = i;\n",
    "        }\n",
    "        void print(void)\n",
    "        {\n",
    "            cout << r << \" + \" << i << \"i\" << endl;\n",
    "        }\n",
    "        const Complex operator+(const Complex& c)\n",
    "        {\n",
    "            Complex tmp(r+c.r, i+c.i);\n",
    "            return tmp;\n",
    "        }\n",
    "        Complex & operator+=(const Complex &c)  // a += b;\n",
    "        {\n",
    "            r = r + c.r;\n",
    "            i = i + c.i;\n",
    "            return *this;\n",
    "        }\n",
    "        friend const Complex operator-(const Complex& l , const Complex& r);  // operator-(l, r);\n",
    "        friend Complex & operator-=(Complex &L, const Complex &R);  // operator-=(L, R);\n",
    "};\n",
    "const Complex operator-(const Complex& l, const Complex& r)\n",
    "{\n",
    "    Complex tmp(l.r - r.r, l.i - r.i);\n",
    "    return tmp;\n",
    "}\n",
    "Complex & operator-=(Complex &L, const Complex &R)\n",
    "{\n",
    "    L.r -= R.r;\n",
    "    L.i -= R.i;\n",
    "    return L;\n",
    "}\n",
    "int main(void)\n",
    "{\n",
    "    Complex a(1,2);\n",
    "    Complex b(3,4);\n",
    "    a.print();\n",
    "    b.print();\n",
    "    \n",
    "    Complex c = a+b;// a.operator+(b);\n",
    "    c.print();\n",
    "    \n",
    "    Complex d = c - a; // operator-(c, a);\n",
    "    d.print();\n",
    "    \n",
    "    a += b; //a.operator+=(b);\n",
    "    a.print();\n",
    "    \n",
    "    (a -= b).print();\n",
    "    \n",
    "    return 0;\n",
    "}"
   ]
  },
  {
   "cell_type": "code",
   "execution_count": null,
   "metadata": {
    "vscode": {
     "languageId": "cpp"
    }
   },
   "outputs": [],
   "source": [
    "#include <iostream>\n",
    "using namespace std;\n",
    "class Integer\n",
    "{\n",
    "    private:\n",
    "        int i;\n",
    "    public:\n",
    "        Integer(int m=0):i(m)\n",
    "        {\n",
    "\n",
    "        }\n",
    "        void print(void)\n",
    "        {\n",
    "            cout << i << endl;\n",
    "        }\n",
    "        const Integer operator-()\n",
    "        {\n",
    "            return Integer(-i);\n",
    "        }\n",
    "};\n",
    "int main()\n",
    "{\n",
    "    Integer b(10);\n",
    "\n",
    "    Integer c = -a;\n",
    "    \n",
    "    c.print();\n",
    "    return 0;\n",
    "}"
   ]
  }
 ],
 "metadata": {
  "language_info": {
   "name": "python"
  }
 },
 "nbformat": 4,
 "nbformat_minor": 2
}

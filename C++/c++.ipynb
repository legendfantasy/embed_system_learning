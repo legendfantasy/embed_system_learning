{
 "cells": [
  {
   "cell_type": "markdown",
   "id": "35d050b1-23d3-4480-aa21-5063b7b1941c",
   "metadata": {},
   "source": [
    "# C++的类"
   ]
  },
  {
   "cell_type": "markdown",
   "id": "deae2224-67ca-4df6-a62e-652a627f38bb",
   "metadata": {},
   "source": [
    "C++中的类来源于C中结构体的使用，类除了能像C中的结构体那样封装变量之外还可以封装函数。虽然C++将结构体的功能也进行了这样的拓展，使得这两个概念的用法极为相似，但实际开发中会应用面向对象的编程思想，因此在实际使用中要采用这样的思想，最好还是使用类。"
   ]
  },
  {
   "cell_type": "markdown",
   "id": "8eea6da2",
   "metadata": {},
   "source": [
    "类和结构体相似，在对其进行定义的时候，只是给出了其抽象的描述，描述了其成员变量和成员函数，而没有给出其具体的实现，其具体的实现要靠创建类的对象来完成"
   ]
  },
  {
   "cell_type": "markdown",
   "id": "43ad4a08-36c4-42a1-b12f-c4d1dc5d1eaf",
   "metadata": {},
   "source": [
    "类的概念的引入要考虑以下几个问题：\n",
    "1. 如何定义一个类？其成员变量如何声明，其成员函数如何声明？\n",
    "2. 类在创建的时候，其成员变量没有初值，如何初始化？\n",
    "3. 面向对象的三大特性之一的封装，类如何实现封装？"
   ]
  },
  {
   "cell_type": "markdown",
   "id": "c146c70d-ca99-405b-8fdc-46748c6e9b91",
   "metadata": {},
   "source": [
    "## 创建类"
   ]
  },
  {
   "cell_type": "code",
   "execution_count": 2,
   "id": "a964905c-c046-4404-b303-6232592ebc12",
   "metadata": {},
   "outputs": [],
   "source": [
    "#include<iostream>\n",
    "#include<string>\n",
    "using namespace std;\n",
    "class Student\n",
    "{\n",
    "    // 私有成员    \n",
    "\tprivate:\n",
    "\t\tstring m_name;  //字符串类型数据，C++拓展出的内容\n",
    "\t\tint m_age;\n",
    "\t\tfloat m_score;\n",
    "    // 公有成员\n",
    "    public:\n",
    "        Student();  //重载的构造函数\n",
    "        Student(string name, int age, float score);  //构造函数的声明\n",
    "\t\tvoid say();  //成员函数,一般只给声明在这里 \n",
    "};\n",
    "void Student::say()\n",
    "{\n",
    "    cout << m_name << \"的年龄是\" << m_age << \"成绩是\"<< m_score << endl; \n",
    "} "
   ]
  },
  {
   "cell_type": "markdown",
   "id": "6e616625-d8a3-4cf8-9b83-c476687193da",
   "metadata": {},
   "source": [
    "函数成员一般加一个“m_”前缀，以区别其他的变量名\n",
    "\n",
    "为了达到封装的目的，一般将成员的权限限制为private，把成员函数设置成public，让外部函数只能通过成员函数来访问成员变量\n",
    "\n",
    "一般在类内除了内联函数，只声明函数不给出函数的具体定义，将函数的具体定义写在类外。"
   ]
  },
  {
   "cell_type": "markdown",
   "id": "7e5d1341-93a9-4ffd-becf-c8266a27925a",
   "metadata": {},
   "source": [
    "## 类所对应的对象如何创建？"
   ]
  },
  {
   "cell_type": "markdown",
   "id": "34cb92c5-f016-4dd0-94f9-58a0c0ad3f1a",
   "metadata": {},
   "source": [
    "### 构造函数"
   ]
  },
  {
   "cell_type": "code",
   "execution_count": 3,
   "id": "1f8e20e2-5a82-471a-9aa8-44a207f743fe",
   "metadata": {},
   "outputs": [],
   "source": [
    "Student::Student(string name, int age, float score)\n",
    "{\n",
    "    m_name = name;\n",
    "    m_age = age;\n",
    "    m_score = score;\n",
    "}"
   ]
  },
  {
   "cell_type": "markdown",
   "id": "54f8f766-72d8-4e89-88a7-8b5d13dee252",
   "metadata": {},
   "source": [
    "构造函数的作用就是在创建对象时，对类内的各成员函数赋初值。\n",
    "构造函数只要程序员定义了就一定会被执行，你不定义，系统就送一个隐式的构造函数，但啥也不干"
   ]
  },
  {
   "cell_type": "markdown",
   "id": "27ee82e6-f39e-464a-98d8-96850b26c89c",
   "metadata": {},
   "source": [
    "成员函数会被最终编译成与全局无关的函数\n",
    "但成员变量的作用域不是全局，无法在函数内部中访问这些成员变量\n",
    "所以C++编译时，会额外添加一个参数，把当前对象的指针传递进去，通过指针来访问成员变量"
   ]
  },
  {
   "cell_type": "markdown",
   "id": "e042b9b0-e037-411e-9d44-64d857120512",
   "metadata": {},
   "source": [
    "## 对象的内存模型"
   ]
  },
  {
   "cell_type": "code",
   "execution_count": null,
   "id": "498e11a6-d9c9-46f6-b846-345715486341",
   "metadata": {},
   "outputs": [],
   "source": [
    "//通过对象指针来访问类的成员 \n",
    "Student *pStu = new Student; //在堆上给Student类分配内存空间，并由对象指针指针pStu来保存\n",
    "cout << sizeof(Student) << endl;\n",
    "cout << sizeof(*pStu) << endl;\n",
    "delete pStu;"
   ]
  },
  {
   "cell_type": "code",
   "execution_count": null,
   "id": "5007e7f4-2450-4337-bf9f-e35e72212312",
   "metadata": {},
   "outputs": [],
   "source": [
    "//通过对象来访问类的成员 \n",
    "Student stu_1;  //在栈上创建对象\n",
    "cout << sizeof(stu_1) << endl;"
   ]
  },
  {
   "cell_type": "markdown",
   "id": "3d90a9ef-8143-47bd-a2c1-d20c120bfdd0",
   "metadata": {},
   "source": [
    "私有权限的成员变量无法在外部通过对象来调用,所以不改成员变量的访问权限就没办法直接对成员变量赋值"
   ]
  },
  {
   "cell_type": "code",
   "execution_count": null,
   "id": "bdbe66bb-a48f-4530-ba2a-6f36c5d7a72a",
   "metadata": {},
   "outputs": [],
   "source": [
    "pStu->m_name = \"小明\"; //通过对对象使用字符指针变量来引用类的成员变量\n",
    "pStu->m_age = 15;\t\n",
    "pStu->m_score = 92.5f;\n",
    "pStu->say();"
   ]
  },
  {
   "cell_type": "markdown",
   "id": "670d65e7-a73a-4144-b0c5-8d7b6eeaf9db",
   "metadata": {},
   "source": [
    "然而有构造函数就可以赋初值了"
   ]
  },
  {
   "cell_type": "code",
   "execution_count": 8,
   "id": "bb2f7900-c28b-48d8-aa7c-cb93e2541f84",
   "metadata": {},
   "outputs": [
    {
     "name": "stdout",
     "output_type": "stream",
     "text": [
      "李华的年龄是16成绩是96\n"
     ]
    }
   ],
   "source": [
    "//堆上分配的构造函数调用\n",
    "Student *pStu2 = new Student(\"李华\", 16, 96);\n",
    "pStu2->say();"
   ]
  },
  {
   "cell_type": "code",
   "execution_count": 11,
   "id": "954bb4ed-42ed-4947-8b60-c77fafe643c5",
   "metadata": {},
   "outputs": [
    {
     "name": "stdout",
     "output_type": "stream",
     "text": [
      "张红的年龄是16成绩是94.5\n"
     ]
    }
   ],
   "source": [
    "//栈上分配的对象构造函数的调用\n",
    "Student stu_2(\"张红\", 16, 94.5f);\n",
    "stu_2.say();"
   ]
  },
  {
   "cell_type": "markdown",
   "id": "46274156-fe37-483f-a5d2-00393d42932b",
   "metadata": {},
   "source": [
    "默认构造函数"
   ]
  },
  {
   "cell_type": "code",
   "execution_count": null,
   "id": "013e9148-2fd4-4099-971e-c4b5b64bfe7d",
   "metadata": {},
   "outputs": [],
   "source": [
    "Student *pStu3 = new Student();  //默认构造函数的调用\n",
    "pStu3->show();"
   ]
  },
  {
   "cell_type": "code",
   "execution_count": null,
   "id": "6a69a482-4aab-4a66-94af-5e47f787250d",
   "metadata": {},
   "outputs": [],
   "source": [
    "Student stu_3();\n",
    "//括号可以省略\n",
    "Student stu_3;"
   ]
  },
  {
   "cell_type": "markdown",
   "id": "f8c66e9b-1613-416a-994a-c818d1e938e8",
   "metadata": {},
   "source": [
    "使用初始化列表"
   ]
  },
  {
   "cell_type": "code",
   "execution_count": null,
   "id": "a8425d56-6dee-4243-9de4-a785e6ce0679",
   "metadata": {},
   "outputs": [],
   "source": [
    "Student::Student(string name, int age, float score):m_name(name), m_age(age), m_score(score)\n",
    "{\n",
    "}"
   ]
  },
  {
   "cell_type": "code",
   "execution_count": null,
   "id": "bac1e295-2302-4a63-8343-58b9f5b64498",
   "metadata": {},
   "outputs": [],
   "source": [
    "Student::Student(string name, int age, float score):m_name(name)\n",
    "{\n",
    "    m_age = age;\n",
    "    m_score = score;\n",
    "}"
   ]
  },
  {
   "cell_type": "code",
   "execution_count": null,
   "id": "4f506575-9e4c-4284-90c4-69e1657bf10f",
   "metadata": {},
   "outputs": [],
   "source": [
    "VLA::VLA(int len): m_len(len)\n",
    "{\n",
    "    if(len > 0)\n",
    "    {\n",
    "        m_arr = new int[len];\n",
    "    }\n",
    "    else\n",
    "    {\n",
    "        m_arr = NULL;\n",
    "    }\n",
    "}\n",
    "VLA::~VLA\n",
    "{\n",
    "    delete[] m_arr;\n",
    "}"
   ]
  },
  {
   "cell_type": "markdown",
   "id": "26ad8edd",
   "metadata": {},
   "source": [
    "# 拷贝构造函数"
   ]
  },
  {
   "cell_type": "code",
   "execution_count": null,
   "id": "b62ed433",
   "metadata": {},
   "outputs": [],
   "source": [
    "#include <iostream>\n",
    "using namespace std;\n",
    "\n",
    "class Integer\n",
    "{\n",
    "private:\n",
    "    int *m_pi;   //私有成员变量  指向整型数据的指针变量\n",
    "public:\n",
    "    Integer(int i = 0)  //公有构造函数 ，默认参数为0\n",
    "    {\n",
    "        m_pi = new int(i);   //动态分配内存,将i的地址赋给m_pi\n",
    "    }\n",
    "    void print(void)   //公有成员函数\n",
    "    {\n",
    "        cout << *m_pi << endl;  //输出m_pi指向的整型数据\n",
    "    }\n",
    "    ~Integer()  //析构函数\n",
    "    {\n",
    "        delete m_pi;  //释放内存\n",
    "    }\n",
    "};\n",
    "int main(void)\n",
    "{\n",
    "    Integer i1(100);  //创建对象i1 调用构造函数，将100赋给m_pi\n",
    "    Integer i2 = i1;  //创建对象i2 调用拷贝构造函数，将i1的地址赋给i2\n",
    "    Integer i3(i1);   //创建对象i3 拷贝构造函数 ，将i1的地址赋给i3\n",
    "    i2.print();\n",
    "    i3.print();\n",
    "    return 0;\n",
    "}"
   ]
  },
  {
   "cell_type": "markdown",
   "id": "734d886f",
   "metadata": {},
   "source": [
    "这段代码中，在构造对象i2 和 i3 时 ，并没有按照常规的做法传入一个整型值\n",
    "对i2 是直接把 i1 作为右值\n",
    "对i3 是将i1作为参数传入\n",
    "这样是可以的吗？\n",
    "\n",
    "当两个对象进行赋值操作时，比如“i2=i1”编译器会将其处理为“i2.operator=(i1) 的成员函数调用形式”,其中“operator=”称为拷贝赋值操作符函\n",
    "数，由该函数完成其赋值运算，其返回结果就是表达式的结果。\n",
    "如果没有自己定义拷贝赋值操作符函数，编译器会为该类提供缺省的拷贝赋值操作符函数，用于完成两个对象的赋值操作。"
   ]
  },
  {
   "cell_type": "markdown",
   "id": "a9b147a3",
   "metadata": {},
   "source": [
    "# 静态成员"
   ]
  },
  {
   "cell_type": "markdown",
   "id": "2c41d7be",
   "metadata": {},
   "source": [
    "C++中希望某个`类的多个对象之间`实现数据共享，可以通过static建立一个`被局限在类中使用`的全局资源，该类型资源被称为`静态成员`。"
   ]
  },
  {
   "cell_type": "markdown",
   "id": "10a11c21",
   "metadata": {},
   "source": [
    "## 静态成员变量（可以理解为局限在类中使用的全局变量）"
   ]
  },
  {
   "cell_type": "markdown",
   "id": "41116348",
   "metadata": {},
   "source": [
    "> 特征\n",
    "\n",
    "在类的定义中，用static修饰的成员变量，称为静态成员变量。\n",
    "\n",
    "```\n",
    "class 类名\n",
    "{\n",
    "    static 数据类型 变量名;//声明\n",
    "};\n",
    "数据类型 类名::变量名 = 初值;//定义和初始化\n",
    "```"
   ]
  },
  {
   "cell_type": "markdown",
   "id": "87b708fe",
   "metadata": {
    "vscode": {
     "languageId": "plaintext"
    }
   },
   "source": [
    "> 内存模型\n",
    "\n",
    "实例化对象时只实现非静态成员变量\n",
    "\n",
    "![alt text](<截图 2024-05-29 23-49-36.png>)"
   ]
  },
  {
   "cell_type": "markdown",
   "id": "3b1d841c",
   "metadata": {
    "vscode": {
     "languageId": "plaintext"
    }
   },
   "source": [
    ">访问方式：  \n",
    "\n",
    "1. 可以直接通过类名来使用\n",
    "   \n",
    "   类名::静态成员变量; \n",
    "\n",
    "2. 可以创建完对象后，通过对象来使用\n",
    "   \n",
    "   对象.静态成员变量;  "
   ]
  },
  {
   "cell_type": "code",
   "execution_count": null,
   "id": "a768817f",
   "metadata": {
    "vscode": {
     "languageId": "cpp"
    }
   },
   "outputs": [],
   "source": [
    "#include <iostream>\n",
    "using namespace std;\n",
    "class A\n",
    "{\n",
    "public:\n",
    "    int m_data;\n",
    "    static int s_data;  //声明静态成员变量,可以供所有由该类创建的对象访问\n",
    "    A(int data=0):m_data(data){}\n",
    "};\n",
    "int A::s_data = 100; //定义静态成员变量并对其初始化\n",
    "\n",
    "int main(void)\n",
    "{\n",
    "    cout << A::s_data << endl;  //通过类名直接访问静态成员变量\n",
    "    A a1(123);  //创建对象a1\n",
    "    cout << \"a1 size =\" << sizeof(a1) << endl; \n",
    "    cout << a1.s_data << endl;  //通过对象名访问静态成员变量\n",
    "    A a2(1);  //创建对象a2\n",
    "    a2.s_data = 999;  //通过对象名修改静态成员变量\n",
    "    cout << a1.s_data << endl;  // 这里可以看到a1的静态成员变量值被a2修改了,说明静态成员变量是所有对象共享的\n",
    "    return 0;\n",
    "}"
   ]
  },
  {
   "cell_type": "markdown",
   "id": "889e9b7e",
   "metadata": {},
   "source": [
    "## 静态成员函数(为被限制在类中使用的全局函数)"
   ]
  },
  {
   "cell_type": "markdown",
   "id": "68abf950",
   "metadata": {},
   "source": [
    "> 特征\n",
    "\n",
    "被static修饰的成员函数即为静态成员函数。\n",
    "\n",
    "```\n",
    "class 类名\n",
    "{\n",
    "访问控制限定符:\n",
    "static 返回类型 函数名(形参表) { ... }\n",
    "};\n",
    "```\n",
    "\n"
   ]
  },
  {
   "cell_type": "markdown",
   "id": "e88707ca",
   "metadata": {},
   "source": [
    "注意：\n",
    "1. 静态成员函数可以直接定义在类的内部，也可以定义在类的外部，这一点和普通的成员函数没有区别。\n",
    "   \n",
    "2. 静态成员函数没有this指针(不用区分是哪个对象)，没有const属性，可以把静态函数理解为被限制在类中使用的全局函数.\n",
    "\n",
    "3. 静态成员函数中只能访问静态成员(静态成员函数天生是为静态成员变量服务的)，但是在非静态成员函数中既可以访问静态成员也可以访问非静态成员*（静态成员变量被所有对象共享，成员函数也是供所有对象调用的(通过this指针区分不同对象)）\n",
    "\n",
    "4. 静态成员函数和静态成员变量一样，也要受到类的访问控制限定符的约束"
   ]
  },
  {
   "cell_type": "markdown",
   "id": "f5d2441c",
   "metadata": {},
   "source": [
    "> 调用形式\n",
    "\n",
    "在类的外部访问静态成员函数\n",
    "\n",
    "1. 通过类名来使用 \n",
    "   \n",
    "   类名::静态成员函数(实参表);\n",
    "2. 通过对象来使用\n",
    "   \n",
    "   对象.静态成员函数(实参表);"
   ]
  },
  {
   "cell_type": "code",
   "execution_count": null,
   "id": "05d6eca1",
   "metadata": {
    "vscode": {
     "languageId": "cpp"
    }
   },
   "outputs": [],
   "source": [
    "#include <iostream>\n",
    "using namespace std;\n",
    "\n",
    "class A\n",
    "{\n",
    "public:\n",
    "    int m_data;\n",
    "    static int s_data;\n",
    "\n",
    "    A(int data=0):m_data(data){}  //构造函数\n",
    "    void func1(void)  // func1(A *this)\n",
    "    { \n",
    "    cout << m_data << endl;\n",
    "    cout << s_data << endl;\n",
    "    }\n",
    "    static void func2()  //静态成员函数\n",
    "    {  \n",
    "        cout << \"静态成员函数\" << endl;\n",
    "        cout << s_data << endl;  //静态成员函数中可以访问静态成员变量\n",
    "        //cout << m_data << endl; //error  //静态成员函数中不能使用非静态成员变量\n",
    "    }\n",
    "};\n",
    "int A::s_data = 100; //定义 并 初始化\n",
    "int main(void)\n",
    "{\n",
    "    cout << A::s_data << endl;  //通过类名访问静态成员变量\n",
    "    A::func2();  //通过类名访问静态成员函数\n",
    "\n",
    "    //A::func1(); //func1(&对象的地址) error  //对一般的成员函数，需要先创建对象，传入this指针\n",
    "    return 0;\n",
    "}"
   ]
  },
  {
   "cell_type": "markdown",
   "id": "fd32c043",
   "metadata": {},
   "source": [
    "# 友元"
   ]
  },
  {
   "cell_type": "markdown",
   "id": "319928e3",
   "metadata": {},
   "source": [
    "类的封装具有信息隐藏能力，但也带来了访问效率的问题.  \n",
    "c++通过友元给某些函数或者类一项`特权`，可以访问类中的私有成员，使用的关键字是`friend`\n",
    "让一个类具有对外开放的特性，哪个类要开放在哪个类中，使用`friend`关键字"
   ]
  },
  {
   "cell_type": "markdown",
   "id": "9592c5e2",
   "metadata": {},
   "source": [
    "## 友元函数"
   ]
  },
  {
   "cell_type": "markdown",
   "id": "a260e24c",
   "metadata": {},
   "source": [
    "这里主要是指那些在类外定义的、不属于当前类的一般意义上函数。让这些函数能访问到类内的私有成员。"
   ]
  },
  {
   "cell_type": "code",
   "execution_count": null,
   "id": "a80379a7",
   "metadata": {
    "vscode": {
     "languageId": "cpp"
    }
   },
   "outputs": [],
   "source": [
    "#include <iostream>\n",
    "using namespace std;\n",
    "class Student\n",
    "{\n",
    "public:\n",
    "    Student(char *name, int age, float score);\n",
    "public:\n",
    "    friend void show(Student *pstu);  // 使用friend关键将show函数声明为友元函数,给show函数开了后门\n",
    "private:\n",
    "    char *m_name;\n",
    "    int m_age;\n",
    "    float m_score;\n",
    "};\n",
    "Student::Student(char *name, int age, float score):m_name(name), m_age(age), m_score(score){}\n",
    "\n",
    "void show(Student *pstu)  // 一般意思上的函数，通过在类中使用friend声明，使得其可以访问类中的私有成员\n",
    "{\n",
    "    cout << pstu->m_name << \"的年龄是\" << pstu->m_age << \"的分数是\" << pstu->m_score << endl;\n",
    "    //但是友元函数不同于类的成员函数，它没有this指针，要通过对象名来访问成员变量，要告诉编译器，用的是哪个对象的属性\n",
    "    //能访问，但不能直接访问，本来是连访问都不允许的\n",
    "}\n",
    "\n",
    "int main()\n",
    "{\n",
    "    Student stu(\"张三\", 18, 90.5);\n",
    "    show(&stu);\n",
    "    Student *pstu = new Student(\"李四\", 19, 80.5);\n",
    "    show(pstu);\n",
    "\n",
    "    return 0;\n",
    "}"
   ]
  },
  {
   "cell_type": "markdown",
   "id": "5b59c16c",
   "metadata": {},
   "source": [
    "## 友元成员函数\n"
   ]
  },
  {
   "cell_type": "markdown",
   "id": "5d1891c3",
   "metadata": {},
   "source": [
    "对一个类，可以指定它的某个`成员函数`是另一个类的友元，也就是`友元成员函数`。"
   ]
  },
  {
   "cell_type": "code",
   "execution_count": null,
   "id": "ec6087ce",
   "metadata": {
    "vscode": {
     "languageId": "cpp"
    }
   },
   "outputs": [],
   "source": [
    "#include <iostream>\n",
    "using namespace std;\n",
    "\n",
    "class B\n",
    "{\n",
    "private:\n",
    "    int z;\n",
    "public:\n",
    "    B(int i = 0)  //默认构造函数\n",
    "    {\n",
    "        z = i;\n",
    "    }\n",
    "    int add(const A&);\n",
    "    int sub(const A&);\n",
    "};\n",
    "class A\n",
    "{\n",
    "private:\n",
    "    int x, y;\n",
    "public:\n",
    "    A(int i, int j)\n",
    "    {\n",
    "        x = i;\n",
    "        y = j;\n",
    "    }\n",
    "    int getx(void)\n",
    "    {\n",
    "        return x;\n",
    "    }\n",
    "    int gety(void)\n",
    "    {\n",
    "        return y;\n",
    "    }\n",
    "    //-------------------------//\n",
    "    friend int B::add(const A& a);  //在A的类定义中 声明B中的add函数是A的友元函数，让B中的add函数可以访问A中的私有成员\n",
    "    //-------------------------//\n",
    "};\n",
    "int B::add(const A& a)\n",
    "{\n",
    "    return a.x + a.y + z;\n",
    "}\n",
    "int B::sub(const A& a)\n",
    "{\n",
    "    //\n",
    "    return a.x - a.y - z;\n",
    "}\n",
    "int main(void)\n",
    "{\n",
    "    A a(2,3);\n",
    "    B b(4);\n",
    "    cout << b.add(a) << endl;\n",
    "    cout << b.sub(a) << endl;\n",
    "    return 0;\n",
    "}"
   ]
  },
  {
   "cell_type": "markdown",
   "id": "1607ac82",
   "metadata": {},
   "source": [
    "## 友元类"
   ]
  },
  {
   "cell_type": "markdown",
   "id": "ff987b74",
   "metadata": {},
   "source": [
    "一个类可以是另一个类的`友元类`，友元类的`所有成员函数`都是另一个类的友元函数，能够直接访问另一个类的所有成员。"
   ]
  },
  {
   "cell_type": "code",
   "execution_count": null,
   "id": "cc4be6ea",
   "metadata": {
    "vscode": {
     "languageId": "cpp"
    }
   },
   "outputs": [],
   "source": [
    "#include <iostream>\n",
    "using namespace std;\n",
    "\n",
    "class A\n",
    "{\n",
    "private:\n",
    "    int x, y;\n",
    "public:\n",
    "    A(int i, int j)\n",
    "    {\n",
    "        x = i;\n",
    "        y = j;\n",
    "    }\n",
    "    int getx(void)\n",
    "    {\n",
    "        return x;\n",
    "    }\n",
    "    int gety(void)\n",
    "    {\n",
    "        return y;\n",
    "    }\n",
    "    //--------------------------//\n",
    "    friend class B; //声明B是A的友元类,让B的所有成员函数可以访问A的私有成员\n",
    "    //--------------------------//\n",
    "};\n",
    "\n",
    "class B\n",
    "{\n",
    "private:\n",
    "    int z;\n",
    "public:\n",
    "    B(int i = 0)\n",
    "    {\n",
    "        z = i;\n",
    "    }\n",
    "    int add(const A& a)  //const修饰的参数a是常量引用\n",
    "    {\n",
    "        return a.x + a.y + z;  //a.x, a.y是A的私有成员， B的成员函数可以访问\n",
    "    }\n",
    "    int sub(const A& a)  //const修饰的参数a是常量引用\n",
    "    {\n",
    "        return a.x - a.y - z;  //a.x, a.y是A的私有成员  B的成员函数可以访问\n",
    "    }\n",
    "};\n",
    "\n",
    "int main(void)\n",
    "{\n",
    "    A a(2,3);\n",
    "    B b(4);\n",
    "    cout << b.add(a) << endl;\n",
    "    cout << b.sub(a) << endl;\n",
    "    return 0;\n",
    "}"
   ]
  },
  {
   "cell_type": "markdown",
   "id": "2fad6137",
   "metadata": {},
   "source": [
    "注意这种友元关系并不是双向的，哪个类要对外开放，在哪个类中声明即可。"
   ]
  },
  {
   "cell_type": "markdown",
   "id": "f7e53a88",
   "metadata": {},
   "source": [
    "# 单例模式"
   ]
  },
  {
   "cell_type": "markdown",
   "id": "de7b5bb8",
   "metadata": {},
   "source": [
    "单例模式(Singleton Pattern，也称为单件模式)，使用最广泛的设计模式之一。其意图是保证一个类仅有一个实例，并提供一个访问它的全局\n",
    "访问点，该实例被所有程序模块共享。\n",
    "\n",
    "面向对象编程中，每个对象都应该抽象代表一个设备，并通过对象完成对某个具体设备的管理和维护。\n",
    "\n",
    "对于有些类只能有一个实例很重要，例如打印机管理器、设备管理器、任务管理器等。"
   ]
  },
  {
   "cell_type": "markdown",
   "id": "d0209e31",
   "metadata": {},
   "source": [
    "## 实现单例的三个步骤"
   ]
  },
  {
   "cell_type": "markdown",
   "id": "b317b6ae",
   "metadata": {
    "vscode": {
     "languageId": "cpp"
    }
   },
   "source": [
    "私有化构造函数   \n",
    "其意义在于防止其他类实例化该类"
   ]
  },
  {
   "cell_type": "code",
   "execution_count": null,
   "id": "4705c443",
   "metadata": {
    "vscode": {
     "languageId": "cpp"
    }
   },
   "outputs": [],
   "source": [
    "class Singleton\n",
    "{\n",
    "private:  \n",
    "    //这里的构造函数对外部是隐藏的,类外不能直接创建对象\n",
    "    Singleton(void){...}  // 构造函数\n",
    "    Singleton(const Signleton &that){}  // 拷贝构造函数,传入参数是Signleton对象的const引用\n",
    "...\n",
    "};"
   ]
  },
  {
   "cell_type": "markdown",
   "id": "02501f96",
   "metadata": {
    "vscode": {
     "languageId": "cpp"
    }
   },
   "source": [
    "使用静态成员变量维护唯一的单例对象\n"
   ]
  },
  {
   "cell_type": "code",
   "execution_count": null,
   "id": "607297d6",
   "metadata": {
    "vscode": {
     "languageId": "cpp"
    }
   },
   "outputs": [],
   "source": [
    "class Singleton\n",
    "{\n",
    "private:\n",
    "    Singleton(void){...}\n",
    "    Singleton(const Signleton &that){}\n",
    "...\n",
    "    static Singleton s_instance;  // 静态成员变量,这个变量是类的一个对象，也就是这个类的一个实例\n",
    "};\n",
    "Singleton Singleton::s_instance;  // 静态成员变量初始化\n"
   ]
  },
  {
   "cell_type": "markdown",
   "id": "3ab6b035",
   "metadata": {
    "vscode": {
     "languageId": "cpp"
    }
   },
   "source": [
    "\n",
    "定义静态成员函数用于获取单例对象\n"
   ]
  },
  {
   "cell_type": "code",
   "execution_count": null,
   "id": "dcb7f468",
   "metadata": {
    "vscode": {
     "languageId": "cpp"
    }
   },
   "outputs": [],
   "source": [
    "class Singleton\n",
    "{\n",
    "private:\n",
    "    Singleton(void){...}\n",
    "    Singleton(const Signleton &that){}\n",
    "...\n",
    "    static Singleton s_instance;\n",
    "public:\n",
    "    static Singleton& getInstance(void)  // 只能通过getInstance()来访问 ，这里getInstance()的类型是Singleton&\n",
    "    {\n",
    "        return s_instance;\n",
    "    }\n",
    "};\n",
    "Singleton Singleton::s_instance;"
   ]
  },
  {
   "cell_type": "markdown",
   "id": "434a1b3c",
   "metadata": {},
   "source": [
    "## 饿汉式"
   ]
  },
  {
   "cell_type": "markdown",
   "id": "9301e545",
   "metadata": {},
   "source": [
    "加载进程时即完成创建（饿）, 用不用都创建。"
   ]
  },
  {
   "cell_type": "code",
   "execution_count": null,
   "id": "ebea2c28",
   "metadata": {
    "vscode": {
     "languageId": "cpp"
    }
   },
   "outputs": [],
   "source": [
    "#include <iostream>\n",
    "using namespace std;\n",
    "\n",
    "class Signleton\n",
    "{\n",
    "private:\n",
    "    int m_i;\n",
    "    Signleton(int i=12345)\n",
    "    {\n",
    "        m_i = i;\n",
    "    }\n",
    "    Signleton(const Signleton& that){}  //1. 私有化构造函数\n",
    "    static Signleton m_instance;        //2. 私有化静态成员, 用于存储实例\n",
    "public:\n",
    "    static Signleton& getInstance()     //3. 声明静态成员函数，用于获取实例\n",
    "    {\n",
    "        return m_instance;\n",
    "    }\n",
    "    void print()\n",
    "    {\n",
    "        cout << m_i << endl;\n",
    "    }\n",
    "};\n",
    "Signleton Signleton::m_instance = 111;\n",
    "\n",
    "int main(void)\n",
    "{\n",
    "    Signleton& s1 = Signleton::getInstance();  //创建了实例s1，是m_instance的引用\n",
    "    Signleton& s2 = Signleton::getInstance();  //创建了实例s2，是m_instance的引用\n",
    "    Signleton& s3 = Signleton::getInstance();  //创建了实例s3，是m_instance的引用\n",
    "    //这里s1,s2,s3是同一个实例\n",
    "    //Signleton s4 = 12; //error  //不能使用构造函数创建实例\n",
    "    cout << &s1 << endl;\n",
    "    cout << &s2 << endl;\n",
    "    cout << &s3 << endl;\n",
    "    s1.print();\n",
    "    s2.print();\n",
    "    s3.print();\n",
    "    return 0;\n",
    "}\n",
    "/*\n",
    "++++++++++++++++++++++++++++++++++++\n",
    "返回结果\n",
    "0x5675f77d8154\n",
    "0x5675f77d8154\n",
    "0x5675f77d8154\n",
    "12345\n",
    "12345\n",
    "12345\n",
    "可见，s1,s2,s3是同一个实例。\n",
    "++++++++++++++++++++++++++++++++++++\n",
    "*/"
   ]
  },
  {
   "cell_type": "markdown",
   "id": "345bf5f3",
   "metadata": {},
   "source": [
    "## 懒汉式"
   ]
  },
  {
   "cell_type": "markdown",
   "id": "4ca0afd6",
   "metadata": {},
   "source": [
    "用时再创建（懒），不用再销毁"
   ]
  },
  {
   "cell_type": "code",
   "execution_count": null,
   "id": "f61cb4cb",
   "metadata": {
    "vscode": {
     "languageId": "cpp"
    }
   },
   "outputs": [],
   "source": [
    "#include <iostream>\n",
    "using namespace std;\n",
    "\n",
    "class Signleton\n",
    "{\n",
    "private:\n",
    "    int m_i;\n",
    "    static int m_count ; //记录对象的引用次数\n",
    "    static Signleton *m_instance;  //只一个对象的指针\n",
    "    Signleton(int i = 0)\n",
    "    {\n",
    "        m_i = i;\n",
    "        cout << \"constructor \" << endl;\n",
    "    }\n",
    "    Signleton(const Signleton& that){}\n",
    "public:\n",
    "    static Signleton& getInstance(void)\n",
    "    {\n",
    "        if(m_instance == NULL)\n",
    "        {\n",
    "            m_instance = new Signleton(123);\n",
    "        }\n",
    "        m_count++;\n",
    "        return *m_instance;\n",
    "    }\n",
    "    void release()  //释放对象\n",
    "    {\n",
    "        m_count--;\n",
    "        if(m_count == 0)  //如果引用次数为0，则释放对象\n",
    "        {\n",
    "            delete m_instance;\n",
    "            m_instance = NULL;\n",
    "        }\n",
    "    }\n",
    "    ~Signleton()  //析构函数\n",
    "    {\n",
    "        cout << \"destroy\" << endl;\n",
    "    }\n",
    "};\n",
    "Signleton* Signleton::m_instance = NULL;  //初始化\n",
    "int Signleton::m_count = 0;\n",
    "\n",
    "int main(void)\n",
    "{\n",
    "    //Signleton s1; //error  \n",
    "    Signleton& s1 = Signleton::getInstance();\n",
    "    Signleton& s2 = Signleton::getInstance();\n",
    "    Signleton& s3 = Signleton::getInstance();\n",
    "    cout << &s1 << \" \" << &s2 << \" \" << &s3 << endl;\n",
    "    s1.release();\n",
    "    s2.release();\n",
    "    s3.release();\n",
    "    return 0;\n",
    "}\n",
    "/*\n",
    "++++++++++++++++++++++++++++\n",
    "constructor \n",
    "0x624aa08e8eb0 0x624aa08e8eb0 0x624aa08e8eb0\n",
    "destroy\n",
    "*/"
   ]
  },
  {
   "cell_type": "markdown",
   "id": "9aac6f07",
   "metadata": {},
   "source": [
    "# 继承"
   ]
  },
  {
   "cell_type": "markdown",
   "id": "efb9d888",
   "metadata": {},
   "source": [
    "## 什么是继承，以及有什么用？"
   ]
  },
  {
   "cell_type": "markdown",
   "id": "4948e9e3",
   "metadata": {},
   "source": [
    "继承，基于一个已有类创建新类，使新类与已有类具有同样的功能，即新类具有已有类相同的数据成员和成员函数\n",
    "\n",
    "继承是实现代码重用的重要方法\n",
    "\n",
    "通过继承可以避免代码的重复定义  \n",
    "\n",
    "已有类称为基类（父类/超类），新类称为派生类（子类）"
   ]
  },
  {
   "cell_type": "markdown",
   "id": "ccdd6dbb",
   "metadata": {},
   "source": [
    "## 哪些可以继承，哪些不能继承？"
   ]
  },
  {
   "cell_type": "markdown",
   "id": "b3955a7a",
   "metadata": {},
   "source": [
    "派生类继承基类后，派生类将自动获得基类的所有成员，但是继承也有一定的限制：\n",
    "\n",
    "注意：\n",
    "\n",
    "基类的构造函数和析构函数不能继承\n",
    "\n",
    "基类的友元函数不能继承\n",
    "\n",
    "静态数据成员和静态成员函数不能继承"
   ]
  },
  {
   "cell_type": "markdown",
   "id": "13984904",
   "metadata": {},
   "source": [
    "## 继承的方式"
   ]
  },
  {
   "cell_type": "markdown",
   "id": "83668e13",
   "metadata": {},
   "source": [
    "> 公有继承"
   ]
  },
  {
   "cell_type": "code",
   "execution_count": null,
   "id": "7687881e",
   "metadata": {
    "vscode": {
     "languageId": "cpp"
    }
   },
   "outputs": [],
   "source": [
    "#include <iostream>\n",
    "using namespace std;\n",
    "\n",
    "class Base\n",
    "{\n",
    "private:\n",
    "    int m_private;\n",
    "protected:\n",
    "    int m_protected;\n",
    "public:\n",
    "    int m_public;\n",
    "    \n",
    "    Base(int a=1, int b=2, int c=3)\n",
    "    {\n",
    "        m_private = a;\n",
    "        m_protected = b;\n",
    "        m_public = c;\n",
    "    }\n",
    "    int geta()  \n",
    "    {\n",
    "        return m_private;\n",
    "    }\n",
    "};\n",
    "class Derived: public Base  //以公有方式继承基类\n",
    "{\n",
    "public:\n",
    "    void print()  //一般的成员函数\n",
    "    {\n",
    "        //cout << m_private << endl; //error //不能访问基类的私有成员\n",
    "        cout << geta() << endl;  //可以通过基类的公有成员函数访问基类的私有成员\n",
    "        cout << m_protected << endl;  //可以访问基类的保护成员\n",
    "        cout << m_public << endl;  //可以访问基类的公有成员\n",
    "        //public 继承比较平凡，对基类的成员的权限没有影响\n",
    "    }\n",
    "};\n",
    "\n",
    "int main(void)\n",
    "{\n",
    "    Derived test;  //创建子类对象\n",
    "    //cout << test.m_private << endl; //error private\n",
    "    //cout << test.m_protected << endl;// error protected  \n",
    "    //protected 权限保护类内成员不能由类外访问，但子类可以访问\n",
    "    cout << test.m_c << endl;\n",
    "    return 0;\n",
    "}"
   ]
  },
  {
   "cell_type": "markdown",
   "id": "7335b3c1",
   "metadata": {},
   "source": [
    "> 保护继承"
   ]
  },
  {
   "cell_type": "code",
   "execution_count": null,
   "id": "fb38889c",
   "metadata": {
    "vscode": {
     "languageId": "cpp"
    }
   },
   "outputs": [],
   "source": [
    "#include <iostream>\n",
    "using namespace std;\n",
    "\n",
    "class Base\n",
    "{\n",
    "private:\n",
    "    int m_private;\n",
    "protected:\n",
    "    int m_protected;\n",
    "public:\n",
    "    int m_public;\n",
    "    \n",
    "    Base(int a=1, int b=2, int c=3)\n",
    "    {\n",
    "        m_private = a;\n",
    "        m_protected = b;\n",
    "        m_public = c;\n",
    "    }\n",
    "    int geta()\n",
    "    {\n",
    "        return m_private;\n",
    "    }\n",
    "};\n",
    "class Derived: protected Base\n",
    "{\n",
    "public:\n",
    "    void print()\n",
    "    {\n",
    "        //cout << m_private << endl; //error  //保护继承不能访问基类中的私有变量\n",
    "        cout << geta() << endl;\n",
    "        cout << m_protected << endl;\n",
    "        cout << m_public << endl;\n",
    "    }\n",
    "};\n",
    "int main(void)\n",
    "{\n",
    "    Derived test;\n",
    "    //cout << test.m_private << endl; // error private\n",
    "    //cout << test.m_protected << endl; // error protected\n",
    "    cout << test.m_public << endl; //protected继承 子类中该变量为protected\n",
    "    return 0;\n",
    "}"
   ]
  },
  {
   "cell_type": "markdown",
   "id": "3b0207df",
   "metadata": {},
   "source": [
    "> 私有继承"
   ]
  },
  {
   "cell_type": "code",
   "execution_count": null,
   "id": "b736df34",
   "metadata": {
    "vscode": {
     "languageId": "cpp"
    }
   },
   "outputs": [],
   "source": [
    "#include <iostream>\n",
    "using namespace std;\n",
    "\n",
    "class Base\n",
    "{\n",
    "private:\n",
    "    int m_a;\n",
    "protected:\n",
    "    int m_b;\n",
    "public:\n",
    "    int m_c;\n",
    "    \n",
    "    Base(int a=1, int b=2, int c=3)\n",
    "    {\n",
    "        m_a = a;\n",
    "        m_b = b;\n",
    "        m_c = c;\n",
    "    }\n",
    "    int geta()\n",
    "    {\n",
    "        return m_a;\n",
    "    }\n",
    "};\n",
    "\n",
    "class Derived: private Base\n",
    "{\n",
    "public:\n",
    "    void print()\n",
    "    {\n",
    "        //cout << m_a << endl; //error\n",
    "        cout << geta() << endl;\n",
    "        cout << m_b << endl;\n",
    "        cout << m_c << endl;\n",
    "    }\n",
    "};\n",
    "\n",
    "int main(void)\n",
    "{\n",
    "    Derived test;\n",
    "    //cout << test.m_a << endl; //error private\n",
    "    //cout << test.m_b << endl; // private继承 error private\n",
    "    //cout << test.m_c << endl; //private继承 子类中该变量为private\n",
    "    return 0;\n",
    "}"
   ]
  },
  {
   "cell_type": "markdown",
   "id": "a50e284a",
   "metadata": {},
   "source": [
    "### 继承中的访问权限问题"
   ]
  },
  {
   "cell_type": "markdown",
   "id": "efe10d85",
   "metadata": {},
   "source": [
    "![alt text](image.png)\n",
    "\n",
    "可见  \n",
    "公有继承不改变继承来的基类成员的权限  \n",
    "保护继承则把低于保护的权限升级成保护  \n",
    "私有继承则把低于私有的权限升级成私有  "
   ]
  },
  {
   "cell_type": "markdown",
   "id": "1ad0e7b2",
   "metadata": {},
   "source": [
    "总结一下权限的相关问题：\n",
    "\n",
    "权限的引入体现了C++语言面向对象编程的其中一个重要特性：封装， 会通过关键字来限制类的外部对成员的访问， 从而保证类的内部实现不受外界干扰。\n",
    "\n",
    "public权限： 并不保护成员， 任何地方都可以访问\n",
    "protected权限： 保护成员， 只有本类和子类的成员函数可以访问，可以认为是private给子类特别开放的权限\n",
    "private权限： 最高禁令， 只有本类可以访问\n",
    "\n",
    "![alt text](image-1.png)"
   ]
  },
  {
   "cell_type": "markdown",
   "id": "383d0df3",
   "metadata": {},
   "source": [
    "## 基类与派生类的关系"
   ]
  },
  {
   "cell_type": "markdown",
   "id": "841e8f19",
   "metadata": {},
   "source": [
    "子类对象会继承基类的属性的行为，通过子类对象可以直接访问基类中的成员，如同是基类对象在访问它们一样\n",
    "\n",
    "![alt text](image-2.png)"
   ]
  },
  {
   "cell_type": "markdown",
   "id": "595652b7",
   "metadata": {},
   "source": [
    "向上造型(upcast)：将`子类类型`的指针或引用转换为`基类类型`的指针或引用；这种`操作性缩小`的类型转换，在编译器看来是安全的，可以隐式转换\n",
    "\n",
    "子类 ————> 基类\n",
    "\n",
    "向下造型(downcast)：将`基类类型`的指针或引用转换为`子类类型`的指针或引用；这种`操作性放大`的类型转换，在编译器看来是危险的，不能隐式转化，但是可以显式转换\n",
    "\n",
    "基类 ————> 子类"
   ]
  },
  {
   "cell_type": "code",
   "execution_count": null,
   "id": "e0167f50",
   "metadata": {
    "vscode": {
     "languageId": "cpp"
    }
   },
   "outputs": [],
   "source": [
    "#include <iostream>\n",
    "using namespace std;\n",
    "\n",
    "class Human\n",
    "{\n",
    "private:\n",
    "    int m_private;\n",
    "protected:\n",
    "    string m_name;\n",
    "    int m_age;\n",
    "    const int& get(void)  //返回函数的类型是const int&是常引用，不能修改\n",
    "    {\n",
    "        return m_private;\n",
    "    }\n",
    "public:\n",
    "    Human(const string &name, int age)\n",
    "    {\n",
    "        m_name = name;\n",
    "        m_age = age;\n",
    "        m_private = 1234;\n",
    "    }\n",
    "    void eat(const string& food)\n",
    "    {\n",
    "        cout << \"我在吃: \" << food << endl;\n",
    "    }\n",
    "    void sleep(int hour)\n",
    "    {\n",
    "        cout << \"我睡了\" << hour << \"小时\" <<endl;\n",
    "    }\n",
    "};\n",
    "class Student: public Human  //从Human公有继承来的子类Student\n",
    "{\n",
    "private:\n",
    "    int m_no; //学号\n",
    "public:\n",
    "    Student(const string& name, int age, int no):Human(name, age)  //调用父类构造函数\n",
    "    // 子类也有name和age两个成员变量，但是父类中已经有了，所以不需要再定义\n",
    "    // 子类的构造函数中，必须调用父类构造函数，对父类成员进行初始化\n",
    "    {\n",
    "        m_no = no;\n",
    "    }\n",
    "    void who(void)\n",
    "    {\n",
    "        cout << \"我叫: \" << m_name << \", 今年\" <<m_age<<\"岁，学号是: \"<<m_no << endl;\n",
    "        //cout << m_private << endl; //error\n",
    "        // 公有继承下，子类可以直接访问父类的成员，但是私有成员不能访问\n",
    "        cout << get() << endl;  //公有继承可以访问父类的私有成员\n",
    "    }\n",
    "    void learn(const string& course)  //传入的参数是const string&是常引用\n",
    "    {\n",
    "        cout << \"我在学\" << course << endl;\n",
    "    }\n",
    "};\n",
    "class Teacher: public Human\n",
    "{\n",
    "private:\n",
    "    int m_salary;\n",
    "public:\n",
    "    Teacher(const string& name, int age, int salary):Human(name, age),m_salary(salary){}\n",
    "    void teach(const string& course)\n",
    "    {\n",
    "        cout << \"我正在讲 \" << course << endl;\n",
    "    }\n",
    "    void who(void)\n",
    "    {\n",
    "        cout << \"我叫 \"<<m_name << \",今年\" << m_age << \"岁, 工资是\" << m_salary << endl;\n",
    "    }\n",
    "};\n",
    "int main(void)\n",
    "{\n",
    "    Student s(\"张飞\", 28, 100011);\n",
    "    cout << \"sizeof(s) = \"<<sizeof(s) << endl;\n",
    "    s.who();  // 学生子类使用基类的成员函数\n",
    "    s.eat(\"宫保鸡丁\");  //学生子类使用基类的成员函数\n",
    "    s.sleep(8);  //学生子类使用基类的成员函数\n",
    "    s.learn(\"C++编程\");  //学生子类使用自己的成员函数\n",
    "\n",
    "    Teacher t(\"诸葛亮\", 34, 200000);\n",
    "    t.who();  //老师子类使用基类的成员函数\n",
    "    t.teach(\"嵌入式\");  //老师子类使用自己的成员函数\n",
    "    t.sleep(7);  //老师子类使用基类的成员函数\n",
    "    t.eat(\"汉堡\");  //老师子类使用基类的成员函数\n",
    "    \n",
    "    // Student * -----> Human *:向上造型\n",
    "    Human *ph = &s; //将Student对象地址赋值给Human指针，这属于向上造型\n",
    "    ph->eat(\"香蕉\");  \n",
    "    ph->sleep(10);\n",
    "    //ph->who();  // 这里向上造型后，无法使用子类自己的成员函数\n",
    "    //error\n",
    "\n",
    "    // Human * --------> Student *: 向下造型（合理）\n",
    "    Student *ps = static_cast<Student *>(ph);  \n",
    "    ps->who();\n",
    "\n",
    "    Human h(\"赵云\", 22);\n",
    "    //Human * -------> Student *: 向下造型 (不合理)\n",
    "    Student *ps2 = static_cast<Student *>(&h);\n",
    "    ps2->who();\n",
    "    return 0;\n",
    "}"
   ]
  },
  {
   "cell_type": "markdown",
   "id": "d5d9a217",
   "metadata": {},
   "source": [
    "### 基类的派生类的名字隐藏问题 "
   ]
  },
  {
   "cell_type": "markdown",
   "id": "09a2c1b5",
   "metadata": {},
   "source": [
    "子类中定义了和父类的同名函数，对父类的成员函数造成了隐藏"
   ]
  },
  {
   "cell_type": "code",
   "execution_count": null,
   "id": "eed4573a",
   "metadata": {
    "vscode": {
     "languageId": "cpp"
    }
   },
   "outputs": [],
   "source": [
    "#include <iostream>\n",
    "using namespace std;\n",
    "\n",
    "class Base\n",
    "{\n",
    "private:\n",
    "    int x;\n",
    "public:\n",
    "    void set(int i)\n",
    "    {\n",
    "        x = i;\n",
    "    }\n",
    "    void print()\n",
    "    {\n",
    "        cout << \"Base class \" << \"x= \" << x << endl;\n",
    "    }\n",
    "};\n",
    "class Derived: public Base\n",
    "{\n",
    "private:\n",
    "    int m, n;\n",
    "public:\n",
    "    void set(int p, int k)\n",
    "    {\n",
    "        m = p;\n",
    "        n = k;\n",
    "    }\n",
    "    void print()   //派生类中也有print函数\n",
    "    {\n",
    "        Base::print();  //调用基类中的同名函数\n",
    "        cout << \"Derived class \"<< \"m = \"<< m <<\", n=\" << n << endl;\n",
    "    }\n",
    "};\n",
    "int main(void)\n",
    "{\n",
    "    Derived d;\n",
    "    d.set(10,20);\n",
    "    //d.set(100); // error名字隐藏  派生类的对象d中的set函数隐藏了基类的同名函数，不能传入两个参数\n",
    "    d.Base::set(100);  //调用基类中的set函数需要加作用域限定符\n",
    "    d.print();  //调用派生类中的print函数\n",
    "    return 0;\n",
    "}"
   ]
  },
  {
   "cell_type": "markdown",
   "id": "cf81344f",
   "metadata": {},
   "source": [
    "## 派生类的对象创建"
   ]
  },
  {
   "cell_type": "markdown",
   "id": "c364f2a9",
   "metadata": {},
   "source": [
    "### 构造函数\n",
    "\n"
   ]
  },
  {
   "cell_type": "markdown",
   "id": "2f7e48be",
   "metadata": {},
   "source": [
    "因为在构造派生类的过程中，必须先构造基类对象，而基类对象又依赖于派生类对象的成员变量\n",
    "所以，构造派生类对象时，先构造基类对象，再构造成员对象\n",
    "\n",
    "如果子类构造函数没有显式指明基类部分的初始化方式，那么编译器将会自动调用基类的无参构造函数来初始化基类子对象\n",
    "\n",
    "如果希望以有参的方式来初始化基类部分，那么必须使用初始化列表来显式指明子对象构造顺序\n",
    "\n",
    "+ 分配内存\n",
    "+ 构造基类子对象(按继承表顺序)\n",
    "+ 构造成员子对象(按声明顺序)\n",
    "+ 执行子类构造函数代码\n"
   ]
  },
  {
   "cell_type": "code",
   "execution_count": null,
   "id": "bbaf95dc",
   "metadata": {
    "vscode": {
     "languageId": "cpp"
    }
   },
   "outputs": [],
   "source": [
    "#include <iostream>\n",
    "using namespace std;\n",
    "\n",
    "class Member\n",
    "{\n",
    "private:\n",
    "    int m_k;\n",
    "public:\n",
    "    Member()\n",
    "    {\n",
    "        cout << \"Member()\" << endl;\n",
    "        m_k = 0;\n",
    "    }\n",
    "    Member(int k)\n",
    "    {\n",
    "        cout << \"Member(int)\" << endl;\n",
    "        m_k = k;\n",
    "    }\n",
    "};\n",
    "class Base\n",
    "{\n",
    "private:\n",
    "    int m_i;\n",
    "public:\n",
    "    Base()\n",
    "    {\n",
    "        cout << \"Base()\" << endl;\n",
    "        m_i = 0;\n",
    "    }\n",
    "    Base(int i)\n",
    "    {\n",
    "        cout << \"Base(int)\" << endl;\n",
    "        m_i = i;\n",
    "    }\n",
    "};\n",
    "class Derived:public Base\n",
    "{\n",
    "private:\n",
    "    int m_j;\n",
    "    Member m_m;  // 派生类中包含一个其他类的对象\n",
    "public:\n",
    "    Derived():Base(100),m_m(200)\n",
    "    {\n",
    "        cout << \"Derived()\" << endl;\n",
    "    }\n",
    "    Derived(int i, int j):Base(i)   //注意这里可以使用形参列表中的i\n",
    "    {\n",
    "        cout << \"Derived(int, int)\" << endl;\n",
    "        m_j = j;\n",
    "    }\n",
    "};\n",
    "int main(void)\n",
    "{\n",
    "    Derived d1;  \n",
    "    // 创建派生类的对象，调用默认构造函数，\n",
    "    // 这时会使用派生类的无参构造函数中的初始化列表调用基类有参构造函数，\n",
    "    // 对Member对象也调用其有参构造函数进行初始化\n",
    "    Derived d2(1,2);\n",
    "    // 创建派生类的对象，调用有参构造函数，\n",
    "    // 这时会使用派生类的有参构造函数中的初始化列表调用基类有参构造函数，\n",
    "    // 对Member对象没有对其指定初始化的值，调用其无参构造函数进行初始化\n",
    "    return 0;\n",
    "}\n",
    "/* 输出结果：\n",
    "Base(int)\n",
    "Member(int)\n",
    "Derived()\n",
    "可以看到是先调用了基类的构造函数，再调用派生类构造函数\n",
    "Base(int)\n",
    "Member()\n",
    "Derived(int, int)\n",
    "*/"
   ]
  },
  {
   "cell_type": "markdown",
   "id": "a788d854",
   "metadata": {},
   "source": [
    "### 析构函数"
   ]
  },
  {
   "cell_type": "markdown",
   "id": "7e31afe8",
   "metadata": {},
   "source": [
    "子类的析构函数，无论自己定义的，还是编译器缺省提供，都会自动调用基类的析构函数，完成基类子对象的销毁。\n",
    "\n",
    "子类对象销毁过程:\n",
    "\n",
    "+ 执行子类析构函数代码\n",
    "+ 析构成员子对象(按声明逆序)\n",
    "+ 析构基类子对象(按继承表逆序)\n",
    "+ 释放内存\n"
   ]
  },
  {
   "cell_type": "code",
   "execution_count": null,
   "id": "5d4d6f26",
   "metadata": {
    "vscode": {
     "languageId": "cpp"
    }
   },
   "outputs": [],
   "source": [
    "#include <iostream>\n",
    "using namespace std;\n",
    "\n",
    "class Member\n",
    "{\n",
    "private:\n",
    "    int m_k;\n",
    "public:\n",
    "    Member()\n",
    "    {\n",
    "        cout << \"Member()\" << endl;\n",
    "        m_k = 0;\n",
    "    }\n",
    "    Member(int k)\n",
    "    {\n",
    "        cout << \"Member(int)\" << endl;\n",
    "        m_k = k;\n",
    "    }\n",
    "    ~Member()\n",
    "    {\n",
    "        cout << \"~Member()\" << endl;\n",
    "    }\n",
    "};\n",
    "class Base\n",
    "{\n",
    "private:\n",
    "    int m_i;\n",
    "public:\n",
    "    Base()\n",
    "    {\n",
    "        cout << \"Base()\" << endl;\n",
    "        m_i = 0;\n",
    "    }\n",
    "    Base(int i)\n",
    "    {\n",
    "        cout << \"Base(int)\" << endl;\n",
    "        m_i = i;\n",
    "    }\n",
    "    ~Base()\n",
    "    {\n",
    "        cout << \"~Base()\" << endl;\n",
    "    }\n",
    "};\n",
    "class Derived:public Base\n",
    "{\n",
    "private:\n",
    "    int m_j;\n",
    "    Member m_m;\n",
    "public:\n",
    "    Derived():Base(100),m_m(200)\n",
    "    {\n",
    "        cout << \"Derived()\" << endl;\n",
    "    }\n",
    "    Derived(int i, int j):Base(i)\n",
    "    {\n",
    "        cout << \"Derived(int, int)\" << endl;\n",
    "        m_j = j;\n",
    "    }\n",
    "    ~Derived()\n",
    "    {\n",
    "        cout << \"~Derived()\" << endl;\n",
    "    }\n",
    "};\n",
    "int main(void)\n",
    "{\n",
    "    Derived d1;\n",
    "    Derived d2(1,2);\n",
    "    return 0;\n",
    "}\n",
    "/*\n",
    "//d1\n",
    "Base(int)\n",
    "Member(int)\n",
    "Derived()\n",
    "//d2\n",
    "Base(int)\n",
    "Member()\n",
    "Derived(int, int)\n",
    "//~d1\n",
    "~Derived()\n",
    "~Member()\n",
    "~Base()\n",
    "//~d2\n",
    "~Derived()\n",
    "~Member()\n",
    "~Base()\n",
    "*/"
   ]
  },
  {
   "cell_type": "markdown",
   "id": "e344dbcb",
   "metadata": {},
   "source": [
    "## 多重继承"
   ]
  },
  {
   "cell_type": "markdown",
   "id": "be8888bf",
   "metadata": {},
   "source": [
    "C++允许一个类从一个或多个基类派生。如果一个类只有一个基类，称为单一继承。如果一个类具有两个或两个以上的基类，就称为多重继承"
   ]
  },
  {
   "cell_type": "markdown",
   "id": "4c4319de",
   "metadata": {},
   "source": [
    "### 多重继承的使用方法"
   ]
  },
  {
   "cell_type": "code",
   "execution_count": null,
   "id": "40cf1559",
   "metadata": {
    "vscode": {
     "languageId": "cpp"
    }
   },
   "outputs": [],
   "source": [
    "#include <iostream>\n",
    "using namespace std;\n",
    "class Phone\n",
    "{\n",
    "private:\n",
    "    string m_number;\n",
    "public:\n",
    "    Phone(const string& number)\n",
    "    {\n",
    "        m_number = number;\n",
    "    }\n",
    "    void call(const string& number)\n",
    "    {\n",
    "        cout << m_number << \"打给： \" << number << endl;\n",
    "    }\n",
    "};\n",
    "class Player\n",
    "{\n",
    "public:\n",
    "    Player(const string& media)\n",
    "    {\n",
    "        m_media = media;\n",
    "    }\n",
    "    void play(const string& music)\n",
    "    {\n",
    "        cout << m_media << \"正在播放: \" << music << endl;\n",
    "    }\n",
    "private:\n",
    "    string m_media ; //播放器的名称\n",
    "};\n",
    "class Computer\n",
    "{\n",
    "private:\n",
    "    string m_os; //使用的操作系统\n",
    "public:\n",
    "    Computer(const string& os):m_os(os){}\n",
    "    void run(const string& app)\n",
    "    {\n",
    "        cout << \"在\" << m_os << \"正在运行: \" << app << endl;\n",
    "    }\n",
    "};\n",
    "/*典型的多重继承*/\n",
    "class SmartPhone:public Phone, public Player, public Computer\n",
    "{\n",
    "public:\n",
    "    SmartPhone(const string& number, const string& media, const string& os):Phone(number), Player(media),Computer(os){}\n",
    "};\n",
    "\n",
    "int main(void)\n",
    "{\n",
    "    SmartPhone huawei(\"13988888888\", \"MP4\", \"鸿蒙\");\n",
    "    huawei.call(\"010-12345\");\n",
    "    huawei.play(\"我和我的祖国\");\n",
    "    huawei.run(\"王者荣耀\");\n",
    "    return 0;\n",
    "}\n"
   ]
  },
  {
   "cell_type": "markdown",
   "id": "325467b8",
   "metadata": {},
   "source": [
    "### 命名冲突\n"
   ]
  },
  {
   "cell_type": "markdown",
   "id": "50f18a9c",
   "metadata": {},
   "source": [
    "当两个不同基类拥有同名成员时，容易产生名字冲突问题。\n",
    "使用域限定符解决。"
   ]
  },
  {
   "cell_type": "code",
   "execution_count": null,
   "id": "de6b6f64",
   "metadata": {
    "vscode": {
     "languageId": "cpp"
    }
   },
   "outputs": [],
   "source": [
    "#include <iostream>\n",
    "using namespace std;\n",
    "class A\n",
    "{\n",
    "public:\n",
    "    void func(void)\n",
    "    {\n",
    "        cout << \"A::func()\" << endl;\n",
    "    }\n",
    "};\n",
    "class B\n",
    "{\n",
    "public:\n",
    "    void func(void)\n",
    "    {\n",
    "        cout << \"B::func()\" << endl;\n",
    "    }\n",
    "};\n",
    "class C: public A, public B\n",
    "{\n",
    "};\n",
    "int main(void)\n",
    "{\n",
    "    C test;\n",
    "    test.A::func();  //指定使用基类A的func\n",
    "    return 0;\n",
    "}"
   ]
  },
  {
   "cell_type": "markdown",
   "id": "3556acd9",
   "metadata": {},
   "source": [
    "### 钻石继承和虚继承"
   ]
  },
  {
   "cell_type": "markdown",
   "id": "e4ab1d9e",
   "metadata": {},
   "source": [
    "钻石继承，一个派生类继承的多个基类又源自一个公共的祖先（公共基类）\n"
   ]
  },
  {
   "cell_type": "code",
   "execution_count": null,
   "id": "a3b2d1f4",
   "metadata": {
    "vscode": {
     "languageId": "cpp"
    }
   },
   "outputs": [],
   "source": [
    "#include <iostream>\n",
    "using namespace std;\n",
    "\n",
    "class A\n",
    "{\n",
    "protected:\n",
    "    int m_data;\n",
    "public:\n",
    "    A(int data)\n",
    "    {\n",
    "        m_data = data;\n",
    "        cout << \"A(int)\" << endl;\n",
    "    }\n",
    "};\n",
    "class B: public A\n",
    "{\n",
    "public:\n",
    "    B(int data):A(data)\n",
    "    {\n",
    "        cout << \"B(int)\" << endl;\n",
    "    }\n",
    "    void set(int data)\n",
    "    {\n",
    "        m_data = data;\n",
    "    }\n",
    "};\n",
    "class C: public A\n",
    "{\n",
    "public:\n",
    "    C(int data):A(data)\n",
    "    {\n",
    "        cout << \"C(int)\" << endl;\n",
    "    }\n",
    "    int get(void)\n",
    "    {\n",
    "        return m_data;\n",
    "    }\n",
    "};\n",
    "class D: public B, public C\n",
    "{\n",
    "public:\n",
    "    D(int data): B(data), C(data)\n",
    "    {\n",
    "        cout << \"D(int)\" << endl;\n",
    "    }\n",
    "};\n",
    "\n",
    "int main(void)\n",
    "{\n",
    "    D d(100);\n",
    "    cout << sizeof(d) << endl;\n",
    "    cout << d.get() << endl; // 100  //调用C的get方法，获取m_data的值\n",
    "    d.set(200);  //调用B的set方法，修改m_data的值\n",
    "    cout << d.get() << endl; //100  //调用C的get方法，获取m_data的值\n",
    "    return 0;\n",
    "}\n",
    "/*\n",
    "//创建D类对象d，对A的构造函数进行了两次调用\n",
    "A(int)\n",
    "B(int)  // 初始化B要调用一次A的构造函数\n",
    "A(int)\n",
    "C(int)  // 初始化C要调用一次A的构造函数\n",
    "D(int)\n",
    "\n",
    "8  // A类成员变量是4个字节，B类成员变量是4个字节，C类成员变量是4个字节\n",
    "100\n",
    "100\n",
    "\n",
    "虽然 set 方法被调用了，但由于多重继承的复杂性，C 中的 m_data 可能并没有被修改，\n",
    "因此输出的值可能仍然是 100，而不是预期的 200。\n",
    "这是因为 B 和 C 各自继承了 A 的一个独立副本，set 方法修改的是 B 继承的那部分的 m_data，\n",
    "而 get 方法访问的是 C 继承的那部分的 m_data\n",
    "\n",
    "由于 D 同时从 B 和 C 继承，而 B 和 C 又都从 A 继承，导致 D 对象中实际上包含了两个 A 的子对象。\n",
    "这可能导致一些意料之外的行为，特别是当试图通过不同的路径（如 B 和 C）访问或修改相同的成员变量时。\n",
    "*/"
   ]
  },
  {
   "cell_type": "markdown",
   "id": "96b5ffb1",
   "metadata": {},
   "source": [
    "解决这种对共有的基类继承有两种不同路径的方式式：虚继承\n",
    "\n",
    "虚继承语法：\n",
    "\n",
    "在继承表使用virtual关键字修饰\n",
    "\n",
    "位于继承链末端子类负责构造公共基类子对象"
   ]
  },
  {
   "cell_type": "code",
   "execution_count": null,
   "id": "4d026c16",
   "metadata": {
    "vscode": {
     "languageId": "cpp"
    }
   },
   "outputs": [],
   "source": [
    "#include <iostream>\n",
    "using namespace std;\n",
    "\n",
    "class A\n",
    "{\n",
    "protected:\n",
    "    int m_data;\n",
    "public:\n",
    "    A(int data)\n",
    "    {\n",
    "        m_data = data;\n",
    "        cout << \"A(int)\" << endl;\n",
    "    }\n",
    "};\n",
    "class B: virtual public A //添加virtual关键字，指定中间继承类为虚基类\n",
    "{\n",
    "public:\n",
    "    B(int data):A(data)\n",
    "    {\n",
    "        cout << \"B(int)\" << endl;\n",
    "    }\n",
    "    void set(int data)\n",
    "    {\n",
    "        m_data = data;\n",
    "    }\n",
    "};\n",
    "class C: virtual public A\n",
    "{\n",
    "public:\n",
    "    C(int data):A(data)\n",
    "    {\n",
    "        cout << \"C(int)\" << endl;\n",
    "    }\n",
    "    int get(void)\n",
    "    {\n",
    "        return m_data;\n",
    "    }\n",
    "};\n",
    "class D: public B, public C\n",
    "{\n",
    "public:\n",
    "    D(int data): B(data), C(data), A(data)\n",
    "    {\n",
    "        cout << \"D(int)\" << endl;\n",
    "    }\n",
    "};\n",
    "int main(void)\n",
    "{\n",
    "    D d(100);\n",
    "    cout << sizeof(d) << endl;\n",
    "    cout << d.get() << endl; // 100\n",
    "    d.set(200);\n",
    "    cout << d.get() << endl; //200\n",
    "    return 0;\n",
    "}"
   ]
  },
  {
   "cell_type": "markdown",
   "id": "59dfc5df",
   "metadata": {},
   "source": [
    "## 继承与组合"
   ]
  },
  {
   "cell_type": "markdown",
   "id": "de3d2d5e",
   "metadata": {},
   "source": [
    "继承与组合是C++实现代码重用的两种主要方法。\n",
    "\n",
    "继承是Is-a的关系，比如水果和梨\n",
    "\n",
    "组合是Has-a的关系，图书馆有图书"
   ]
  },
  {
   "cell_type": "code",
   "execution_count": null,
   "id": "f153c233",
   "metadata": {
    "vscode": {
     "languageId": "cpp"
    }
   },
   "outputs": [],
   "source": [
    "#include <iostream>\n",
    "using namespace std;\n",
    "\n",
    "class vehicles\n",
    "{ //交通工具\n",
    "public:\n",
    "    void load(const string& goods)\n",
    "    {\n",
    "        cout << \"装载\" << goods << endl;\n",
    "    }\n",
    "};\n",
    "class tyre\n",
    "{ //轮胎\n",
    "public:\n",
    "    void run(const string& dest)\n",
    "    {\n",
    "        cout << \"转动方向: \" << dest << endl;\n",
    "    }\n",
    "};\n",
    "class car: public vehicles  //car类和vehicles是继承关系\n",
    "{\n",
    "public:\n",
    "    tyre wheel;  // car类和tyre类是组合关系\n",
    "};\n",
    "\n",
    "int main(void)\n",
    "{\n",
    "    car c1;\n",
    "    c1.load(\"电脑\");\n",
    "    c1.wheel.run(\"北京\");\n",
    "    return 0;\n",
    "}"
   ]
  },
  {
   "cell_type": "markdown",
   "id": "baf70f12",
   "metadata": {},
   "source": [
    "## 多文件编程实例"
   ]
  },
  {
   "cell_type": "markdown",
   "id": "9e32f83f",
   "metadata": {},
   "source": [
    "一般将类的声明放在.h文件中，类中成员函数的定义放在.cpp文件中。"
   ]
  },
  {
   "cell_type": "code",
   "execution_count": null,
   "id": "a8da6a4a",
   "metadata": {
    "vscode": {
     "languageId": "cpp"
    }
   },
   "outputs": [],
   "source": [
    "/*person.h*/\n",
    "#ifndef __PERSON_H__\n",
    "#define __PERSON_H__\n",
    "#include <iostream>\n",
    "using namespace std;\n",
    "class person\n",
    "{\n",
    "private:\n",
    "    int age;\n",
    "    string name;\n",
    "public:\n",
    "    person(int age, const string& name);\n",
    "    void whoami(void);\n",
    "};\n",
    "#endif\n"
   ]
  },
  {
   "cell_type": "code",
   "execution_count": null,
   "id": "5887ed2b",
   "metadata": {
    "vscode": {
     "languageId": "cpp"
    }
   },
   "outputs": [],
   "source": [
    "//函数的定义单独用一个文件\n",
    "/*person.cpp*/\n",
    "#include \"person.h\"\n",
    "person::person(int age, const string& name)\n",
    "{\n",
    "    this->age = age;\n",
    "    this->name = name;\n",
    "}\n",
    "void person::whoami(void)\n",
    "{\n",
    "    cout << \"我是: \" << name << endl;\n",
    "}\n"
   ]
  },
  {
   "cell_type": "code",
   "execution_count": null,
   "id": "df5aba8d",
   "metadata": {
    "vscode": {
     "languageId": "cpp"
    }
   },
   "outputs": [],
   "source": [
    "//不同的类放到不同的文件中\n",
    "/*student.h*/\n",
    "#ifndef __STUDENT_H__\n",
    "#define __STUDENT_H__\n",
    "#include \"person.h\"\n",
    "class student: public person\n",
    "{\n",
    "private:\n",
    "    float score;\n",
    "public:\n",
    "    student(int age, const string& name, float score);\n",
    "    void whoami(void);\n",
    "};\n",
    "#endif\n"
   ]
  },
  {
   "cell_type": "code",
   "execution_count": null,
   "id": "b5351d7f",
   "metadata": {
    "vscode": {
     "languageId": "cpp"
    }
   },
   "outputs": [],
   "source": [
    "\n",
    "/*student.cpp*/\n",
    "#include \"student.h\"\n",
    "student::student(int age, const string& name, float score):person(age,name)\n",
    "{\n",
    "    this->score = score;\n",
    "}\n",
    "void student::whoami(void)\n",
    "{\n",
    "    person::whoami();\n",
    "    cout << \"我的成绩是: \" << score << endl;\n",
    "}\n"
   ]
  },
  {
   "cell_type": "code",
   "execution_count": null,
   "id": "da46b5f8",
   "metadata": {
    "vscode": {
     "languageId": "cpp"
    }
   },
   "outputs": [],
   "source": [
    "\n",
    "/*main.cpp*/\n",
    "#include \"student.h\"\n",
    "int main(void)\n",
    "{\n",
    "    student s1(22, \"刘备\", 81.5);\n",
    "    s1.whoami();\n",
    "    return 0;\n",
    "}\n"
   ]
  },
  {
   "cell_type": "code",
   "execution_count": null,
   "id": "14db2687",
   "metadata": {
    "vscode": {
     "languageId": "cpp"
    }
   },
   "outputs": [],
   "source": [
    "g++ person.cpp student.cpp main.cpp\n",
    "./a.out"
   ]
  },
  {
   "cell_type": "markdown",
   "id": "367a066a",
   "metadata": {},
   "source": [
    "# 多态"
   ]
  },
  {
   "cell_type": "markdown",
   "id": "91f2373a",
   "metadata": {},
   "source": [
    "## 多态是什么？"
   ]
  },
  {
   "cell_type": "markdown",
   "id": "f6251220",
   "metadata": {},
   "source": [
    "多态（polymorphism）通俗地讲，就是用一个相同的名字定义许多不同的函数，这些函数\n",
    "可以针对不同数据类型实现相同或相似的功能，即所谓的“一个接口，多种实现”。"
   ]
  },
  {
   "cell_type": "code",
   "execution_count": null,
   "id": "356dc2e5",
   "metadata": {
    "vscode": {
     "languageId": "cpp"
    }
   },
   "outputs": [],
   "source": [
    "#include <iostream>\n",
    "using namespace std;\n",
    "class Shape   //形状类\n",
    "{\n",
    "public:\n",
    "    virtual void draw(void)  //有方法draw\n",
    "    {\n",
    "        cout << \"draw shape\" << endl;\n",
    "    }\n",
    "};\n",
    "class Rect:public Shape  //三角类\n",
    "{\n",
    "public:\n",
    "    void draw(void)  //有方法draw\n",
    "    {\n",
    "        cout << \"draw Rect\" << endl;\n",
    "    }\n",
    "};\n",
    "class Circle: public Shape  //圆形类\n",
    "{\n",
    "public:\n",
    "    void draw(void)  //有方法draw\n",
    "    {\n",
    "        cout << \"draw Circle\" << endl;\n",
    "    }\n",
    "};\n",
    "class Ellipse: public Shape  //椭圆类\n",
    "{\n",
    "public:\n",
    "    void draw(void)  //有方法draw\n",
    "    {\n",
    "        cout << \"draw Ellipse\" << endl;\n",
    "    }\n",
    "};\n",
    "int main(void)\n",
    "{\n",
    "    /*\n",
    "    Ellipse e;  //创建对象e  \n",
    "    e.draw();  //调用draw方法\n",
    "    e.Shape::draw();  //调用父类的方法\n",
    "    */\n",
    "    Shape *buf[128] = {0};  //创建一个指向Shape类的指针数组变量buf，一共有128个元素，每个元素初始化为0\n",
    "    buf[0] = new Rect;  //创建对象Rect，并把对象的地址赋给buf[0]\n",
    "    buf[1] = new Circle;  //创建对象Circle，并把对象的地址赋给buf[1]\n",
    "    buf[2] = new Ellipse;   //创建对象Ellipse，并把对象的地址赋给buf[2]\n",
    "    for(int i=0; buf[i] != NULL; i++)\n",
    "    {\n",
    "        buf[i]->draw();  //draw方法将表现出不同的行为\n",
    "    }\n",
    "    return 0;\n",
    "}\n",
    "/*\n",
    "draw Rect\n",
    "draw Circle\n",
    "draw Ellipse\n",
    "一个指向基类的指针可以指向一个派生类对象，使得重载的函数具有不同的行为\n",
    "*/"
   ]
  },
  {
   "cell_type": "markdown",
   "id": "a766018a",
   "metadata": {},
   "source": [
    "## 虚函数"
   ]
  },
  {
   "cell_type": "markdown",
   "id": "13f92f84",
   "metadata": {},
   "source": [
    "被virtual关键字修饰的`成员函数`称为`虚函数` (注意要和修饰类区别开来)\n",
    "\n",
    "基类中声明虚函数，子类中也有一个同名的函数\n",
    "\n",
    "> 函数重写\n",
    "\n",
    "如果将`基类`中的某个成员函数声明为虚函数，那么`子类`中与该函数具有相同原型的成员函数就也是虚函数，并且对基类中版本形成覆盖，即`函数重写`\n",
    "\n",
    "> 虚函数覆盖\n",
    "\n",
    "如果子类提供了对基类虚函数有效的覆盖，那么通过`指向子类对象的基类指针`，或者通过`引用子类对象基类引用`，调用该虚函数，实际被执行将是子类中的覆盖版本，而不再是基类中原始版本，这种语法现象被称为`多态`.\n",
    "\n",
    "多态的意义在于，一般情况下，调用哪个类的成员函数由调用者指针或者引用本身类型决定的， 而有了多态，调用哪个类的成员函数由`调用者指针或者引用实际目标对象的类型`决定。\n",
    "\n",
    "这样一来，源自同一种类型的同一种激励，竟然可以产生多种不同的响应，也就是对于同一个函数调用，能够表达出不同的形态，即为多态。\n",
    "\n",
    "> 虚函数覆盖的条件：\n",
    "\n",
    "1. 只有类中的成员函数才能声明为虚函数，而全局函数、静态成员函数、构造函数都不能被声明为虚函数\n",
    "\n",
    "2. 只有在`基类中`以virtual关键字声明的虚函数，才能作为虚函数被子类覆盖\n",
    "\n",
    "3. 而与`子类中`的virtual关键字无关虚函数在子类中的版本和基类中版本要具有相同的`函数签名`，即函数名、参数表、常属性一致\n",
    "\n",
    "4. 如果基类虚函数返回基本类型的数据，那么子类中的版本必须返回相同类型的数据；如果基类虚函数返回类类型指针(A)或引用(A&)，那么允许子类中的版本返回其子类类型指针(B)或引用(B&)"
   ]
  },
  {
   "cell_type": "code",
   "execution_count": null,
   "id": "70d075b8",
   "metadata": {
    "vscode": {
     "languageId": "cpp"
    }
   },
   "outputs": [],
   "source": [
    "#include <iostream>\n",
    "using namespace std;\n",
    "\n",
    "class A{}; //类A\n",
    "class B:public A{};  //类B继承自类A\n",
    "\n",
    "class Base\n",
    "{\n",
    "public:\n",
    "    virtual void func(void)   //基类中声明的虚函数\n",
    "    {\n",
    "        cout << \"Base func\" << endl;\n",
    "    }\n",
    "    virtual A* foo(void)  //基类中声明的虚函数，返回值是类指针\n",
    "    {\n",
    "        cout << \"Base foo\" << endl;\n",
    "    }\n",
    "};\n",
    "class Derived: public Base\n",
    "{\n",
    "    void func(void)   //派生类中重载基类的虚函数\n",
    "    {\n",
    "        cout <<\"Derived func\" << endl;\n",
    "    }\n",
    "    B* foo(void)  //派生类中重载基类的虚函数\n",
    "    {\n",
    "        cout << \"Derived foo\" << endl;\n",
    "    }\n",
    "};\n",
    "\n",
    "int main(void)\n",
    "{\n",
    "    Derived d1;  //派生类对象\n",
    "    \n",
    "    Base *pd1 = &d1;  //基类指针指向派生类的对象\n",
    "    pd1->func();  //调用派生类中的虚函数\n",
    "\n",
    "    Base &pd2 = d1;  //基类引用指向派生类的对象\n",
    "    pd2.foo();  //调用派生类中的虚函数\n",
    "\n",
    "    return 0;\n",
    "}\n",
    "/*\n",
    "Derived func\n",
    "Derived foo\n",
    "*/"
   ]
  },
  {
   "cell_type": "markdown",
   "id": "bc4cd8f8",
   "metadata": {},
   "source": [
    "## 产生多态的条件："
   ]
  },
  {
   "cell_type": "markdown",
   "id": "6f3f40ae",
   "metadata": {},
   "source": [
    "1. 除了要满足函数重写的语法要求，还必须是通过指针或引用调用虚函数，才能表现出来"
   ]
  },
  {
   "cell_type": "code",
   "execution_count": null,
   "id": "4959386b",
   "metadata": {
    "vscode": {
     "languageId": "cpp"
    }
   },
   "outputs": [],
   "source": [
    "#include <iostream>\n",
    "using namespace std;\n",
    "\n",
    "class A{};\n",
    "class B:public A{};\n",
    "\n",
    "class Base\n",
    "{\n",
    "public:\n",
    "    virtual void func(void)\n",
    "    {\n",
    "        cout << \"Base func\" << endl;\n",
    "    }\n",
    "    virtual A *foo(void)\n",
    "    {\n",
    "        cout << \"Base foo\" << endl;\n",
    "    }\n",
    "};\n",
    "class Derived: public Base\n",
    "{\n",
    "    void func(void) \n",
    "    {\n",
    "        cout <<\"Derived func\" << endl;\n",
    "    }\n",
    "    B* foo(void)\n",
    "    {\n",
    "        cout << \"Derived foo\" << endl;\n",
    "    }\n",
    "};\n",
    "int main(void)\n",
    "{\n",
    "    Derived d1;\n",
    "    Base b = d1;\n",
    "    b.func(); //调用 base中的func\n",
    "    return 0;\n",
    "}"
   ]
  },
  {
   "cell_type": "markdown",
   "id": "4bd4f12b",
   "metadata": {},
   "source": [
    "2. 调用虚函数的指针也可以是this指针\n",
    "   \n",
    "   当使用子类对象调用基类中的成员函数时，\n",
    "   该函数里面this指针将是一个`指向子类对象`的`基类指针`，再通过this去调用满足重写要求的虚函数同样可以表现多态的语法特性"
   ]
  },
  {
   "cell_type": "code",
   "execution_count": null,
   "id": "33617ef8",
   "metadata": {
    "vscode": {
     "languageId": "cpp"
    }
   },
   "outputs": [],
   "source": [
    "#include <iostream>\n",
    "using namespace std;\n",
    "class A{};\n",
    "class B:public A{};\n",
    "\n",
    "class Base\n",
    "{\n",
    "public:\n",
    "    virtual void func(void)\n",
    "    {\n",
    "        cout << \"Base func\" << endl;\n",
    "    }\n",
    "    A* foo(void)\n",
    "    {\n",
    "        this->func();  //Derived func this是指向子类对象的基类指针\n",
    "        //func();  //Derived func\n",
    "    }\n",
    "};\n",
    "class Derived: public Base\n",
    "{\n",
    "    void func(void) \n",
    "    {\n",
    "        cout <<\"Derived func\" << endl;\n",
    "    }\n",
    "};\n",
    "int main(void)\n",
    "{\n",
    "    Derived d1;  //派生类对象\n",
    "    d1.foo();  //调用基类的foo\n",
    "    return 0;\n",
    "}\n",
    "/*\n",
    "Derived func\n",
    "*/"
   ]
  },
  {
   "cell_type": "markdown",
   "id": "29a8893e",
   "metadata": {},
   "source": [
    "## 纯虚函数"
   ]
  },
  {
   "cell_type": "markdown",
   "id": "4a74dc2b",
   "metadata": {},
   "source": [
    "如果一个虚函数仅表达抽象的行为，没有具体的功能，即只有声明没有定义，这样的虚函数被称为纯虚函数或抽象方法\n",
    "\n",
    "这么做的目的在于，在基类中声明虚函数，在派生类中重写该虚函数，这样就可以实现多态。\n",
    "\n",
    "```\n",
    "class 类名 \n",
    "{\n",
    "public:\n",
    "    virtual 返回类型 函数名 (形参表) = 0;\n",
    "};\n",
    "```\n",
    "\n",
    "假设有图形类Figure, 设计计算面积的成员函数area()。Figure只是一个纯抽象意义上得概念，不存在计算面积或体积的具体方法，所以只能将成员函数area()设计为纯虚函数。"
   ]
  },
  {
   "cell_type": "code",
   "execution_count": null,
   "id": "43d7d1a6",
   "metadata": {
    "vscode": {
     "languageId": "cpp"
    }
   },
   "outputs": [],
   "source": [
    "#include <iostream>\n",
    "using namespace std;\n",
    "\n",
    "class Figure\n",
    "{\n",
    "protected:\n",
    "    double x, y;\n",
    "public:\n",
    "    void set(double i, double j)\n",
    "    {\n",
    "        x = i;\n",
    "        y = j;\n",
    "    }\n",
    "    virtual void area()=0;  //纯虚函数\n",
    "};"
   ]
  },
  {
   "cell_type": "markdown",
   "id": "4e55eb84",
   "metadata": {},
   "source": [
    "## 抽象类"
   ]
  },
  {
   "cell_type": "markdown",
   "id": "ee6e047a",
   "metadata": {},
   "source": [
    "如果类中包含了纯虚函数，那么这个类就是抽象类,抽象类只能最为其它类的基类，不能用来建立对象。\n",
    "\n",
    "如果类中的所有成员函数都是纯虚函数则可以称为纯抽象类"
   ]
  },
  {
   "cell_type": "code",
   "execution_count": null,
   "id": "af367e6f",
   "metadata": {
    "vscode": {
     "languageId": "cpp"
    }
   },
   "outputs": [],
   "source": [
    "#include <iostream>\n",
    "using namespace std;\n",
    "\n",
    "class Shape\n",
    "{\n",
    "public:\n",
    "    virtual void draw(void) = 0;\n",
    "};\n",
    "class Rect:public Shape\n",
    "{\n",
    "public:\n",
    "    void draw(void)\n",
    "    {\n",
    "        cout << \"draw Rect\" << endl;\n",
    "    }\n",
    "};\n",
    "class Circle: public Shape\n",
    "{\n",
    "public:\n",
    "    void draw(void)\n",
    "    {\n",
    "        cout << \"draw Circle\" << endl;\n",
    "    }\n",
    "};\n",
    "class Ellipse: public Shape\n",
    "{\n",
    "public:\n",
    "    void draw(void)\n",
    "    {\n",
    "        cout << \"draw Ellipse\" << endl;\n",
    "    }\n",
    "};\n",
    "int main(void)\n",
    "{\n",
    "    /*\n",
    "    Ellipse e;\n",
    "    e.draw();\n",
    "    e.Shape::draw();\n",
    "    */\n",
    "    //Shape s1; //error  抽象类不能实例化\n",
    "    Shape *buf[128] = {0};\n",
    "    buf[0] = new Rect;\n",
    "    buf[1] = new Circle;\n",
    "    buf[2] = new Ellipse;\n",
    "    for(int i=0; buf[i] != NULL; i++)\n",
    "    {\n",
    "        buf[i]->draw();\n",
    "    }\n",
    "    return 0;\n",
    "}"
   ]
  },
  {
   "cell_type": "markdown",
   "id": "46827ca5",
   "metadata": {},
   "source": [
    "## 虚析构函数"
   ]
  },
  {
   "cell_type": "markdown",
   "id": "efc0587a",
   "metadata": {},
   "source": [
    "C++允许将析构函数定义为虚函数，为什么？"
   ]
  },
  {
   "cell_type": "code",
   "execution_count": null,
   "id": "2a878ccf",
   "metadata": {
    "vscode": {
     "languageId": "cpp"
    }
   },
   "outputs": [],
   "source": [
    "#include <iostream>\n",
    "using namespace std;\n",
    "class Base\n",
    "{\n",
    "public:\n",
    "    Base()\n",
    "    {\n",
    "        cout << \"Base 中通过 new 申请100个字节内存空间\" << endl;\n",
    "    }\n",
    "    ~Base()\n",
    "    {\n",
    "        cout << \"~Base 中通过 delete释放100个字节内存空间\" << endl;\n",
    "    }\n",
    "};\n",
    "class Derived:public Base\n",
    "{\n",
    "public:\n",
    "    Derived()\n",
    "    {\n",
    "        cout << \"Derived 中通过new 申请200个字节内存空间\" << endl;\n",
    "    }\n",
    "    ~Derived()\n",
    "    {\n",
    "        cout << \"~Derived 中通过delete 释放200个字节内存空间\" << endl;\n",
    "    }\n",
    "};\n",
    "int main(void)\n",
    "{\n",
    "    Base *pb = new Derived;\n",
    "    delete pb; //只调用了基类的析构函数造成内存泄露\n",
    "    return 0;\n",
    "}\n",
    "/*\n",
    "Base 中通过 new 申请100个字节内存空间\n",
    "Derived 中通过new 申请200个字节内存空间\n",
    "~Base 中通过 delete释放100个字节内存空间\n",
    "*/"
   ]
  },
  {
   "cell_type": "markdown",
   "id": "8dbf0f65",
   "metadata": {},
   "source": [
    "如何解决该问题？将基类析构函数定义为虚函数"
   ]
  },
  {
   "cell_type": "code",
   "execution_count": null,
   "id": "5c157a59",
   "metadata": {
    "vscode": {
     "languageId": "cpp"
    }
   },
   "outputs": [],
   "source": [
    "#include <iostream>\n",
    "using namespace std;\n",
    "\n",
    "class Base\n",
    "{\n",
    "public:\n",
    "    Base()\n",
    "    {\n",
    "        cout << \"Base 中通过 new 申请100个字节内存空间\" << endl;\n",
    "    }\n",
    "    virtual ~Base()  //基类的虚析构函数\n",
    "    {\n",
    "        cout << \"~Base 中通过 delete释放100个字节内存空间\" << endl;\n",
    "    }   \n",
    "};\n",
    "class Derived:public Base\n",
    "{\n",
    "public:\n",
    "    Derived()\n",
    "    {\n",
    "        cout << \"Derived 中通过new 申请200个字节内存空间\" << endl;\n",
    "    }\n",
    "    ~Derived()\n",
    "    {\n",
    "        cout << \"~Derived 中通过delete 释放200个字节内存空间\" << endl;\n",
    "    }\n",
    "};\n",
    "int main(void)\n",
    "{\n",
    "    Base *pb = new Derived;\n",
    "    delete pb; \n",
    "    return 0;\n",
    "}\n",
    "/*\n",
    "Base 中通过 new 申请100个字节内存空间\n",
    "Derived 中通过new 申请200个字节内存空间\n",
    "~Derived 中通过delete 释放200个字节内存空间\n",
    "~Base 中通过 delete释放100个字节内存空间\n",
    "*/"
   ]
  },
  {
   "cell_type": "markdown",
   "id": "925e9b37",
   "metadata": {},
   "source": [
    "## 虚函数的实现技术"
   ]
  },
  {
   "cell_type": "code",
   "execution_count": null,
   "id": "67bcfabb",
   "metadata": {
    "vscode": {
     "languageId": "cpp"
    }
   },
   "outputs": [],
   "source": [
    "#include <iostream>\n",
    "using namespace std;\n",
    "class A\n",
    "{\n",
    "public:\n",
    "    int m;\n",
    "};\n",
    "class B\n",
    "{\n",
    "public:\n",
    "    int m;\n",
    "    virtual void foo(void){}\n",
    "};\n",
    "int main(void)\n",
    "{\n",
    "    A a;\n",
    "    B b;\n",
    "    cout << \"a size : \" << sizeof(a) << endl;\n",
    "    cout << \"b size : \" << sizeof(b) << endl;\n",
    "    return 0;\n",
    "}"
   ]
  },
  {
   "cell_type": "markdown",
   "id": "9b9b9952",
   "metadata": {},
   "source": [
    "每一个含有虚函数（无论是其本身的，还是继承而来的）的类 都至少有一个与之对应的`虚函数表`，\n",
    "\n",
    "其中存放着该类所有的虚函数对应的函数指针。"
   ]
  },
  {
   "cell_type": "markdown",
   "id": "11861b06",
   "metadata": {},
   "source": [
    "![alt text](image-3.png)"
   ]
  },
  {
   "cell_type": "markdown",
   "id": "2caa8852",
   "metadata": {},
   "source": [
    "当编译器编译以下test函数时只知道pb是B*类型的指针，并不知道它指向的具体对象类型 ：pb可能指向的是B的对象，也可能指向的是D的对象 \n",
    "\n",
    "只有当程序执行过程中给test函数传递了具体参数才能确定pb指向了哪个对象，从而确定访问哪个虚表，从而实现了多态。"
   ]
  },
  {
   "cell_type": "markdown",
   "id": "939d730b",
   "metadata": {},
   "source": [
    "##  运行的类型信息"
   ]
  },
  {
   "cell_type": "markdown",
   "id": "53131f24",
   "metadata": {},
   "source": [
    "运行时类型信息（Run-time Type Information,RTTI）提供了`在程序运行时刻确定对象类型`的方法，是面向对象程序语言为解决多态问题而引入的一种语言特性。\n",
    "\n",
    "由于多态的要求，C++指针或引用可能与他们实际代表的类型不一致（如基类指针可以指向派生类对象），当将一个多态\n",
    "指针转换为其实际指向类型对象时，就需要知道对象类型信息。\n",
    "\n",
    "在C++中，用于支持RTTI的运算符有：dynamic_cast, typeid, type_info."
   ]
  },
  {
   "cell_type": "markdown",
   "id": "e5850d6a",
   "metadata": {},
   "source": [
    "### typeid和type_info\n"
   ]
  },
  {
   "cell_type": "markdown",
   "id": "ab8e6130",
   "metadata": {},
   "source": [
    "typeid操作符既可用于类型也可用于`对象`，返回typeinfo对象的常引用，用于表示`类型信息`\n",
    "\n",
    "typeinfo类的成员函数name()，可以获取字符串形式的类型信息"
   ]
  },
  {
   "cell_type": "code",
   "execution_count": null,
   "id": "135dad8e",
   "metadata": {
    "vscode": {
     "languageId": "cpp"
    }
   },
   "outputs": [],
   "source": [
    "#include <iostream>\n",
    "#include <typeinfo>\n",
    "using namespace std;\n",
    "int main(void)\n",
    "{\n",
    "    int i = 123;\n",
    "    cout << typeid(i).name() << endl;\n",
    "    cout << typeid(int).name() << endl;\n",
    "\n",
    "    int * a1[10];\n",
    "    int (*a2)[10];\n",
    "    cout << typeid(a1).name() << endl;\n",
    "    cout << typeid(a2).name() << endl;\n",
    "\n",
    "    return 0;\n",
    "}\n",
    "/*\n",
    "i\n",
    "i\n",
    "A10_Pi\n",
    "PA10_i\n",
    "*/"
   ]
  },
  {
   "cell_type": "markdown",
   "id": "b5e4b2c2",
   "metadata": {},
   "source": [
    "typeinfo类支持“==”和“!=”操作符，可直接用于类型相同与否的判断，如果类型之间存在多态的继承关系，typeid还可以利用多态的特性确定实际对象的类型"
   ]
  },
  {
   "cell_type": "code",
   "execution_count": null,
   "id": "1468d098",
   "metadata": {
    "vscode": {
     "languageId": "cpp"
    }
   },
   "outputs": [],
   "source": [
    "#include <iostream>\n",
    "#include <typeinfo>\n",
    "using namespace std;\n",
    "\n",
    "class A\n",
    "{\n",
    "public:\n",
    "    virtual void foo(void){}\n",
    "};\n",
    "class B: public A\n",
    "{\n",
    "    void foo(void){}\n",
    "};\n",
    "class C: public A\n",
    "{\n",
    "    void foo(void){}\n",
    "};\n",
    "void func(const A& a)\n",
    "{\n",
    "    if(typeid(a) == typeid(B))\n",
    "    {\n",
    "        cout << \"B\" << endl;\n",
    "    }\n",
    "    else if(typeid(a) == typeid(C))\n",
    "    {\n",
    "        cout << \"C\" << endl;\n",
    "    }\n",
    "}\n",
    "int main(void)\n",
    "{\n",
    "    B b;\n",
    "    C c;\n",
    "    func(b);\n",
    "    func(c);\n",
    "    return 0;\n",
    "}"
   ]
  },
  {
   "cell_type": "markdown",
   "id": "5d7b0812",
   "metadata": {},
   "source": [
    "### dynamic_cast\n"
   ]
  },
  {
   "cell_type": "markdown",
   "id": "62bc0656",
   "metadata": {},
   "source": [
    "\n",
    "强制类型转换运算符，主要用于具有多态继承关系父子类指针或引用之间的显式转换。\n",
    "语法格式：\n",
    "\n",
    "dynamic_cast <目标类型> (表达式)"
   ]
  },
  {
   "cell_type": "code",
   "execution_count": null,
   "id": "e566e33c",
   "metadata": {
    "vscode": {
     "languageId": "cpp"
    }
   },
   "outputs": [],
   "source": [
    "#include <iostream>\n",
    "#include <typeinfo>\n",
    "using namespace std;\n",
    "\n",
    "class Base\n",
    "{\n",
    "public:\n",
    "    virtual ~Base(){}\n",
    "};\n",
    "class Derived: public Base\n",
    "{\n",
    "public:\n",
    "    void f()\n",
    "    {\n",
    "        cout << \"Derived f()\" << endl;\n",
    "    }\n",
    "};\n",
    "int main(void)\n",
    "{\n",
    "    Base *pb, b;\n",
    "    Derived *pd, d;\n",
    "\n",
    "    pd = &d;\n",
    "    pb = pd; //Base * <---------- Derived * 向上造型 隐式转换 编译阶段完成\n",
    "    pb = dynamic_cast<Base *> (&d); //显示转换\n",
    "\n",
    "    class C\n",
    "    {\n",
    "    public:\n",
    "        virtual void func(){}\n",
    "    };\n",
    "    C c;\n",
    "    //pb = &c; //error\n",
    "    pb = dynamic_cast<Base *> (&c);\n",
    "    if(pb)\n",
    "    {\n",
    "        cout << \"dynamic_cast ok\" << endl;\n",
    "    }\n",
    "    else\n",
    "    {\n",
    "        cout << \"dynamic_cast failed\" << endl;\n",
    "    }\n",
    "    return 0;\n",
    "}"
   ]
  },
  {
   "cell_type": "markdown",
   "id": "edd3672b",
   "metadata": {},
   "source": [
    "向下造型时，动态类型转换会对所需转换的基类指针或引用做检查，如果其目标确实为期望得到的子类类型的对象，则转换成功，否则转换失败"
   ]
  },
  {
   "cell_type": "code",
   "execution_count": null,
   "id": "21373821",
   "metadata": {
    "vscode": {
     "languageId": "cpp"
    }
   },
   "outputs": [],
   "source": [
    "#include <iostream>\n",
    "#include <typeinfo>\n",
    "using namespace std;\n",
    "class Base\n",
    "{\n",
    "public:\n",
    "    virtual ~Base(){}\n",
    "};\n",
    "class Derived: public Base\n",
    "{\n",
    "public:\n",
    "    void f()\n",
    "    {\n",
    "        cout << \"Derived f()\" << endl;\n",
    "    }\n",
    "};\n",
    "int main(void)\n",
    "{\n",
    "    Base *pb, b;\n",
    "    Derived *pd, d;\n",
    "    pb = &b;\n",
    "/*\n",
    "*语法上不报错： 具有父子关系 具有多态特性\n",
    "*该转换不合理 在运行期间完成转换 转换失败 c++认为不安全\n",
    "* */\n",
    "    pd = dynamic_cast<Derived *>(pb);\n",
    "    if(pd) cout << \"ok\" << endl;\n",
    "    else cout << \"error\" << endl;\n",
    "    //pd = reinterpret_cast<Derived *>(pb);\n",
    "    //pd = (Derived *)pb; //C风格强转 可以编译通过\n",
    "    //pd->f(); //有问题\n",
    "    pb = &d;\n",
    "    //向上造型\n",
    "    pd = dynamic_cast<Derived *>(pb); //编译通过\n",
    "    if(pd) cout << \"ok\" << endl;\n",
    "    else cout << \"error\" << endl;\n",
    "    return 0;\n",
    "}"
   ]
  },
  {
   "cell_type": "markdown",
   "id": "cfe42f47",
   "metadata": {},
   "source": [
    "# 运算符重载"
   ]
  },
  {
   "cell_type": "markdown",
   "id": "99277de5",
   "metadata": {},
   "source": [
    "## 什么是运算符重载"
   ]
  },
  {
   "cell_type": "markdown",
   "id": "54ee0820",
   "metadata": {},
   "source": [
    "使得+ - 等运算符具有新的拓展的功能\n",
    "同一个运算符可以有不同的功能\n",
    "\n",
    "例如C++已经对运算符进行了拓展：\n",
    "\n",
    "<< 既可以作为位运算符，又可以配合cout/cin使用\n",
    "\n",
    "看下面这个情景："
   ]
  },
  {
   "cell_type": "code",
   "execution_count": null,
   "id": "4390f2e3",
   "metadata": {
    "vscode": {
     "languageId": "cpp"
    }
   },
   "outputs": [],
   "source": [
    "#include <iostream>\n",
    "using namespace std;\n",
    "\n",
    "class Complex\n",
    "{\n",
    "private:\n",
    "    double r;\n",
    "    double i;\n",
    "public:\n",
    "    Complex(double r, double i)\n",
    "    {\n",
    "        this->r = r;\n",
    "        this->i = i;\n",
    "    }\n",
    "    void print(void)\n",
    "    {\n",
    "        cout << r << \" + \" << i << \"i\" << endl;\n",
    "    }\n",
    "};\n",
    "int main(void)\n",
    "{\n",
    "    Complex a(1,2);\n",
    "    Complex b(3,4);\n",
    "    a.print();\n",
    "    b.print();\n",
    "\n",
    "    // + 运算符可以适用于两个整型数相加\n",
    "    int x = 10;\n",
    "    int y = 20;\n",
    "    int z = x + y;\n",
    "\n",
    "    //但要想实现用+运算符实现Complex对象相加，需要重载+运算符\n",
    "    a + b; \n",
    "    //想像x+y 实现Complex对象加运算 ＋运算符新的逻辑功能 要实现+运算符的重载\n",
    "    return 0;\n",
    "}"
   ]
  },
  {
   "cell_type": "markdown",
   "id": "2befa063",
   "metadata": {},
   "source": [
    "## 双目运算符重载\n"
   ]
  },
  {
   "cell_type": "markdown",
   "id": "5344fe10",
   "metadata": {},
   "source": [
    "双目运算符：有左右两个操作数的操作符 L#R\n",
    "\n",
    "算术运算：*、/、%、+、-\n",
    "\n",
    "关系运算：>、>=、<、<=、==、!=\n",
    "\n",
    "逻辑运算：&&、||\n",
    "\n",
    "位运算：&、|、^、<< 、>>\n",
    "\n",
    "赋值与复合赋值：=、+=、-=、*=、/=、%=、&=、|=、^=、<<= 、>>=\n",
    "\n",
    "... ...\n",
    "\n",
    "注意：\n",
    "\n",
    "表达式结果是右值\n",
    "\n",
    "左右操作数既可以是左值也可以是右值\n",
    "\n",
    "实现方式：\n",
    "+ 成员函数形式：L.operator#(R)\n",
    "+ 友元函数形式：operator#(L,R)"
   ]
  },
  {
   "cell_type": "code",
   "execution_count": null,
   "id": "d316c205",
   "metadata": {
    "vscode": {
     "languageId": "cpp"
    }
   },
   "outputs": [],
   "source": [
    "#include <iostream>\n",
    "using namespace std;\n",
    "class Complex\n",
    "{\n",
    "private:\n",
    "    double r;\n",
    "    double i;\n",
    "public:\n",
    "    Complex(double r, double i)\n",
    "    {\n",
    "        this->r = r;\n",
    "        this->i = i;\n",
    "    }\n",
    "    void print(void)\n",
    "    {\n",
    "        cout << r << \" + \" << i << \"i\" << endl;\n",
    "    }\n",
    "    const Complex operator+(const Complex& c)  // 类的成员函数，返回值是const Complex\n",
    "    {\n",
    "        Complex tmp(r+c.r, i+c.i);\n",
    "        return tmp;\n",
    "    }\n",
    "    friend const Complex operator-(const Complex& l , const Complex& r);\n",
    "    //在类中声明友元函数\n",
    "};\n",
    "const Complex operator-(const Complex& l, const Complex& r)  //全局函数的形式\n",
    "{\n",
    "    Complex tmp(l.r - r.r, l.i - r.i);\n",
    "    return tmp;\n",
    "}\n",
    "int main(void)\n",
    "{\n",
    "    Complex a(1,2);\n",
    "    Complex b(3,4);\n",
    "    a.print();\n",
    "    b.print();\n",
    "    Complex c = a + b;// a.operator+(b);\n",
    "    c.print();\n",
    "    Complex d = c - a; // operator-(c, a);\n",
    "    d.print();\n",
    "    return 0;\n",
    "}"
   ]
  },
  {
   "cell_type": "markdown",
   "id": "8df49893",
   "metadata": {},
   "source": [
    "可见，运算符重载的本质就是定义一个函数，当用到该运算符时，编译器会自动调用这个函数。\n",
    "\n",
    "运算符重载是通过函数实现的，本质上是函数重载\n",
    "\n",
    "`operator运算符名称`这一部分可以看做函数名"
   ]
  },
  {
   "cell_type": "markdown",
   "id": "f3ea3407",
   "metadata": {},
   "source": [
    "还可以使用下面这种更简便的形式"
   ]
  },
  {
   "cell_type": "code",
   "execution_count": null,
   "id": "d99e9cab",
   "metadata": {
    "vscode": {
     "languageId": "cpp"
    }
   },
   "outputs": [],
   "source": [
    "complex complex::operator+(const complex& A) const\n",
    "{\n",
    "    return complex(this->m_real + A.m_real, this->m_image + A.m_image);\n",
    "    //创建一个临时对象，这个对象没有名称，是一个匿名对象\n",
    "}"
   ]
  },
  {
   "cell_type": "markdown",
   "id": "e5c788c7",
   "metadata": {},
   "source": []
  }
 ],
 "metadata": {
  "kernelspec": {
   "display_name": "C++17",
   "language": "C++17",
   "name": "xeus-cling-cpp17"
  },
  "language_info": {
   "codemirror_mode": "text/x-c++src",
   "file_extension": ".cpp",
   "mimetype": "text/x-c++src",
   "name": "c++",
   "version": "-std=c++17"
  }
 },
 "nbformat": 4,
 "nbformat_minor": 5
}

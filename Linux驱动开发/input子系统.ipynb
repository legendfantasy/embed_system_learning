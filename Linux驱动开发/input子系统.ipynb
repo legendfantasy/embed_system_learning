{
 "cells": [
  {
   "cell_type": "markdown",
   "metadata": {},
   "source": [
    "1,输入子系统的作用和框架\n",
    "\n",
    "> 什么是输入设备：\n",
    "\n",
    "1. 按键/keyboard\n",
    "2. mouse\n",
    "3. touchscreen ：gt811, ft56xx\n",
    "4. joystick 游戏杆\n",
    "\n",
    "> 有多个输入设备需要驱动的时候，假如不考虑输入子系统\n",
    "\n",
    "1. gt811\n",
    "\t\t设备号，创建文件，硬件初始化，实现fop，阻塞\n",
    "\t\t硬件初始化\n",
    "2. ft56xx\n",
    "\t\t设备号，创建文件，硬件初始化，实现fop，阻塞\n",
    "\t\t硬件初始化\t\n",
    "\n",
    "> 多个输入设备有共同点：\n",
    "\t\n",
    "| | |\n",
    "| -------------------- | --------------------- |\n",
    "| 获取到数据(操作硬件) | 上报给用户（xxx_read, copy_to_user, 阻塞）|\n",
    "|\t   差异化        |               通用        |\n",
    "\n",
    "多个输入设备，有部分差异，也有部分通用\n",
    "内核就会考虑，将通用代码编写好，将差异化的代码留给驱动工程师\n",
    "\n",
    "> 设计成输入子系统：使得应用编程人员和驱动编程人员编程的时候变得简单统一  \n",
    "\n",
    "1. 兼容所有的输入设备  \n",
    "2. 统一的编程驱动方法(实现差异化硬件操作)  \n",
    "3. 统一的应用操作接口：  \n",
    "/dev/input/event0,event1   \n",
    "open(\"/dev/input/event0\")  \n",
    "read(fd, struct input_event): struct input_event buff可以认为是一个统一的数据包输入子系统的作用  \n"
   ]
  },
  {
   "cell_type": "markdown",
   "metadata": {},
   "source": [
    ">框架：驱动分成三层\n",
    "\n",
    "```c\n",
    "            应用层\n",
    "    ---------------------------------\n",
    "    input handler层：数据处理者\n",
    "\n",
    "        完成fop：实现xxx_read(), xxx_open\n",
    "        将数据交给用户：数据从input device层\n",
    "        不知道具体数据是什么，只知道把数据给用户\n",
    "    ----------------------------------------------------------\n",
    "    input　核心层：管理层\n",
    "    ----------------------------------------------------------\n",
    "    input　device设备层:\n",
    "    \n",
    "        抽象出一个对象，描述输入设备信息\n",
    "        初始化输入设备硬件，获取到数据\n",
    "        知道具体的数据是什么，但是不知道数据如何给用户\n",
    "    ---------------------------------\n",
    "    硬件层：mouse\n",
    "            ts， keybaord，joystick\n",
    "\n",
    "    编程： 主要在input device层\n",
    "```"
   ]
  },
  {
   "cell_type": "markdown",
   "metadata": {},
   "source": [
    "input子系统编程的前提：\n",
    "input 核心层代码和input handler层需要在内核中必须有：  \n",
    "\t\tdrivers/input/evdev.c\t//  event handler  \n",
    "\t\tdrivers/input/input.c  // 核心层  \n",
    "\n",
    "```c\n",
    "make menuconfig\n",
    "Device Drivers  --->\n",
    "\tInput device support  ---> \n",
    "\t\t-*- Generic input layer (needed for keyboard, mouse, ...)  // input.c\n",
    "\t\t\t<*>   Event interface   //input handler层--evdev.c\n",
    "```"
   ]
  },
  {
   "cell_type": "markdown",
   "metadata": {},
   "source": [
    "# 编写步骤："
   ]
  },
  {
   "cell_type": "markdown",
   "metadata": {},
   "source": [
    "## 通用的驱动代码"
   ]
  },
  {
   "cell_type": "code",
   "execution_count": null,
   "metadata": {
    "vscode": {
     "languageId": "c"
    }
   },
   "outputs": [],
   "source": [
    "static int __init simple_input_init(void)\n",
    "{\n",
    "\n",
    "\t//编写输入子系统代码\n",
    "\n",
    "\treturn 0;\n",
    "}\n",
    "\n",
    "\n",
    "\n",
    "static void __exit simple_input_exit(void)\n",
    "{\n",
    "    //注销申请的资源\n",
    "}\n"
   ]
  },
  {
   "cell_type": "markdown",
   "metadata": {},
   "source": [
    "## 分配一个input device对象"
   ]
  },
  {
   "cell_type": "code",
   "execution_count": null,
   "metadata": {
    "vscode": {
     "languageId": "c"
    }
   },
   "outputs": [],
   "source": [
    "struct input_dev *inputdev;\n",
    "\n",
    "inputdev  =  input_allocate_device();\n",
    "if(inputdev == NULL)\n",
    "{\n",
    "    printk(KERN_ERR \"input_allocate_device error\\n\");\n",
    "    return -ENOMEM;\n",
    "}"
   ]
  },
  {
   "cell_type": "markdown",
   "metadata": {},
   "source": [
    "## 初始化input device 对象"
   ]
  },
  {
   "cell_type": "code",
   "execution_count": null,
   "metadata": {
    "vscode": {
     "languageId": "c"
    }
   },
   "outputs": [],
   "source": [
    "//添加设备信息--/sys/class/input/eventx/device/\n",
    "inputdev->name = \"simple input key\";\n",
    "inputdev->phys = \"key/input/input0\";\n",
    "inputdev->uniq = \"simple key0 for 4412\";\n",
    "inputdev->id.bustype = BUS_HOST;\n",
    "inputdev->id.vendor =0x1234 ;\n",
    "inputdev->id.product = 0x8888;\n",
    "inputdev->id.version = 0x0001;"
   ]
  },
  {
   "cell_type": "markdown",
   "metadata": {},
   "source": [
    "> struct input_dev 结构体类"
   ]
  },
  {
   "cell_type": "code",
   "execution_count": null,
   "metadata": {
    "vscode": {
     "languageId": "c"
    }
   },
   "outputs": [],
   "source": [
    "struct input_dev //表示的是一个具体的输入设备，描述设备能够产生什么数据\n",
    "{\n",
    "\t// sysfs中给用户看的信息\n",
    "    const char *name; \n",
    "\tconst char *phys;\n",
    "\tconst char *uniq;\n",
    "    struct input_id id;\n",
    "/*\n",
    " * @name: name of the device\n",
    " * @phys: physical path to the device in the system hierarchy\n",
    " * @uniq: unique identification code for the device (if device has it)\n",
    " * @id: id of the device (struct input_id)\n",
    " */\n",
    "\t//evbit实际是一个位表，描述输入设备能够产生什么类型数据\n",
    "\tunsigned long evbit[BITS_TO_LONGS(EV_CNT)]; // EV_KEY，EV_ABS, EV_REL\n",
    "\t//表示能够产生哪种按键\n",
    "\tunsigned long keybit[BITS_TO_LONGS(KEY_CNT)];//KEY_POWER.. 能够表示768bit，直接用24个long来表示\n",
    "\t\t\t\t\t\t\t                    // KEY_CNT == 768   BITS_TO_LONGS== nr/32 = 768/32==24\n",
    "\t//表示能够产生哪种相对坐标数据\n",
    "\tunsigned long relbit[BITS_TO_LONGS(REL_CNT)];// REL_X\n",
    "\t//表示能够产生哪种绝对坐标数据\n",
    "\tunsigned long absbit[BITS_TO_LONGS(ABS_CNT)]; //ABS_X\n",
    "\tunsigned long mscbit[BITS_TO_LONGS(MSC_CNT)];\n",
    "\tunsigned long ledbit[BITS_TO_LONGS(LED_CNT)];\n",
    "\tunsigned long sndbit[BITS_TO_LONGS(SND_CNT)];\n",
    "\tunsigned long ffbit[BITS_TO_LONGS(FF_CNT)];\n",
    "\tunsigned long swbit[BITS_TO_LONGS(SW_CNT)];\n",
    "\n",
    "\tstruct device dev; // 继承device对象\n",
    "\n",
    "\tstruct list_head\th_list;\n",
    "\tstruct list_head\tnode; //表示节点\n",
    "}"
   ]
  },
  {
   "cell_type": "code",
   "execution_count": null,
   "metadata": {
    "vscode": {
     "languageId": "c"
    }
   },
   "outputs": [],
   "source": [
    "> 不同输入设备能够产生不同的数据：\n",
    "\n",
    "1. 按键/keyboard： 产生键值，实际是一个数字\n",
    "        #define KEY_VOLUMEDOWN\t\t114\n",
    "        #define KEY_VOLUMEUP\t\t115\n",
    "        #define KEY_POWER\t\t116\t/* SC System Power Down */\n",
    "2. ts/gsensor:产生坐标，绝对坐标， 有一个明确坐标系，并且原点(0,0),最大值(800,480)\n",
    "        #define ABS_X\t\t\t0x00\n",
    "        #define ABS_Y\t\t\t0x01\n",
    "        #define ABS_PRESSURE\t\t0x18\n",
    "        #define ABS_MT_TOUCH_MAJOR\t0x30\t/* Major axis of touching ellipse */\n",
    "        #define ABS_MT_TOUCH_MINOR\t0x31\t/* Minor axis (omit if circular) */\n",
    "        #define ABS_MT_WIDTH_MAJOR\t0x32\t/* Major axis of approaching ellipse */\n",
    "        #define ABS_MT_WIDTH_MINOR\t0x33\t/* Minor axis (omit if circular) */\n",
    "        #define ABS_MT_ORIENTATION\t0x34\t/* Ellipse orientation */\n",
    "        #define ABS_MT_POSITION_X\t0x35\t/* Center X touch position */\n",
    "        #define ABS_MT_POSITION_Y\t0x36\t/* Center Y touch position */\n",
    "3. mouse：产生坐标，相对坐标，坐标值是相对于之前一个点坐标\t\n",
    "        #define REL_X\t\t\t0x00\n",
    "        #define REL_Y\t\t\t0x01\n",
    "        #define REL_WHEEL\t\t0x08\n",
    "\n",
    "> 如何表示不同数据类型： \n",
    "\n",
    "    #define EV_SYN\t\t\t0x00 //表示同步数据类型\n",
    "    #define EV_KEY\t\t\t0x01 //表示按键数据类型\n",
    "    #define EV_REL\t\t\t0x02 //表示相对坐标数据类型\n",
    "    #define EV_ABS\t\t\t0x03 //表示绝对坐标数据类型\n",
    "\n",
    "    #define EV_MSC\t\t\t0x04 //表示杂项\n",
    "    #define EV_SW\t\t\t0x05 //开关  \n",
    "    #define EV_LED\t\t\t0x11 //led指示数据\n",
    "    #define EV_SND\t\t\t0x12 //声音数据\n"
   ]
  },
  {
   "cell_type": "markdown",
   "metadata": {
    "vscode": {
     "languageId": "c"
    }
   },
   "source": [
    "设置bit的方法"
   ]
  },
  {
   "cell_type": "code",
   "execution_count": null,
   "metadata": {
    "vscode": {
     "languageId": "c"
    }
   },
   "outputs": [],
   "source": [
    "//当前设备能够产生按键数据\n",
    "__set_bit(EV_KEY,  inputdev->evbit);\n",
    "//表示当前设备能够产生power按键\n",
    "__set_bit(KEY_POWER, inputdev->keybAit);"
   ]
  },
  {
   "cell_type": "code",
   "execution_count": null,
   "metadata": {
    "vscode": {
     "languageId": "c"
    }
   },
   "outputs": [],
   "source": [
    "inputdev->keybit[BIT_WORD(KEY_POWER)] |= BIT_MASK(KEY_POWER);// 116%32\n",
    "inputdev->keybit[116/32] |= 1 << 116%32;// 116%32"
   ]
  }
 ],
 "metadata": {
  "language_info": {
   "name": "python"
  }
 },
 "nbformat": 4,
 "nbformat_minor": 2
}

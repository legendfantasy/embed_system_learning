{
 "cells": [
  {
   "cell_type": "markdown",
   "metadata": {},
   "source": [
    "# 编写驱动模块的主体框架\n"
   ]
  },
  {
   "cell_type": "code",
   "execution_count": null,
   "metadata": {
    "vscode": {
     "languageId": "c"
    }
   },
   "outputs": [],
   "source": [
    "#include <linux/module.h>\n",
    "#include <linux/kernel.h>\n",
    "\n",
    "// 初始化函数,是整个模块的入口函数\n",
    "int __init mychar_init(void)  // __init 是一个宏定义,表示这个函数是初始化函数,只在初始化时调用\n",
    "{\n",
    "    //请注意，模块的初始化函数应该返回一个整数。如果返回0，那么表示初始化成功。\n",
    "    //如果返回一个负数，那么表示初始化失败，模块将不会被加载。\n",
    "    \n",
    "    return 0;\n",
    "}\n",
    "\n",
    "// 退出函数,是整个模块的出口函数\n",
    "void __exit mychar_exit(void) // __exit 是一个宏定义,表示这个函数是退出函数,只在退出时调用\n",
    "{\n",
    "    \n",
    "}\n",
    "\n",
    "//表示支持GPL的开源协议\n",
    "MODULE_LICENSE(\"GPL\");\n",
    "\n",
    "module_init(mychar_init);  // 指定初始化函数 moudule_init是一个宏定义，表示指定初始化函数\n",
    "module_exit(mychar_exit);  // 指定退出函数 moudule_exit是一个宏定义，表示指定退出函数\n",
    "//`module_init`是Linux内核中的一个宏，用于指定模块的初始化函数。它的定义在`<linux/init.h>`头文件中\n",
    "//`module_init`宏接受一个函数名作为参数，这个函数是模块的初始化函数。当模块被加载到内核时，这个函数会被调用\n",
    "//#define module_init(x)  __initcall(x);\n",
    "\n",
    "//`module_exit`是Linux内核中的一个宏，用于指定模块的退出函数。它的定义在`<linux/init.h>`头文件中\n",
    "//`module_exit`宏接受一个函数名作为参数，这个函数是模块的退出函数。当模块被卸载时，这个函数会被调用\n",
    "//#define module_exit(x)  __exitcall(x);"
   ]
  },
  {
   "cell_type": "markdown",
   "metadata": {},
   "source": [
    "# 编写字符设备驱动的主体框架\n"
   ]
  },
  {
   "cell_type": "code",
   "execution_count": null,
   "metadata": {
    "vscode": {
     "languageId": "c"
    }
   },
   "outputs": [],
   "source": [
    "#include <linux/module.h>\n",
    "#include <linux/kernel.h>\n",
    "#include <linux/fs.h>\n",
    "#include <linux/cdev.h>\n",
    "\n",
    "/************(可选)手动指定主设备号和次设备号************/\n",
    "int major = 11;  // 主设备号\n",
    "int minor = 0;  // 次设备号\n",
    "int mychar_num = 1;  // 设备号的个数\n",
    "\n",
    "\n",
    "/****************定义cdev对象***********************/\n",
    "struct cdev mydev;  //这个对象是linux内核对设备的抽象，在这里表示一个字符设备，设备的名称是mydev\n",
    "\n",
    "\n",
    "/****************定义字符设备的操作函数***************/\n",
    "int mychar_open(struct inode *pnode, struct file *pfile)\n",
    "{\n",
    "    printk(\"mychar_open is called\\n\");\n",
    "    return 0;\n",
    "}\n",
    "\n",
    "int mychar_close(struct inode *pnode, struct file *pfile)\n",
    "{\n",
    "    printk(\"mychar_close is called\\n\");\n",
    "    return 0;\n",
    "}\n",
    "\n",
    "\n",
    "/******************创建file_operations 结构体****************************/\n",
    "// file_operations结构体是字符设备驱动程序的核心，它包含了驱动程序的入口函数，这些函数是驱动程序的接口\n",
    "struct file_operations myops = { \n",
    "    .owner = THIS_MODULE,  // 这个是必须的，表示这个file_operations对象是属于哪个模块的，THIS_MODULE是一个宏定义，表示当前模块\n",
    "    .open = mychar_open,  // open函数\n",
    "    .release = mychar_close,  // close函数\n",
    "};\n",
    "\n",
    "\n",
    "/***********************定义初始化函数****************************************/\n",
    "int __init mychar_init(void) //字符设备的初始化函数\n",
    "{\n",
    "    /*************1. 申请设备号 ************/\n",
    "    if (major)  // 如果主设备号已经被指定\n",
    "    {\n",
    "        dev_t devno = MKDEV(major, minor);  // 通过MKDEV宏定义将主设备号和次设备号合成一个dev_t类型的设备号\n",
    "        int ret = register_chrdev_region(devno, mychar_num, \"mychar\");  // 通过register_chrdev_region函数申请设备号\n",
    "        if (ret < 0)  // 如果设备号申请失败\n",
    "        {\n",
    "            printk(\"register_chrdev_region failed\\n\");\n",
    "            return ret;\n",
    "        }\n",
    "    }\n",
    "    else  // 如果主设备号没有被指定\n",
    "    {\n",
    "        int ret = alloc_chrdev_region(&devno, minor, mychar_num, \"mychar\");  // 通过alloc_chrdev_region函数动态申请设备号\n",
    "        if (ret < 0)  // 如果设备号申请失败\n",
    "        {\n",
    "            printk(\"alloc_chrdev_region failed\\n\");\n",
    "            return ret;\n",
    "        }\n",
    "        major = MAJOR(devno);  // 通过MAJOR宏定义获取主设备号\n",
    "    }\n",
    "\n",
    "    /********2.初始化cdev对象************/\n",
    "    /* 给struct cdev对象指定操作函数集 */\n",
    "    cdev_init(&mydev, &myops);\n",
    "    /* 将 struct cdev对象添加到内核对应的数据结构里 */\n",
    "    mydev.owner = THIS_MODULE;\n",
    "    int ret = cdev_add(&mydev, devno, mychar_num);\n",
    "    if (ret < 0)\n",
    "    {\n",
    "        printk(\"cdev_add failed\\n\");\n",
    "        return ret;\n",
    "    }\n",
    "\n",
    "    return 0;\n",
    "}\n",
    "\n",
    "void __exit mychar_exit(void)\n",
    "{\n",
    "    cdev_del(&mydev);  // 删除cdev对象\n",
    "    \n",
    "    if (major)  // 如果主设备号已经被指定\n",
    "    {\n",
    "        dev_t devno = MKDEV(major, minor);\n",
    "        unregister_chrdev_region(devno, mychar_num);  // 释放设备号\n",
    "    }\n",
    "    else  // 如果主设备号没有被指定\n",
    "    {\n",
    "        dev_t devno = MKDEV(major, minor);\n",
    "        unregister_chrdev_region(devno, mychar_num);  // 释放设备号\n",
    "    }\n",
    "\n",
    "    \n",
    "}\n",
    "\n",
    "//表示支持GPL的开源协议\n",
    "MODULE_LICENSE(\"GPL\");\n",
    "\n",
    "module_init(mychar_init);\n",
    "module_exit(mychar_exit);"
   ]
  },
  {
   "cell_type": "markdown",
   "metadata": {},
   "source": [
    "## register_chrdev_region 静态注册设备号\n"
   ]
  },
  {
   "cell_type": "markdown",
   "metadata": {},
   "source": [
    "`register_chrdev_region`函数是 Linux 内核中的一个函数，用于注册字符设备的主设备号范围。它的原型如下：\n"
   ]
  },
  {
   "cell_type": "code",
   "execution_count": null,
   "metadata": {
    "vscode": {
     "languageId": "c"
    }
   },
   "outputs": [],
   "source": [
    "int register_chrdev_region(dev_t first, unsigned int count, const char *name);"
   ]
  },
  {
   "cell_type": "markdown",
   "metadata": {},
   "source": [
    "该函数接受三个参数：\n",
    "\n",
    "1. `first`：表示要注册的字符设备的第一个主设备号。\n",
    "2. `count`：表示要注册的字符设备的数量。\n",
    "3. `name`：表示要注册的字符设备的名称。\n",
    "\n",
    "该函数的作用是：将指定的主设备号范围注册到系统中，以便将来可以使用这些主设备号来创建字符设备。注册成功后，其他模块或驱动程序可以使用这些主设备号来创建自己的字符设备。\n",
    "\n",
    "请注意，`register_chrdev_region`函数在 Linux 内核版本 4.12 之后被废弃，推荐使用`alloc_chrdev_region`函数来注册字符设备的主设备号范围。\n"
   ]
  },
  {
   "cell_type": "markdown",
   "metadata": {},
   "source": [
    "## alloc_chrdev_region 动态分配设备号\n"
   ]
  },
  {
   "cell_type": "markdown",
   "metadata": {},
   "source": [
    "`alloc_chrdev_region`函数是 Linux 内核中的一个函数，用于`动态分配`字符设备的主设备号范围。它的原型如下：\n"
   ]
  },
  {
   "cell_type": "code",
   "execution_count": null,
   "metadata": {
    "vscode": {
     "languageId": "c"
    }
   },
   "outputs": [],
   "source": [
    "int alloc_chrdev_region(dev_t *dev, unsigned int firstminor, unsigned int count, const char *name);"
   ]
  },
  {
   "cell_type": "markdown",
   "metadata": {},
   "source": [
    "该函数接受四个参数：\n",
    "\n",
    "1. `dev`：一个指向`dev_t`类型变量的指针，该函数会将分配的第一个设备号存储在这个变量中。\n",
    "2. `firstminor`：要分配的第一个次设备号。\n",
    "3. `count`：要分配的设备数量。\n",
    "4. `name`：要分配的设备的名称。\n",
    "\n",
    "该函数的作用是动态分配一个主设备号范围，并将分配的第一个设备号存储在`dev`指向的变量中。分配成功后，其他模块或驱动程序可以使用这些设备号来创建自己的字符设备。\n"
   ]
  },
  {
   "cell_type": "code",
   "execution_count": null,
   "metadata": {
    "vscode": {
     "languageId": "c"
    }
   },
   "outputs": [],
   "source": [
    "\n",
    "dev_t dev;\n",
    "if (alloc_chrdev_region(&dev, 0, 1, \"mychar\"))\n",
    "    return -ENODEV;"
   ]
  },
  {
   "cell_type": "markdown",
   "metadata": {},
   "source": [
    "在上面的示例中，我们使用`alloc_chrdev_region`函数分配了一个主设备号和一个次设备号。如果分配失败，我们就返回一个错误码。"
   ]
  },
  {
   "cell_type": "markdown",
   "metadata": {},
   "source": [
    "## dev_t 与设备号\n"
   ]
  },
  {
   "cell_type": "markdown",
   "metadata": {},
   "source": [
    "`dev_t`是 Linux 内核中用于表示设备号的数据类型。设备号是用来唯一标识系统中的设备的。\n",
    "\n",
    "在 Linux 系统中，每个设备都由一个主设备号和一个次设备号组成。主设备号用于标识设备的类型，比如字符设备或块设备。次设备号用于标识同一类型设备中的具体设备。\n",
    "\n",
    "`dev_t`类型就是用来存储这两个设备号的。它是一个 32 位的数据类型，其中高 16 位用于存储主设备号，低 16 位用于存储次设备号。\n",
    "\n",
    "1. 主设备号：占高 12 位，用来表示驱动程序相同的一类设备--摄像头\n",
    "\n",
    "2. 次设备号：占低 20 位，用来表示被操作的哪个具体设备--前置摄像头/后置摄像头\n",
    "\n",
    "设备号（32bit）== 主设备号（12bit） + 次设备号（20bit）\n"
   ]
  },
  {
   "cell_type": "markdown",
   "metadata": {},
   "source": [
    "`MAJOR`, `MINOR`, 和 `MKDEV` 是在 Linux 内核中定义的宏，用于操作 `dev_t` 类型的设备号。\n",
    "\n",
    "在 Linux 内核的头文件 `<linux/kdev_t.h>` 中，这些宏的定义如下：\n"
   ]
  },
  {
   "cell_type": "code",
   "execution_count": null,
   "metadata": {
    "vscode": {
     "languageId": "c"
    }
   },
   "outputs": [],
   "source": [
    "#define MAJOR(dev) ((unsigned int) ((dev) >> 20))\n",
    "#define MINOR(dev) ((unsigned int) ((dev) & 0xFFF) | (((dev) >> 12) & ~0xFFF))\n",
    "#define MKDEV(ma,mi) (((ma) << 20) | ((mi) & 0xFFF) | (((mi) & ~0xFFF) << 12))"
   ]
  },
  {
   "cell_type": "markdown",
   "metadata": {},
   "source": [
    "这些宏的作用如下：\n",
    "\n",
    "- `MAJOR(dev)`：从 `dev_t` 类型的设备号 `dev` 中提取出主设备号。\n",
    "- `MINOR(dev)`：从 `dev_t` 类型的设备号 `dev` 中提取出次设备号。\n",
    "- `MKDEV(ma, mi)`：使用主设备号 `ma` 和次设备号 `mi` 创建一个 `dev_t` 类型的设备号。\n",
    "\n",
    "这些宏的使用方法如下：\n"
   ]
  },
  {
   "cell_type": "code",
   "execution_count": null,
   "metadata": {
    "vscode": {
     "languageId": "c"
    }
   },
   "outputs": [],
   "source": [
    "dev_t dev = MKDEV(255, 0); // 创建一个主设备号为255，次设备号为0的设备号\n",
    "int major = MAJOR(dev); // 获取主设备号，结果为255\n",
    "int minor = MINOR(dev); // 获取次设备号，结果为0"
   ]
  },
  {
   "cell_type": "markdown",
   "metadata": {},
   "source": [
    "请注意，这些宏的具体定义可能会根据不同的 Linux 内核版本有所不同。上述定义是在较新的 Linux 内核版本中的定义。\n"
   ]
  },
  {
   "cell_type": "markdown",
   "metadata": {},
   "source": [
    "## cdev 结构体\n"
   ]
  },
  {
   "cell_type": "markdown",
   "metadata": {},
   "source": [
    "`cdev`是 Linux 内核中的一个结构体，用于表示字符设备。它的定义在`<linux/cdev.h>`头文件中，如下所示：\n"
   ]
  },
  {
   "cell_type": "code",
   "execution_count": null,
   "metadata": {
    "vscode": {
     "languageId": "c"
    }
   },
   "outputs": [],
   "source": [
    "struct cdev \n",
    "{\n",
    "    struct kobject kobj;  // 内核对象 kobject是内核对象的基类\n",
    "    struct module *owner;  // 指向拥有这个cdev的模块的指针 module是内核模块的基类\n",
    "    const struct file_operations *ops; // 指向文件操作函数集的指针 file_operations是文件操作函数集的基类\n",
    "    struct list_head list;  // 用于将cdev对象添加到内核的数据结构中 list_head是链表的基类\n",
    "    dev_t dev;  // 设备号\n",
    "    unsigned int count;  // 设备号的个数\n",
    "};"
   ]
  },
  {
   "cell_type": "markdown",
   "metadata": {},
   "source": [
    "这个结构体的成员变量解释如下：\n",
    "\n",
    "- `kobj`：一个`kobject`结构体，用于在 sysfs 文件系统中表示这个字符设备。\n",
    "- `owner`：一个指向`module`结构体的指针，表示这个字符设备的所有者模块。\n",
    "- `ops`：一个指向`file_operations`结构体的指针，表示这个字符设备的文件操作函数集合。\n",
    "- `list`：一个`list_head`结构体，用于将这个字符设备链接到内核的字符设备链表中。\n",
    "- `dev`：一个`dev_t`类型的变量，表示这个字符设备的设备号。\n",
    "- `count`：一个无符号整数，表示这个字符设备的设备数量。\n"
   ]
  },
  {
   "cell_type": "markdown",
   "metadata": {},
   "source": [
    "## cdev_init"
   ]
  },
  {
   "cell_type": "markdown",
   "metadata": {},
   "source": [
    "`cdev_init`函数是 Linux 内核中的一个函数，用于初始化`cdev`结构体。它的原型如下：\n"
   ]
  },
  {
   "cell_type": "code",
   "execution_count": null,
   "metadata": {
    "vscode": {
     "languageId": "c"
    }
   },
   "outputs": [],
   "source": [
    "void cdev_init(struct cdev *cdev, const struct file_operations *fops);"
   ]
  },
  {
   "cell_type": "markdown",
   "metadata": {},
   "source": [
    "该函数接受两个参数：\n",
    "\n",
    "1. `cdev`：一个指向`cdev`结构体的指针。\n",
    "2. `fops`：一个指向`file_operations`结构体的指针，表示字符设备的文件操作函数集合。\n",
    "\n",
    "`cdev_init`函数的作用是初始化`cdev`结构体，并将文件操作函数集合关联到这个`cdev`结构体。\n",
    "\n",
    "以下是一个示例，演示如何使用`cdev_init`函数初始化`cdev`结构体：\n"
   ]
  },
  {
   "cell_type": "code",
   "execution_count": null,
   "metadata": {
    "vscode": {
     "languageId": "c"
    }
   },
   "outputs": [],
   "source": [
    "#include <linux/cdev.h>\n",
    "#include <linux/fs.h>\n",
    "\n",
    "struct cdev my_cdev;\n",
    "struct file_operations my_fops = {\n",
    "    // 初始化你的文件操作函数集合\n",
    "};\n",
    "\n",
    "cdev_init(&my_cdev, &my_fops);"
   ]
  },
  {
   "cell_type": "markdown",
   "metadata": {},
   "source": [
    "\n",
    "请注意，`file_operations`结构体包含了一组文件操作函数，这些函数定义了字符设备的行为。例如，`open`函数定义了如何打开字符设备，`read`函数定义了如何从字符设备读取数据，`write`函数定义了如何向字符设备写入数据，等等。你需要根据你的字符设备的需求来初始化这个结构体。\n"
   ]
  },
  {
   "cell_type": "markdown",
   "metadata": {},
   "source": [
    "## cdev_add"
   ]
  },
  {
   "cell_type": "markdown",
   "metadata": {},
   "source": [
    "`cdev_add`函数是 Linux 内核中的一个函数，用于将一个已经初始化的`cdev`结构体添加到系统中。它的原型如下：\n"
   ]
  },
  {
   "cell_type": "code",
   "execution_count": null,
   "metadata": {
    "vscode": {
     "languageId": "c"
    }
   },
   "outputs": [],
   "source": [
    "int cdev_add(struct cdev *dev, dev_t num, unsigned int count);"
   ]
  },
  {
   "cell_type": "markdown",
   "metadata": {},
   "source": [
    "该函数接受三个参数：\n",
    "\n",
    "1. `dev`：一个指向`cdev`结构体的指针。\n",
    "2. `num`：一个`dev_t`类型的变量，表示字符设备的设备号。\n",
    "3. `count`：一个无符号整数，表示设备数量。\n",
    "\n",
    "`cdev_add`函数的作用是将一个已经初始化的`cdev`结构体添加到系统中，使得这个字符设备可以被系统识别和使用。\n",
    "\n",
    "以下是一个示例，演示如何使用`cdev_add`函数将一个`cdev`结构体添加到系统中：\n"
   ]
  },
  {
   "cell_type": "code",
   "execution_count": null,
   "metadata": {
    "vscode": {
     "languageId": "c"
    }
   },
   "outputs": [],
   "source": [
    "#include <linux/cdev.h>\n",
    "#include <linux/fs.h>\n",
    "\n",
    "struct cdev my_cdev;\n",
    "dev_t my_dev = MKDEV(255, 0); // 创建一个设备号\n",
    "unsigned int count = 1;\n",
    "\n",
    "int ret = cdev_add(&my_cdev, my_dev, count);\n",
    "if (ret < 0) {\n",
    "    printk(KERN_ERR \"Failed to add cdev\\n\");\n",
    "    return ret;\n",
    "}"
   ]
  },
  {
   "cell_type": "markdown",
   "metadata": {},
   "source": [
    "\n",
    "请注意，如果`cdev_add`函数返回一个负数，那么表示添加失败。你应该检查返回值，并处理错误。\n"
   ]
  },
  {
   "cell_type": "markdown",
   "metadata": {},
   "source": [
    "## cdev_del \n"
   ]
  },
  {
   "cell_type": "markdown",
   "metadata": {},
   "source": [
    "`cdev_del`函数是 Linux 内核中的一个函数，用于从系统中删除一个`cdev`结构体,使得这个字符设备不再被系统识别和使用。它的原型如下：\n"
   ]
  },
  {
   "cell_type": "code",
   "execution_count": null,
   "metadata": {
    "vscode": {
     "languageId": "c"
    }
   },
   "outputs": [],
   "source": [
    "void cdev_del(struct cdev *dev);"
   ]
  },
  {
   "cell_type": "markdown",
   "metadata": {},
   "source": [
    "该函数接受一个参数：\n",
    "\n",
    "1. `dev`：一个指向`cdev`结构体的指针。\n",
    "\n",
    "`cdev_del`函数的作用是从系统中删除一个`cdev`结构体，\n",
    "\n",
    "以下是一个示例，演示如何使用`cdev_del`函数从系统中删除一个`cdev`结构体："
   ]
  },
  {
   "cell_type": "code",
   "execution_count": null,
   "metadata": {
    "vscode": {
     "languageId": "c"
    }
   },
   "outputs": [],
   "source": [
    "#include <linux/cdev.h>\n",
    "\n",
    "struct cdev my_cdev;\n",
    "\n",
    "cdev_del(&my_cdev);"
   ]
  },
  {
   "cell_type": "markdown",
   "metadata": {},
   "source": [
    "请注意，当你不再需要一个字符设备时，你应该使用`cdev_del`函数从系统中删除它。如果你在删除一个字符设备之后还继续使用它，那么可能会导致未定义的行为。\n"
   ]
  },
  {
   "cell_type": "markdown",
   "metadata": {},
   "source": [
    "## unregister_chrdev_region"
   ]
  },
  {
   "cell_type": "markdown",
   "metadata": {},
   "source": [
    "在Linux内核中，如果你使用`register_chrdev_region`函数静态申请了一个设备号或者用`alloc_chrdev_region`函数动态申请了一个设备号，那么当你不再需要这个设备号时，你应该使用`unregister_chrdev_region`函数来释放它。`unregister_chrdev_region`函数的原型如下："
   ]
  },
  {
   "cell_type": "code",
   "execution_count": null,
   "metadata": {
    "vscode": {
     "languageId": "c"
    }
   },
   "outputs": [],
   "source": [
    "void unregister_chrdev_region(dev_t dev, unsigned int count);"
   ]
  },
  {
   "cell_type": "markdown",
   "metadata": {},
   "source": [
    "\n",
    "\n",
    "该函数接受两个参数：\n",
    "\n",
    "1. `dev`：设备号，这应该是你之前使用`alloc_chrdev_region`函数申请的设备号。\n",
    "2. `count`：设备数量，这应该与你之前使用`alloc_chrdev_region`函数申请设备号时指定的数量相同。\n",
    "\n",
    "以下是一个示例，演示如何使用`unregister_chrdev_region`函数释放一个设备号：\n",
    "\n"
   ]
  },
  {
   "cell_type": "code",
   "execution_count": null,
   "metadata": {
    "vscode": {
     "languageId": "c"
    }
   },
   "outputs": [],
   "source": [
    "#include <linux/fs.h>\n",
    "\n",
    "dev_t dev;\n",
    "unsigned int count = 1;\n",
    "\n",
    "// 假设你之前使用alloc_chrdev_region函数申请了一个设备号\n",
    "// dev = MKDEV(major, minor);\n",
    "\n",
    "unregister_chrdev_region(dev, count);"
   ]
  },
  {
   "cell_type": "markdown",
   "metadata": {},
   "source": [
    "\n",
    "\n",
    "在上面的示例中，我们首先定义了一个设备号`dev`和一个设备数量`count`。然后，我们调用`unregister_chrdev_region`函数释放设备号。\n",
    "\n",
    "请注意，你应该在你的驱动程序卸载时释放设备号。如果你在释放设备号之后还继续使用它，那么可能会导致未定义的行为。"
   ]
  },
  {
   "cell_type": "markdown",
   "metadata": {},
   "source": [
    "`register_chrdev`和`unregister_chrdev`函数在现代的Linux内核中已经被废弃，建议使用`cdev_init`、`cdev_add`和`cdev_del`函数来代替。"
   ]
  },
  {
   "cell_type": "markdown",
   "metadata": {},
   "source": [
    "# struct file_operation 结构体"
   ]
  },
  {
   "cell_type": "markdown",
   "metadata": {},
   "source": [
    "在Linux内核中，`file_operations`结构体是用于描述一个字符设备驱动程序的文件操作函数集合的。这个结构体包含了一系列的函数指针，每个函数指针对应一种文件操作，例如`open`、`read`、`write`、`ioctl`等。\n",
    "\n",
    "当用户空间程序通过设备文件（例如`/dev/mychar`）进行操作时，内核会根据操作的类型调用`file_operations`结构体中对应的函数。例如，当用户空间程序调用`read`系统调用时，内核就会调用`file_operations`结构体的`read`成员。\n",
    "\n",
    "以下是`file_operations`结构体的定义（部分）：\n",
    "\n"
   ]
  },
  {
   "cell_type": "code",
   "execution_count": null,
   "metadata": {
    "vscode": {
     "languageId": "c"
    }
   },
   "outputs": [],
   "source": [
    "struct file_operations {\n",
    "    struct module *owner;\n",
    "    loff_t (*llseek) (struct file *, loff_t, int);\n",
    "    ssize_t (*read) (struct file *, char __user *, size_t, loff_t *);\n",
    "    ssize_t (*write) (struct file *, const char __user *, size_t, loff_t *);\n",
    "    int (*open) (struct inode *, struct file *);\n",
    "    int (*release) (struct inode *, struct file *);\n",
    "    // 其他成员...\n",
    "};"
   ]
  },
  {
   "cell_type": "markdown",
   "metadata": {},
   "source": [
    "\n",
    "\n",
    "在你的驱动程序中，你应该定义一个`file_operations`结构体，并将你的文件操作函数赋值给对应的成员。然后，你可以使用`cdev_init`函数将这个`file_operations`结构体关联到你的`cdev`结构体。例如：\n",
    "\n"
   ]
  },
  {
   "cell_type": "code",
   "execution_count": null,
   "metadata": {
    "vscode": {
     "languageId": "c"
    }
   },
   "outputs": [],
   "source": [
    "static int my_open(struct inode *inode, struct file *file)\n",
    "{\n",
    "    // 打开设备\n",
    "    return 0;\n",
    "}\n",
    "\n",
    "static struct file_operations my_fops = {\n",
    "    .open = my_open,\n",
    "    // 其他成员...\n",
    "};\n",
    "\n",
    "struct cdev my_cdev;\n",
    "cdev_init(&my_cdev, &my_fops);"
   ]
  },
  {
   "cell_type": "markdown",
   "metadata": {},
   "source": [
    "\n",
    "\n",
    "在上面的示例中，我们首先定义了一个`file_operations`结构体`my_fops`，并将`my_open`函数赋值给`open`成员。然后，我们使用`cdev_init`函数将`my_fops`关联到`my_cdev`。这样，当用户空间程序打开设备文件时，内核就会调用`my_open`函数。"
   ]
  },
  {
   "cell_type": "markdown",
   "metadata": {},
   "source": [
    "# 操作函数中的两个结构体"
   ]
  },
  {
   "cell_type": "markdown",
   "metadata": {},
   "source": [
    "struct inode 结构体是随着设备节点创建而在内核中产生的，和设备节点一一对应\n",
    "\n",
    "struct file 结构体是随着设备文件打开而创建的，会在内核设备描述符中注册一个序号存储在结构体的一个成员里\n",
    "\n",
    "![alt text](驱动使用端.jpg)"
   ]
  },
  {
   "cell_type": "markdown",
   "metadata": {},
   "source": [
    "## struct inode"
   ]
  },
  {
   "cell_type": "markdown",
   "metadata": {},
   "source": [
    "在Linux内核中，`inode`结构体是用于表示文件系统中的一个索引节点（inode）\n",
    "\n",
    "每个文件（包括目录）在文件系统中都有一个与之关联的索引节点\n",
    "\n",
    "其中包含了关于该文件的元数据，例如文件大小、文件类型、文件权限、文件的创建时间、最后访问时间、最后修改时间等\n",
    "\n",
    "\n",
    "\n",
    "`inode`结构体的定义在`<linux/fs.h>`头文件中，它包含了很多成员，以下是一些主要的成员：\n",
    "\n",
    "- `i_mode`：文件类型和权限。\n",
    "- `i_uid`：文件的用户ID。\n",
    "- `i_gid`：文件的组ID。\n",
    "- `i_size`：文件大小（字节）。\n",
    "- `i_atime`、`i_mtime`、`i_ctime`：文件的访问时间、修改时间和状态改变时间。\n",
    "- `i_blocks`：文件所占用的磁盘块数。\n",
    "- `i_nlink`：文件的硬链接数。\n",
    "\n",
    "```C\n",
    "struct inode\n",
    "{\n",
    "\t//....\n",
    "\tdev_t  i_rdev;        //设备号\n",
    "\tstruct cdev  *i_cdev; //如果是字符设备才有此成员，指向对应设备驱动程序中的加入系统的struct cdev对象\n",
    "\t//....\n",
    "}\n",
    "```\n",
    "\n",
    "1. 内核中每个该结构体对象对应着一个实际文件,一对一\n",
    "2. open一个文件时如果内核中该文件对应的inode对象已存在则不再创建，不存在才创建\n",
    "3. 内核中用此类型对象关联到对此文件的操作函数集（对设备而言就是关联到具体驱动代码）\n",
    "\n",
    "在字符设备驱动程序中，`inode`结构体的一个重要用途是在`open`、`release`等文件操作函数中获取设备号。例如：\n",
    "\n"
   ]
  },
  {
   "cell_type": "code",
   "execution_count": null,
   "metadata": {
    "vscode": {
     "languageId": "c"
    }
   },
   "outputs": [],
   "source": [
    "static int my_open(struct inode *inode, struct file *file)\n",
    "{\n",
    "    int major = imajor(inode);\n",
    "    int minor = iminor(inode);\n",
    "    printk(KERN_INFO \"Device (%d, %d) opened\\n\", major, minor);\n",
    "    return 0;\n",
    "}"
   ]
  },
  {
   "cell_type": "markdown",
   "metadata": {},
   "source": [
    "\n",
    "\n",
    "在上面的示例中，我们使用`imajor`和`iminor`函数从`inode`结构体中获取设备的主设备号和次设备号。"
   ]
  },
  {
   "cell_type": "markdown",
   "metadata": {},
   "source": [
    "除了这个用法，还有一个常用的用法：\n",
    "\n",
    "因为inode结构体是在内核中伴随设备节点而创建的，所以可以用它在全局中传递`设备描述结构体`的位置\n",
    "\n",
    "例如："
   ]
  },
  {
   "cell_type": "code",
   "execution_count": null,
   "metadata": {
    "vscode": {
     "languageId": "c"
    }
   },
   "outputs": [],
   "source": [
    "struct mychar_dev  //定义设备结构体,属性用每个成员变量表示，这样做目的是为了减少对全局变量的依赖\n",
    "{\n",
    "\tstruct cdev mydev;  //cdev对象\n",
    "    //下面是设备可能会用到的一些全局变量，这里放到结构体中\n",
    "\tchar mydev_buf[BUF_LEN];  //设备的缓冲区\n",
    "\tint curlen;  //缓冲区中有效数据的长度\n",
    "};\n",
    "\n",
    "struct mychar_dev gmydev;  //实例化我们需要的完成读写的字符设备对象\n"
   ]
  },
  {
   "cell_type": "markdown",
   "metadata": {},
   "source": [
    "在上面的代码中，我们将可能会用到的关于设备的全局变量放到一个专门用来表示设备的一个结构体中，这相当于继承`cdev`类，并创建了一个新的类——`struct mychar_dev`\n",
    "\n",
    "我们可以看到`mychar_dev`类 有一个 属性 是`cdev`结构体，这也是一个实例化的类，实例化的对象是`mydev`\n",
    "\n",
    "通过`cdev_add`函数添加到内核中后，`inode`结构体就能获取`mydev`结构体的地址\n",
    "\n",
    "接下来通过container函数就能获得`gmydev`这个对象的地址，通过这个地址我们就可以很方便地访问结构体的各个属性\n",
    "\n",
    "```C\n",
    "container_of(pnode->i_cdev, struct mychar_dev, mydev)\n",
    "```\n",
    "\n",
    "实例使用中，我们还可以使用下面的`file`结构体中的private成员存储，以方便在其他函数中调用，例如：\n"
   ]
  },
  {
   "cell_type": "code",
   "execution_count": null,
   "metadata": {
    "vscode": {
     "languageId": "c"
    }
   },
   "outputs": [],
   "source": [
    "int mychar_open(struct inode *pnode, struct file *pfile)\n",
    "{\n",
    "\tpfile->private_data = (void *) (container_of(pnode->i_cdev, struct mychar_dev, mydev)); //因为private_data是一个void指针，这里要将其转换\n",
    "\tprintk(\"mychar_open is called\\n\");\n",
    "\treturn 0;\n",
    "}\n",
    "ssize_t mychar_read(struct file *pfile,char __user *puser,size_t count,loff_t *p_pos)\n",
    "{\n",
    "\n",
    "\tstruct mychar_dev *pmydev = (struct mychar_dev *)pfile->private_data;  //本来是void*类型，这里要转换成结构体指针\n",
    "\tint size = 0;\n",
    "\tint ret = 0;\n",
    "\n",
    "\tif(count > pmydev->curlen)  //通过pmydev访问了本来应该定义成全局变量的curlen属性\n",
    "\t{\n",
    "        //....\n",
    "    }\n",
    "    else\n",
    "    {\n",
    "        //....\n",
    "    }\n",
    "    // ...\n",
    "}"
   ]
  },
  {
   "cell_type": "markdown",
   "metadata": {},
   "source": [
    "## struct file 结构体"
   ]
  },
  {
   "cell_type": "markdown",
   "metadata": {},
   "source": [
    "读写文件内容过程中用到的一些控制性数据组合而成的对象------文件操作引擎（文件操控器）"
   ]
  },
  {
   "cell_type": "code",
   "execution_count": null,
   "metadata": {
    "vscode": {
     "languageId": "c"
    }
   },
   "outputs": [],
   "source": [
    "\n",
    "struct file\n",
    "{\n",
    "\t//...\n",
    "\tmode_t f_mode;\t\t\t\t\t//不同用户的操作权限，驱动一般不用\n",
    "\tloff_t f_pos;\t\t\t\t\t//position 数据位置指示器，需要控制数据开始读写位置的设备有用\n",
    "\tunsigned int f_flags;\t\t\t//open时的第二个参数flags存放在此\n",
    "\tstruct file_operations *f_op;\t//open时从struct inode中i_cdev的对应成员获得地址，驱动开发中用来协助理解工作原理，内核中使用\n",
    "\tvoid *private_data;\t\t\t\t//本次打开文件的私有数据，驱动中常来在几个操作函数间传递共用数据\n",
    "\tstruct dentry *f_dentry;\t\t//驱动中一般不用，除非需要访问对应文件的inode，用法flip->f_dentry->d_inode\n",
    "    int refcnt;\t\t\t\t\t\t//引用计数，保存着该对象地址的位置个数，close时发现refcnt为0才会销毁该struct file对象\n",
    "\t//...\n",
    "};\n"
   ]
  },
  {
   "cell_type": "markdown",
   "metadata": {},
   "source": [
    "\n",
    "1. open函数被调用成功一次，则创建一个该对象，因此可以认为一个该类型的对象对应一次指定文件的操作\n",
    "2. open同一个文件多次，每次open都会创建一个该类型的对象\n",
    "3. 文件描述符数组中存放的地址指向该类型的对象\n",
    "4. 每个文件描述符都对应一个struct file对象的地址\n",
    "\n"
   ]
  },
  {
   "cell_type": "markdown",
   "metadata": {},
   "source": [
    "# 读写操作的实现"
   ]
  },
  {
   "cell_type": "markdown",
   "metadata": {},
   "source": [
    "## ssize_t xxx_write 函数"
   ]
  },
  {
   "cell_type": "markdown",
   "metadata": {},
   "source": [
    "`xxx_write`代表一个字符设备驱动程序中的写操作函数。它的原型如下：\n",
    "\n"
   ]
  },
  {
   "cell_type": "code",
   "execution_count": null,
   "metadata": {
    "vscode": {
     "languageId": "c"
    }
   },
   "outputs": [],
   "source": [
    "ssize_t xxx_write(struct file *file, const char __user *buf, size_t count, loff_t *ppos);"
   ]
  },
  {
   "cell_type": "markdown",
   "metadata": {},
   "source": [
    "\n",
    "\n",
    "这个函数接受四个参数：\n",
    "\n",
    "1. `*file`：指向open产生的struct file类型的对象，表示本次write对应的那次open\n",
    "2. `*buf`：指向用户空间一块内存，用来保存被写的数据\n",
    "3. `count`：用户期望写入的字节数\n",
    "4. `*ppos`：对于需要位置指示器控制的设备操作有用，用来指示写入的起始位置，写完后也需要变更位置指示器的指示位置\n",
    "\n",
    "这个函数应该返回值 `ssize_t` 为实际写入的数据的大小。如果发生错误，返回一个负的错误码。\n",
    "\n",
    "以下是一个简单的示例，演示如何实现`xxx_write`函数：\n",
    "\n"
   ]
  },
  {
   "cell_type": "code",
   "execution_count": null,
   "metadata": {
    "vscode": {
     "languageId": "c"
    }
   },
   "outputs": [],
   "source": [
    "ssize_t xxx_write(struct file *file, const char __user *buf, size_t count, loff_t *ppos)\n",
    "{\n",
    "    char *kbuf = kmalloc(count, GFP_KERNEL);  // 申请内核缓冲区\n",
    "    if (!kbuf)\n",
    "        return -ENOMEM;\n",
    "\n",
    "    if (copy_from_user(kbuf, buf, count))  // 从用户空间拷贝数据到内核空间\n",
    "    {                                      \n",
    "        kfree(kbuf);  // 如果拷贝失败，释放内核缓冲区\n",
    "        return -EFAULT;\n",
    "    }\n",
    "\n",
    "    // 在这里处理kbuf\n",
    "\n",
    "    kfree(kbuf);\n",
    "    *ppos += count;\n",
    "    return count;\n",
    "}"
   ]
  },
  {
   "cell_type": "markdown",
   "metadata": {},
   "source": [
    "\n",
    "\n",
    "在上面的示例中，我们首先使用`kmalloc`函数分配了一块内核空间。然后，我们使用`copy_from_user`函数将用户空间的数据复制到内核空间。然后，我们处理这些数据。最后，我们释放内核空间，并更新文件位置。"
   ]
  },
  {
   "cell_type": "markdown",
   "metadata": {},
   "source": [
    "## ssize_t xxx_read "
   ]
  },
  {
   "cell_type": "markdown",
   "metadata": {},
   "source": [
    "`xxx_read`可能是一个字符设备驱动程序中的读操作函数。它的原型应该如下："
   ]
  },
  {
   "cell_type": "code",
   "execution_count": null,
   "metadata": {
    "vscode": {
     "languageId": "c"
    }
   },
   "outputs": [],
   "source": [
    "ssize_t mychar_read(struct file *file, char __user *buf, size_t count, loff_t *ppos);"
   ]
  },
  {
   "cell_type": "markdown",
   "metadata": {},
   "source": [
    "\n",
    "\n",
    "这个函数接受四个参数：\n",
    "\n",
    "1. `*file`：指向open产生的struct file类型的对象，表示本次read对应的那次open\n",
    "2. `*buf`：指向用户空间一块内存，用来保存读到的数据\n",
    "3. `*count`：用户期望读取的字节数\n",
    "4. `*ppos`：对于需要位置指示器控制的设备操作有用，用来指示读取的起始位置，读完后也需要变更位置指示器的指示位置\n",
    "\n",
    "这个函数应该返回值`ssize_t`为读取的数据的大小。如果发生错误，你应该返回一个负的错误码。\n",
    "\n",
    "以下是一个简单的示例，演示如何实现`mychar_read`函数：\n",
    "\n"
   ]
  },
  {
   "cell_type": "code",
   "execution_count": null,
   "metadata": {
    "vscode": {
     "languageId": "c"
    }
   },
   "outputs": [],
   "source": [
    "ssize_t mychar_read(struct file *file, char __user *buf, size_t count, loff_t *ppos)\n",
    "{\n",
    "    char *kbuf = \"Hello, world!\\n\";\n",
    "    size_t len = strlen(kbuf);\n",
    "\n",
    "    if (*ppos >= len)\n",
    "        return 0;\n",
    "\n",
    "    if (*ppos + count > len)\n",
    "        count = len - *ppos;\n",
    "\n",
    "    if (copy_to_user(buf, kbuf + *ppos, count))\n",
    "        return -EFAULT;\n",
    "\n",
    "    *ppos += count;\n",
    "    return count;\n",
    "}"
   ]
  },
  {
   "cell_type": "markdown",
   "metadata": {},
   "source": [
    "\n",
    "\n",
    "在上面的示例中，我们首先定义了一个内核空间的字符串`kbuf`。然后，我们检查文件位置，如果文件位置已经超过了字符串的长度，我们就返回0，表示没有更多的数据可以读取。然后，我们检查缓冲区的大小，如果缓冲区的大小超过了剩余的数据的大小，我们就减小缓冲区的大小。然后，我们使用`copy_to_user`函数将内核空间的数据复制到用户空间。最后，我们更新文件位置，并返回读取的数据的大小。"
   ]
  },
  {
   "cell_type": "markdown",
   "metadata": {},
   "source": [
    "## put_user "
   ]
  },
  {
   "cell_type": "markdown",
   "metadata": {},
   "source": [
    "`put_user(x, ptr)`是一个Linux内核中的宏，用于将一个简单的值从内核空间复制到用户空间。这个宏接受两个参数：\n",
    "\n",
    "1. `x`：要复制的值。这个值应该是一个简单的类型，例如`int`、`long`、`char`等。\n",
    "2. `ptr`：一个指向用户空间的指针，表示复制的目标。\n",
    "\n",
    "这个宏的使用非常简单，你只需要提供要复制的值和目标指针即可。例如：\n",
    "\n"
   ]
  },
  {
   "cell_type": "code",
   "execution_count": null,
   "metadata": {
    "vscode": {
     "languageId": "c"
    }
   },
   "outputs": [],
   "source": [
    "int x = 123;\n",
    "int __user *ptr = ...;\n",
    "put_user(x, ptr);"
   ]
  },
  {
   "cell_type": "markdown",
   "metadata": {},
   "source": [
    "\n",
    "\n",
    "在上面的示例中，我们首先定义了一个`int`类型的变量`x`，并将其初始化为123。然后，我们使用`put_user`宏将`x`的值复制到用户空间的`ptr`指向的位置。\n",
    "\n",
    "注意，`put_user`宏可能会失败，例如当用户空间的指针无效时。因此，你应该总是检查`put_user`宏的返回值，如果返回值不是0，那么就表示发生了错误。例如：\n",
    "\n"
   ]
  },
  {
   "cell_type": "code",
   "execution_count": null,
   "metadata": {
    "vscode": {
     "languageId": "c"
    }
   },
   "outputs": [],
   "source": [
    "int x = 123;\n",
    "int __user *ptr = ...;\n",
    "if (put_user(x, ptr))\n",
    "    return -EFAULT;"
   ]
  },
  {
   "cell_type": "markdown",
   "metadata": {},
   "source": [
    "\n",
    "\n",
    "在上面的示例中，我们使用`if`语句检查了`put_user`宏的返回值，如果返回值不是0，我们就返回一个错误码表示发生了错误。"
   ]
  },
  {
   "cell_type": "markdown",
   "metadata": {},
   "source": [
    "## unsigned long copy_to_user"
   ]
  },
  {
   "cell_type": "markdown",
   "metadata": {},
   "source": [
    "`copy_to_user`是Linux内核中的一个函数，用于将数据从内核空间复制到用户空间。这个函数的原型如下：\n",
    "\n"
   ]
  },
  {
   "cell_type": "code",
   "execution_count": null,
   "metadata": {
    "vscode": {
     "languageId": "c"
    }
   },
   "outputs": [],
   "source": [
    "unsigned long copy_to_user(void __user *to, const void *from, unsigned long n);"
   ]
  },
  {
   "cell_type": "markdown",
   "metadata": {},
   "source": [
    "\n",
    "\n",
    "这个函数接受三个参数：\n",
    "\n",
    "1. `to`：一个指向用户空间的指针，表示复制的目标。\n",
    "2. `from`：一个指向内核空间的指针，表示复制的源。\n",
    "3. `n`：要复制的数据的大小（字节）。\n",
    "\n",
    "这个函数返回未复制的字节数。如果所有的数据都被成功复制，那么返回值就是0。如果有部分数据未被复制，那么返回值就是未复制的数据的大小。\n",
    "\n",
    "以下是一个简单的示例，演示如何使用`copy_to_user`函数：\n",
    "\n"
   ]
  },
  {
   "cell_type": "code",
   "execution_count": null,
   "metadata": {
    "vscode": {
     "languageId": "c"
    }
   },
   "outputs": [],
   "source": [
    "char kbuf[100];\n",
    "char __user *ubuf = ...;\n",
    "size_t size = ...;\n",
    "\n",
    "if (copy_to_user(ubuf, kbuf, size))\n",
    "    return -EFAULT;"
   ]
  },
  {
   "cell_type": "markdown",
   "metadata": {},
   "source": [
    "\n",
    "\n",
    "在上面的示例中，我们首先定义了一个内核空间的缓冲区`kbuf`。然后，我们使用`copy_to_user`函数将`kbuf`的内容复制到用户空间的`ubuf`指向的位置。如果`copy_to_user`函数返回非0值，我们就返回一个错误码表示发生了错误。"
   ]
  },
  {
   "cell_type": "markdown",
   "metadata": {},
   "source": [
    "## __user 标记"
   ]
  },
  {
   "cell_type": "markdown",
   "metadata": {},
   "source": [
    "在Linux内核编程中，`__user`是一个标记，用于标记指向用户空间的指针。这个标记没有实际的功能，但是可以帮助开发者和静态分析工具识别出哪些指针是指向用户空间的。\n",
    "\n",
    "在内核代码中，你不能直接访问用户空间的内存，因为这可能会导致内核崩溃。你应该使用特殊的函数，例如`copy_to_user`、`copy_from_user`、`put_user`和`get_user`，来访问用户空间的内存。\n",
    "\n",
    "以下是一个使用`__user`标记的示例：\n",
    "\n"
   ]
  },
  {
   "cell_type": "code",
   "execution_count": null,
   "metadata": {
    "vscode": {
     "languageId": "c"
    }
   },
   "outputs": [],
   "source": [
    "int my_function(int __user *ptr)\n",
    "{\n",
    "    int x;\n",
    "    if (get_user(x, ptr))\n",
    "        return -EFAULT;\n",
    "    // 在这里处理x\n",
    "    return 0;\n",
    "}"
   ]
  },
  {
   "cell_type": "markdown",
   "metadata": {},
   "source": [
    "\n",
    "\n",
    "在上面的示例中，`my_function`函数接受一个指向用户空间的`int`指针。我们使用`get_user`函数从用户空间获取一个`int`值，并将其存储在`x`中。如果`get_user`函数失败，我们就返回一个错误码。"
   ]
  },
  {
   "cell_type": "markdown",
   "metadata": {},
   "source": [
    "# 二、printk\n"
   ]
  },
  {
   "cell_type": "markdown",
   "metadata": {},
   "source": [
    "\n",
    "```c\n",
    "//日志级别\n",
    "#define\tKERN_EMERG\t\"<0>\"\t/* system is unusable\t\t\t*/\n",
    "#define\tKERN_ALERT\t\"<1>\"\t/* action must be taken immediately\t*/\n",
    "#define\tKERN_CRIT\t\"<2>\"\t/* critical conditions\t\t\t*/\n",
    "#define\tKERN_ERR\t\"<3>\"\t/* error conditions\t\t\t*/\n",
    "\n",
    "#define\tKERN_WARNING\t\"<4>\"\t/* warning conditions\t\t\t*/\n",
    "\n",
    "#define\tKERN_NOTICE\t\"<5>\"\t/* normal but significant condition\t*/\n",
    "#define\tKERN_INFO\t\"<6>\"\t/* informational\t\t\t*/\n",
    "#define\tKERN_DEBUG\t\"<7>\"\t/* debug-level messages\t\t\t*/\n",
    "\n",
    "用法：printk(KERN_INFO\"....\",....)\n",
    "    \n",
    "    printk(KERN_INFO\"Hello World\"); =====> printk(\"<6>\"\"Hello World\") ====> printk(\"<6>Hello World\")\n",
    "  \n",
    "```\n",
    "\n",
    "dmesg --level=emerg,alert,crit,err,warn,notice,info,debug\n",
    "\n",
    "```c\n",
    "#define HELLO_DEBUG\n",
    "#undef PDEBUG\n",
    "#ifdef HELLO_DEBUG\n",
    "#define PDEBUG(fmt, args...) printk(KERN_DEBUG fmt, ##args)\n",
    "#else\n",
    "#define PDEBUG(fmt, args...)\n",
    "#endif\n",
    "\n",
    "```"
   ]
  },
  {
   "cell_type": "markdown",
   "metadata": {},
   "source": [
    "# 三、多个次设备的支持\n",
    "\n",
    "每一个具体设备（次设备不一样的设备），必须有一个struct cdev来代表它\n",
    "\n",
    "cdev_init\n",
    "\n",
    "cdev.owner赋值\n",
    "\n",
    "cdev_add\n",
    "\n",
    "以上三个操作对每个具体设备都要进行"
   ]
  },
  {
   "cell_type": "markdown",
   "metadata": {},
   "source": [
    "# 多路复用"
   ]
  },
  {
   "cell_type": "markdown",
   "metadata": {},
   "source": [
    "多路复用为多个进程共用同一个资源提供实现机制\n",
    "\n",
    "> 在应用层，有如下几个函数可以实现：\n",
    "\n",
    "| 函数 | 实现方式 | 可以监控描述符的数量 | 实现效率 |\n",
    "| --- | ------- | ---------------- | ------- |\n",
    "| select | 位运算实现 | 监控的描述符数量有限（32位机1024,64位机2048）| 效率差 |\n",
    "| poll | 链表实现 | 监控的描述符数量不限 | 效率差 |\n",
    "| epoll | 链表实现 | 监控的描述符数量不限 | 效率最高 |\n",
    "\n",
    "select 实现的大体机制： \n",
    "\n",
    "让内核监听多个描述符，阻塞等待有一个或者多个文件描述符，准备就绪。\n",
    "\n",
    "内核将没有准备就绪的文件描述符，从集合中清掉。\n",
    "\n",
    "> 在驱动层的对应实现：\n",
    "\n",
    "该函数与select、poll、epoll_wait函数相对应，协助这些多路监控函数判断本设备是否有数据可读写\n",
    "\n",
    "```C\n",
    "unsigned int xxx_poll(struct file *filp, poll_table *wait) \n",
    "//函数名初始化给struct file_operations的成员.poll\n",
    "{\n",
    "    unsigned int mask = 0;\n",
    "    /*\n",
    "    \t1. 将所有等待队列头加入poll_table表中\n",
    "    \t2. 判断是否可读，如可读则mask |= POLLIN | POLLRDNORM;\n",
    "    \t3. 判断是否可写，如可写则mask |= POLLOUT | POLLWRNORM;\n",
    "    */\n",
    "    \n",
    "    return mask;\n",
    "}\n",
    "```\n",
    "\n",
    "```c\n",
    "void poll_wait(struct file *filp, wait_queue_head_t *wait_address, poll_table *p)；\n",
    "```\n",
    "\n",
    "- 功能：将等待队列头添加至poll_table表中\n",
    "- 参数：\n",
    "    struct file : 设备文件\n",
    "    Wait_queue_head_t : 等待队列头\n",
    "    Poll_table : poll_table表\n"
   ]
  }
 ],
 "metadata": {
  "language_info": {
   "name": "python"
  }
 },
 "nbformat": 4,
 "nbformat_minor": 2
}

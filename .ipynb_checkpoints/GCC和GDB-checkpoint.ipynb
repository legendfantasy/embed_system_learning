{
 "cells": [
  {
   "cell_type": "markdown",
   "id": "73f69fb3-1e08-42fa-9939-7af2f6ca7b4c",
   "metadata": {
    "jp-MarkdownHeadingCollapsed": true,
    "tags": []
   },
   "source": [
    "# GCC编译工具"
   ]
  },
  {
   "cell_type": "markdown",
   "id": "921b5466-5a30-4e26-b1ab-0140b6008b95",
   "metadata": {},
   "source": [
    "首先通过vim撰写.c 源代码文件"
   ]
  },
  {
   "cell_type": "markdown",
   "id": "9e95ae0e-ed17-43db-805b-45d20a48dba0",
   "metadata": {},
   "source": [
    "## 预处理"
   ]
  },
  {
   "cell_type": "code",
   "execution_count": null,
   "id": "a788b893-3bb5-45ac-8f13-5a06ad814ce2",
   "metadata": {},
   "outputs": [],
   "source": [
    "gcc -E gcc.c -o gcc.i"
   ]
  },
  {
   "cell_type": "markdown",
   "id": "d65f7ed1-a361-4e43-aed0-f9a27e21fac1",
   "metadata": {},
   "source": [
    "预处理  \n",
    "对头文件进行展开  \n",
    "对宏定义进行替换  \n",
    "处理的源文件是.c文件  \n",
    "生成.i文件  \n",
    ".i 文件是预处理文件"
   ]
  },
  {
   "cell_type": "markdown",
   "id": "2403190e-49e3-4c2c-8d4b-9ec51d3639bb",
   "metadata": {},
   "source": [
    "## 编译"
   ]
  },
  {
   "cell_type": "code",
   "execution_count": null,
   "id": "33c9b2d0-b119-4738-8457-a0e37c1f3c34",
   "metadata": {},
   "outputs": [],
   "source": [
    "gcc -S gcc.i -o gcc.s"
   ]
  },
  {
   "cell_type": "markdown",
   "id": "a675d442-971f-4bd3-8b01-f72783fbb640",
   "metadata": {},
   "source": [
    "编译  \n",
    "对语法进行检查  \n",
    "处理的文件是.i文件  \n",
    "生成.s文件  \n",
    ".s 是汇编文件 里面是汇编语言"
   ]
  },
  {
   "cell_type": "markdown",
   "id": "ef9cdd70-f06d-4b5e-b087-9658f88c2c60",
   "metadata": {},
   "source": [
    "## 汇编"
   ]
  },
  {
   "cell_type": "code",
   "execution_count": null,
   "id": "87923b20-206a-433d-9370-f64d8def5cd4",
   "metadata": {},
   "outputs": [],
   "source": [
    "gcc -c gcc.s -o gcc.o"
   ]
  },
  {
   "cell_type": "markdown",
   "id": "ef5cb362-f912-4d59-ae34-bc8d0bf82a3a",
   "metadata": {},
   "source": [
    "汇编  \n",
    "生成机器可识别的二进制文件  \n",
    "处理的文件是.s文件  \n",
    "生成.o文件\n",
    ".o文件是目标文件 里面是二进制文件"
   ]
  },
  {
   "cell_type": "markdown",
   "id": "c8a89d5a-149c-4918-90be-328f9186316c",
   "metadata": {},
   "source": [
    "## 链接"
   ]
  },
  {
   "cell_type": "code",
   "execution_count": null,
   "id": "59521416-5b35-45bf-b2a4-c7ad51866682",
   "metadata": {},
   "outputs": [],
   "source": [
    "gcc gcc.o -o test"
   ]
  },
  {
   "cell_type": "markdown",
   "id": "2153a82d-e2d3-4313-be1d-cf003e9e6526",
   "metadata": {},
   "source": [
    "链接  \n",
    "链接库文件生成可执行文件  \n",
    "处理的文件是目标文件  \n",
    "生成的文件是可执行文件.exe  \n",
    "一般不加后缀，也不要和目标文件重名  "
   ]
  },
  {
   "cell_type": "markdown",
   "id": "9a84a371-a8a1-4995-b79a-884cd01e4ed6",
   "metadata": {},
   "source": [
    "## GCC 常用选项"
   ]
  },
  {
   "cell_type": "markdown",
   "id": "a75f9dde-dd37-43e8-8eaf-f0cef058c025",
   "metadata": {},
   "source": [
    "-c 只编译，不生成可执行文件，用于检查代码语法问题  \n",
    "-o 用于指定输出的文件名（不要和源文件同名）  \n",
    "-g 产生gdb调试工具所需文件  \n",
    "-O 或 -O2 用于编译优化 例如需要反复切换进程的代码，如果一直在做同一件事，就不来回切换  \n",
    "-l 用于手动指定链接文件  \n",
    "-L 手动指定库文件  \n",
    "-I 手动指定头文件  "
   ]
  },
  {
   "cell_type": "markdown",
   "id": "733136a6-d2f3-4475-9413-94b713203fda",
   "metadata": {
    "tags": []
   },
   "source": [
    "# 条件编译"
   ]
  },
  {
   "cell_type": "markdown",
   "id": "8a861d11-9a5d-4582-be6d-5a662f33ea2e",
   "metadata": {},
   "source": [
    "只希望对代码的其中一部分进行编译  \n",
    "可以在代码中加上条件，对满足条件的代码进行编译  "
   ]
  },
  {
   "cell_type": "code",
   "execution_count": null,
   "id": "1ab1ca94-9b0d-4010-96e1-3c3b1756a355",
   "metadata": {},
   "outputs": [],
   "source": [
    "#ifdef <marco>\n",
    "....\n",
    "# else\n",
    ".....\n",
    "#endif"
   ]
  },
  {
   "cell_type": "code",
   "execution_count": 4,
   "id": "7a2faa54-5731-421c-89de-0bb2c278072c",
   "metadata": {},
   "outputs": [
    {
     "name": "stdout",
     "output_type": "stream",
     "text": [
      "++++++++++++++++++\n"
     ]
    }
   ],
   "source": [
    "#include <stdio.h>\n",
    "\n",
    "int main()\n",
    "{\n",
    "#ifdef _DEBUG_\n",
    "    printf(\"********86********\\n\");\n",
    "#endif\n",
    "    printf(\"++++++++++++++++++\\n\");\n",
    "    return 0;\n",
    "}"
   ]
  },
  {
   "cell_type": "code",
   "execution_count": 5,
   "id": "d3efeed9-6198-47a7-9a6a-bb2593e3c7e4",
   "metadata": {},
   "outputs": [
    {
     "name": "stdout",
     "output_type": "stream",
     "text": [
      "********86********\n",
      "++++++++++++++++++\n"
     ]
    }
   ],
   "source": [
    "#include <stdio.h>\n",
    "#define _DEBUG_ //定义了宏\n",
    "int main()\n",
    "{\n",
    "#ifdef _DEBUG_\n",
    "    printf(\"********86********\\n\");\n",
    "#endif\n",
    "    printf(\"++++++++++++++++++\\n\");\n",
    "    return 0;\n",
    "}"
   ]
  },
  {
   "cell_type": "code",
   "execution_count": 6,
   "id": "b85137da-65e0-48ba-be55-b9c1577bc93b",
   "metadata": {},
   "outputs": [
    {
     "name": "stdout",
     "output_type": "stream",
     "text": [
      "++++++++++++++++++\n"
     ]
    }
   ],
   "source": [
    "#include <stdio.h>\n",
    "#define _DEBUG_\n",
    "int main()\n",
    "{\n",
    "#ifndef _DEBUG_ //使用 ifndef\n",
    "    printf(\"********86********\\n\");\n",
    "#endif\n",
    "    printf(\"++++++++++++++++++\\n\");\n",
    "    return 0;\n",
    "}"
   ]
  },
  {
   "cell_type": "code",
   "execution_count": 8,
   "id": "f1be9846-7f2e-4ef6-9640-b7480d669f81",
   "metadata": {},
   "outputs": [
    {
     "name": "stdout",
     "output_type": "stream",
     "text": [
      "********86********\n"
     ]
    }
   ],
   "source": [
    "#include <stdio.h>\n",
    "#define _DEBUG_\n",
    "int main()\n",
    "{\n",
    "#ifdef _DEBUG_ //使用 ifndef\n",
    "    printf(\"********86********\\n\");\n",
    "#else\n",
    "    printf(\"++++++++++++++++++\\n\");\n",
    "#endif    \n",
    "    return 0;\n",
    "}"
   ]
  },
  {
   "cell_type": "code",
   "execution_count": 10,
   "id": "6073d26b-f86e-43f5-bcb8-841eb91b20e3",
   "metadata": {},
   "outputs": [
    {
     "name": "stdout",
     "output_type": "stream",
     "text": [
      "********86********\n"
     ]
    }
   ],
   "source": [
    "#include <stdio.h>\n",
    "int main()\n",
    "{\n",
    "#if 1\n",
    "    printf(\"********86********\\n\");\n",
    "#else\n",
    "    printf(\"++++++++++++++++++\\n\");\n",
    "#endif    \n",
    "    return 0;\n",
    "}"
   ]
  },
  {
   "cell_type": "code",
   "execution_count": 11,
   "id": "ee9c20fb-3d61-4636-8d2c-32e447de3d2b",
   "metadata": {},
   "outputs": [
    {
     "name": "stdout",
     "output_type": "stream",
     "text": [
      "++++++++++++++++++\n"
     ]
    }
   ],
   "source": [
    "#include <stdio.h>\n",
    "#define VALUE 0\n",
    "int main()\n",
    "{\n",
    "#if VALUE\n",
    "    printf(\"********86********\\n\");\n",
    "#else\n",
    "    printf(\"++++++++++++++++++\\n\");\n",
    "#endif    \n",
    "    return 0;\n",
    "}"
   ]
  },
  {
   "cell_type": "code",
   "execution_count": null,
   "id": "462d3e75-ea4d-492a-9d20-046874444413",
   "metadata": {},
   "outputs": [],
   "source": [
    "#include <stdio.h>\n",
    "int main()\n",
    "{\n",
    "#ifdef _DEBUG_\n",
    "    printf(\"********86********\\n\");\n",
    "#else\n",
    "    printf(\"++++++++++++++++++\\n\");\n",
    "#endif    \n",
    "    return 0;\n",
    "}\n",
    "\n",
    "//********************************\n",
    "#include <stdio.h>\n",
    "#define VALUE 0\n",
    "int main()\n",
    "{\n",
    "#if VALUE\n",
    "    printf(\"********86********\\n\");\n",
    "#else\n",
    "    printf(\"++++++++++++++++++\\n\");\n",
    "#endif    \n",
    "    return 0;\n",
    "}\n",
    "//*********************************\n",
    "// 在代码里不指定宏的值\n",
    "// 可以通过gcc命令来处理\n",
    "// gcc ifdef.c -D _DEBUG_\n",
    "// gcc ifdef.c -D VALUE=1"
   ]
  },
  {
   "cell_type": "markdown",
   "id": "15987d12-5074-4387-b0b1-2f2845519362",
   "metadata": {},
   "source": [
    "# GDB 调试"
   ]
  },
  {
   "cell_type": "markdown",
   "id": "b825e38b-b46c-4f05-9b69-d33477fb10b4",
   "metadata": {},
   "source": [
    "GDB 基本命令  \n",
    "可以简写成第一个字母\n",
    "|break|设置断点|后可接函数名b main|接行号 b 10|\n",
    "|run|运行代码|  \n",
    "|bt|  打印栈信息  \n",
    "|print|打印值|p i|\n",
    "|c|断点继续|全部运行完|\n",
    "|next|执行下一行|一行一行运行\n",
    "edit 查看停止信息\n",
    "list 查看代码信息\n",
    "|step|进入函数内部|根据命令行提示直接输入s|\n",
    "help 帮助手册\n",
    "quit 退出"
   ]
  },
  {
   "cell_type": "markdown",
   "id": "45faf29b-f96c-4254-b625-06cc1a5b5ee5",
   "metadata": {},
   "source": [
    "使用时先用gcc编译  \n",
    "gcc -g gdb.c -o test  \n",
    "运行命令\n",
    "gdb test"
   ]
  },
  {
   "cell_type": "markdown",
   "id": "d71a4125-63dd-43c5-937d-1276e4402bca",
   "metadata": {},
   "source": [
    "## 用GDB debug段错误"
   ]
  },
  {
   "cell_type": "markdown",
   "id": "dbb33216-c75c-4eb6-be41-b1a62ca3d015",
   "metadata": {},
   "source": [
    "如果代码非法操作地址会造成段错误，生成一个core文件，可以借助gdb工具查找原因  \n",
    "gdb -g gdb.c  \n",
    "gdb a.out core  "
   ]
  },
  {
   "cell_type": "markdown",
   "id": "78433e93-cd99-4708-bc4c-4aa80edaedb7",
   "metadata": {},
   "source": [
    "## GDB调试正在运行的程序"
   ]
  },
  {
   "cell_type": "markdown",
   "id": "4518d3ca-e262-4ebf-a6e6-dc23d4d3aca5",
   "metadata": {},
   "source": [
    "如果需要调试一个正在运行的程序a.out  \n",
    "首先  \n",
    "ps aux | grep a.out  //查找进程号  \n",
    "gdb a.out -p 4849  "
   ]
  }
 ],
 "metadata": {
  "kernelspec": {
   "display_name": "C",
   "language": "c",
   "name": "c"
  },
  "language_info": {
   "file_extension": ".c",
   "mimetype": "text/plain",
   "name": "c"
  }
 },
 "nbformat": 4,
 "nbformat_minor": 5
}

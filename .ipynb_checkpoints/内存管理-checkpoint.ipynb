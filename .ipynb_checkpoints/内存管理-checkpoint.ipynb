{
 "cells": [
  {
   "cell_type": "markdown",
   "id": "4f5b939a-cd8d-4003-9ea9-2287e58ab7f7",
   "metadata": {},
   "source": [
    "# 内存管理"
   ]
  },
  {
   "cell_type": "markdown",
   "id": "0a6c5624-b768-4a40-b131-747642d92d45",
   "metadata": {},
   "source": []
  }
 ],
 "metadata": {
  "kernelspec": {
   "display_name": "C",
   "language": "c",
   "name": "c"
  },
  "language_info": {
   "file_extension": ".c",
   "mimetype": "text/plain",
   "name": "c"
  }
 },
 "nbformat": 4,
 "nbformat_minor": 5
}
